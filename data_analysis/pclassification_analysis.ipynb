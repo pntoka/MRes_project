{
 "cells": [
  {
   "cell_type": "markdown",
   "id": "18977f7f",
   "metadata": {},
   "source": [
    "# Notebook to analyse paragraph classification \n",
    "Classification carried out using the MatBERT synthesis classifier model from the Ceder group. 160 annotated paragraphs are contained in the dataset"
   ]
  },
  {
   "cell_type": "code",
   "execution_count": 1,
   "id": "81463bf8",
   "metadata": {},
   "outputs": [],
   "source": [
    "import os\n",
    "import pandas as pd\n",
    "import numpy\n",
    "import ast\n",
    "import random\n",
    "import json"
   ]
  },
  {
   "cell_type": "code",
   "execution_count": 2,
   "id": "6490d512",
   "metadata": {},
   "outputs": [
    {
     "name": "stdout",
     "output_type": "stream",
     "text": [
      "(161, 3)\n"
     ]
    },
    {
     "data": {
      "text/html": [
       "<div>\n",
       "<style scoped>\n",
       "    .dataframe tbody tr th:only-of-type {\n",
       "        vertical-align: middle;\n",
       "    }\n",
       "\n",
       "    .dataframe tbody tr th {\n",
       "        vertical-align: top;\n",
       "    }\n",
       "\n",
       "    .dataframe thead th {\n",
       "        text-align: right;\n",
       "    }\n",
       "</style>\n",
       "<table border=\"1\" class=\"dataframe\">\n",
       "  <thead>\n",
       "    <tr style=\"text-align: right;\">\n",
       "      <th></th>\n",
       "      <th>DOI</th>\n",
       "      <th>paragraph</th>\n",
       "      <th>class</th>\n",
       "      <th>model class</th>\n",
       "    </tr>\n",
       "  </thead>\n",
       "  <tbody>\n",
       "    <tr>\n",
       "      <th>0</th>\n",
       "      <td>10.1007/s10876-022-02339-x</td>\n",
       "      <td>CQDs were synthesized by the usage of O. basil...</td>\n",
       "      <td>1</td>\n",
       "      <td></td>\n",
       "    </tr>\n",
       "    <tr>\n",
       "      <th>1</th>\n",
       "      <td>10.1002/bio.3407</td>\n",
       "      <td>First, 0.5 g O-phenylenediamine and 0.5 g dicy...</td>\n",
       "      <td>1</td>\n",
       "      <td></td>\n",
       "    </tr>\n",
       "    <tr>\n",
       "      <th>2</th>\n",
       "      <td>10.1016/j.saa.2022.121139</td>\n",
       "      <td>Si-CQDs were synthesized by a hydrothermal met...</td>\n",
       "      <td>1</td>\n",
       "      <td></td>\n",
       "    </tr>\n",
       "    <tr>\n",
       "      <th>3</th>\n",
       "      <td>10.1039/C6TB00519E</td>\n",
       "      <td>N@C-dots were synthesized via a hydrothermal p...</td>\n",
       "      <td>1</td>\n",
       "      <td></td>\n",
       "    </tr>\n",
       "    <tr>\n",
       "      <th>4</th>\n",
       "      <td>10.1038/s41467-021-25640-1_no_0</td>\n",
       "      <td>The p-GQDs were synthesized following a typica...</td>\n",
       "      <td>1</td>\n",
       "      <td></td>\n",
       "    </tr>\n",
       "  </tbody>\n",
       "</table>\n",
       "</div>"
      ],
      "text/plain": [
       "                               DOI  \\\n",
       "0       10.1007/s10876-022-02339-x   \n",
       "1                 10.1002/bio.3407   \n",
       "2        10.1016/j.saa.2022.121139   \n",
       "3               10.1039/C6TB00519E   \n",
       "4  10.1038/s41467-021-25640-1_no_0   \n",
       "\n",
       "                                           paragraph  class model class  \n",
       "0  CQDs were synthesized by the usage of O. basil...      1              \n",
       "1  First, 0.5 g O-phenylenediamine and 0.5 g dicy...      1              \n",
       "2  Si-CQDs were synthesized by a hydrothermal met...      1              \n",
       "3  N@C-dots were synthesized via a hydrothermal p...      1              \n",
       "4  The p-GQDs were synthesized following a typica...      1              "
      ]
     },
     "execution_count": 2,
     "metadata": {},
     "output_type": "execute_result"
    }
   ],
   "source": [
    "#Loading in annotated dataset\n",
    "path = '/Users/pnt17/Library/CloudStorage/OneDrive-ImperialCollegeLondon/MRes_project_data/para_dataset'\n",
    "file = 'p_dataset_3.csv'\n",
    "p_annotated = pd.read_csv(os.path.join(path,file), encoding = 'utf-8')\n",
    "print(p_annotated.shape)\n",
    "p_annotated['model class'] =''\n",
    "p_annotated.head(5)"
   ]
  },
  {
   "cell_type": "code",
   "execution_count": 3,
   "id": "f38909e6",
   "metadata": {},
   "outputs": [
    {
     "name": "stdout",
     "output_type": "stream",
     "text": [
      "The number of positive (hydrothermal synthesis) paragraphs in the dataset is 87\n",
      "The number of negative (non-hydrothermal synthesis) paragraphs in the dataset is 74\n"
     ]
    }
   ],
   "source": [
    "print('The number of positive (hydrothermal synthesis) paragraphs in the dataset is', p_annotated['class'].value_counts()[1])\n",
    "print('The number of negative (non-hydrothermal synthesis) paragraphs in the dataset is', p_annotated['class'].value_counts()[0])"
   ]
  },
  {
   "cell_type": "code",
   "execution_count": 4,
   "id": "c2ec9c4f",
   "metadata": {},
   "outputs": [
    {
     "name": "stdout",
     "output_type": "stream",
     "text": [
      "(161, 3)\n"
     ]
    },
    {
     "data": {
      "text/html": [
       "<div>\n",
       "<style scoped>\n",
       "    .dataframe tbody tr th:only-of-type {\n",
       "        vertical-align: middle;\n",
       "    }\n",
       "\n",
       "    .dataframe tbody tr th {\n",
       "        vertical-align: top;\n",
       "    }\n",
       "\n",
       "    .dataframe thead th {\n",
       "        text-align: right;\n",
       "    }\n",
       "</style>\n",
       "<table border=\"1\" class=\"dataframe\">\n",
       "  <thead>\n",
       "    <tr style=\"text-align: right;\">\n",
       "      <th></th>\n",
       "      <th>DOI</th>\n",
       "      <th>text</th>\n",
       "      <th>result</th>\n",
       "    </tr>\n",
       "  </thead>\n",
       "  <tbody>\n",
       "    <tr>\n",
       "      <th>0</th>\n",
       "      <td>10.1007/s10876-022-02339-x</td>\n",
       "      <td>CQDs were synthesized by the usage of O. basi...</td>\n",
       "      <td>(hydrothermal_ceramic_synthesis, 0.99820625782...</td>\n",
       "    </tr>\n",
       "    <tr>\n",
       "      <th>1</th>\n",
       "      <td>10.1002/bio.3407</td>\n",
       "      <td>First, 0.5 g O-phenylenediamine and 0.5 g dic...</td>\n",
       "      <td>(hydrothermal_ceramic_synthesis, 0.99682497978...</td>\n",
       "    </tr>\n",
       "    <tr>\n",
       "      <th>2</th>\n",
       "      <td>10.1016/j.saa.2022.121139</td>\n",
       "      <td>Si-CQDs were synthesized by a hydrothermal me...</td>\n",
       "      <td>(hydrothermal_ceramic_synthesis, 0.99691748619...</td>\n",
       "    </tr>\n",
       "    <tr>\n",
       "      <th>3</th>\n",
       "      <td>10.1039/C6TB00519E</td>\n",
       "      <td>N@C-dots were synthesized via a hydrothermal ...</td>\n",
       "      <td>(hydrothermal_ceramic_synthesis, 0.99819368124...</td>\n",
       "    </tr>\n",
       "    <tr>\n",
       "      <th>4</th>\n",
       "      <td>10.1038/s41467-021-25640-1_no_0</td>\n",
       "      <td>The p-GQDs were synthesized following a typic...</td>\n",
       "      <td>(hydrothermal_ceramic_synthesis, 0.99432665109...</td>\n",
       "    </tr>\n",
       "  </tbody>\n",
       "</table>\n",
       "</div>"
      ],
      "text/plain": [
       "                               DOI  \\\n",
       "0       10.1007/s10876-022-02339-x   \n",
       "1                 10.1002/bio.3407   \n",
       "2        10.1016/j.saa.2022.121139   \n",
       "3               10.1039/C6TB00519E   \n",
       "4  10.1038/s41467-021-25640-1_no_0   \n",
       "\n",
       "                                                text  \\\n",
       "0   CQDs were synthesized by the usage of O. basi...   \n",
       "1   First, 0.5 g O-phenylenediamine and 0.5 g dic...   \n",
       "2   Si-CQDs were synthesized by a hydrothermal me...   \n",
       "3   N@C-dots were synthesized via a hydrothermal ...   \n",
       "4   The p-GQDs were synthesized following a typic...   \n",
       "\n",
       "                                              result  \n",
       "0  (hydrothermal_ceramic_synthesis, 0.99820625782...  \n",
       "1  (hydrothermal_ceramic_synthesis, 0.99682497978...  \n",
       "2  (hydrothermal_ceramic_synthesis, 0.99691748619...  \n",
       "3  (hydrothermal_ceramic_synthesis, 0.99819368124...  \n",
       "4  (hydrothermal_ceramic_synthesis, 0.99432665109...  "
      ]
     },
     "execution_count": 4,
     "metadata": {},
     "output_type": "execute_result"
    }
   ],
   "source": [
    "#Loading in classification results\n",
    "file = 'classification_results.txt'\n",
    "with open(os.path.join(path, file),'r', encoding='utf-8') as f:\n",
    "    contents = f.readlines()\n",
    "    \n",
    "p_results = pd.DataFrame(columns = ['DOI', 'text', 'result'])\n",
    "for line in contents:\n",
    "    dict_line = ast.literal_eval(line.strip())\n",
    "    new_df = pd.DataFrame([dict_line])\n",
    "    p_results = pd.concat([p_results, new_df], axis=0, ignore_index=True)\n",
    "\n",
    "print(p_results.shape)\n",
    "p_results.head()"
   ]
  },
  {
   "cell_type": "code",
   "execution_count": 5,
   "id": "cc16663e",
   "metadata": {},
   "outputs": [],
   "source": [
    "class_result = []\n",
    "for result in p_results['result'].to_list():\n",
    "    if result[0] == 'hydrothermal_ceramic_synthesis':\n",
    "        class_result.append(1)\n",
    "    else:\n",
    "        class_result.append(0)"
   ]
  },
  {
   "cell_type": "code",
   "execution_count": 6,
   "id": "37226c6a",
   "metadata": {},
   "outputs": [
    {
     "name": "stdout",
     "output_type": "stream",
     "text": [
      "161\n"
     ]
    },
    {
     "data": {
      "text/html": [
       "<div>\n",
       "<style scoped>\n",
       "    .dataframe tbody tr th:only-of-type {\n",
       "        vertical-align: middle;\n",
       "    }\n",
       "\n",
       "    .dataframe tbody tr th {\n",
       "        vertical-align: top;\n",
       "    }\n",
       "\n",
       "    .dataframe thead th {\n",
       "        text-align: right;\n",
       "    }\n",
       "</style>\n",
       "<table border=\"1\" class=\"dataframe\">\n",
       "  <thead>\n",
       "    <tr style=\"text-align: right;\">\n",
       "      <th></th>\n",
       "      <th>DOI</th>\n",
       "      <th>text</th>\n",
       "      <th>result</th>\n",
       "      <th>model class</th>\n",
       "    </tr>\n",
       "  </thead>\n",
       "  <tbody>\n",
       "    <tr>\n",
       "      <th>0</th>\n",
       "      <td>10.1007/s10876-022-02339-x</td>\n",
       "      <td>CQDs were synthesized by the usage of O. basi...</td>\n",
       "      <td>(hydrothermal_ceramic_synthesis, 0.99820625782...</td>\n",
       "      <td>1</td>\n",
       "    </tr>\n",
       "    <tr>\n",
       "      <th>1</th>\n",
       "      <td>10.1002/bio.3407</td>\n",
       "      <td>First, 0.5 g O-phenylenediamine and 0.5 g dic...</td>\n",
       "      <td>(hydrothermal_ceramic_synthesis, 0.99682497978...</td>\n",
       "      <td>1</td>\n",
       "    </tr>\n",
       "    <tr>\n",
       "      <th>2</th>\n",
       "      <td>10.1016/j.saa.2022.121139</td>\n",
       "      <td>Si-CQDs were synthesized by a hydrothermal me...</td>\n",
       "      <td>(hydrothermal_ceramic_synthesis, 0.99691748619...</td>\n",
       "      <td>1</td>\n",
       "    </tr>\n",
       "    <tr>\n",
       "      <th>3</th>\n",
       "      <td>10.1039/C6TB00519E</td>\n",
       "      <td>N@C-dots were synthesized via a hydrothermal ...</td>\n",
       "      <td>(hydrothermal_ceramic_synthesis, 0.99819368124...</td>\n",
       "      <td>1</td>\n",
       "    </tr>\n",
       "    <tr>\n",
       "      <th>4</th>\n",
       "      <td>10.1038/s41467-021-25640-1_no_0</td>\n",
       "      <td>The p-GQDs were synthesized following a typic...</td>\n",
       "      <td>(hydrothermal_ceramic_synthesis, 0.99432665109...</td>\n",
       "      <td>1</td>\n",
       "    </tr>\n",
       "  </tbody>\n",
       "</table>\n",
       "</div>"
      ],
      "text/plain": [
       "                               DOI  \\\n",
       "0       10.1007/s10876-022-02339-x   \n",
       "1                 10.1002/bio.3407   \n",
       "2        10.1016/j.saa.2022.121139   \n",
       "3               10.1039/C6TB00519E   \n",
       "4  10.1038/s41467-021-25640-1_no_0   \n",
       "\n",
       "                                                text  \\\n",
       "0   CQDs were synthesized by the usage of O. basi...   \n",
       "1   First, 0.5 g O-phenylenediamine and 0.5 g dic...   \n",
       "2   Si-CQDs were synthesized by a hydrothermal me...   \n",
       "3   N@C-dots were synthesized via a hydrothermal ...   \n",
       "4   The p-GQDs were synthesized following a typic...   \n",
       "\n",
       "                                              result  model class  \n",
       "0  (hydrothermal_ceramic_synthesis, 0.99820625782...            1  \n",
       "1  (hydrothermal_ceramic_synthesis, 0.99682497978...            1  \n",
       "2  (hydrothermal_ceramic_synthesis, 0.99691748619...            1  \n",
       "3  (hydrothermal_ceramic_synthesis, 0.99819368124...            1  \n",
       "4  (hydrothermal_ceramic_synthesis, 0.99432665109...            1  "
      ]
     },
     "execution_count": 6,
     "metadata": {},
     "output_type": "execute_result"
    }
   ],
   "source": [
    "print(len(class_result))\n",
    "p_results['model class'] = class_result\n",
    "p_results.head()"
   ]
  },
  {
   "cell_type": "code",
   "execution_count": 7,
   "id": "9d936c63",
   "metadata": {},
   "outputs": [
    {
     "data": {
      "text/html": [
       "<div>\n",
       "<style scoped>\n",
       "    .dataframe tbody tr th:only-of-type {\n",
       "        vertical-align: middle;\n",
       "    }\n",
       "\n",
       "    .dataframe tbody tr th {\n",
       "        vertical-align: top;\n",
       "    }\n",
       "\n",
       "    .dataframe thead th {\n",
       "        text-align: right;\n",
       "    }\n",
       "</style>\n",
       "<table border=\"1\" class=\"dataframe\">\n",
       "  <thead>\n",
       "    <tr style=\"text-align: right;\">\n",
       "      <th></th>\n",
       "      <th>DOI</th>\n",
       "      <th>paragraph</th>\n",
       "      <th>class</th>\n",
       "      <th>model class</th>\n",
       "    </tr>\n",
       "  </thead>\n",
       "  <tbody>\n",
       "    <tr>\n",
       "      <th>0</th>\n",
       "      <td>10.1007/s10876-022-02339-x</td>\n",
       "      <td>CQDs were synthesized by the usage of O. basil...</td>\n",
       "      <td>1</td>\n",
       "      <td>1</td>\n",
       "    </tr>\n",
       "    <tr>\n",
       "      <th>1</th>\n",
       "      <td>10.1002/bio.3407</td>\n",
       "      <td>First, 0.5 g O-phenylenediamine and 0.5 g dicy...</td>\n",
       "      <td>1</td>\n",
       "      <td>1</td>\n",
       "    </tr>\n",
       "    <tr>\n",
       "      <th>2</th>\n",
       "      <td>10.1016/j.saa.2022.121139</td>\n",
       "      <td>Si-CQDs were synthesized by a hydrothermal met...</td>\n",
       "      <td>1</td>\n",
       "      <td>1</td>\n",
       "    </tr>\n",
       "    <tr>\n",
       "      <th>3</th>\n",
       "      <td>10.1039/C6TB00519E</td>\n",
       "      <td>N@C-dots were synthesized via a hydrothermal p...</td>\n",
       "      <td>1</td>\n",
       "      <td>1</td>\n",
       "    </tr>\n",
       "    <tr>\n",
       "      <th>4</th>\n",
       "      <td>10.1038/s41467-021-25640-1_no_0</td>\n",
       "      <td>The p-GQDs were synthesized following a typica...</td>\n",
       "      <td>1</td>\n",
       "      <td>1</td>\n",
       "    </tr>\n",
       "  </tbody>\n",
       "</table>\n",
       "</div>"
      ],
      "text/plain": [
       "                               DOI  \\\n",
       "0       10.1007/s10876-022-02339-x   \n",
       "1                 10.1002/bio.3407   \n",
       "2        10.1016/j.saa.2022.121139   \n",
       "3               10.1039/C6TB00519E   \n",
       "4  10.1038/s41467-021-25640-1_no_0   \n",
       "\n",
       "                                           paragraph  class model class  \n",
       "0  CQDs were synthesized by the usage of O. basil...      1           1  \n",
       "1  First, 0.5 g O-phenylenediamine and 0.5 g dicy...      1           1  \n",
       "2  Si-CQDs were synthesized by a hydrothermal met...      1           1  \n",
       "3  N@C-dots were synthesized via a hydrothermal p...      1           1  \n",
       "4  The p-GQDs were synthesized following a typica...      1           1  "
      ]
     },
     "execution_count": 7,
     "metadata": {},
     "output_type": "execute_result"
    }
   ],
   "source": [
    "for doi in p_results['DOI'].to_list():\n",
    "    p_annotated.loc[p_annotated['DOI'] == doi,'model class'] = p_results.loc[p_results['DOI']==doi, 'model class'].values\n",
    "\n",
    "p_annotated.head()"
   ]
  },
  {
   "cell_type": "markdown",
   "id": "52730372",
   "metadata": {},
   "source": [
    "True positive(TP) = hydrothermal synthesis paragraph and hydrothermal prediction (1,1)\n",
    "\n",
    "False negative(FN) = hydrothermal synthesis paragraph and non-hydrothermal prediction (1,0)\n",
    "\n",
    "True negative(TN) = non-hydrothermal synthesis paragraph and non-hydrothermal prediction (0,0)\n",
    "\n",
    "False positive(FP) = non-hydrothermal synthesis paragraph and hydrothermal prediction (0,1)\n",
    "\n",
    "Accuracy = all true predictions / all predictions \n",
    "\n",
    "Precision = TP / TP + FP \n",
    "\n",
    "Recall = TP / TP + FN \n",
    "\n",
    "F1 = 2xPrecisionxRecall / Precision + Recall "
   ]
  },
  {
   "cell_type": "code",
   "execution_count": 8,
   "id": "5de98e29",
   "metadata": {},
   "outputs": [
    {
     "data": {
      "text/html": [
       "<div>\n",
       "<style scoped>\n",
       "    .dataframe tbody tr th:only-of-type {\n",
       "        vertical-align: middle;\n",
       "    }\n",
       "\n",
       "    .dataframe tbody tr th {\n",
       "        vertical-align: top;\n",
       "    }\n",
       "\n",
       "    .dataframe thead th {\n",
       "        text-align: right;\n",
       "    }\n",
       "</style>\n",
       "<table border=\"1\" class=\"dataframe\">\n",
       "  <thead>\n",
       "    <tr style=\"text-align: right;\">\n",
       "      <th></th>\n",
       "      <th>DOI</th>\n",
       "      <th>paragraph</th>\n",
       "      <th>class</th>\n",
       "      <th>model class</th>\n",
       "      <th>outcome label</th>\n",
       "    </tr>\n",
       "  </thead>\n",
       "  <tbody>\n",
       "    <tr>\n",
       "      <th>0</th>\n",
       "      <td>10.1007/s10876-022-02339-x</td>\n",
       "      <td>CQDs were synthesized by the usage of O. basil...</td>\n",
       "      <td>1</td>\n",
       "      <td>1</td>\n",
       "      <td>TP</td>\n",
       "    </tr>\n",
       "    <tr>\n",
       "      <th>1</th>\n",
       "      <td>10.1002/bio.3407</td>\n",
       "      <td>First, 0.5 g O-phenylenediamine and 0.5 g dicy...</td>\n",
       "      <td>1</td>\n",
       "      <td>1</td>\n",
       "      <td>TP</td>\n",
       "    </tr>\n",
       "    <tr>\n",
       "      <th>2</th>\n",
       "      <td>10.1016/j.saa.2022.121139</td>\n",
       "      <td>Si-CQDs were synthesized by a hydrothermal met...</td>\n",
       "      <td>1</td>\n",
       "      <td>1</td>\n",
       "      <td>TP</td>\n",
       "    </tr>\n",
       "    <tr>\n",
       "      <th>3</th>\n",
       "      <td>10.1039/C6TB00519E</td>\n",
       "      <td>N@C-dots were synthesized via a hydrothermal p...</td>\n",
       "      <td>1</td>\n",
       "      <td>1</td>\n",
       "      <td>TP</td>\n",
       "    </tr>\n",
       "    <tr>\n",
       "      <th>4</th>\n",
       "      <td>10.1038/s41467-021-25640-1_no_0</td>\n",
       "      <td>The p-GQDs were synthesized following a typica...</td>\n",
       "      <td>1</td>\n",
       "      <td>1</td>\n",
       "      <td>TP</td>\n",
       "    </tr>\n",
       "  </tbody>\n",
       "</table>\n",
       "</div>"
      ],
      "text/plain": [
       "                               DOI  \\\n",
       "0       10.1007/s10876-022-02339-x   \n",
       "1                 10.1002/bio.3407   \n",
       "2        10.1016/j.saa.2022.121139   \n",
       "3               10.1039/C6TB00519E   \n",
       "4  10.1038/s41467-021-25640-1_no_0   \n",
       "\n",
       "                                           paragraph  class model class  \\\n",
       "0  CQDs were synthesized by the usage of O. basil...      1           1   \n",
       "1  First, 0.5 g O-phenylenediamine and 0.5 g dicy...      1           1   \n",
       "2  Si-CQDs were synthesized by a hydrothermal met...      1           1   \n",
       "3  N@C-dots were synthesized via a hydrothermal p...      1           1   \n",
       "4  The p-GQDs were synthesized following a typica...      1           1   \n",
       "\n",
       "  outcome label  \n",
       "0            TP  \n",
       "1            TP  \n",
       "2            TP  \n",
       "3            TP  \n",
       "4            TP  "
      ]
     },
     "execution_count": 8,
     "metadata": {},
     "output_type": "execute_result"
    }
   ],
   "source": [
    "p_annotated['outcome label'] = ''\n",
    "for doi in p_annotated['DOI'].to_list():\n",
    "    if p_annotated.loc[p_annotated['DOI'] == doi, 'class'].values == 1 and p_annotated.loc[p_annotated['DOI'] == doi, 'model class'].values == 1:\n",
    "        p_annotated.loc[p_annotated['DOI'] == doi, 'outcome label'] = 'TP'\n",
    "    elif p_annotated.loc[p_annotated['DOI'] == doi, 'class'].values == 1 and p_annotated.loc[p_annotated['DOI'] == doi, 'model class'].values == 0:\n",
    "        p_annotated.loc[p_annotated['DOI'] == doi, 'outcome label'] = 'FN'\n",
    "    elif p_annotated.loc[p_annotated['DOI'] == doi, 'class'].values == 0 and p_annotated.loc[p_annotated['DOI'] == doi, 'model class'].values == 0:\n",
    "        p_annotated.loc[p_annotated['DOI'] == doi, 'outcome label'] = 'TN'\n",
    "    elif p_annotated.loc[p_annotated['DOI'] == doi, 'class'].values == 0 and p_annotated.loc[p_annotated['DOI'] == doi, 'model class'].values == 1:\n",
    "        p_annotated.loc[p_annotated['DOI'] == doi, 'outcome label'] = 'FP'\n",
    "\n",
    "p_annotated.head()"
   ]
  },
  {
   "cell_type": "code",
   "execution_count": 9,
   "id": "8cc7e398",
   "metadata": {},
   "outputs": [
    {
     "name": "stdout",
     "output_type": "stream",
     "text": [
      "TP = 80, FP = 3, TN = 71, FN = 7\n"
     ]
    }
   ],
   "source": [
    "TP = p_annotated['outcome label'].value_counts()['TP']\n",
    "FP = p_annotated['outcome label'].value_counts()['FP']\n",
    "TN = p_annotated['outcome label'].value_counts()['TN']\n",
    "FN = p_annotated['outcome label'].value_counts()['FN']\n",
    "\n",
    "print(f'TP = {TP}, FP = {FP}, TN = {TN}, FN = {FN}')"
   ]
  },
  {
   "cell_type": "code",
   "execution_count": 10,
   "id": "ca020ef5",
   "metadata": {},
   "outputs": [
    {
     "name": "stdout",
     "output_type": "stream",
     "text": [
      "The accuracy is 0.94\n"
     ]
    }
   ],
   "source": [
    "#Accuracy\n",
    "accuracy = (TP + TN) / (TP + FP + TN  + FN)\n",
    "print(f'The accuracy is {accuracy:.2f}')"
   ]
  },
  {
   "cell_type": "code",
   "execution_count": 11,
   "id": "acb4a15a",
   "metadata": {},
   "outputs": [
    {
     "name": "stdout",
     "output_type": "stream",
     "text": [
      "The precision is 0.96\n"
     ]
    }
   ],
   "source": [
    "#Precision\n",
    "precision = TP / (TP + FP)\n",
    "print(f'The precision is {precision:.2f}')"
   ]
  },
  {
   "cell_type": "code",
   "execution_count": 12,
   "id": "82a1fb7c",
   "metadata": {},
   "outputs": [
    {
     "name": "stdout",
     "output_type": "stream",
     "text": [
      "The recall is 0.92\n"
     ]
    }
   ],
   "source": [
    "#Recall\n",
    "recall = TP / (TP + FN)\n",
    "print(f'The recall is {recall:.2f}')"
   ]
  },
  {
   "cell_type": "code",
   "execution_count": 13,
   "id": "222faed4",
   "metadata": {},
   "outputs": [
    {
     "name": "stdout",
     "output_type": "stream",
     "text": [
      "The F1 score is 0.94\n"
     ]
    }
   ],
   "source": [
    "#F1 score\n",
    "f1_score = 2*precision*recall / (precision+recall)\n",
    "print(f'The F1 score is {f1_score:.2f}')"
   ]
  },
  {
   "cell_type": "markdown",
   "id": "8a3bab6b",
   "metadata": {},
   "source": [
    "## Analysis of FN and FP"
   ]
  },
  {
   "cell_type": "code",
   "execution_count": 14,
   "id": "bf0585c9",
   "metadata": {},
   "outputs": [
    {
     "name": "stdout",
     "output_type": "stream",
     "text": [
      "['10.1016/j.mtchem.2021.100755_no_0', '10.1038/s41598-022-22518-0_no_0', '10.1038/s41598-022-22518-0_no_1']\n"
     ]
    },
    {
     "data": {
      "text/html": [
       "<div>\n",
       "<style scoped>\n",
       "    .dataframe tbody tr th:only-of-type {\n",
       "        vertical-align: middle;\n",
       "    }\n",
       "\n",
       "    .dataframe tbody tr th {\n",
       "        vertical-align: top;\n",
       "    }\n",
       "\n",
       "    .dataframe thead th {\n",
       "        text-align: right;\n",
       "    }\n",
       "</style>\n",
       "<table border=\"1\" class=\"dataframe\">\n",
       "  <thead>\n",
       "    <tr style=\"text-align: right;\">\n",
       "      <th></th>\n",
       "      <th>DOI</th>\n",
       "      <th>paragraph</th>\n",
       "      <th>class</th>\n",
       "      <th>model class</th>\n",
       "      <th>outcome label</th>\n",
       "    </tr>\n",
       "  </thead>\n",
       "  <tbody>\n",
       "    <tr>\n",
       "      <th>85</th>\n",
       "      <td>10.1016/j.mtchem.2021.100755_no_0</td>\n",
       "      <td>GQDs were synthesized by hydrothermal method u...</td>\n",
       "      <td>0</td>\n",
       "      <td>1</td>\n",
       "      <td>FP</td>\n",
       "    </tr>\n",
       "    <tr>\n",
       "      <th>126</th>\n",
       "      <td>10.1038/s41598-022-22518-0_no_0</td>\n",
       "      <td>The CQDs were synthesized through the hydrothe...</td>\n",
       "      <td>0</td>\n",
       "      <td>1</td>\n",
       "      <td>FP</td>\n",
       "    </tr>\n",
       "    <tr>\n",
       "      <th>127</th>\n",
       "      <td>10.1038/s41598-022-22518-0_no_1</td>\n",
       "      <td>was suspended in 80 mL of deionized water and ...</td>\n",
       "      <td>0</td>\n",
       "      <td>1</td>\n",
       "      <td>FP</td>\n",
       "    </tr>\n",
       "  </tbody>\n",
       "</table>\n",
       "</div>"
      ],
      "text/plain": [
       "                                   DOI  \\\n",
       "85   10.1016/j.mtchem.2021.100755_no_0   \n",
       "126    10.1038/s41598-022-22518-0_no_0   \n",
       "127    10.1038/s41598-022-22518-0_no_1   \n",
       "\n",
       "                                             paragraph  class model class  \\\n",
       "85   GQDs were synthesized by hydrothermal method u...      0           1   \n",
       "126  The CQDs were synthesized through the hydrothe...      0           1   \n",
       "127  was suspended in 80 mL of deionized water and ...      0           1   \n",
       "\n",
       "    outcome label  \n",
       "85             FP  \n",
       "126            FP  \n",
       "127            FP  "
      ]
     },
     "execution_count": 14,
     "metadata": {},
     "output_type": "execute_result"
    }
   ],
   "source": [
    "#False positives\n",
    "FP_df = p_annotated[p_annotated['outcome label'] == 'FP']\n",
    "print(FP_df['DOI'].to_list())\n",
    "FP_df"
   ]
  },
  {
   "cell_type": "markdown",
   "id": "02086af1",
   "metadata": {},
   "source": [
    "10.1038/ncomms6357 - actual hydrothermal method (mislabeled during annotation)\n",
    "\n",
    "10.1016/j.mtchem.2021.100755_no_0 - fragment of hydrothermal synthesis paragraph, actual synthesis condtions not described but is mentioned that hydrothermal method was used\n",
    "\n",
    "10.1038/s41598-022-22518-0_no_0, 10.1038/s41598-022-22518-0_no_1 - fragment of hydrothermal synthesis paragraph, mistake in formatting article, the synthesis description is split mid sentence"
   ]
  },
  {
   "cell_type": "code",
   "execution_count": 15,
   "id": "b6800d6d",
   "metadata": {},
   "outputs": [
    {
     "name": "stdout",
     "output_type": "stream",
     "text": [
      "['10.1038/s41598-019-55996-w', '10.1080/00032719.2020.1759618_no_0', '10.1016/j.mtchem.2021.100755_no_1', '10.1080/03067319.2021.2004589', '10.1021/acsanm.9b01446_no_0', '10.1021/acsanm.9b01446_no_1', '10.3390/molecules27248728_no_0']\n"
     ]
    },
    {
     "data": {
      "text/html": [
       "<div>\n",
       "<style scoped>\n",
       "    .dataframe tbody tr th:only-of-type {\n",
       "        vertical-align: middle;\n",
       "    }\n",
       "\n",
       "    .dataframe tbody tr th {\n",
       "        vertical-align: top;\n",
       "    }\n",
       "\n",
       "    .dataframe thead th {\n",
       "        text-align: right;\n",
       "    }\n",
       "</style>\n",
       "<table border=\"1\" class=\"dataframe\">\n",
       "  <thead>\n",
       "    <tr style=\"text-align: right;\">\n",
       "      <th></th>\n",
       "      <th>DOI</th>\n",
       "      <th>paragraph</th>\n",
       "      <th>class</th>\n",
       "      <th>model class</th>\n",
       "      <th>outcome label</th>\n",
       "    </tr>\n",
       "  </thead>\n",
       "  <tbody>\n",
       "    <tr>\n",
       "      <th>36</th>\n",
       "      <td>10.1038/s41598-019-55996-w</td>\n",
       "      <td>Citric acid (5 g), mercaptoethylamine (0.8 g) ...</td>\n",
       "      <td>1</td>\n",
       "      <td>0</td>\n",
       "      <td>FN</td>\n",
       "    </tr>\n",
       "    <tr>\n",
       "      <th>78</th>\n",
       "      <td>10.1080/00032719.2020.1759618_no_0</td>\n",
       "      <td>CQDS were synthesized by a simple hydrothermal...</td>\n",
       "      <td>1</td>\n",
       "      <td>0</td>\n",
       "      <td>FN</td>\n",
       "    </tr>\n",
       "    <tr>\n",
       "      <th>86</th>\n",
       "      <td>10.1016/j.mtchem.2021.100755_no_1</td>\n",
       "      <td>The syntheses of the GQDs were carried out in ...</td>\n",
       "      <td>1</td>\n",
       "      <td>0</td>\n",
       "      <td>FN</td>\n",
       "    </tr>\n",
       "    <tr>\n",
       "      <th>87</th>\n",
       "      <td>10.1080/03067319.2021.2004589</td>\n",
       "      <td>0.3 g m-cresol purple was dissolved in 15 mL a...</td>\n",
       "      <td>1</td>\n",
       "      <td>0</td>\n",
       "      <td>FN</td>\n",
       "    </tr>\n",
       "    <tr>\n",
       "      <th>129</th>\n",
       "      <td>10.1021/acsanm.9b01446_no_0</td>\n",
       "      <td>All chemicals were purchased from vendors of e...</td>\n",
       "      <td>1</td>\n",
       "      <td>0</td>\n",
       "      <td>FN</td>\n",
       "    </tr>\n",
       "    <tr>\n",
       "      <th>130</th>\n",
       "      <td>10.1021/acsanm.9b01446_no_1</td>\n",
       "      <td>CPDs 2 and CPDs 3 were prepared from aconitic ...</td>\n",
       "      <td>1</td>\n",
       "      <td>0</td>\n",
       "      <td>FN</td>\n",
       "    </tr>\n",
       "    <tr>\n",
       "      <th>131</th>\n",
       "      <td>10.3390/molecules27248728_no_0</td>\n",
       "      <td>Fat-free cow milk was used as precursor for CD...</td>\n",
       "      <td>1</td>\n",
       "      <td>0</td>\n",
       "      <td>FN</td>\n",
       "    </tr>\n",
       "  </tbody>\n",
       "</table>\n",
       "</div>"
      ],
      "text/plain": [
       "                                    DOI  \\\n",
       "36           10.1038/s41598-019-55996-w   \n",
       "78   10.1080/00032719.2020.1759618_no_0   \n",
       "86    10.1016/j.mtchem.2021.100755_no_1   \n",
       "87        10.1080/03067319.2021.2004589   \n",
       "129         10.1021/acsanm.9b01446_no_0   \n",
       "130         10.1021/acsanm.9b01446_no_1   \n",
       "131      10.3390/molecules27248728_no_0   \n",
       "\n",
       "                                             paragraph  class model class  \\\n",
       "36   Citric acid (5 g), mercaptoethylamine (0.8 g) ...      1           0   \n",
       "78   CQDS were synthesized by a simple hydrothermal...      1           0   \n",
       "86   The syntheses of the GQDs were carried out in ...      1           0   \n",
       "87   0.3 g m-cresol purple was dissolved in 15 mL a...      1           0   \n",
       "129  All chemicals were purchased from vendors of e...      1           0   \n",
       "130  CPDs 2 and CPDs 3 were prepared from aconitic ...      1           0   \n",
       "131  Fat-free cow milk was used as precursor for CD...      1           0   \n",
       "\n",
       "    outcome label  \n",
       "36             FN  \n",
       "78             FN  \n",
       "86             FN  \n",
       "87             FN  \n",
       "129            FN  \n",
       "130            FN  \n",
       "131            FN  "
      ]
     },
     "execution_count": 15,
     "metadata": {},
     "output_type": "execute_result"
    }
   ],
   "source": [
    "#False negatives\n",
    "FN_df = p_annotated[p_annotated['outcome label'] == 'FN']\n",
    "print(FN_df['DOI'].to_list())\n",
    "FN_df"
   ]
  },
  {
   "cell_type": "code",
   "execution_count": 16,
   "id": "f75fac8e",
   "metadata": {},
   "outputs": [
    {
     "name": "stderr",
     "output_type": "stream",
     "text": [
      "/var/folders/z0/3_w8n5nn6_ndhwnz5bqkszs80000gp/T/ipykernel_33902/2413532651.py:1: SettingWithCopyWarning: \n",
      "A value is trying to be set on a copy of a slice from a DataFrame.\n",
      "Try using .loc[row_indexer,col_indexer] = value instead\n",
      "\n",
      "See the caveats in the documentation: https://pandas.pydata.org/pandas-docs/stable/user_guide/indexing.html#returning-a-view-versus-a-copy\n",
      "  FN_df['model score'] = ''\n"
     ]
    },
    {
     "data": {
      "text/html": [
       "<div>\n",
       "<style scoped>\n",
       "    .dataframe tbody tr th:only-of-type {\n",
       "        vertical-align: middle;\n",
       "    }\n",
       "\n",
       "    .dataframe tbody tr th {\n",
       "        vertical-align: top;\n",
       "    }\n",
       "\n",
       "    .dataframe thead th {\n",
       "        text-align: right;\n",
       "    }\n",
       "</style>\n",
       "<table border=\"1\" class=\"dataframe\">\n",
       "  <thead>\n",
       "    <tr style=\"text-align: right;\">\n",
       "      <th></th>\n",
       "      <th>DOI</th>\n",
       "      <th>paragraph</th>\n",
       "      <th>class</th>\n",
       "      <th>model class</th>\n",
       "      <th>outcome label</th>\n",
       "      <th>model score</th>\n",
       "    </tr>\n",
       "  </thead>\n",
       "  <tbody>\n",
       "    <tr>\n",
       "      <th>36</th>\n",
       "      <td>10.1038/s41598-019-55996-w</td>\n",
       "      <td>Citric acid (5 g), mercaptoethylamine (0.8 g) ...</td>\n",
       "      <td>1</td>\n",
       "      <td>0</td>\n",
       "      <td>FN</td>\n",
       "      <td>(sol_gel_ceramic_synthesis, 0.9898970127105713)</td>\n",
       "    </tr>\n",
       "    <tr>\n",
       "      <th>78</th>\n",
       "      <td>10.1080/00032719.2020.1759618_no_0</td>\n",
       "      <td>CQDS were synthesized by a simple hydrothermal...</td>\n",
       "      <td>1</td>\n",
       "      <td>0</td>\n",
       "      <td>FN</td>\n",
       "      <td>(something_else, 0.8870745301246643)</td>\n",
       "    </tr>\n",
       "    <tr>\n",
       "      <th>86</th>\n",
       "      <td>10.1016/j.mtchem.2021.100755_no_1</td>\n",
       "      <td>The syntheses of the GQDs were carried out in ...</td>\n",
       "      <td>1</td>\n",
       "      <td>0</td>\n",
       "      <td>FN</td>\n",
       "      <td>(something_else, 0.7367516756057739)</td>\n",
       "    </tr>\n",
       "    <tr>\n",
       "      <th>87</th>\n",
       "      <td>10.1080/03067319.2021.2004589</td>\n",
       "      <td>0.3 g m-cresol purple was dissolved in 15 mL a...</td>\n",
       "      <td>1</td>\n",
       "      <td>0</td>\n",
       "      <td>FN</td>\n",
       "      <td>(something_else, 0.9982753992080688)</td>\n",
       "    </tr>\n",
       "    <tr>\n",
       "      <th>129</th>\n",
       "      <td>10.1021/acsanm.9b01446_no_0</td>\n",
       "      <td>All chemicals were purchased from vendors of e...</td>\n",
       "      <td>1</td>\n",
       "      <td>0</td>\n",
       "      <td>FN</td>\n",
       "      <td>(something_else, 0.9057037234306335)</td>\n",
       "    </tr>\n",
       "    <tr>\n",
       "      <th>130</th>\n",
       "      <td>10.1021/acsanm.9b01446_no_1</td>\n",
       "      <td>CPDs 2 and CPDs 3 were prepared from aconitic ...</td>\n",
       "      <td>1</td>\n",
       "      <td>0</td>\n",
       "      <td>FN</td>\n",
       "      <td>(sol_gel_ceramic_synthesis, 0.9961193799972534)</td>\n",
       "    </tr>\n",
       "    <tr>\n",
       "      <th>131</th>\n",
       "      <td>10.3390/molecules27248728_no_0</td>\n",
       "      <td>Fat-free cow milk was used as precursor for CD...</td>\n",
       "      <td>1</td>\n",
       "      <td>0</td>\n",
       "      <td>FN</td>\n",
       "      <td>(something_else, 0.9990077614784241)</td>\n",
       "    </tr>\n",
       "  </tbody>\n",
       "</table>\n",
       "</div>"
      ],
      "text/plain": [
       "                                    DOI  \\\n",
       "36           10.1038/s41598-019-55996-w   \n",
       "78   10.1080/00032719.2020.1759618_no_0   \n",
       "86    10.1016/j.mtchem.2021.100755_no_1   \n",
       "87        10.1080/03067319.2021.2004589   \n",
       "129         10.1021/acsanm.9b01446_no_0   \n",
       "130         10.1021/acsanm.9b01446_no_1   \n",
       "131      10.3390/molecules27248728_no_0   \n",
       "\n",
       "                                             paragraph  class model class  \\\n",
       "36   Citric acid (5 g), mercaptoethylamine (0.8 g) ...      1           0   \n",
       "78   CQDS were synthesized by a simple hydrothermal...      1           0   \n",
       "86   The syntheses of the GQDs were carried out in ...      1           0   \n",
       "87   0.3 g m-cresol purple was dissolved in 15 mL a...      1           0   \n",
       "129  All chemicals were purchased from vendors of e...      1           0   \n",
       "130  CPDs 2 and CPDs 3 were prepared from aconitic ...      1           0   \n",
       "131  Fat-free cow milk was used as precursor for CD...      1           0   \n",
       "\n",
       "    outcome label                                      model score  \n",
       "36             FN  (sol_gel_ceramic_synthesis, 0.9898970127105713)  \n",
       "78             FN             (something_else, 0.8870745301246643)  \n",
       "86             FN             (something_else, 0.7367516756057739)  \n",
       "87             FN             (something_else, 0.9982753992080688)  \n",
       "129            FN             (something_else, 0.9057037234306335)  \n",
       "130            FN  (sol_gel_ceramic_synthesis, 0.9961193799972534)  \n",
       "131            FN             (something_else, 0.9990077614784241)  "
      ]
     },
     "execution_count": 16,
     "metadata": {},
     "output_type": "execute_result"
    }
   ],
   "source": [
    "FN_df['model score'] = ''\n",
    "for doi in FN_df['DOI'].to_list():\n",
    "    FN_df.loc[FN_df['DOI']==doi, 'model score'] = p_results.loc[p_results['DOI']== doi, 'result'].values\n",
    "FN_df"
   ]
  },
  {
   "cell_type": "markdown",
   "id": "05e5abb6",
   "metadata": {},
   "source": [
    "10.1038/s41598-019-55996-w - model predicts sol-gel, method describes hydrothermal process however experimental not written clearly\n",
    "\n",
    "10.1080/00032719.2020.1759618_no_0 - model predicts something else, basic hydrothermal method described\n",
    "\n",
    "10.1016/j.mtchem.2021.100755_no_1 - model predicts something else, hydrothermal method described a bit more complex\n",
    "\n",
    "10.1080/03067319.2021.2004589 - model predicts something else, basic hydrothermal method described, polytetrafluorethylene reactor mentioned\n",
    "\n",
    "10.1021/acsanm.9b01446_no_0,10.1021/acsanm.9b01446_no_1 - model predicts something else and sol gel, hydrothermal method described over two paragraphs. Method described a bit more complex\n",
    "\n",
    "10.3390/molecules27248728_no_0 - model predicts something else, basci hydrothermal method described\n",
    "\n",
    "10.1038/ncomms6357 - actual hydrothermal method (mislabeled during annotation)\n",
    "\n",
    "10.1016/j.mtchem.2021.100755_no_0 - fragment of hydrothermal synthesis paragraph, actual synthesis condtions not described but is mentioned that hydrothermal method was used\n",
    "\n",
    "10.1038/s41598-022-22518-0_no_0, 10.1038/s41598-022-22518-0_no_1 - fragment of hydrothermal synthesis paragraph, mistake in formatting article, the synthesis description is split mid sentence\n"
   ]
  },
  {
   "cell_type": "markdown",
   "id": "da0fd381",
   "metadata": {},
   "source": [
    "## Generating doi test lists"
   ]
  },
  {
   "cell_type": "code",
   "execution_count": 28,
   "id": "e8a98aa0",
   "metadata": {},
   "outputs": [
    {
     "name": "stdout",
     "output_type": "stream",
     "text": [
      "80\n",
      "['10.1007/s10876-022-02339-x', '10.1002/bio.3407', '10.1016/j.saa.2022.121139', '10.1039/C6TB00519E', '10.1038/s41467-021-25640-1_no_0', '10.1038/s41467-021-25640-1_no_1']\n"
     ]
    }
   ],
   "source": [
    "#list of DOIs that are TP\n",
    "TP_hits = p_annotated.loc[p_annotated['outcome label']=='TP', 'DOI'].to_list()\n",
    "print(len(TP_hits))\n",
    "print(TP_hits[:6])\n",
    "with open(os.path.join(path, 'TP_hits.txt'), 'w',encoding='utf-8') as f:\n",
    "    f.write('\\n'.join(i for i in TP_hits))\n",
    "random.seed(100)"
   ]
  },
  {
   "cell_type": "code",
   "execution_count": 33,
   "id": "04ae1fef",
   "metadata": {},
   "outputs": [
    {
     "name": "stdout",
     "output_type": "stream",
     "text": [
      "['10.1080/00032719.2020.1759618_no_1', '10.1016/j.saa.2020.118580', '10.1007/s00216-015-9138-8', '10.1021/acs.jpcc.9b06672', '10.1007/s10876-022-02339-x', '10.1038/ncomms6357', '10.1007/s10895-020-02645-5', '10.1007/s10570-017-1230-0', '10.1021/acssuschemeng.9b00027_no_2', '10.1016/j.optmat.2019.05.045']\n"
     ]
    }
   ],
   "source": [
    "TP_hits_10 = random.sample(TP_hits,10)\n",
    "print(TP_hits_10)"
   ]
  },
  {
   "cell_type": "code",
   "execution_count": 34,
   "id": "9e15db34",
   "metadata": {},
   "outputs": [],
   "source": [
    "with open(os.path.join(path, 'TP_hits_10.txt'), 'w',encoding='utf-8') as f:\n",
    "    f.write('\\n'.join(i for i in TP_hits_10))"
   ]
  },
  {
   "cell_type": "markdown",
   "id": "6fc4b11e",
   "metadata": {},
   "source": [
    "## Generating 10 paragraph sample"
   ]
  },
  {
   "cell_type": "code",
   "execution_count": 37,
   "id": "9465c9a8",
   "metadata": {},
   "outputs": [],
   "source": [
    "path_2 = '/Users/pnt17/Library/CloudStorage/OneDrive-ImperialCollegeLondon/MRes_project_data/full_text_tests_json'\n",
    "file = 'p_dataset_3.txt'\n",
    "with open(os.path.join(path_2, file),'r', encoding='utf-8') as full_file:\n",
    "    contents = full_file.readlines()"
   ]
  },
  {
   "cell_type": "code",
   "execution_count": 50,
   "id": "5c0928b9",
   "metadata": {},
   "outputs": [],
   "source": [
    "TP_10_sample = [line for line in contents if any(line.startswith(doi) for doi in TP_hits_10)]"
   ]
  },
  {
   "cell_type": "code",
   "execution_count": 51,
   "id": "a18cb426",
   "metadata": {},
   "outputs": [
    {
     "name": "stdout",
     "output_type": "stream",
     "text": [
      "10\n"
     ]
    }
   ],
   "source": [
    "print(len(TP_10_sample))"
   ]
  },
  {
   "cell_type": "code",
   "execution_count": 52,
   "id": "66e2c157",
   "metadata": {},
   "outputs": [
    {
     "name": "stdout",
     "output_type": "stream",
     "text": [
      "['10.1007/s10876-022-02339-x: CQDs were synthesized by the usage of O. basilicum L. extract via a simple hydrothermal method (Fig. 1). In a typical one-step synthesizing procedure, 2.0 g of O. basilicum L. seed was added to 100 mL of distilled water and stirred at 50 °C for 2 h. Then, the obtained extract was filtered and transferred into a 100 mL Teflon-lined stainless-steel autoclave to be heated at 180 °C for 4 h. Once the autoclave was cooled naturally at room temperature and the solution was centrifuged (12,000 rpm) for 15 min, the prepared brown solution was filtered through a fine-grained 0.45 μm membrane to remove larger particles. Finally, the solution was freeze-dried to attain the dark brown powder of CQDs.\\n', '10.1007/s00216-015-9138-8: One-pot green synthesis method was applied to prepare nitrogen-doped CNDs by hydrothermal treatment of PVP and glycine as shown in Fig. 1. First, 1 g of PVP and glycine (0, 0.0563, 0.1126, 0.2252, and 0.5630 g) were respectively added to 15 mL deionized water in the Teflon-lined stainless steel autoclaves, and then, the autoclaves with the mixtures were heated at 300 °C for 2 h. After the reaction completed, the autoclaves were naturally cooled down to room temperature. Second, the large nitrogen-doped CNDs were removed by centrifugation at 12,000 rpm for 10 min. After centrifugation, the supernatant solution was filtrated with a 0.45-μm filter membrane. Finally, the nitrogen-doped CNDs were further purified by dialysis (molecular weight cutoff, 3500) against deionized water for 24 h. The purified nitrogen-doped CNDs were stored in phosphate-buffered saline solution.\\n', '10.1007/s10895-020-02645-5: In order to begin the process, the E.A had to be initially dried in air while being shaded. The typical, uncomplicated, and one-pot hydrothermal procedure that had been introduced for the synthesis of CDs has been designed as the following: First, we have peeled the E.A., and had thoroughly pulverized the separated pulp until obtaining a soft and uniformed powder. Then, 2.0 g of the powder has been appended to 30 mL of ultrapure water, which had been then stirred for 1 h to achieve a homogenous dispersion. Once the obtained mixture had been conveyed into a 50 mL Teflon-lined autoclave, it has been tightly sealed and heated at the temperature of 180 °C for the period of 12 h. As the next step, the autoclave has been put aside to be cooled off to room temperature and afterwards, recovered a brown crude solution that had to be sonicated for 20 min to achieve a homogenous dispersion. In order to dispatch the larger bulk particles and gather a clear yellow mixture, we had to centrifuge the dispersed solution at 10,000 rpm for 30 min; the yellow resultant has been filtered by the usage of a 0.22 μm MCE filter membrane. Lastly, the acquired two dispersions have been decided to be freeze-dried, which had resulted in the creation of light-brown residues that has been stored in dark at 4 °C for future application.\\n', '10.1016/j.saa.2020.118580: The N-CQDs were prepared through a hydrothermal method [16]. In the present work, 5 mmol of CA was dissolved in 50 mL of distilled H2O, and then 10 mmol of diethylenetriamine was dropped into the above solution under magnetic stirring. The mixture was transferred into Teflon-lined autoclave, which was put into an oven with 180 °C for 10 h. Subsequently, the autoclave was taken out for cooling to room temperature. The obtained N-CQDs solution was further purified via a dialysis tube (500 Da) and preserved at 4 °C in refrigerator before used in further experiments. And the concentration of the purified N-CQDs solution was calculated to be about 24.7 g/L by weighing the dried N-CQDs from 1 mL of N-CQDs solution.\\n', '10.1021/acs.jpcc.9b06672: The N-CQDs were synthesized by using a hydrothermal method employing CA as carbon source and EDA as nitrogen source. In brief, 2 g of CA and 1 mL of EDA were dissolved into 15 mL of DI water and stirred to form a clear solution. Then the solution was transferred into a 50 mL polytetrafluoroethylene (Teflon)-lined autoclave, and heated at 180 °C for 1, 3, 6, and 9 h, respectively, from which the samples were denoted as N-CQDs-1h, N-CQDs-3h, N-CQDs-6h, and N-CQDs-9h, respectively. After quickly cooling the (Teflon)-lined autoclave to room temperature naturally, the brown-black and well-dispersed N-CQDs aqueous solutions were obtained. The obtained crude product was filtered with 0.22 μm anopore inorganic filter membranes to remove large particles and then further purified through a dialysis membrane (500 Da, molecular weight cutoff). Pure product followed by being lyophilized and stored at room temperature for further use.\\n', '10.1016/j.optmat.2019.05.045: The typical procedure for solvothermal CDs was: dissolve 0.50 g m 4-aminophenol in 20 mL H2O, sonicate the solution for 20 min, then heat for 20 h at 200 °C in a Teflon-lined autoclave. The resulting solution was centrifuged for 20 min at 14,000 rpm, then the clear solution was mixed with the same volume of CHCl3 in a separation funnel. The organic layer was separated and dried very slowly over a hotplate. After adding 20 mL of water, the CD solution was dialyzed against deionized water for 24 h using a 1000 MWCO dialysis membrane. The clear solution was then heated for 1 min under microwave irradiation (750 W). The resulting solution again centrifuged and dialyzed same as before.\\n', '10.1080/00032719.2020.1759618_no_1: Next, the dried eggshell membrane (0.3 g) and 10 mL of ultrapure water were added into a centrifuge tube. The solution was treated with ultrasound for 20 minutes, transferred into a 50-mL Teflon-lined autoclave, and heated at 180 °C for 8 hours. After the autoclave cooled to room temperature, the obtained solution was passed through a 0.22-μm micro-pore film filter to remove the large particles.\\n', '10.1038/ncomms6357: In a typical procedure for synthesis of OH-GQDs, pyrene (2 g, TCI, purity >98%) was nitrated into trinitropyrene in hot HNO3 (160 ml) at 80 °C under refluxing and stirring for 12 h. After cooled to room temperature, the mixture was diluted with deionized (DI) water (1 l) and filtered through a 0.22 μm microporous membrane to remove the acid. The resultant yellow 1,3,6-trinitropyrene (3.0 g, yield of 90%) was dispersed in an NaOH solution of DI water (0.6 l, 0.2 M) by ultrasonication (500 W, 40 kHz) for 2 h. The suspension was transferred to a poly(tetrafluoroethylene) (Teflon)-lined autoclave (1 l) and heated at 200 °C for 10 h. After cooled to room temperature, the product containing water-soluble GQDs was filtered through a 0.22 μm microporous membrane to remove insoluble carbon product, and further dialysed in a dialysis bag (retained molecular weight: 3,500 Da) for 2 days to remove sodium salt and unfused small molecules. The purified black OH-GQDs were dried at 80 °C for structural characterization and property measurement. The synthetic procedure of amine-GQDs was similar to that of the OH-GQDs except for the addition of different alkaline species in the media: 1.2 M ammonia for y-GQDs, 0.4 M ammonia and 1.5 M hydrazine hydrate for c- and b-GQDs.\\n', '10.1007/s10570-017-1230-0: The preparation procedure of CNPs/cotton fibers is showed in Fig. 1. Firstly, 3 g of urea and 3 g of citric acid were dissolved in 30 ml deionized water, then 0.1 g hexadecyl trimethyl ammonium bromide and 40 μl tributyl phosphate were added as active agent to make the solution infiltrate into the cotton more easily. Secondly, 0.3 g of cotton fibers pretreated by sodium hydroxide solution were immersed in the above solution, subjected to ultrasonic treating for 30 min until the fibers were transparent  and well dispersed. The mixture was transferred into a 100 mL Teflon-lined stainless steel autoclave and the hydrothermal synthesis reaction  proceeded at 150 °C for 3 h. The obtained cotton fibers were washed by deionized water twice for 10 min each time in ultrasonic bath after the hydrothermal reaction, and were then rinsed with alcohol for three times. Finally, the fibers were dried in the air drying oven (Li et al. 2011b). The formation mechanism of carbon nanoparticles is shown in Fig. 2.\\n', '10.1021/acssuschemeng.9b00027_no_2: To carry out the scale-up synthesis of CQDs, 120 g of glucose was dissolved in 600 mL of deionized water and transferred to a 1 L stainless steel autoclave. The thermal reaction was carried out 3 times under the same reaction conditions mentioned earlier. The suspension was then filtrated and dialyzed to obtain traditional CQDs. The hydrochar was washed with deionized water 5 times and then dried at 80 °C for 48 h in an oven. After that, hydrochar was added into diluted 0.2 mol/L NaOH solution (the ratio of hydrochar to solution was 10:1, g/L), which was followed by adding 400 mL of H2O2 (30 wt %) to the mixture and stirring for 8 h at room temperature. After neutralization with HCl solution, this liquor was dialyzed to remove salts and harvest pure CQDs.\\n']\n"
     ]
    }
   ],
   "source": [
    "print(TP_10_sample)"
   ]
  },
  {
   "cell_type": "code",
   "execution_count": 60,
   "id": "ebf3d090",
   "metadata": {},
   "outputs": [],
   "source": [
    "with open(os.path.join(path, 'para_10_sample.txt'),'w', encoding='utf-8') as file:\n",
    "    file.write(''.join(line for line in TP_10_sample))"
   ]
  },
  {
   "cell_type": "markdown",
   "id": "15bd904d",
   "metadata": {},
   "source": [
    "# Analysis of performance during dataset generation"
   ]
  },
  {
   "cell_type": "code",
   "execution_count": 17,
   "id": "667cfa42",
   "metadata": {},
   "outputs": [],
   "source": [
    "# Taking all classification results and compiling into one file/list\n",
    "path = r'C:\\Users\\Piotr\\OneDrive - Imperial College London\\MRes_project_data\\paras_id'\n",
    "batch_numbers = list(range(1,29))\n",
    "all_para_classifcation_results = []\n",
    "for batch in batch_numbers:\n",
    "    filename = f'batch_{batch}_classification_results.txt'\n",
    "    with open(os.path.join(path, filename), 'r', encoding='utf-8') as file:\n",
    "        data = file.read().splitlines()\n",
    "        all_para_classifcation_results.extend(data)"
   ]
  },
  {
   "cell_type": "code",
   "execution_count": 19,
   "id": "7c4355d2",
   "metadata": {},
   "outputs": [],
   "source": [
    "all_para_classifcation_results = list(map(ast.literal_eval, all_para_classifcation_results))"
   ]
  },
  {
   "cell_type": "code",
   "execution_count": 10,
   "id": "a94499dc",
   "metadata": {},
   "outputs": [
    {
     "name": "stdout",
     "output_type": "stream",
     "text": [
      "The number of paragraphs that were classified is:  9303\n"
     ]
    }
   ],
   "source": [
    "print('The number of paragraphs that were classified is: ',len(all_para_classifcation_results))"
   ]
  },
  {
   "cell_type": "code",
   "execution_count": 11,
   "id": "362e21f0",
   "metadata": {},
   "outputs": [],
   "source": [
    "# # writing all_para_classification_results to file\n",
    "# with open(os.path.join(path, 'all_classification_results.txt'), 'w', encoding = 'utf-8') as file:\n",
    "#     for element in all_para_classifcation_results:\n",
    "#         file.write(element+'\\n')"
   ]
  },
  {
   "cell_type": "code",
   "execution_count": 13,
   "id": "b1b6f49a",
   "metadata": {},
   "outputs": [],
   "source": [
    "# Getting all paragraphs that were classified and compiling into one file/list\n",
    "all_paras_text = []\n",
    "for batch in batch_numbers:\n",
    "    filename = f'batch_{batch}_paras.txt'\n",
    "    with open(os.path.join(path, filename), 'r', encoding = 'utf-8') as file:\n",
    "        data = file.read().splitlines()\n",
    "        all_paras_text.extend(data)"
   ]
  },
  {
   "cell_type": "code",
   "execution_count": 14,
   "id": "19642747",
   "metadata": {},
   "outputs": [
    {
     "name": "stdout",
     "output_type": "stream",
     "text": [
      "9303\n"
     ]
    }
   ],
   "source": [
    "print(len(all_paras_text))"
   ]
  },
  {
   "cell_type": "code",
   "execution_count": 21,
   "id": "a9ae415d",
   "metadata": {},
   "outputs": [],
   "source": [
    "# Collecting all non-hydrothermal classifications and hydrothermal classifications into separate lists\n",
    "hydrothermal = []\n",
    "non_hydrothermal = []\n",
    "for element in all_para_classifcation_results:\n",
    "    if element['result'][0] == 'hydrothermal_ceramic_synthesis':\n",
    "        hydrothermal.append(element['DOI'])\n",
    "    else:\n",
    "        non_hydrothermal.append(element['DOI'])"
   ]
  },
  {
   "cell_type": "code",
   "execution_count": 22,
   "id": "4ad7cb9b",
   "metadata": {},
   "outputs": [
    {
     "name": "stdout",
     "output_type": "stream",
     "text": [
      "The number of  hydrothermal related paragraphs is:  3768\n",
      "The number of non-hydrothermal related paragraphs is:  5535\n"
     ]
    }
   ],
   "source": [
    "print('The number of  hydrothermal related paragraphs is: ', len(hydrothermal))\n",
    "print('The number of non-hydrothermal related paragraphs is: ', len(non_hydrothermal))"
   ]
  },
  {
   "cell_type": "code",
   "execution_count": 23,
   "id": "2f9ffce3",
   "metadata": {},
   "outputs": [],
   "source": [
    "# Sampling 30 random DOIs from the hydrothermal and non-hydrothermal sets\n",
    "# hydrothermal_sample = random.choices(hydrothermal, k=30)\n",
    "# non_hydrothermal_sample = random.choices(non_hydrothermal, k=30)"
   ]
  },
  {
   "cell_type": "code",
   "execution_count": 25,
   "id": "17310319",
   "metadata": {},
   "outputs": [
    {
     "name": "stdout",
     "output_type": "stream",
     "text": [
      "30\n",
      "30\n"
     ]
    }
   ],
   "source": [
    "print(len(hydrothermal_sample))\n",
    "print(len(non_hydrothermal_sample))"
   ]
  },
  {
   "cell_type": "code",
   "execution_count": 27,
   "id": "87cf386f",
   "metadata": {},
   "outputs": [],
   "source": [
    "# Making dataframe of hydrothermal results\n",
    "hydro_df = pd.DataFrame(columns = ['DOI', 'text'])\n",
    "hydro_df['DOI'] = hydrothermal_sample\n",
    "non_hydro_df = pd.DataFrame(columns = ['DOI', 'text'])\n",
    "non_hydro_df['DOI'] = non_hydrothermal_sample"
   ]
  },
  {
   "cell_type": "code",
   "execution_count": 28,
   "id": "fd8fbe41",
   "metadata": {},
   "outputs": [],
   "source": [
    "# Adding text to dataframes\n",
    "for doi in hydrothermal_sample:\n",
    "    for para in all_paras_text:\n",
    "        if para.startswith(doi):\n",
    "            hydro_df.loc[hydro_df['DOI'] == doi, 'text'] = para.split(':',1)[1]"
   ]
  },
  {
   "cell_type": "code",
   "execution_count": 30,
   "id": "3ec1d0d8",
   "metadata": {},
   "outputs": [],
   "source": [
    "for doi in non_hydrothermal_sample:\n",
    "    for para in all_paras_text:\n",
    "        if para.startswith(doi):\n",
    "            non_hydro_df.loc[non_hydro_df['DOI'] == doi, 'text'] = para.split(':',1)[1]"
   ]
  },
  {
   "cell_type": "code",
   "execution_count": 32,
   "id": "487949bd",
   "metadata": {},
   "outputs": [],
   "source": [
    "hydro_df.to_csv(os.path.join(path, 'hydro_30_sample.csv'), index = False)\n",
    "non_hydro_df.to_csv(os.path.join(path, 'non_hydro_30_sample.csv'), index = False)"
   ]
  },
  {
   "cell_type": "markdown",
   "id": "ace78272",
   "metadata": {},
   "source": [
    "The random sample of 30 relevant paragraphs will be used as the hydrothermal sample instead as it has more FP"
   ]
  },
  {
   "cell_type": "code",
   "execution_count": 2,
   "id": "1e2c8976",
   "metadata": {},
   "outputs": [],
   "source": [
    "# Converting rel_30_sample to csv\n",
    "path = '/Users/pnt17/Library/CloudStorage/OneDrive-ImperialCollegeLondon/MRes_project_data/ceder_extract_data'\n",
    "filename = 'rel_30_sample.txt'\n",
    "rel_dois =[]\n",
    "rel_text = []\n",
    "with open(os.path.join(path, filename),'r', encoding='utf-8') as file:\n",
    "    data = file.read().splitlines()\n",
    "    \n",
    "for entry in data:\n",
    "    rel_dois.append(entry.split(':',1)[0])\n",
    "    rel_text.append(entry.split(':',1)[1])\n",
    "\n",
    "rel_hydro_df = pd.DataFrame(columns = ['DOI', 'text'])\n",
    "rel_hydro_df['DOI'] = rel_dois\n",
    "rel_hydro_df['text'] = rel_text"
   ]
  },
  {
   "cell_type": "code",
   "execution_count": 8,
   "id": "c6030d71",
   "metadata": {},
   "outputs": [],
   "source": [
    "path = '/Users/pnt17/Library/CloudStorage/OneDrive-ImperialCollegeLondon/MRes_project_data/paras_id'\n",
    "# rel_hydro_df.to_csv(os.path.join(path, 'rel_hydro_30_sample.csv'), index = False)"
   ]
  },
  {
   "cell_type": "code",
   "execution_count": 9,
   "id": "828ee486",
   "metadata": {},
   "outputs": [
    {
     "name": "stdout",
     "output_type": "stream",
     "text": [
      "(60, 3)\n"
     ]
    },
    {
     "data": {
      "text/html": [
       "<div>\n",
       "<style scoped>\n",
       "    .dataframe tbody tr th:only-of-type {\n",
       "        vertical-align: middle;\n",
       "    }\n",
       "\n",
       "    .dataframe tbody tr th {\n",
       "        vertical-align: top;\n",
       "    }\n",
       "\n",
       "    .dataframe thead th {\n",
       "        text-align: right;\n",
       "    }\n",
       "</style>\n",
       "<table border=\"1\" class=\"dataframe\">\n",
       "  <thead>\n",
       "    <tr style=\"text-align: right;\">\n",
       "      <th></th>\n",
       "      <th>DOI</th>\n",
       "      <th>text</th>\n",
       "      <th>tag</th>\n",
       "    </tr>\n",
       "  </thead>\n",
       "  <tbody>\n",
       "    <tr>\n",
       "      <th>0</th>\n",
       "      <td>10.1080/00387010.2020.1764589</td>\n",
       "      <td>CDs were prepared from neera via hydrothermal...</td>\n",
       "      <td>TP</td>\n",
       "    </tr>\n",
       "    <tr>\n",
       "      <th>1</th>\n",
       "      <td>10.1007/s10904-019-01232-x_no_1</td>\n",
       "      <td>Pure CuO was prepared via a similar approach....</td>\n",
       "      <td>TP</td>\n",
       "    </tr>\n",
       "    <tr>\n",
       "      <th>2</th>\n",
       "      <td>10.1039/C8RA09868A</td>\n",
       "      <td>The color-tunable Zn-doped CDs were synthesiz...</td>\n",
       "      <td>TP</td>\n",
       "    </tr>\n",
       "    <tr>\n",
       "      <th>3</th>\n",
       "      <td>10.1039/C6NJ01753C</td>\n",
       "      <td>NS-CDs were synthesized by the hydrothermal c...</td>\n",
       "      <td>TP</td>\n",
       "    </tr>\n",
       "    <tr>\n",
       "      <th>4</th>\n",
       "      <td>10.1007/s10895-021-02804-2</td>\n",
       "      <td>There are many procedures for synthesis of th...</td>\n",
       "      <td>TP</td>\n",
       "    </tr>\n",
       "    <tr>\n",
       "      <th>5</th>\n",
       "      <td>10.1002/MAME.202100339</td>\n",
       "      <td>For the synthesis of the N‐CDs, the temperatu...</td>\n",
       "      <td>TP</td>\n",
       "    </tr>\n",
       "    <tr>\n",
       "      <th>6</th>\n",
       "      <td>10.3390/ma13184146</td>\n",
       "      <td>Nitrogen-doped carbon dots from lutein were s...</td>\n",
       "      <td>TP</td>\n",
       "    </tr>\n",
       "    <tr>\n",
       "      <th>7</th>\n",
       "      <td>10.1021/ac3007939</td>\n",
       "      <td>CPs were prepared by hydrothermal treatment o...</td>\n",
       "      <td>TP</td>\n",
       "    </tr>\n",
       "    <tr>\n",
       "      <th>8</th>\n",
       "      <td>10.1039/C5AY01715G</td>\n",
       "      <td>Typically, 0.5 g of urea and 0.16 g of citric...</td>\n",
       "      <td>TP</td>\n",
       "    </tr>\n",
       "    <tr>\n",
       "      <th>9</th>\n",
       "      <td>10.1039/D1RA01478A</td>\n",
       "      <td>The CDs were prepared by a modified hydrother...</td>\n",
       "      <td>TP</td>\n",
       "    </tr>\n",
       "  </tbody>\n",
       "</table>\n",
       "</div>"
      ],
      "text/plain": [
       "                               DOI  \\\n",
       "0    10.1080/00387010.2020.1764589   \n",
       "1  10.1007/s10904-019-01232-x_no_1   \n",
       "2               10.1039/C8RA09868A   \n",
       "3               10.1039/C6NJ01753C   \n",
       "4       10.1007/s10895-021-02804-2   \n",
       "5           10.1002/MAME.202100339   \n",
       "6               10.3390/ma13184146   \n",
       "7                10.1021/ac3007939   \n",
       "8               10.1039/C5AY01715G   \n",
       "9               10.1039/D1RA01478A   \n",
       "\n",
       "                                                text tag  \n",
       "0   CDs were prepared from neera via hydrothermal...  TP  \n",
       "1   Pure CuO was prepared via a similar approach....  TP  \n",
       "2   The color-tunable Zn-doped CDs were synthesiz...  TP  \n",
       "3   NS-CDs were synthesized by the hydrothermal c...  TP  \n",
       "4   There are many procedures for synthesis of th...  TP  \n",
       "5   For the synthesis of the N‐CDs, the temperatu...  TP  \n",
       "6   Nitrogen-doped carbon dots from lutein were s...  TP  \n",
       "7   CPs were prepared by hydrothermal treatment o...  TP  \n",
       "8   Typically, 0.5 g of urea and 0.16 g of citric...  TP  \n",
       "9   The CDs were prepared by a modified hydrother...  TP  "
      ]
     },
     "execution_count": 9,
     "metadata": {},
     "output_type": "execute_result"
    }
   ],
   "source": [
    "# Importing csv to dataframes\n",
    "hydro_tagged = pd.read_csv(os.path.join(path, 'rel_hydro_30_sample.csv'))\n",
    "non_hydro_tagged = pd.read_csv(os.path.join(path,'non_hydro_30_sample.csv'))\n",
    "frames = [hydro_tagged,non_hydro_tagged]\n",
    "all_df = pd.concat(frames)\n",
    "print(all_df.shape)\n",
    "all_df.head(10)"
   ]
  },
  {
   "cell_type": "code",
   "execution_count": 10,
   "id": "9fa2440c",
   "metadata": {},
   "outputs": [
    {
     "name": "stdout",
     "output_type": "stream",
     "text": [
      "The accuracy is 0.93\n",
      "The precision is 0.90\n",
      "The recall is 0.96\n",
      "The F1 score is 0.93\n"
     ]
    }
   ],
   "source": [
    "# Calculating accuracy, precision, recall, F1\n",
    "TP = all_df['tag'].value_counts()['TP']\n",
    "TN = all_df['tag'].value_counts()['TN']\n",
    "FN = all_df['tag'].value_counts()['FN']\n",
    "FP = all_df['tag'].value_counts()['FP']\n",
    "\n",
    "accuracy = (TP + TN) / (TP + FP + TN  + FN)\n",
    "print(f'The accuracy is {accuracy:.2f}')\n",
    "\n",
    "precision = TP / (TP + FP)\n",
    "print(f'The precision is {precision:.2f}')\n",
    "\n",
    "recall = TP / (TP + FN)\n",
    "print(f'The recall is {recall:.2f}')\n",
    "\n",
    "f1_score = 2*precision*recall / (precision+recall)\n",
    "print(f'The F1 score is {f1_score:.2f}')"
   ]
  },
  {
   "cell_type": "code",
   "execution_count": null,
   "id": "df4d66f8",
   "metadata": {},
   "outputs": [],
   "source": []
  },
  {
   "cell_type": "code",
   "execution_count": null,
   "id": "bbd7ea0a",
   "metadata": {},
   "outputs": [],
   "source": []
  },
  {
   "cell_type": "code",
   "execution_count": null,
   "id": "fddb9518",
   "metadata": {},
   "outputs": [],
   "source": []
  },
  {
   "cell_type": "code",
   "execution_count": null,
   "id": "18c8ece6",
   "metadata": {},
   "outputs": [],
   "source": []
  },
  {
   "cell_type": "code",
   "execution_count": null,
   "id": "a997588a",
   "metadata": {},
   "outputs": [],
   "source": []
  },
  {
   "cell_type": "code",
   "execution_count": null,
   "id": "cfa9e97b",
   "metadata": {},
   "outputs": [],
   "source": []
  },
  {
   "cell_type": "code",
   "execution_count": null,
   "id": "74392077",
   "metadata": {},
   "outputs": [],
   "source": []
  },
  {
   "cell_type": "code",
   "execution_count": null,
   "id": "89739630",
   "metadata": {},
   "outputs": [],
   "source": []
  }
 ],
 "metadata": {
  "kernelspec": {
   "display_name": "Python 3 (ipykernel)",
   "language": "python",
   "name": "python3"
  },
  "language_info": {
   "codemirror_mode": {
    "name": "ipython",
    "version": 3
   },
   "file_extension": ".py",
   "mimetype": "text/x-python",
   "name": "python",
   "nbconvert_exporter": "python",
   "pygments_lexer": "ipython3",
   "version": "3.9.13"
  }
 },
 "nbformat": 4,
 "nbformat_minor": 5
}
