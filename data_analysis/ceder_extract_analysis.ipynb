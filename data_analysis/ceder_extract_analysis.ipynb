{
 "cells": [
  {
   "cell_type": "markdown",
   "metadata": {},
   "source": [
    "# Notebook to analyse data extraction with ceder extract"
   ]
  },
  {
   "cell_type": "code",
   "execution_count": 70,
   "metadata": {},
   "outputs": [],
   "source": [
    "import os\n",
    "import json\n",
    "import pandas\n",
    "import numpy\n",
    "import ast\n",
    "import random"
   ]
  },
  {
   "cell_type": "code",
   "execution_count": 71,
   "metadata": {},
   "outputs": [],
   "source": [
    "#file import\n",
    "# path = r'C:\\Users\\Piotr\\OneDrive - Imperial College London\\MRes_project_data\\para_dataset'\n",
    "path = '/Users/pnt17/Library/CloudStorage/OneDrive-ImperialCollegeLondon/MRes_project_data/para_dataset'\n",
    "file_pred = 'data_30_sample.json'\n",
    "# path_2 = r'C:\\Users\\Piotr\\OneDrive - Imperial College London\\MRes_project_data\\annotations'\n",
    "path_2 = '/Users/pnt17/Library/CloudStorage/OneDrive-ImperialCollegeLondon/MRes_project_data/annotations'\n",
    "file_ann = 'ceder_30_sample.json'\n",
    "\n",
    "with open(os.path.join(path, file_pred),'r', encoding = 'utf-8') as file:\n",
    "    extractions = json.load(file)\n",
    "    \n",
    "with open(os.path.join(path_2, file_ann), 'r', encoding = 'utf-8') as file:\n",
    "    annotation = json.load(file)"
   ]
  },
  {
   "cell_type": "markdown",
   "metadata": {},
   "source": [
    "## Analysis of all materials extraction"
   ]
  },
  {
   "cell_type": "code",
   "execution_count": 3,
   "metadata": {},
   "outputs": [
    {
     "name": "stdout",
     "output_type": "stream",
     "text": [
      "30\n",
      "{'10.1007/s10876-022-02339-x': ['CQDs', 'O. basilicum L.', 'Teflon', 'steel', 'water'], '10.1007/s00216-015-9138-8': ['CNDs', 'PVP', 'Teflon', 'glycine', 'steel', 'water'], '10.1007/s10895-020-02645-5': ['E.A', 'E.A.', 'Teflon', 'air', 'water'], '10.1016/j.saa.2020.118580': ['CA', 'H2O', 'N-CQDs', 'diethylenetriamine'], '10.1021/acs.jpcc.9b06672': ['CA', 'EDA', 'N-CQDs', 'N-CQDs-1h', 'N-CQDs-3h', 'N-CQDs-6h', 'N-CQDs-9h', 'polytetrafluoroethylene', 'water'], '10.1016/j.optmat.2019.05.045': ['CD', 'CHCl3', 'H2O', 'water'], '10.1080/00032719.2020.1759618_no_1': ['Teflon', 'water'], '10.1038/ncomms6357': ['1,3,6-trinitropyrene', 'GQDs', 'HNO3', 'NaOH', 'OH-GQDs', 'TCI', 'amine-GQDs', 'ammonia', 'b-GQDs', 'c-', 'carbon', 'hydrazine hydrate', 'poly(tetrafluoroethylene)', 'pyrene', 'sodium', 'trinitropyrene', 'water', 'y-GQDs'], '10.1007/s10570-017-1230-0': ['CNPs/cotton', 'Teflon', 'air', 'alcohol', 'carbon', 'citric acid', 'hexadecyl trimethyl ammonium bromide', 'sodium hydroxide', 'steel', 'tributyl phosphate', 'urea', 'water'], '10.1021/acssuschemeng.9b00027_no_2': ['CQDs', 'H2O2', 'HCl', 'NaOH', 'glucose', 'hydrochar', 'steel', 'water'], '10.1021/acsabm.9b00101': ['N—C', 'Teflon', 'ammonia', 'carbon', 'steel', 'sucrose', 'water'], '10.3390/chemosensors10060219': ['Ce(Ac)3', 'Ce-CDs', 'Ce-CDs-FA', 'FA', 'PVP-K30', 'Teflon', 'carbon-dots', 'steel', 'water'], '10.3390/nano12234166': ['B-CD', 'Glucose', 'ethanol', 'polytetrafluoroethylene-lined', 'steel', 'water'], '10.1002/bio.3407': ['N-CDs', 'O-phenylenediamine', 'Teflon', 'dicyandiamide', 'ethanol', 'ethyl acetate', 'silica', 'water'], '10.1002/bio.3803': ['C‐dots', 'citric acid', 'l‐histidine', 'water'], '10.3390/molecules27165254': ['PEI', 'PEI-CDs', 'PEI-CQDs', 'carbon', 'glycol', 'phosphoric acid', 'ultra-pure water'], '10.1039/C8NJ02086H': ['C-dots', 'EDA', 'air', 'ethylenediamine', 'methionine', 'water'], '10.1039/C4TA05483K': ['C-dots', 'Teflon', 'sodium citrate', 'sodium thiosulfate', 'steel'], '10.1039/C6TB00519E': ['BSA', 'N@C-dots', 'air', 'carbide', 'water'], '10.1080/1536383X.2022.2030315': ['glucose', 'graphene', 'water'], '10.3390/ma15249057': ['DMF', 'L-tartaric acid', 'Y-CDs', 'alcohol', 'polytetrafluoroethylene', 'steel', 'urea'], '10.1021/acsabm.1c00371': ['-aspartic acid', '3,6-diaminoacridine', 'NCD', 'PTFE', 'Teflon', 'ethanol', 'poly(tetrafluoroethylene)'], '10.1021/acsami.8b16710': ['GABA', 'Y-CDs', 'o-PD', 'water'], '10.3390/coatings12091311': ['CQD', 'CQDs', 'Teflon', 'lactic acid', 'steel', 'urea', 'water'], '10.1016/j.saa.2022.121139': ['3-aminopropyltrimethoxysilane', 'Si-CQDs', 'Teflon', 'steel', 'sulfuric acid', 'water'], '10.1002/pssb.201700222': ['C6H12O6', 'C6H8O7', 'Teflon', 'ammonia', 'ca-', 'carbon', 'citric acid', 'g-CDs', 'glucose', 'water'], '10.1021/acsomega.2c06047': ['G-25', 'Teflon', 'sodium hydroxide', 'water'], '10.1002/adom.201701150_no_2': ['Teflon', 'steel', 'water', 'y-CDs', 'yeast'], '10.3390/chemosensors10100383': ['3-hydroxyphenylboric acid', 'NaOH', 'nitrogen', 'oxygen', 'water'], '10.1016/j.snb.2018.10.075': ['CA', 'CQDs', 'NB-CQDs', 'O-CQDs', 'PB-CQDs', 'air', 'borax', 'p-phenylenediamine', 'poly(p-phenylene)', 'water']}\n"
     ]
    }
   ],
   "source": [
    "#collecting all materials without amount from extraction\n",
    "all_materials_ext = {}\n",
    "for para in extractions:\n",
    "    all_materials_ext[para['doi']] = list(para['all_materials'])\n",
    "print(len(all_materials_ext))\n",
    "print(all_materials_ext)"
   ]
  },
  {
   "cell_type": "code",
   "execution_count": 4,
   "metadata": {},
   "outputs": [
    {
     "name": "stdout",
     "output_type": "stream",
     "text": [
      "30\n",
      "{'10.1007/s10876-022-02339-x': ['CQDs', 'O. basilicum L.', 'water'], '10.1007/s00216-015-9138-8': ['CNDs', 'water', 'glycine', 'CNDs ', 'PVP', 'phosphate-buffered saline'], '10.1007/s10895-020-02645-5': ['E.A', 'water', 'E.A.'], '10.1016/j.saa.2020.118580': ['N-CQDs', 'H2O', 'diethylenetriamine', 'CA'], '10.1021/acs.jpcc.9b06672': ['N-CQDs-9h', 'N-CQDs-1h', 'water', 'CA', 'N-CQDs-3h', 'N-CQDs', 'EDA', 'N-CQDs-6h'], '10.1016/j.optmat.2019.05.045': ['CDs', 'water', 'H2O', 'CHCl3', '4-aminophenol'], '10.1080/00032719.2020.1759618_no_1': ['eggshell membrane', 'water', 'eggshell membrane '], '10.1038/ncomms6357': ['trinitropyrene', 'water', 'HNO3', '1,3,6-trinitropyrene', 'pyrene', 'y-GQDs', 'NaOH', 'amine-GQDs', 'sodium', 'OH-GQDs', 'b-GQDs', 'hydrazine hydrate', 'ammonia', 'GQDs'], '10.1007/s10570-017-1230-0': ['water', 'CNPs', 'sodium hydroxide', 'cotton fibers', 'urea', 'citric acid', 'hexadecyl trimethyl ammonium bromide', 'tributyl phosphate'], '10.1021/acssuschemeng.9b00027_no_2': ['CQDs', 'water', 'H2O2', 'NaOH', 'HCl', 'glucose'], '10.1021/acsabm.9b00101': ['N—C dots', 'water', 'carbon powder', 'sucrose', 'ammonia'], '10.3390/chemosensors10060219': ['Ce-CDs', 'water', 'cerium-doped carbon-dots', 'FA', 'PVP-K30', 'Ce(Ac)3', 'Ce-CDs-FA'], '10.3390/nano12234166': ['B-CD', 'ethanol', 'Glucose', 'water'], '10.1002/bio.3407': ['dicyandiamide', 'ethanol', 'O-phenylenediamine', 'water', 'ethyl acetate', 'N-CDs'], '10.1002/bio.3803': ['citric acid', 'C‐dots', 'water', 'l‐histidine'], '10.3390/molecules27165254': ['phosphoric acid', 'water', 'glycol', 'PEI-CDs', 'PEI-CQDs', 'PEI'], '10.1039/C8NJ02086H': ['ethylenediamine', 'C-dots', 'methionine', 'water'], '10.1039/C4TA05483K': ['sodium thiosulfate', 'S-doped C-dots', 'sodium citrate'], '10.1039/C6TB00519E': ['N@C-dots', 'BSA', 'water', 'carbide slag'], '10.1080/1536383X.2022.2030315': ['graphene quantum dots', 'glucose', 'water'], '10.3390/ma15249057': ['Y-CDs', 'L-tartaric acid', 'alcohol', 'urea', 'DMF', 'N-doped Y-CDs'], '10.1021/acsabm.1c00371': ['ethanol', 'NCDs', '3,6-diaminoacridine', '-aspartic acid', 'NCD'], '10.1021/acsami.8b16710': ['Y-CDs', 'water', 'o-PD', 'GABA'], '10.3390/coatings12091311': ['CQDs', 'urea', 'water', 'lactic acid'], '10.1016/j.saa.2022.121139': ['Si-CQDs', '3-aminopropyltrimethoxysilane', 'water', 'sulfuric acid'], '10.1002/pssb.201700222': ['g-CDs', 'water', 'carbon dots', 'glucose', 'ca-CDs', 'citric acid', 'ammonia'], '10.1021/acsomega.2c06047': ['amido black 10b', 'sodium hydroxide'], '10.1002/adom.201701150_no_2': ['y-CDs', 'water', 'yeast'], '10.3390/chemosensors10100383': ['3-hydroxyphenylboric acid', 'NaOH', 'water'], '10.1016/j.snb.2018.10.075': ['CQDs', 'water', 'CA', 'NB-CQDs', 'O-CQDs', 'borax', 'PB-CQDs', 'p-phenylenediamine']}\n"
     ]
    }
   ],
   "source": [
    "#collecting all materials without amount from annotations\n",
    "all_materials_ann = {}\n",
    "for para in annotation:\n",
    "    materials = []\n",
    "    for material in para['all_materials']:\n",
    "        materials.extend(list(material))\n",
    "    all_materials_ann[para['doi']] = list(set(materials))\n",
    "print(len(all_materials_ann))\n",
    "print(all_materials_ann)"
   ]
  },
  {
   "cell_type": "markdown",
   "metadata": {},
   "source": [
    "Legend for assigned values:\n",
    "\n",
    "TP - if material in extraction AND annotation (1,1)\n",
    "\n",
    "FP - if material in extraction but NOT in annotation  (1,0)\n",
    "\n",
    "FN - if material NOT in extraction but in annotation (0,1)\n",
    "\n",
    "Precision = TP / TP + FP \n",
    "\n",
    "Recall = TP / TP + FN \n",
    "\n",
    "F1 = 2xPrecisionxRecall / Precision + Recall "
   ]
  },
  {
   "cell_type": "code",
   "execution_count": 5,
   "metadata": {},
   "outputs": [],
   "source": [
    "#Assigning values\n",
    "all_materials = {}\n",
    "for doi in list(all_materials_ann.keys()):\n",
    "    pair_list = []\n",
    "    for material in all_materials_ext[doi]:\n",
    "        if material in all_materials_ann[doi]:\n",
    "            pair = (material, material)\n",
    "            pair_list.append(pair)\n",
    "        elif material not in all_materials_ann[doi]:\n",
    "            pair = (material,'')\n",
    "            pair_list.append(pair)\n",
    "    for material in all_materials_ann[doi]:\n",
    "        if material not in all_materials_ext[doi]:\n",
    "            pair = ('', material)\n",
    "            pair_list.append(pair)\n",
    "    all_materials[doi] = pair_list\n"
   ]
  },
  {
   "cell_type": "code",
   "execution_count": 6,
   "metadata": {},
   "outputs": [
    {
     "name": "stdout",
     "output_type": "stream",
     "text": [
      "{'10.1007/s10876-022-02339-x': [('CQDs', 'CQDs'), ('O. basilicum L.', 'O. basilicum L.'), ('Teflon', ''), ('steel', ''), ('water', 'water')], '10.1007/s00216-015-9138-8': [('CNDs', 'CNDs'), ('PVP', 'PVP'), ('Teflon', ''), ('glycine', 'glycine'), ('steel', ''), ('water', 'water'), ('', 'CNDs '), ('', 'phosphate-buffered saline')], '10.1007/s10895-020-02645-5': [('E.A', 'E.A'), ('E.A.', 'E.A.'), ('Teflon', ''), ('air', ''), ('water', 'water')], '10.1016/j.saa.2020.118580': [('CA', 'CA'), ('H2O', 'H2O'), ('N-CQDs', 'N-CQDs'), ('diethylenetriamine', 'diethylenetriamine')], '10.1021/acs.jpcc.9b06672': [('CA', 'CA'), ('EDA', 'EDA'), ('N-CQDs', 'N-CQDs'), ('N-CQDs-1h', 'N-CQDs-1h'), ('N-CQDs-3h', 'N-CQDs-3h'), ('N-CQDs-6h', 'N-CQDs-6h'), ('N-CQDs-9h', 'N-CQDs-9h'), ('polytetrafluoroethylene', ''), ('water', 'water')], '10.1016/j.optmat.2019.05.045': [('CD', ''), ('CHCl3', 'CHCl3'), ('H2O', 'H2O'), ('water', 'water'), ('', 'CDs'), ('', '4-aminophenol')], '10.1080/00032719.2020.1759618_no_1': [('Teflon', ''), ('water', 'water'), ('', 'eggshell membrane'), ('', 'eggshell membrane ')], '10.1038/ncomms6357': [('1,3,6-trinitropyrene', '1,3,6-trinitropyrene'), ('GQDs', 'GQDs'), ('HNO3', 'HNO3'), ('NaOH', 'NaOH'), ('OH-GQDs', 'OH-GQDs'), ('TCI', ''), ('amine-GQDs', 'amine-GQDs'), ('ammonia', 'ammonia'), ('b-GQDs', 'b-GQDs'), ('c-', ''), ('carbon', ''), ('hydrazine hydrate', 'hydrazine hydrate'), ('poly(tetrafluoroethylene)', ''), ('pyrene', 'pyrene'), ('sodium', 'sodium'), ('trinitropyrene', 'trinitropyrene'), ('water', 'water'), ('y-GQDs', 'y-GQDs')], '10.1007/s10570-017-1230-0': [('CNPs/cotton', ''), ('Teflon', ''), ('air', ''), ('alcohol', ''), ('carbon', ''), ('citric acid', 'citric acid'), ('hexadecyl trimethyl ammonium bromide', 'hexadecyl trimethyl ammonium bromide'), ('sodium hydroxide', 'sodium hydroxide'), ('steel', ''), ('tributyl phosphate', 'tributyl phosphate'), ('urea', 'urea'), ('water', 'water'), ('', 'CNPs'), ('', 'cotton fibers')], '10.1021/acssuschemeng.9b00027_no_2': [('CQDs', 'CQDs'), ('H2O2', 'H2O2'), ('HCl', 'HCl'), ('NaOH', 'NaOH'), ('glucose', 'glucose'), ('hydrochar', ''), ('steel', ''), ('water', 'water')], '10.1021/acsabm.9b00101': [('N—C', ''), ('Teflon', ''), ('ammonia', 'ammonia'), ('carbon', ''), ('steel', ''), ('sucrose', 'sucrose'), ('water', 'water'), ('', 'N—C dots'), ('', 'carbon powder')], '10.3390/chemosensors10060219': [('Ce(Ac)3', 'Ce(Ac)3'), ('Ce-CDs', 'Ce-CDs'), ('Ce-CDs-FA', 'Ce-CDs-FA'), ('FA', 'FA'), ('PVP-K30', 'PVP-K30'), ('Teflon', ''), ('carbon-dots', ''), ('steel', ''), ('water', 'water'), ('', 'cerium-doped carbon-dots')], '10.3390/nano12234166': [('B-CD', 'B-CD'), ('Glucose', 'Glucose'), ('ethanol', 'ethanol'), ('polytetrafluoroethylene-lined', ''), ('steel', ''), ('water', 'water')], '10.1002/bio.3407': [('N-CDs', 'N-CDs'), ('O-phenylenediamine', 'O-phenylenediamine'), ('Teflon', ''), ('dicyandiamide', 'dicyandiamide'), ('ethanol', 'ethanol'), ('ethyl acetate', 'ethyl acetate'), ('silica', ''), ('water', 'water')], '10.1002/bio.3803': [('C‐dots', 'C‐dots'), ('citric acid', 'citric acid'), ('l‐histidine', 'l‐histidine'), ('water', 'water')], '10.3390/molecules27165254': [('PEI', 'PEI'), ('PEI-CDs', 'PEI-CDs'), ('PEI-CQDs', 'PEI-CQDs'), ('carbon', ''), ('glycol', 'glycol'), ('phosphoric acid', 'phosphoric acid'), ('ultra-pure water', ''), ('', 'water')], '10.1039/C8NJ02086H': [('C-dots', 'C-dots'), ('EDA', ''), ('air', ''), ('ethylenediamine', 'ethylenediamine'), ('methionine', 'methionine'), ('water', 'water')], '10.1039/C4TA05483K': [('C-dots', ''), ('Teflon', ''), ('sodium citrate', 'sodium citrate'), ('sodium thiosulfate', 'sodium thiosulfate'), ('steel', ''), ('', 'S-doped C-dots')], '10.1039/C6TB00519E': [('BSA', 'BSA'), ('N@C-dots', 'N@C-dots'), ('air', ''), ('carbide', ''), ('water', 'water'), ('', 'carbide slag')], '10.1080/1536383X.2022.2030315': [('glucose', 'glucose'), ('graphene', ''), ('water', 'water'), ('', 'graphene quantum dots')], '10.3390/ma15249057': [('DMF', 'DMF'), ('L-tartaric acid', 'L-tartaric acid'), ('Y-CDs', 'Y-CDs'), ('alcohol', 'alcohol'), ('polytetrafluoroethylene', ''), ('steel', ''), ('urea', 'urea'), ('', 'N-doped Y-CDs')], '10.1021/acsabm.1c00371': [('-aspartic acid', '-aspartic acid'), ('3,6-diaminoacridine', '3,6-diaminoacridine'), ('NCD', 'NCD'), ('PTFE', ''), ('Teflon', ''), ('ethanol', 'ethanol'), ('poly(tetrafluoroethylene)', ''), ('', 'NCDs')], '10.1021/acsami.8b16710': [('GABA', 'GABA'), ('Y-CDs', 'Y-CDs'), ('o-PD', 'o-PD'), ('water', 'water')], '10.3390/coatings12091311': [('CQD', ''), ('CQDs', 'CQDs'), ('Teflon', ''), ('lactic acid', 'lactic acid'), ('steel', ''), ('urea', 'urea'), ('water', 'water')], '10.1016/j.saa.2022.121139': [('3-aminopropyltrimethoxysilane', '3-aminopropyltrimethoxysilane'), ('Si-CQDs', 'Si-CQDs'), ('Teflon', ''), ('steel', ''), ('sulfuric acid', 'sulfuric acid'), ('water', 'water')], '10.1002/pssb.201700222': [('C6H12O6', ''), ('C6H8O7', ''), ('Teflon', ''), ('ammonia', 'ammonia'), ('ca-', ''), ('carbon', ''), ('citric acid', 'citric acid'), ('g-CDs', 'g-CDs'), ('glucose', 'glucose'), ('water', 'water'), ('', 'carbon dots'), ('', 'ca-CDs')], '10.1021/acsomega.2c06047': [('G-25', ''), ('Teflon', ''), ('sodium hydroxide', 'sodium hydroxide'), ('water', ''), ('', 'amido black 10b')], '10.1002/adom.201701150_no_2': [('Teflon', ''), ('steel', ''), ('water', 'water'), ('y-CDs', 'y-CDs'), ('yeast', 'yeast')], '10.3390/chemosensors10100383': [('3-hydroxyphenylboric acid', '3-hydroxyphenylboric acid'), ('NaOH', 'NaOH'), ('nitrogen', ''), ('oxygen', ''), ('water', 'water')], '10.1016/j.snb.2018.10.075': [('CA', 'CA'), ('CQDs', 'CQDs'), ('NB-CQDs', 'NB-CQDs'), ('O-CQDs', 'O-CQDs'), ('PB-CQDs', 'PB-CQDs'), ('air', ''), ('borax', 'borax'), ('p-phenylenediamine', 'p-phenylenediamine'), ('poly(p-phenylene)', ''), ('water', 'water')]}\n"
     ]
    }
   ],
   "source": [
    "print(all_materials)"
   ]
  },
  {
   "cell_type": "code",
   "execution_count": 7,
   "metadata": {},
   "outputs": [],
   "source": [
    "all_values = {}\n",
    "for doi in list(all_materials.keys()):\n",
    "    values = []\n",
    "    for pairs in all_materials[doi]:\n",
    "        if pairs[0] == pairs[1]:\n",
    "            values.append('TP')\n",
    "        elif pairs[0] != pairs[1] and pairs[0] =='':\n",
    "            values.append('FN')\n",
    "        elif pairs[0] != pairs[1] and pairs[1] == '':\n",
    "            values.append('FP')\n",
    "        all_values[doi] = values"
   ]
  },
  {
   "cell_type": "code",
   "execution_count": 8,
   "metadata": {},
   "outputs": [
    {
     "name": "stdout",
     "output_type": "stream",
     "text": [
      "{'10.1007/s10876-022-02339-x': ['TP', 'TP', 'FP', 'FP', 'TP'], '10.1007/s00216-015-9138-8': ['TP', 'TP', 'FP', 'TP', 'FP', 'TP', 'FN', 'FN'], '10.1007/s10895-020-02645-5': ['TP', 'TP', 'FP', 'FP', 'TP'], '10.1016/j.saa.2020.118580': ['TP', 'TP', 'TP', 'TP'], '10.1021/acs.jpcc.9b06672': ['TP', 'TP', 'TP', 'TP', 'TP', 'TP', 'TP', 'FP', 'TP'], '10.1016/j.optmat.2019.05.045': ['FP', 'TP', 'TP', 'TP', 'FN', 'FN'], '10.1080/00032719.2020.1759618_no_1': ['FP', 'TP', 'FN', 'FN'], '10.1038/ncomms6357': ['TP', 'TP', 'TP', 'TP', 'TP', 'FP', 'TP', 'TP', 'TP', 'FP', 'FP', 'TP', 'FP', 'TP', 'TP', 'TP', 'TP', 'TP'], '10.1007/s10570-017-1230-0': ['FP', 'FP', 'FP', 'FP', 'FP', 'TP', 'TP', 'TP', 'FP', 'TP', 'TP', 'TP', 'FN', 'FN'], '10.1021/acssuschemeng.9b00027_no_2': ['TP', 'TP', 'TP', 'TP', 'TP', 'FP', 'FP', 'TP'], '10.1021/acsabm.9b00101': ['FP', 'FP', 'TP', 'FP', 'FP', 'TP', 'TP', 'FN', 'FN'], '10.3390/chemosensors10060219': ['TP', 'TP', 'TP', 'TP', 'TP', 'FP', 'FP', 'FP', 'TP', 'FN'], '10.3390/nano12234166': ['TP', 'TP', 'TP', 'FP', 'FP', 'TP'], '10.1002/bio.3407': ['TP', 'TP', 'FP', 'TP', 'TP', 'TP', 'FP', 'TP'], '10.1002/bio.3803': ['TP', 'TP', 'TP', 'TP'], '10.3390/molecules27165254': ['TP', 'TP', 'TP', 'FP', 'TP', 'TP', 'FP', 'FN'], '10.1039/C8NJ02086H': ['TP', 'FP', 'FP', 'TP', 'TP', 'TP'], '10.1039/C4TA05483K': ['FP', 'FP', 'TP', 'TP', 'FP', 'FN'], '10.1039/C6TB00519E': ['TP', 'TP', 'FP', 'FP', 'TP', 'FN'], '10.1080/1536383X.2022.2030315': ['TP', 'FP', 'TP', 'FN'], '10.3390/ma15249057': ['TP', 'TP', 'TP', 'TP', 'FP', 'FP', 'TP', 'FN'], '10.1021/acsabm.1c00371': ['TP', 'TP', 'TP', 'FP', 'FP', 'TP', 'FP', 'FN'], '10.1021/acsami.8b16710': ['TP', 'TP', 'TP', 'TP'], '10.3390/coatings12091311': ['FP', 'TP', 'FP', 'TP', 'FP', 'TP', 'TP'], '10.1016/j.saa.2022.121139': ['TP', 'TP', 'FP', 'FP', 'TP', 'TP'], '10.1002/pssb.201700222': ['FP', 'FP', 'FP', 'TP', 'FP', 'FP', 'TP', 'TP', 'TP', 'TP', 'FN', 'FN'], '10.1021/acsomega.2c06047': ['FP', 'FP', 'TP', 'FP', 'FN'], '10.1002/adom.201701150_no_2': ['FP', 'FP', 'TP', 'TP', 'TP'], '10.3390/chemosensors10100383': ['TP', 'TP', 'FP', 'FP', 'TP'], '10.1016/j.snb.2018.10.075': ['TP', 'TP', 'TP', 'TP', 'TP', 'FP', 'TP', 'TP', 'FP', 'TP']}\n"
     ]
    }
   ],
   "source": [
    "print(all_values)"
   ]
  },
  {
   "cell_type": "code",
   "execution_count": 9,
   "metadata": {},
   "outputs": [
    {
     "name": "stdout",
     "output_type": "stream",
     "text": [
      "['TP', 'TP', 'FP', 'FP', 'TP', 'TP', 'TP', 'FP', 'TP', 'FP', 'TP', 'FN', 'FN', 'TP', 'TP', 'FP', 'FP', 'TP', 'TP', 'TP', 'TP', 'TP', 'TP', 'TP', 'TP', 'TP', 'TP', 'TP', 'TP', 'FP', 'TP', 'FP', 'TP', 'TP', 'TP', 'FN', 'FN', 'FP', 'TP', 'FN', 'FN', 'TP', 'TP', 'TP', 'TP', 'TP', 'FP', 'TP', 'TP', 'TP', 'FP', 'FP', 'TP', 'FP', 'TP', 'TP', 'TP', 'TP', 'TP', 'FP', 'FP', 'FP', 'FP', 'FP', 'TP', 'TP', 'TP', 'FP', 'TP', 'TP', 'TP', 'FN', 'FN', 'TP', 'TP', 'TP', 'TP', 'TP', 'FP', 'FP', 'TP', 'FP', 'FP', 'TP', 'FP', 'FP', 'TP', 'TP', 'FN', 'FN', 'TP', 'TP', 'TP', 'TP', 'TP', 'FP', 'FP', 'FP', 'TP', 'FN', 'TP', 'TP', 'TP', 'FP', 'FP', 'TP', 'TP', 'TP', 'FP', 'TP', 'TP', 'TP', 'FP', 'TP', 'TP', 'TP', 'TP', 'TP', 'TP', 'TP', 'TP', 'FP', 'TP', 'TP', 'FP', 'FN', 'TP', 'FP', 'FP', 'TP', 'TP', 'TP', 'FP', 'FP', 'TP', 'TP', 'FP', 'FN', 'TP', 'TP', 'FP', 'FP', 'TP', 'FN', 'TP', 'FP', 'TP', 'FN', 'TP', 'TP', 'TP', 'TP', 'FP', 'FP', 'TP', 'FN', 'TP', 'TP', 'TP', 'FP', 'FP', 'TP', 'FP', 'FN', 'TP', 'TP', 'TP', 'TP', 'FP', 'TP', 'FP', 'TP', 'FP', 'TP', 'TP', 'TP', 'TP', 'FP', 'FP', 'TP', 'TP', 'FP', 'FP', 'FP', 'TP', 'FP', 'FP', 'TP', 'TP', 'TP', 'TP', 'FN', 'FN', 'FP', 'FP', 'TP', 'FP', 'FN', 'FP', 'FP', 'TP', 'TP', 'TP', 'TP', 'TP', 'FP', 'FP', 'TP', 'TP', 'TP', 'TP', 'TP', 'TP', 'FP', 'TP', 'TP', 'FP', 'TP']\n"
     ]
    }
   ],
   "source": [
    "all_values_combine = []\n",
    "for values in all_values.values():\n",
    "    all_values_combine.extend(values)\n",
    "print(all_values_combine)"
   ]
  },
  {
   "cell_type": "code",
   "execution_count": 10,
   "metadata": {},
   "outputs": [
    {
     "name": "stdout",
     "output_type": "stream",
     "text": [
      "The precision is: 0.6666666666666666\n",
      "The recall is: 0.868421052631579\n",
      "The F1 score is: 0.7542857142857142\n"
     ]
    }
   ],
   "source": [
    "TP = all_values_combine.count('TP')\n",
    "FP = all_values_combine.count('FP')\n",
    "FN = all_values_combine.count('FN')\n",
    "precision = TP / (TP+FP)\n",
    "recall = TP / (TP+FN)\n",
    "F1 = (2*precision*recall)/(precision+recall)\n",
    "print(f'The precision is: {precision}')\n",
    "print(f'The recall is: {recall}')\n",
    "print(f'The F1 score is: {F1}')"
   ]
  },
  {
   "cell_type": "markdown",
   "metadata": {},
   "source": [
    "## Analysis of precursor material extraction"
   ]
  },
  {
   "cell_type": "code",
   "execution_count": 11,
   "metadata": {},
   "outputs": [
    {
     "name": "stdout",
     "output_type": "stream",
     "text": [
      "30\n",
      "{'10.1007/s10876-022-02339-x': ['O. basilicum L.'], '10.1007/s00216-015-9138-8': ['PVP', 'glycine'], '10.1007/s10895-020-02645-5': [], '10.1016/j.saa.2020.118580': ['CA', 'diethylenetriamine'], '10.1021/acs.jpcc.9b06672': ['CA', 'EDA'], '10.1016/j.optmat.2019.05.045': ['water'], '10.1080/00032719.2020.1759618_no_1': [], '10.1038/ncomms6357': ['1,3,6-trinitropyrene', 'TCI', 'pyrene', 'water'], '10.1007/s10570-017-1230-0': ['citric acid', 'urea'], '10.1021/acssuschemeng.9b00027_no_2': ['H2O2', 'NaOH', 'glucose', 'hydrochar'], '10.1021/acsabm.9b00101': ['carbon', 'sucrose'], '10.3390/chemosensors10060219': ['Ce(Ac)3', 'FA', 'PVP-K30'], '10.3390/nano12234166': ['Glucose'], '10.1002/bio.3407': ['O-phenylenediamine', 'dicyandiamide'], '10.1002/bio.3803': ['citric acid', 'l‐histidine'], '10.3390/molecules27165254': ['PEI', 'glycol', 'phosphoric acid', 'ultra-pure water'], '10.1039/C8NJ02086H': ['ethylenediamine', 'methionine'], '10.1039/C4TA05483K': ['sodium citrate', 'sodium thiosulfate'], '10.1039/C6TB00519E': ['BSA'], '10.1080/1536383X.2022.2030315': ['glucose'], '10.3390/ma15249057': ['DMF', 'L-tartaric acid', 'urea'], '10.1021/acsabm.1c00371': ['-aspartic acid', '3,6-diaminoacridine'], '10.1021/acsami.8b16710': ['GABA', 'o-PD'], '10.3390/coatings12091311': ['lactic acid', 'urea'], '10.1016/j.saa.2022.121139': ['sulfuric acid'], '10.1002/pssb.201700222': ['C6H12O6', 'C6H8O7', 'ammonia', 'citric acid', 'glucose'], '10.1021/acsomega.2c06047': ['sodium hydroxide'], '10.1002/adom.201701150_no_2': ['yeast'], '10.3390/chemosensors10100383': ['3-hydroxyphenylboric acid'], '10.1016/j.snb.2018.10.075': ['CA', 'borax', 'p-phenylenediamine']}\n"
     ]
    }
   ],
   "source": [
    "#getting precursor materials without amounts from extraction\n",
    "precursors_ext = {}\n",
    "for para in extractions:\n",
    "    precursors_ext[para['doi']] = list(para['precursors'])\n",
    "print(len(precursors_ext))\n",
    "print(precursors_ext)"
   ]
  },
  {
   "cell_type": "code",
   "execution_count": 12,
   "metadata": {},
   "outputs": [
    {
     "name": "stdout",
     "output_type": "stream",
     "text": [
      "30\n",
      "{'10.1007/s10876-022-02339-x': ['O. basilicum L.'], '10.1007/s00216-015-9138-8': ['PVP', 'glycine'], '10.1007/s10895-020-02645-5': ['E.A'], '10.1016/j.saa.2020.118580': ['diethylenetriamine', 'CA'], '10.1021/acs.jpcc.9b06672': ['EDA', 'CA'], '10.1016/j.optmat.2019.05.045': ['4-aminophenol'], '10.1080/00032719.2020.1759618_no_1': ['eggshell membrane'], '10.1038/ncomms6357': ['hydrazine hydrate', 'ammonia', '1,3,6-trinitropyrene'], '10.1007/s10570-017-1230-0': ['citric acid', 'urea'], '10.1021/acssuschemeng.9b00027_no_2': ['glucose'], '10.1021/acsabm.9b00101': ['sucrose', 'carbon powder'], '10.3390/chemosensors10060219': ['Ce(Ac)3', 'PVP-K30', 'FA'], '10.3390/nano12234166': ['Glucose'], '10.1002/bio.3407': ['dicyandiamide', 'O-phenylenediamine'], '10.1002/bio.3803': ['citric acid', 'l‐histidine'], '10.3390/molecules27165254': ['phosphoric acid', 'glycol', 'PEI'], '10.1039/C8NJ02086H': ['ethylenediamine', 'methionine'], '10.1039/C4TA05483K': ['sodium thiosulfate', 'sodium citrate'], '10.1039/C6TB00519E': ['BSA'], '10.1080/1536383X.2022.2030315': ['glucose'], '10.3390/ma15249057': ['DMF', 'L-tartaric acid', 'urea'], '10.1021/acsabm.1c00371': ['-aspartic acid', '3,6-diaminoacridine'], '10.1021/acsami.8b16710': ['o-PD', 'GABA'], '10.3390/coatings12091311': ['urea', 'lactic acid'], '10.1016/j.saa.2022.121139': ['3-aminopropyltrimethoxysilane', 'sulfuric acid'], '10.1002/pssb.201700222': ['citric acid', 'glucose', 'ammonia'], '10.1021/acsomega.2c06047': ['amido black 10b', 'sodium hydroxide'], '10.1002/adom.201701150_no_2': ['yeast'], '10.3390/chemosensors10100383': ['NaOH', '3-hydroxyphenylboric acid'], '10.1016/j.snb.2018.10.075': ['borax', 'CA', 'p-phenylenediamine']}\n"
     ]
    }
   ],
   "source": [
    "#collecting precursor materials without amount from annotations\n",
    "precursors_ann = {}\n",
    "for para in annotation:\n",
    "    materials = []\n",
    "    for material in para['precursors']:\n",
    "        materials.extend(list(material))\n",
    "    precursors_ann[para['doi']] = list(set(materials))\n",
    "print(len(precursors_ann))\n",
    "print(precursors_ann)"
   ]
  },
  {
   "cell_type": "code",
   "execution_count": 13,
   "metadata": {},
   "outputs": [],
   "source": [
    "#Assigning values\n",
    "precursors = {}\n",
    "for doi in list(precursors_ann.keys()):\n",
    "    pair_list = []\n",
    "    for material in precursors_ext[doi]:\n",
    "        if material in precursors_ann[doi]:\n",
    "            pair = (material, material)\n",
    "            pair_list.append(pair)\n",
    "        elif material not in precursors_ann[doi]:\n",
    "            pair = (material,'')\n",
    "            pair_list.append(pair)\n",
    "    for material in precursors_ann[doi]:\n",
    "        if material not in precursors_ext[doi]:\n",
    "            pair = ('', material)\n",
    "            pair_list.append(pair)\n",
    "    precursors[doi] = pair_list"
   ]
  },
  {
   "cell_type": "code",
   "execution_count": 14,
   "metadata": {},
   "outputs": [
    {
     "name": "stdout",
     "output_type": "stream",
     "text": [
      "30\n",
      "{'10.1007/s10876-022-02339-x': [('O. basilicum L.', 'O. basilicum L.')], '10.1007/s00216-015-9138-8': [('PVP', 'PVP'), ('glycine', 'glycine')], '10.1007/s10895-020-02645-5': [('', 'E.A')], '10.1016/j.saa.2020.118580': [('CA', 'CA'), ('diethylenetriamine', 'diethylenetriamine')], '10.1021/acs.jpcc.9b06672': [('CA', 'CA'), ('EDA', 'EDA')], '10.1016/j.optmat.2019.05.045': [('water', ''), ('', '4-aminophenol')], '10.1080/00032719.2020.1759618_no_1': [('', 'eggshell membrane')], '10.1038/ncomms6357': [('1,3,6-trinitropyrene', '1,3,6-trinitropyrene'), ('TCI', ''), ('pyrene', ''), ('water', ''), ('', 'hydrazine hydrate'), ('', 'ammonia')], '10.1007/s10570-017-1230-0': [('citric acid', 'citric acid'), ('urea', 'urea')], '10.1021/acssuschemeng.9b00027_no_2': [('H2O2', ''), ('NaOH', ''), ('glucose', 'glucose'), ('hydrochar', '')], '10.1021/acsabm.9b00101': [('carbon', ''), ('sucrose', 'sucrose'), ('', 'carbon powder')], '10.3390/chemosensors10060219': [('Ce(Ac)3', 'Ce(Ac)3'), ('FA', 'FA'), ('PVP-K30', 'PVP-K30')], '10.3390/nano12234166': [('Glucose', 'Glucose')], '10.1002/bio.3407': [('O-phenylenediamine', 'O-phenylenediamine'), ('dicyandiamide', 'dicyandiamide')], '10.1002/bio.3803': [('citric acid', 'citric acid'), ('l‐histidine', 'l‐histidine')], '10.3390/molecules27165254': [('PEI', 'PEI'), ('glycol', 'glycol'), ('phosphoric acid', 'phosphoric acid'), ('ultra-pure water', '')], '10.1039/C8NJ02086H': [('ethylenediamine', 'ethylenediamine'), ('methionine', 'methionine')], '10.1039/C4TA05483K': [('sodium citrate', 'sodium citrate'), ('sodium thiosulfate', 'sodium thiosulfate')], '10.1039/C6TB00519E': [('BSA', 'BSA')], '10.1080/1536383X.2022.2030315': [('glucose', 'glucose')], '10.3390/ma15249057': [('DMF', 'DMF'), ('L-tartaric acid', 'L-tartaric acid'), ('urea', 'urea')], '10.1021/acsabm.1c00371': [('-aspartic acid', '-aspartic acid'), ('3,6-diaminoacridine', '3,6-diaminoacridine')], '10.1021/acsami.8b16710': [('GABA', 'GABA'), ('o-PD', 'o-PD')], '10.3390/coatings12091311': [('lactic acid', 'lactic acid'), ('urea', 'urea')], '10.1016/j.saa.2022.121139': [('sulfuric acid', 'sulfuric acid'), ('', '3-aminopropyltrimethoxysilane')], '10.1002/pssb.201700222': [('C6H12O6', ''), ('C6H8O7', ''), ('ammonia', 'ammonia'), ('citric acid', 'citric acid'), ('glucose', 'glucose')], '10.1021/acsomega.2c06047': [('sodium hydroxide', 'sodium hydroxide'), ('', 'amido black 10b')], '10.1002/adom.201701150_no_2': [('yeast', 'yeast')], '10.3390/chemosensors10100383': [('3-hydroxyphenylboric acid', '3-hydroxyphenylboric acid'), ('', 'NaOH')], '10.1016/j.snb.2018.10.075': [('CA', 'CA'), ('borax', 'borax'), ('p-phenylenediamine', 'p-phenylenediamine')]}\n"
     ]
    }
   ],
   "source": [
    "print(len(precursors))\n",
    "print(precursors)"
   ]
  },
  {
   "cell_type": "code",
   "execution_count": 15,
   "metadata": {},
   "outputs": [],
   "source": [
    "all_precursor_values = {}\n",
    "for doi in list(precursors.keys()):\n",
    "    values = []\n",
    "    for pairs in precursors[doi]:\n",
    "        if pairs[0] == pairs[1]:\n",
    "            values.append('TP')\n",
    "        elif pairs[0] != pairs[1] and pairs[0] =='':\n",
    "            values.append('FN')\n",
    "        elif pairs[0] != pairs[1] and pairs[1] == '':\n",
    "            values.append('FP')\n",
    "        all_precursor_values[doi] = values"
   ]
  },
  {
   "cell_type": "code",
   "execution_count": 16,
   "metadata": {},
   "outputs": [
    {
     "name": "stdout",
     "output_type": "stream",
     "text": [
      "30\n",
      "{'10.1007/s10876-022-02339-x': ['TP'], '10.1007/s00216-015-9138-8': ['TP', 'TP'], '10.1007/s10895-020-02645-5': ['FN'], '10.1016/j.saa.2020.118580': ['TP', 'TP'], '10.1021/acs.jpcc.9b06672': ['TP', 'TP'], '10.1016/j.optmat.2019.05.045': ['FP', 'FN'], '10.1080/00032719.2020.1759618_no_1': ['FN'], '10.1038/ncomms6357': ['TP', 'FP', 'FP', 'FP', 'FN', 'FN'], '10.1007/s10570-017-1230-0': ['TP', 'TP'], '10.1021/acssuschemeng.9b00027_no_2': ['FP', 'FP', 'TP', 'FP'], '10.1021/acsabm.9b00101': ['FP', 'TP', 'FN'], '10.3390/chemosensors10060219': ['TP', 'TP', 'TP'], '10.3390/nano12234166': ['TP'], '10.1002/bio.3407': ['TP', 'TP'], '10.1002/bio.3803': ['TP', 'TP'], '10.3390/molecules27165254': ['TP', 'TP', 'TP', 'FP'], '10.1039/C8NJ02086H': ['TP', 'TP'], '10.1039/C4TA05483K': ['TP', 'TP'], '10.1039/C6TB00519E': ['TP'], '10.1080/1536383X.2022.2030315': ['TP'], '10.3390/ma15249057': ['TP', 'TP', 'TP'], '10.1021/acsabm.1c00371': ['TP', 'TP'], '10.1021/acsami.8b16710': ['TP', 'TP'], '10.3390/coatings12091311': ['TP', 'TP'], '10.1016/j.saa.2022.121139': ['TP', 'FN'], '10.1002/pssb.201700222': ['FP', 'FP', 'TP', 'TP', 'TP'], '10.1021/acsomega.2c06047': ['TP', 'FN'], '10.1002/adom.201701150_no_2': ['TP'], '10.3390/chemosensors10100383': ['TP', 'FN'], '10.1016/j.snb.2018.10.075': ['TP', 'TP', 'TP']}\n"
     ]
    }
   ],
   "source": [
    "print(len(all_precursor_values))\n",
    "print(all_precursor_values)"
   ]
  },
  {
   "cell_type": "code",
   "execution_count": 17,
   "metadata": {},
   "outputs": [
    {
     "name": "stdout",
     "output_type": "stream",
     "text": [
      "['TP', 'TP', 'TP', 'FN', 'TP', 'TP', 'TP', 'TP', 'FP', 'FN', 'FN', 'TP', 'FP', 'FP', 'FP', 'FN', 'FN', 'TP', 'TP', 'FP', 'FP', 'TP', 'FP', 'FP', 'TP', 'FN', 'TP', 'TP', 'TP', 'TP', 'TP', 'TP', 'TP', 'TP', 'TP', 'TP', 'TP', 'FP', 'TP', 'TP', 'TP', 'TP', 'TP', 'TP', 'TP', 'TP', 'TP', 'TP', 'TP', 'TP', 'TP', 'TP', 'TP', 'TP', 'FN', 'FP', 'FP', 'TP', 'TP', 'TP', 'TP', 'FN', 'TP', 'TP', 'FN', 'TP', 'TP', 'TP']\n"
     ]
    }
   ],
   "source": [
    "all_values_combine = []\n",
    "for values in all_precursor_values.values():\n",
    "    all_values_combine.extend(values)\n",
    "print(all_values_combine)"
   ]
  },
  {
   "cell_type": "code",
   "execution_count": 18,
   "metadata": {},
   "outputs": [
    {
     "name": "stdout",
     "output_type": "stream",
     "text": [
      "The precision is: 0.8135593220338984\n",
      "The recall is: 0.8421052631578947\n",
      "The F1 score is: 0.8275862068965518\n"
     ]
    }
   ],
   "source": [
    "TP = all_values_combine.count('TP')\n",
    "FP = all_values_combine.count('FP')\n",
    "FN = all_values_combine.count('FN')\n",
    "precision = TP / (TP+FP)\n",
    "recall = TP / (TP+FN)\n",
    "F1 = (2*precision*recall)/(precision+recall)\n",
    "print(f'The precision is: {precision}')\n",
    "print(f'The recall is: {recall}')\n",
    "print(f'The F1 score is: {F1}')"
   ]
  },
  {
   "cell_type": "markdown",
   "metadata": {},
   "source": [
    "## Analysis of target material extraction"
   ]
  },
  {
   "cell_type": "code",
   "execution_count": 72,
   "metadata": {},
   "outputs": [
    {
     "name": "stdout",
     "output_type": "stream",
     "text": [
      "30\n",
      "{'10.1007/s10876-022-02339-x': ['CQDs'], '10.1007/s00216-015-9138-8': ['CNDs'], '10.1007/s10895-020-02645-5': [], '10.1016/j.saa.2020.118580': ['N-CQDs'], '10.1021/acs.jpcc.9b06672': ['N-CQDs', 'N-CQDs-1h', 'N-CQDs-3h', 'N-CQDs-6h', 'N-CQDs-9h'], '10.1016/j.optmat.2019.05.045': [], '10.1080/00032719.2020.1759618_no_1': [], '10.1038/ncomms6357': ['OH-GQDs', 'amine-GQDs'], '10.1007/s10570-017-1230-0': ['CNPs/cotton', 'carbon'], '10.1021/acssuschemeng.9b00027_no_2': ['CQDs'], '10.1021/acsabm.9b00101': ['N—C'], '10.3390/chemosensors10060219': ['Ce-CDs', 'Ce-CDs-FA', 'carbon-dots'], '10.3390/nano12234166': ['B-CD'], '10.1002/bio.3407': ['N-CDs'], '10.1002/bio.3803': ['C‐dots'], '10.3390/molecules27165254': ['PEI-CDs', 'PEI-CQDs'], '10.1039/C8NJ02086H': ['C-dots'], '10.1039/C4TA05483K': ['C-dots'], '10.1039/C6TB00519E': ['N@C-dots'], '10.1080/1536383X.2022.2030315': ['graphene'], '10.3390/ma15249057': ['Y-CDs'], '10.1021/acsabm.1c00371': ['NCD'], '10.1021/acsami.8b16710': ['Y-CDs'], '10.3390/coatings12091311': ['CQDs'], '10.1016/j.saa.2022.121139': ['Si-CQDs'], '10.1002/pssb.201700222': ['carbon', 'g-CDs'], '10.1021/acsomega.2c06047': [], '10.1002/adom.201701150_no_2': ['y-CDs'], '10.3390/chemosensors10100383': [], '10.1016/j.snb.2018.10.075': ['CQDs', 'NB-CQDs', 'O-CQDs', 'PB-CQDs']}\n"
     ]
    }
   ],
   "source": [
    "#getting target materials without amounts from extraction\n",
    "targets_ext = {}\n",
    "for para in extractions:\n",
    "    targets_ext[para['doi']] = list(para['targets'])\n",
    "print(len(targets_ext))\n",
    "print(targets_ext)"
   ]
  },
  {
   "cell_type": "code",
   "execution_count": 73,
   "metadata": {},
   "outputs": [
    {
     "name": "stdout",
     "output_type": "stream",
     "text": [
      "30\n",
      "{'10.1007/s10876-022-02339-x': ['CQDs'], '10.1007/s00216-015-9138-8': ['CNDs'], '10.1007/s10895-020-02645-5': ['CDs'], '10.1016/j.saa.2020.118580': ['N-CQDs'], '10.1021/acs.jpcc.9b06672': ['N-CQDs-6h', 'N-CQDs', 'N-CQDs-9h', 'N-CQDs-1h', 'N-CQDs-3h'], '10.1016/j.optmat.2019.05.045': ['CDs'], '10.1080/00032719.2020.1759618_no_1': [], '10.1038/ncomms6357': ['b-GQDs', 'GQDs', 'amine-GQDs', 'OH-GQDs', 'y-GQDs'], '10.1007/s10570-017-1230-0': ['CNPs'], '10.1021/acssuschemeng.9b00027_no_2': ['CQDs'], '10.1021/acsabm.9b00101': ['N—C dots'], '10.3390/chemosensors10060219': ['cerium-doped carbon-dots', 'Ce-CDs-FA', 'Ce-CDs'], '10.3390/nano12234166': ['B-CD'], '10.1002/bio.3407': ['N-CDs'], '10.1002/bio.3803': ['C‐dots'], '10.3390/molecules27165254': ['PEI-CQDs', 'PEI-CDs'], '10.1039/C8NJ02086H': ['C-dots'], '10.1039/C4TA05483K': ['S-doped C-dots'], '10.1039/C6TB00519E': ['N@C-dots'], '10.1080/1536383X.2022.2030315': ['graphene quantum dots'], '10.3390/ma15249057': ['Y-CDs', 'N-doped Y-CDs'], '10.1021/acsabm.1c00371': ['NCDs', 'NCD'], '10.1021/acsami.8b16710': ['Y-CDs'], '10.3390/coatings12091311': ['CQDs'], '10.1016/j.saa.2022.121139': ['Si-CQDs'], '10.1002/pssb.201700222': ['g-CDs', 'ca-CDs', 'carbon dots'], '10.1021/acsomega.2c06047': [], '10.1002/adom.201701150_no_2': ['y-CDs'], '10.3390/chemosensors10100383': [], '10.1016/j.snb.2018.10.075': ['NB-CQDs', 'PB-CQDs', 'O-CQDs', 'CQDs']}\n"
     ]
    }
   ],
   "source": [
    "#collecting target materials without amount from annotations\n",
    "targets_ann = {}\n",
    "for para in annotation:\n",
    "    materials = []\n",
    "    for material in para['targets']:\n",
    "        materials.extend(list(material))\n",
    "    targets_ann[para['doi']] = list(set(materials))\n",
    "print(len(targets_ann))\n",
    "print(targets_ann)"
   ]
  },
  {
   "cell_type": "code",
   "execution_count": 74,
   "metadata": {},
   "outputs": [],
   "source": [
    "#Assigning values\n",
    "targets = {}\n",
    "for doi in list(targets_ann.keys()):\n",
    "    pair_list = []\n",
    "    for material in targets_ext[doi]:\n",
    "        if material in targets_ann[doi]:\n",
    "            pair = (material, material)\n",
    "            pair_list.append(pair)\n",
    "        elif material not in targets_ann[doi]:\n",
    "            pair = (material,'')\n",
    "            pair_list.append(pair)\n",
    "    for material in targets_ann[doi]:\n",
    "        if material not in targets_ext[doi]:\n",
    "            pair = ('', material)\n",
    "            pair_list.append(pair)\n",
    "    targets[doi] = pair_list"
   ]
  },
  {
   "cell_type": "code",
   "execution_count": 75,
   "metadata": {},
   "outputs": [
    {
     "name": "stdout",
     "output_type": "stream",
     "text": [
      "30\n",
      "{'10.1007/s10876-022-02339-x': [('CQDs', 'CQDs')], '10.1007/s00216-015-9138-8': [('CNDs', 'CNDs')], '10.1007/s10895-020-02645-5': [('', 'CDs')], '10.1016/j.saa.2020.118580': [('N-CQDs', 'N-CQDs')], '10.1021/acs.jpcc.9b06672': [('N-CQDs', 'N-CQDs'), ('N-CQDs-1h', 'N-CQDs-1h'), ('N-CQDs-3h', 'N-CQDs-3h'), ('N-CQDs-6h', 'N-CQDs-6h'), ('N-CQDs-9h', 'N-CQDs-9h')], '10.1016/j.optmat.2019.05.045': [('', 'CDs')], '10.1080/00032719.2020.1759618_no_1': [], '10.1038/ncomms6357': [('OH-GQDs', 'OH-GQDs'), ('amine-GQDs', 'amine-GQDs'), ('', 'b-GQDs'), ('', 'GQDs'), ('', 'y-GQDs')], '10.1007/s10570-017-1230-0': [('CNPs/cotton', ''), ('carbon', ''), ('', 'CNPs')], '10.1021/acssuschemeng.9b00027_no_2': [('CQDs', 'CQDs')], '10.1021/acsabm.9b00101': [('N—C', ''), ('', 'N—C dots')], '10.3390/chemosensors10060219': [('Ce-CDs', 'Ce-CDs'), ('Ce-CDs-FA', 'Ce-CDs-FA'), ('carbon-dots', ''), ('', 'cerium-doped carbon-dots')], '10.3390/nano12234166': [('B-CD', 'B-CD')], '10.1002/bio.3407': [('N-CDs', 'N-CDs')], '10.1002/bio.3803': [('C‐dots', 'C‐dots')], '10.3390/molecules27165254': [('PEI-CDs', 'PEI-CDs'), ('PEI-CQDs', 'PEI-CQDs')], '10.1039/C8NJ02086H': [('C-dots', 'C-dots')], '10.1039/C4TA05483K': [('C-dots', ''), ('', 'S-doped C-dots')], '10.1039/C6TB00519E': [('N@C-dots', 'N@C-dots')], '10.1080/1536383X.2022.2030315': [('graphene', ''), ('', 'graphene quantum dots')], '10.3390/ma15249057': [('Y-CDs', 'Y-CDs'), ('', 'N-doped Y-CDs')], '10.1021/acsabm.1c00371': [('NCD', 'NCD'), ('', 'NCDs')], '10.1021/acsami.8b16710': [('Y-CDs', 'Y-CDs')], '10.3390/coatings12091311': [('CQDs', 'CQDs')], '10.1016/j.saa.2022.121139': [('Si-CQDs', 'Si-CQDs')], '10.1002/pssb.201700222': [('carbon', ''), ('g-CDs', 'g-CDs'), ('', 'ca-CDs'), ('', 'carbon dots')], '10.1021/acsomega.2c06047': [], '10.1002/adom.201701150_no_2': [('y-CDs', 'y-CDs')], '10.3390/chemosensors10100383': [], '10.1016/j.snb.2018.10.075': [('CQDs', 'CQDs'), ('NB-CQDs', 'NB-CQDs'), ('O-CQDs', 'O-CQDs'), ('PB-CQDs', 'PB-CQDs')]}\n"
     ]
    }
   ],
   "source": [
    "print(len(targets))\n",
    "print(targets)"
   ]
  },
  {
   "cell_type": "code",
   "execution_count": 76,
   "metadata": {},
   "outputs": [],
   "source": [
    "all_targets_values = {}\n",
    "for doi in list(targets.keys()):\n",
    "    values = []\n",
    "    for pairs in targets[doi]:\n",
    "        if pairs[0] == pairs[1]:\n",
    "            values.append('TP')\n",
    "        elif pairs[0] != pairs[1] and pairs[0] =='':\n",
    "            values.append('FN')\n",
    "        elif pairs[0] != pairs[1] and pairs[1] == '':\n",
    "            values.append('FP')\n",
    "        all_targets_values[doi] = values\n",
    "    if len(targets[doi]) == 0:\n",
    "        values.append('TP')\n",
    "    all_targets_values[doi] = values"
   ]
  },
  {
   "cell_type": "code",
   "execution_count": 77,
   "metadata": {},
   "outputs": [
    {
     "name": "stdout",
     "output_type": "stream",
     "text": [
      "30\n",
      "{'10.1007/s10876-022-02339-x': ['TP'], '10.1007/s00216-015-9138-8': ['TP'], '10.1007/s10895-020-02645-5': ['FN'], '10.1016/j.saa.2020.118580': ['TP'], '10.1021/acs.jpcc.9b06672': ['TP', 'TP', 'TP', 'TP', 'TP'], '10.1016/j.optmat.2019.05.045': ['FN'], '10.1080/00032719.2020.1759618_no_1': ['TP'], '10.1038/ncomms6357': ['TP', 'TP', 'FN', 'FN', 'FN'], '10.1007/s10570-017-1230-0': ['FP', 'FP', 'FN'], '10.1021/acssuschemeng.9b00027_no_2': ['TP'], '10.1021/acsabm.9b00101': ['FP', 'FN'], '10.3390/chemosensors10060219': ['TP', 'TP', 'FP', 'FN'], '10.3390/nano12234166': ['TP'], '10.1002/bio.3407': ['TP'], '10.1002/bio.3803': ['TP'], '10.3390/molecules27165254': ['TP', 'TP'], '10.1039/C8NJ02086H': ['TP'], '10.1039/C4TA05483K': ['FP', 'FN'], '10.1039/C6TB00519E': ['TP'], '10.1080/1536383X.2022.2030315': ['FP', 'FN'], '10.3390/ma15249057': ['TP', 'FN'], '10.1021/acsabm.1c00371': ['TP', 'FN'], '10.1021/acsami.8b16710': ['TP'], '10.3390/coatings12091311': ['TP'], '10.1016/j.saa.2022.121139': ['TP'], '10.1002/pssb.201700222': ['FP', 'TP', 'FN', 'FN'], '10.1021/acsomega.2c06047': ['TP'], '10.1002/adom.201701150_no_2': ['TP'], '10.3390/chemosensors10100383': ['TP'], '10.1016/j.snb.2018.10.075': ['TP', 'TP', 'TP', 'TP']}\n"
     ]
    }
   ],
   "source": [
    "print(len(all_targets_values))\n",
    "print(all_targets_values)"
   ]
  },
  {
   "cell_type": "code",
   "execution_count": 78,
   "metadata": {},
   "outputs": [
    {
     "name": "stdout",
     "output_type": "stream",
     "text": [
      "['TP', 'TP', 'FN', 'TP', 'TP', 'TP', 'TP', 'TP', 'TP', 'FN', 'TP', 'TP', 'TP', 'FN', 'FN', 'FN', 'FP', 'FP', 'FN', 'TP', 'FP', 'FN', 'TP', 'TP', 'FP', 'FN', 'TP', 'TP', 'TP', 'TP', 'TP', 'TP', 'FP', 'FN', 'TP', 'FP', 'FN', 'TP', 'FN', 'TP', 'FN', 'TP', 'TP', 'TP', 'FP', 'TP', 'FN', 'FN', 'TP', 'TP', 'TP', 'TP', 'TP', 'TP', 'TP']\n"
     ]
    }
   ],
   "source": [
    "all_values_combine = []\n",
    "for values in all_targets_values.values():\n",
    "    all_values_combine.extend(values)\n",
    "print(all_values_combine)"
   ]
  },
  {
   "cell_type": "code",
   "execution_count": 79,
   "metadata": {},
   "outputs": [
    {
     "name": "stdout",
     "output_type": "stream",
     "text": [
      "The precision is: 0.8292682926829268\n",
      "The recall is: 0.7083333333333334\n",
      "The F1 score is: 0.7640449438202247\n"
     ]
    }
   ],
   "source": [
    "TP = all_values_combine.count('TP')\n",
    "FP = all_values_combine.count('FP')\n",
    "FN = all_values_combine.count('FN')\n",
    "precision = TP / (TP+FP)\n",
    "recall = TP / (TP+FN)\n",
    "F1 = (2*precision*recall)/(precision+recall)\n",
    "print(f'The precision is: {precision}')\n",
    "print(f'The recall is: {recall}')\n",
    "print(f'The F1 score is: {F1}')"
   ]
  },
  {
   "cell_type": "markdown",
   "metadata": {},
   "source": [
    "## Analysis of reaction time and temp extraction"
   ]
  },
  {
   "cell_type": "code",
   "execution_count": 27,
   "metadata": {},
   "outputs": [
    {
     "name": "stdout",
     "output_type": "stream",
     "text": [
      "{'10.1007/s10876-022-02339-x': [{'temp': [180.0], 'time': [4.0]}], '10.1007/s00216-015-9138-8': [{'temp': [300.0], 'time': [2.0]}], '10.1007/s10895-020-02645-5': [{'temp': [180.0], 'time': [12.0]}], '10.1016/j.saa.2020.118580': [{'temp': '', 'time': ''}], '10.1021/acs.jpcc.9b06672': [{'temp': [180.0], 'time': [9.0, 6.0, 3.0, 1.0]}], '10.1016/j.optmat.2019.05.045': [{'temp': [200.0], 'time': [20.0]}, {'temp': '', 'time': [1.0]}], '10.1080/00032719.2020.1759618_no_1': [{'temp': [180.0], 'time': [8.0]}], '10.1038/ncomms6357': [{'temp': '', 'time': ''}, {'temp': [200.0], 'time': [10.0]}], '10.1007/s10570-017-1230-0': [{'temp': [150.0], 'time': [3.0]}], '10.1021/acssuschemeng.9b00027_no_2': [{'temp': '', 'time': ''}], '10.1021/acsabm.9b00101': [{'temp': '', 'time': ''}], '10.3390/chemosensors10060219': [{'temp': [160.0], 'time': [24.0]}, {'temp': [4.0], 'time': ''}], '10.3390/nano12234166': [{'temp': [180.0], 'time': [8.0]}], '10.1002/bio.3407': [{'temp': [180.0], 'time': [3.0]}], '10.1002/bio.3803': [{'temp': [200.0], 'time': [5.0]}], '10.3390/molecules27165254': [{'temp': [180.0], 'time': ''}], '10.1039/C8NJ02086H': [{'temp': [200.0], 'time': [5.0]}], '10.1039/C4TA05483K': [{'temp': '', 'time': ''}], '10.1039/C6TB00519E': [{'temp': [200.0], 'time': [6.0]}], '10.1080/1536383X.2022.2030315': [{'temp': '', 'time': ''}], '10.3390/ma15249057': [{'temp': [180.0], 'time': [4.0]}], '10.1021/acsabm.1c00371': [{'temp': '', 'time': ''}], '10.1021/acsami.8b16710': [{'temp': [160.0], 'time': [8.0]}], '10.3390/coatings12091311': [{'temp': '', 'time': ''}], '10.1016/j.saa.2022.121139': [{'temp': [190.0], 'time': [9.0]}], '10.1002/pssb.201700222': [{'temp': [200.0], 'time': [4.0]}], '10.1021/acsomega.2c06047': [{'temp': [240.0], 'time': [24.0]}], '10.1002/adom.201701150_no_2': [{'temp': '', 'time': ''}], '10.3390/chemosensors10100383': [{'temp': '', 'time': ''}], '10.1016/j.snb.2018.10.075': [{'temp': [180.0], 'time': [5.0]}]}\n"
     ]
    }
   ],
   "source": [
    "# #Collecting reaction time and temp from extractions\n",
    "# temp_time_ext = {}\n",
    "# for para in extractions:\n",
    "#     temp_time_ext[para['doi']] = []\n",
    "#     for operation in para['heating_operations']:\n",
    "#         if operation['temp_values']['values'] != None and operation['time_values']['values'] != None:\n",
    "#             temp_time_ext[para['doi']].append({'temp':operation['temp_values']['values'], 'time':operation['time_values']['values']})\n",
    "#         if operation['temp_values']['values'] != None and operation['time_values']['values'] is None:\n",
    "#             temp_time_ext[para['doi']].append({'temp':operation['temp_values']['values'], 'time':''})\n",
    "#         if operation['temp_values']['values'] is None and operation['time_values']['values'] != None:\n",
    "#             temp_time_ext[para['doi']].append({'temp':'', 'time':operation['time_values']['values']})\n",
    "#         if operation['temp_values']['values'] is None and operation['time_values']['values'] is None:\n",
    "#             temp_time_ext[para['doi']].append({'temp':'', 'time':''})\n",
    "#     if len(para['heating_operations']) == 0:\n",
    "#         temp_time_ext[para['doi']].append({'temp': '','time':''})\n",
    "# print(temp_time_ext)"
   ]
  },
  {
   "cell_type": "code",
   "execution_count": 49,
   "metadata": {},
   "outputs": [
    {
     "name": "stdout",
     "output_type": "stream",
     "text": [
      "30\n"
     ]
    },
    {
     "data": {
      "text/plain": [
       "{'10.1007/s10876-022-02339-x': {'temp': [180.0], 'time': [4.0]},\n",
       " '10.1007/s00216-015-9138-8': {'temp': [300.0], 'time': [2.0]},\n",
       " '10.1007/s10895-020-02645-5': {'temp': [180.0], 'time': [12.0]},\n",
       " '10.1016/j.saa.2020.118580': {'temp': [], 'time': []},\n",
       " '10.1021/acs.jpcc.9b06672': {'temp': [180.0], 'time': [9.0, 6.0, 3.0, 1.0]},\n",
       " '10.1016/j.optmat.2019.05.045': {'temp': [200.0], 'time': [20.0, 1.0]},\n",
       " '10.1080/00032719.2020.1759618_no_1': {'temp': [180.0], 'time': [8.0]},\n",
       " '10.1038/ncomms6357': {'temp': [200.0], 'time': [10.0]},\n",
       " '10.1007/s10570-017-1230-0': {'temp': [150.0], 'time': [3.0]},\n",
       " '10.1021/acssuschemeng.9b00027_no_2': {'temp': [], 'time': []},\n",
       " '10.1021/acsabm.9b00101': {'temp': [], 'time': []},\n",
       " '10.3390/chemosensors10060219': {'temp': [160.0, 4.0], 'time': [24.0]},\n",
       " '10.3390/nano12234166': {'temp': [180.0], 'time': [8.0]},\n",
       " '10.1002/bio.3407': {'temp': [180.0], 'time': [3.0]},\n",
       " '10.1002/bio.3803': {'temp': [200.0], 'time': [5.0]},\n",
       " '10.3390/molecules27165254': {'temp': [180.0], 'time': []},\n",
       " '10.1039/C8NJ02086H': {'temp': [200.0], 'time': [5.0]},\n",
       " '10.1039/C4TA05483K': {'temp': [], 'time': []},\n",
       " '10.1039/C6TB00519E': {'temp': [200.0], 'time': [6.0]},\n",
       " '10.1080/1536383X.2022.2030315': {'temp': [], 'time': []},\n",
       " '10.3390/ma15249057': {'temp': [180.0], 'time': [4.0]},\n",
       " '10.1021/acsabm.1c00371': {'temp': [], 'time': []},\n",
       " '10.1021/acsami.8b16710': {'temp': [160.0], 'time': [8.0]},\n",
       " '10.3390/coatings12091311': {'temp': [], 'time': []},\n",
       " '10.1016/j.saa.2022.121139': {'temp': [190.0], 'time': [9.0]},\n",
       " '10.1002/pssb.201700222': {'temp': [200.0], 'time': [4.0]},\n",
       " '10.1021/acsomega.2c06047': {'temp': [240.0], 'time': [24.0]},\n",
       " '10.1002/adom.201701150_no_2': {'temp': [], 'time': []},\n",
       " '10.3390/chemosensors10100383': {'temp': [], 'time': []},\n",
       " '10.1016/j.snb.2018.10.075': {'temp': [180.0], 'time': [5.0]}}"
      ]
     },
     "execution_count": 49,
     "metadata": {},
     "output_type": "execute_result"
    }
   ],
   "source": [
    "#Collecting reaction time and temp from extraction\n",
    "temp_time_ext = {}\n",
    "for para in extractions:\n",
    "    temp_time_ext[para['doi']] = {}\n",
    "    temps = []\n",
    "    times = []\n",
    "    for operation in para['heating_operations']:\n",
    "        if operation['temp_values']['values'] is not None:\n",
    "            temps.extend(operation['temp_values']['values'])\n",
    "        if operation['time_values']['values'] is not None:\n",
    "            times.extend(operation['time_values']['values'])  \n",
    "    temp_time_ext[para['doi']].update({'temp':temps, 'time':times})\n",
    "print(len(temp_time_ext))\n",
    "temp_time_ext"
   ]
  },
  {
   "cell_type": "code",
   "execution_count": 41,
   "metadata": {},
   "outputs": [],
   "source": [
    "# #Collecting reaction time and temp from annotations\n",
    "# temp_time_ann = {}\n",
    "# for para in annotation:    \n",
    "#     temp_time_ann[para['doi']] = []\n",
    "#     if not para['temp_values'] and not para['time_values']:\n",
    "#         temp_time_ann[para['doi']].append({'temp':'','time':''})\n",
    "#     else:\n",
    "#         temp_time_ann[para['doi']].append({'temp':para['temp_values']['values'], 'time':para['time_values']['values']})\n",
    "# print(len(temp_time_ann))\n",
    "# print(temp_time_ann)"
   ]
  },
  {
   "cell_type": "code",
   "execution_count": 50,
   "metadata": {},
   "outputs": [
    {
     "name": "stdout",
     "output_type": "stream",
     "text": [
      "30\n"
     ]
    },
    {
     "data": {
      "text/plain": [
       "{'10.1007/s10876-022-02339-x': {'temp': [180], 'time': [4]},\n",
       " '10.1007/s00216-015-9138-8': {'temp': [300], 'time': [2]},\n",
       " '10.1007/s10895-020-02645-5': {'temp': [180], 'time': [12]},\n",
       " '10.1016/j.saa.2020.118580': {'temp': [180], 'time': [10]},\n",
       " '10.1021/acs.jpcc.9b06672': {'temp': [180], 'time': [3, 1, 9, 6]},\n",
       " '10.1016/j.optmat.2019.05.045': {'temp': [200], 'time': [20]},\n",
       " '10.1080/00032719.2020.1759618_no_1': {'temp': [180], 'time': [8]},\n",
       " '10.1038/ncomms6357': {'temp': [200], 'time': [10]},\n",
       " '10.1007/s10570-017-1230-0': {'temp': [150], 'time': [3]},\n",
       " '10.1021/acssuschemeng.9b00027_no_2': {'temp': [], 'time': []},\n",
       " '10.1021/acsabm.9b00101': {'temp': [180], 'time': [6]},\n",
       " '10.3390/chemosensors10060219': {'temp': [160], 'time': [24]},\n",
       " '10.3390/nano12234166': {'temp': [180], 'time': [8]},\n",
       " '10.1002/bio.3407': {'temp': [180], 'time': [3]},\n",
       " '10.1002/bio.3803': {'temp': [200], 'time': [5]},\n",
       " '10.3390/molecules27165254': {'temp': [180], 'time': [24]},\n",
       " '10.1039/C8NJ02086H': {'temp': [200], 'time': [5]},\n",
       " '10.1039/C4TA05483K': {'temp': [160, 220, 240, 180, 200], 'time': [6]},\n",
       " '10.1039/C6TB00519E': {'temp': [200], 'time': [6]},\n",
       " '10.1080/1536383X.2022.2030315': {'temp': [180], 'time': [3]},\n",
       " '10.3390/ma15249057': {'temp': [180], 'time': [4]},\n",
       " '10.1021/acsabm.1c00371': {'temp': [170, 180, 150], 'time': [5, 2, 6]},\n",
       " '10.1021/acsami.8b16710': {'temp': [160], 'time': [8]},\n",
       " '10.3390/coatings12091311': {'temp': [140, 220], 'time': [3, 24]},\n",
       " '10.1016/j.saa.2022.121139': {'temp': [190], 'time': [9]},\n",
       " '10.1002/pssb.201700222': {'temp': [200], 'time': [4]},\n",
       " '10.1021/acsomega.2c06047': {'temp': [240], 'time': [24]},\n",
       " '10.1002/adom.201701150_no_2': {'temp': [], 'time': []},\n",
       " '10.3390/chemosensors10100383': {'temp': [160], 'time': [8]},\n",
       " '10.1016/j.snb.2018.10.075': {'temp': [180], 'time': [5]}}"
      ]
     },
     "execution_count": 50,
     "metadata": {},
     "output_type": "execute_result"
    }
   ],
   "source": [
    "#Collecting reaction time and temp from annotations\n",
    "temp_time_ann = {}\n",
    "for para in annotation:\n",
    "    temp_time_ann[para['doi']] = {}\n",
    "    if not para['temp_values']:\n",
    "        temps = []\n",
    "    if not para['time_values']:\n",
    "        times = []\n",
    "    if para['temp_values']:\n",
    "        temps = para['temp_values']['values']\n",
    "    if para['time_values']:\n",
    "        times = para['time_values']['values']\n",
    "    temp_time_ann[para['doi']].update({'temp':temps, 'time':times})\n",
    "print(len(temp_time_ann))\n",
    "temp_time_ann"
   ]
  },
  {
   "cell_type": "markdown",
   "metadata": {},
   "source": [
    "Legend for assigned values\n",
    "\n",
    "TP - temp and time match annotation (1,1)\n",
    "\n",
    "FP - temp or time not in annotation(1,0) extracts wrong value\n",
    "\n",
    "FN - temp/time not in extraction (0,1) doesn't extract value\n"
   ]
  },
  {
   "cell_type": "code",
   "execution_count": 52,
   "metadata": {},
   "outputs": [
    {
     "name": "stdout",
     "output_type": "stream",
     "text": [
      "30\n",
      "{'10.1007/s10876-022-02339-x': ['TP'], '10.1007/s00216-015-9138-8': ['TP'], '10.1007/s10895-020-02645-5': ['TP'], '10.1016/j.saa.2020.118580': ['FN'], '10.1021/acs.jpcc.9b06672': ['TP'], '10.1016/j.optmat.2019.05.045': ['TP'], '10.1080/00032719.2020.1759618_no_1': ['TP'], '10.1038/ncomms6357': ['TP'], '10.1007/s10570-017-1230-0': ['TP'], '10.1021/acssuschemeng.9b00027_no_2': ['TP'], '10.1021/acsabm.9b00101': ['FN'], '10.3390/chemosensors10060219': ['TP', 'FP'], '10.3390/nano12234166': ['TP'], '10.1002/bio.3407': ['TP'], '10.1002/bio.3803': ['TP'], '10.3390/molecules27165254': ['TP'], '10.1039/C8NJ02086H': ['TP'], '10.1039/C4TA05483K': ['FN', 'FN', 'FN', 'FN', 'FN'], '10.1039/C6TB00519E': ['TP'], '10.1080/1536383X.2022.2030315': ['FN'], '10.3390/ma15249057': ['TP'], '10.1021/acsabm.1c00371': ['FN', 'FN', 'FN'], '10.1021/acsami.8b16710': ['TP'], '10.3390/coatings12091311': ['FN', 'FN'], '10.1016/j.saa.2022.121139': ['TP'], '10.1002/pssb.201700222': ['TP'], '10.1021/acsomega.2c06047': ['TP'], '10.1002/adom.201701150_no_2': ['TP'], '10.3390/chemosensors10100383': ['FN'], '10.1016/j.snb.2018.10.075': ['TP']}\n",
      "30\n",
      "{'10.1007/s10876-022-02339-x': ['TP'], '10.1007/s00216-015-9138-8': ['TP'], '10.1007/s10895-020-02645-5': ['TP'], '10.1016/j.saa.2020.118580': ['FN'], '10.1021/acs.jpcc.9b06672': ['TP', 'TP', 'TP', 'TP'], '10.1016/j.optmat.2019.05.045': ['TP', 'FP'], '10.1080/00032719.2020.1759618_no_1': ['TP'], '10.1038/ncomms6357': ['TP'], '10.1007/s10570-017-1230-0': ['TP'], '10.1021/acssuschemeng.9b00027_no_2': ['TP'], '10.1021/acsabm.9b00101': ['FN'], '10.3390/chemosensors10060219': ['TP'], '10.3390/nano12234166': ['TP'], '10.1002/bio.3407': ['TP'], '10.1002/bio.3803': ['TP'], '10.3390/molecules27165254': ['FN'], '10.1039/C8NJ02086H': ['TP'], '10.1039/C4TA05483K': ['FN'], '10.1039/C6TB00519E': ['TP'], '10.1080/1536383X.2022.2030315': ['FN'], '10.3390/ma15249057': ['TP'], '10.1021/acsabm.1c00371': ['FN', 'FN', 'FN'], '10.1021/acsami.8b16710': ['TP'], '10.3390/coatings12091311': ['FN', 'FN'], '10.1016/j.saa.2022.121139': ['TP'], '10.1002/pssb.201700222': ['TP'], '10.1021/acsomega.2c06047': ['TP'], '10.1002/adom.201701150_no_2': ['TP'], '10.3390/chemosensors10100383': ['FN'], '10.1016/j.snb.2018.10.075': ['TP']}\n"
     ]
    }
   ],
   "source": [
    "#Assigning values\n",
    "temp_val = {}\n",
    "time_val = {}\n",
    "for doi in list(temp_time_ann.keys()):\n",
    "    temps_tags = []\n",
    "    times_tags =[]\n",
    "    for value in temp_time_ann[doi]['temp']:\n",
    "        if value in temp_time_ext[doi]['temp']:\n",
    "            temps_tags.append('TP')\n",
    "        if value not in temp_time_ext[doi]['temp']:\n",
    "            temps_tags.append('FN')\n",
    "    for value in temp_time_ann[doi]['time']:\n",
    "        if value in temp_time_ext[doi]['time']:\n",
    "            times_tags.append('TP')\n",
    "        if value not in temp_time_ext[doi]['time']:\n",
    "            times_tags.append('FN')\n",
    "    for value in temp_time_ext[doi]['temp']:\n",
    "        if value not in temp_time_ann[doi]['temp']:\n",
    "            temps_tags.append('FP')\n",
    "    for value in temp_time_ext[doi]['time']:\n",
    "        if value not in temp_time_ann[doi]['time']:\n",
    "            times_tags.append('FP')\n",
    "    if len(temp_time_ext[doi]['time']) == 0 and len(temp_time_ann[doi]['time']) == 0:\n",
    "        times_tags.append('TP')\n",
    "    if len(temp_time_ext[doi]['temp']) == 0 and len(temp_time_ann[doi]['temp']) == 0:\n",
    "        temps_tags.append('TP')\n",
    "    temp_val.update({doi:temps_tags})\n",
    "    time_val.update({doi:times_tags})\n",
    "\n",
    "print(len(temp_val))\n",
    "print(temp_val)\n",
    "\n",
    "print(len(time_val))\n",
    "print(time_val)"
   ]
  },
  {
   "cell_type": "code",
   "execution_count": 53,
   "metadata": {},
   "outputs": [
    {
     "name": "stdout",
     "output_type": "stream",
     "text": [
      "The temp precision is: 0.9583333333333334\n",
      "The temp recall is: 0.6216216216216216\n",
      "The temp F1 score is: 0.7540983606557377\n",
      "The time precision is: 0.9615384615384616\n",
      "The time recall is: 0.6944444444444444\n",
      "The time F1 score is: 0.8064516129032258\n"
     ]
    }
   ],
   "source": [
    "#Combining values\n",
    "all_temp_val = []\n",
    "all_time_val = []\n",
    "for doi in list(temp_val.keys()):\n",
    "    all_temp_val.extend(temp_val[doi])\n",
    "for doi in list(time_val.keys()):\n",
    "    all_time_val.extend(time_val[doi])\n",
    "\n",
    "TP_time = all_time_val.count('TP')\n",
    "FP_time = all_time_val.count('FP')\n",
    "FN_time = all_time_val.count('FN')\n",
    "TP_temp = all_temp_val.count('TP')\n",
    "FP_temp = all_temp_val.count('FP')\n",
    "FN_temp = all_temp_val.count('FN')\n",
    "precision_temp = TP_temp / (TP_temp+FP_temp)\n",
    "recall_temp = TP_temp / (TP_temp+FN_temp)\n",
    "F1_temp = (2*precision_temp*recall_temp)/(precision_temp+recall_temp)\n",
    "print(f'The temp precision is: {precision_temp}')\n",
    "print(f'The temp recall is: {recall_temp}')\n",
    "print(f'The temp F1 score is: {F1_temp}')\n",
    "precision_time = TP_time / (TP_time+FP_time)\n",
    "recall_time = TP_time / (TP_time+FN_time)\n",
    "F1_time = (2*precision_time*recall_time)/(precision_time+recall_time)\n",
    "print(f'The time precision is: {precision_time}')\n",
    "print(f'The time recall is: {recall_time}')\n",
    "print(f'The time F1 score is: {F1_time}')"
   ]
  },
  {
   "cell_type": "code",
   "execution_count": 32,
   "metadata": {},
   "outputs": [],
   "source": [
    "# # Assigning values\n",
    "# def list_is_equal(lst1, lst2):\n",
    "#     if type(lst1) != type(lst2):\n",
    "#         return False\n",
    "#     if len(lst1) == len(lst2) and set(lst1)==set(lst2):\n",
    "#         return True\n",
    "#     else:\n",
    "#         return False\n",
    "# temp_val = {}\n",
    "# time_val = {}\n",
    "# for doi in list(temp_time_ext.keys()):\n",
    "#     print(doi)\n",
    "#     if type(temp_time_ext[doi]['temp']) == list:\n",
    "#         if list_is_equal(temp_time_ext[doi]['temp'], temp_time_ann[doi]['temp']):\n",
    "#             temp_val[doi] = 'TP'\n",
    "#         elif not list_is_equal(temp_time_ext[doi]['temp'], temp_time_ann[doi]['temp']):\n",
    "#             temp_val[doi] = 'FP'\n",
    "#     if type(temp_time_ext[doi]['temp']) == str:\n",
    "#         if temp_time_ext[doi]['temp'] == temp_time_ann[doi]['temp']:\n",
    "#             temp_val[doi] = 'TP'\n",
    "#     if type(temp_time_ext[doi]['temp']) ==str and type(temp_time_ann[doi]['temp'])==list:\n",
    "#         temp_val[doi] = 'FN'\n",
    "#     if type(temp_time_ext[doi]['time']) == list:\n",
    "#         if list_is_equal(temp_time_ext[doi]['time'], temp_time_ann[doi]['time']):\n",
    "#             time_val[doi] = 'TP'\n",
    "#         elif not list_is_equal(temp_time_ext[doi]['time'], temp_time_ann[doi]['time']):\n",
    "#             time_val[doi] = 'FP'\n",
    "#     if type(temp_time_ext[doi]['time']) == str:\n",
    "#         if temp_time_ext[doi]['time'] == temp_time_ann[doi]['time']:\n",
    "#             time_val[doi] = 'TP'\n",
    "#     if type(temp_time_ext[doi]['time']) ==str and type(temp_time_ann[doi]['time'])==list:\n",
    "#         time_val[doi] = 'FN'\n",
    "# print(len(temp_val))\n",
    "# print(len(time_val))\n",
    "# print(temp_val)"
   ]
  },
  {
   "cell_type": "code",
   "execution_count": 31,
   "metadata": {},
   "outputs": [],
   "source": [
    "# #Assigning values\n",
    "# def list_is_equal(lst1, lst2):\n",
    "#     if type(lst1) != type(lst2):\n",
    "#         return False\n",
    "#     if len(lst1) == len(lst2) and set(lst1)==set(lst2):\n",
    "#         return True\n",
    "#     else:\n",
    "#         return False\n",
    "# temp_time_val = {}\n",
    "# for doi in list(temp_time_ext.keys()):\n",
    "#     values = []\n",
    "#     for val in temp_time_ext[doi]:\n",
    "#         if list_is_equal(val['temp'], temp_time_ann[doi][0]['temp']) and list_is_equal(val['time'], temp_time_ann[doi][0]['time']):\n",
    "#             values.append('TP')\n",
    "#         elif val['temp'] == '' and val['time']=='':\n",
    "#             values.append('FN')\n",
    "#         elif not list_is_equal(val['temp'], temp_time_ann[doi][0]['temp']) or not list_is_equal(val['time'], temp_time_ann[doi][0]['time']):\n",
    "#             values.append('FP')\n",
    "#     temp_time_val[doi] = values\n",
    "# print(len(temp_time_val))\n",
    "# print(temp_time_val)"
   ]
  },
  {
   "cell_type": "code",
   "execution_count": 118,
   "metadata": {},
   "outputs": [
    {
     "name": "stdout",
     "output_type": "stream",
     "text": [
      "['TP', 'TP', 'TP', 'FN', 'TP', 'TP', 'FP', 'TP', 'FN', 'TP', 'TP', 'TP', 'FN', 'TP', 'FP', 'TP', 'TP', 'TP', 'FP', 'TP', 'FN', 'TP', 'FN', 'TP', 'FN', 'TP', 'FN', 'TP', 'TP', 'TP', 'TP', 'FN', 'TP']\n"
     ]
    }
   ],
   "source": [
    "# all_values_combine = []\n",
    "# for values in temp_time_val.values():\n",
    "#     all_values_combine.extend(values)\n",
    "# print(all_values_combine)\n"
   ]
  },
  {
   "cell_type": "code",
   "execution_count": 119,
   "metadata": {},
   "outputs": [
    {
     "name": "stdout",
     "output_type": "stream",
     "text": [
      "The precision is: 0.88\n",
      "The recall is: 0.7333333333333333\n",
      "The F1 score is: 0.8\n"
     ]
    }
   ],
   "source": [
    "# TP = all_values_combine.count('TP')\n",
    "# FP = all_values_combine.count('FP')\n",
    "# FN = all_values_combine.count('FN')\n",
    "# precision = TP / (TP+FP)\n",
    "# recall = TP / (TP+FN)\n",
    "# F1 = (2*precision*recall)/(precision+recall)\n",
    "# print(f'The precision is: {precision}')\n",
    "# print(f'The recall is: {recall}')\n",
    "# print(f'The F1 score is: {F1}')"
   ]
  },
  {
   "cell_type": "code",
   "execution_count": 35,
   "metadata": {},
   "outputs": [],
   "source": [
    "# TP_time = list(time_val.values()).count('TP')\n",
    "# FP_time = list(time_val.values()).count('FP')\n",
    "# FN_time = list(time_val.values()).count('FN')\n",
    "# TP_temp = list(temp_val.values()).count('TP')\n",
    "# FP_temp = list(temp_val.values()).count('FP')\n",
    "# FN_temp = list(temp_val.values()).count('FN')\n",
    "# precision_temp = TP_temp / (TP_temp+FP_temp)\n",
    "# recall_temp = TP_temp / (TP_temp+FN_temp)\n",
    "# F1_temp = (2*precision_temp*recall_temp)/(precision_temp+recall_temp)\n",
    "# print(f'The temp precision is: {precision_temp}')\n",
    "# print(f'The temp recall is: {recall_temp}')\n",
    "# print(f'The temp F1 score is: {F1_temp}')\n",
    "# precision_time = TP_time / (TP_time+FP_time)\n",
    "# recall_time = TP_time / (TP_time+FN_time)\n",
    "# F1_time = (2*precision_time*recall_time)/(precision_time+recall_time)\n",
    "# print(f'The time precision is: {precision_time}')\n",
    "# print(f'The time recall is: {recall_time}')\n",
    "# print(f'The time F1 score is: {F1_time}')"
   ]
  },
  {
   "cell_type": "code",
   "execution_count": 32,
   "metadata": {},
   "outputs": [],
   "source": [
    "# #### Split time and temp\n",
    "# #Collecting reaction time and temp from extractions\n",
    "# temp_time_ext = {}\n",
    "# for para in extractions:\n",
    "#     temp_time_ext[para['doi']] = {}\n",
    "#     for operation in para['heating_operations']:\n",
    "#         if operation['temp_values']['values'] != None and operation['time_values']['values'] != None:\n",
    "#             temp_time_ext[para['doi']].update({'temp':operation['temp_values']['values'], 'time':operation['time_values']['values']})\n",
    "#         if operation['temp_values']['values'] != None and operation['time_values']['values'] is None:\n",
    "#             temp_time_ext[para['doi']].update({'temp':operation['temp_values']['values'], 'time':''})\n",
    "#         if operation['temp_values']['values'] is None and operation['time_values']['values'] != None:\n",
    "#             temp_time_ext[para['doi']].update({'temp':'', 'time':operation['time_values']['values']})\n",
    "#         if operation['temp_values']['values'] is None and operation['time_values']['values'] is None:\n",
    "#             temp_time_ext[para['doi']].update({'temp':'', 'time':''})\n",
    "#     if len(para['heating_operations']) == 0:\n",
    "#         temp_time_ext[para['doi']].update({'temp': '','time':''})\n",
    "# print(len(temp_time_ext))\n",
    "# print(temp_time_ext)"
   ]
  },
  {
   "cell_type": "code",
   "execution_count": 121,
   "metadata": {},
   "outputs": [
    {
     "name": "stdout",
     "output_type": "stream",
     "text": [
      "30\n",
      "{'10.1007/s10876-022-02339-x': {'temp': [180], 'time': [4]}, '10.1007/s00216-015-9138-8': {'temp': [300], 'time': [2]}, '10.1007/s10895-020-02645-5': {'temp': [180], 'time': [12]}, '10.1016/j.saa.2020.118580': {'temp': [180], 'time': [10]}, '10.1021/acs.jpcc.9b06672': {'temp': [180], 'time': [3, 1, 9, 6]}, '10.1016/j.optmat.2019.05.045': {'temp': [200], 'time': [20]}, '10.1080/00032719.2020.1759618_no_1': {'temp': [180], 'time': [8]}, '10.1038/ncomms6357': {'temp': [200], 'time': [10]}, '10.1007/s10570-017-1230-0': {'temp': [150], 'time': [3]}, '10.1021/acssuschemeng.9b00027_no_2': {'temp': '', 'time': ''}, '10.1021/acsabm.9b00101': {'temp': [180], 'time': [6]}, '10.3390/chemosensors10060219': {'temp': [160], 'time': [24]}, '10.3390/nano12234166': {'temp': [180], 'time': [8]}, '10.1002/bio.3407': {'temp': [180], 'time': [3]}, '10.1002/bio.3803': {'temp': [200], 'time': [5]}, '10.3390/molecules27165254': {'temp': [180], 'time': [24]}, '10.1039/C8NJ02086H': {'temp': [200], 'time': [5]}, '10.1039/C4TA05483K': {'temp': [160, 220, 240, 180, 200], 'time': [6]}, '10.1039/C6TB00519E': {'temp': [200], 'time': [6]}, '10.1080/1536383X.2022.2030315': {'temp': [180], 'time': [3]}, '10.3390/ma15249057': {'temp': [180], 'time': [4]}, '10.1021/acsabm.1c00371': {'temp': [170, 180, 150], 'time': [5, 2, 6]}, '10.1021/acsami.8b16710': {'temp': [160], 'time': [8]}, '10.3390/coatings12091311': {'temp': [140, 220], 'time': [3, 24]}, '10.1016/j.saa.2022.121139': {'temp': [190], 'time': [9]}, '10.1002/pssb.201700222': {'temp': [200], 'time': [4]}, '10.1021/acsomega.2c06047': {'temp': [240], 'time': [24]}, '10.1002/adom.201701150_no_2': {'temp': '', 'time': ''}, '10.3390/chemosensors10100383': {'temp': [160], 'time': [8]}, '10.1016/j.snb.2018.10.075': {'temp': [180], 'time': [5]}}\n"
     ]
    }
   ],
   "source": [
    "# #Collecting reaction time and temp from annotations\n",
    "# temp_time_ann = {}\n",
    "# for para in annotation:    \n",
    "#     temp_time_ann[para['doi']] = {}\n",
    "#     if not para['temp_values'] and not para['time_values']:\n",
    "#         temp_time_ann[para['doi']].update({'temp':'','time':''})\n",
    "#     else:\n",
    "#         if not para['time_values']:\n",
    "#             para['time_values'].update({'values':''})\n",
    "#         if not para['temp_values']:\n",
    "#             para['temp_values'].update({'values':''})\n",
    "#         temp_time_ann[para['doi']].update({'temp':para['temp_values']['values'], 'time':para['time_values']['values']})\n",
    "# print(len(temp_time_ann))\n",
    "# print(temp_time_ann)"
   ]
  },
  {
   "cell_type": "code",
   "execution_count": 122,
   "metadata": {},
   "outputs": [
    {
     "name": "stdout",
     "output_type": "stream",
     "text": [
      "30\n",
      "30\n"
     ]
    }
   ],
   "source": [
    "# #Assigning values\n",
    "# def list_is_equal(lst1, lst2):\n",
    "#     if type(lst1) != type(lst2):\n",
    "#         return False\n",
    "#     if len(lst1) == len(lst2) and set(lst1)==set(lst2):\n",
    "#         return True\n",
    "#     else:\n",
    "#         return False\n",
    "# temp_val = {}\n",
    "# time_val = {}\n",
    "# for doi in list(temp_time_ext.keys()):\n",
    "#     if type(temp_time_ext[doi]['temp']) == list and type(temp_time_ann[doi]['temp']) == list:\n",
    "#         if list_is_equal(temp_time_ext[doi]['temp'],temp_time_ann[doi]['temp']):\n",
    "#             temp_val[doi] = 'TP'\n",
    "#         else:\n",
    "#             temp_val[doi] = 'FP'\n",
    "#     elif type(temp_time_ext[doi]['temp']) == str and type(temp_time_ann[doi]['temp']) == str:\n",
    "#         temp_val[doi] ='TP'\n",
    "#     elif type(temp_time_ext[doi]['temp']) == str and type(temp_time_ann[doi]['temp']) == list:\n",
    "#         temp_val[doi] = 'FN'\n",
    "#     elif type(temp_time_ext[doi]['temp']) == list and type(temp_time_ann[doi]['temp']) == str:\n",
    "#         temp_val[doi] = 'FP'\n",
    "# for doi in list(temp_time_ext.keys()):\n",
    "#     if type(temp_time_ext[doi]['time']) == list and type(temp_time_ann[doi]['time']) == list:\n",
    "#         if list_is_equal(temp_time_ext[doi]['time'],temp_time_ann[doi]['time']):\n",
    "#             time_val[doi] = 'TP'\n",
    "#         else:\n",
    "#             time_val[doi] = 'FP'\n",
    "#     elif type(temp_time_ext[doi]['time']) == str and type(temp_time_ann[doi]['time']) == str:\n",
    "#         time_val[doi] ='TP'\n",
    "#     elif type(temp_time_ext[doi]['time']) == str and type(temp_time_ann[doi]['time']) == list:\n",
    "#         time_val[doi] = 'FN'\n",
    "#     elif type(temp_time_ext[doi]['time']) == list and type(temp_time_ann[doi]['time']) == str:\n",
    "#         time_val[doi] = 'FP'\n",
    "# print(len(temp_val))\n",
    "# print(len(time_val))"
   ]
  },
  {
   "cell_type": "code",
   "execution_count": 123,
   "metadata": {},
   "outputs": [
    {
     "name": "stdout",
     "output_type": "stream",
     "text": [
      "The temp precision is: 0.9545454545454546\n",
      "The temp recall is: 0.7241379310344828\n",
      "The temp F1 score is: 0.823529411764706\n",
      "The time precision is: 0.9523809523809523\n",
      "The time recall is: 0.6896551724137931\n",
      "The time F1 score is: 0.7999999999999999\n"
     ]
    }
   ],
   "source": [
    "# TP_time = list(time_val.values()).count('TP')\n",
    "# FP_time = list(time_val.values()).count('FP')\n",
    "# FN_time = list(time_val.values()).count('FN')\n",
    "# TP_temp = list(temp_val.values()).count('TP')\n",
    "# FP_temp = list(temp_val.values()).count('FP')\n",
    "# FN_temp = list(temp_val.values()).count('FN')\n",
    "# precision_temp = TP_temp / (TP_temp+FP_temp)\n",
    "# recall_temp = TP_temp / (TP_temp+FN_temp)\n",
    "# F1_temp = (2*precision_temp*recall_temp)/(precision_temp+recall_temp)\n",
    "# print(f'The temp precision is: {precision_temp}')\n",
    "# print(f'The temp recall is: {recall_temp}')\n",
    "# print(f'The temp F1 score is: {F1_temp}')\n",
    "# precision_time = TP_time / (TP_time+FP_time)\n",
    "# recall_time = TP_time / (TP_time+FN_time)\n",
    "# F1_time = (2*precision_time*recall_time)/(precision_time+recall_time)\n",
    "# print(f'The time precision is: {precision_time}')\n",
    "# print(f'The time recall is: {recall_time}')\n",
    "# print(f'The time F1 score is: {F1_time}')"
   ]
  },
  {
   "cell_type": "code",
   "execution_count": 124,
   "metadata": {},
   "outputs": [
    {
     "name": "stdout",
     "output_type": "stream",
     "text": [
      "The precision is: 0.9534883720930233\n",
      "The recall is: 0.7068965517241379\n",
      "The F1 score is: 0.8118811881188119\n"
     ]
    }
   ],
   "source": [
    "# #Combined time and temp\n",
    "# TP = TP_time + TP_temp\n",
    "# FP = FP_time + FP_temp\n",
    "# FN = FN_time + FN_temp\n",
    "# precision = TP / (TP+FP)\n",
    "# recall = TP / (TP+FN)\n",
    "# F1 = (2*precision*recall)/(precision + recall)\n",
    "# print(f'The precision is: {precision}')\n",
    "# print(f'The recall is: {recall}')\n",
    "# print(f'The F1 score is: {F1}')"
   ]
  },
  {
   "cell_type": "code",
   "execution_count": null,
   "metadata": {},
   "outputs": [],
   "source": []
  },
  {
   "cell_type": "code",
   "execution_count": null,
   "metadata": {},
   "outputs": [],
   "source": []
  },
  {
   "cell_type": "code",
   "execution_count": null,
   "metadata": {},
   "outputs": [],
   "source": []
  },
  {
   "cell_type": "markdown",
   "metadata": {},
   "source": [
    "# Analysis of random 30 sample from extracted data"
   ]
  },
  {
   "cell_type": "code",
   "execution_count": 39,
   "metadata": {},
   "outputs": [],
   "source": [
    "#file import\n",
    "path = '/Users/pnt17/Library/CloudStorage/OneDrive-ImperialCollegeLondon/MRes_project_data/para_dataset'\n",
    "file = 'data_30_sample_random.json'\n",
    "path_2 = '/Users/pnt17/Library/CloudStorage/OneDrive-ImperialCollegeLondon/MRes_project_data/annotations'\n",
    "file_2 = 'random_30_sample.json'\n",
    "\n",
    "with open(os.path.join(path, file), 'r', encoding='utf-8') as f:\n",
    "    extractions = json.load(f)\n",
    "    \n",
    "with open(os.path.join(path_2,file_2), 'r', encoding = 'utf-8') as f:\n",
    "    annotation = json.load(f)"
   ]
  },
  {
   "cell_type": "code",
   "execution_count": 40,
   "metadata": {},
   "outputs": [],
   "source": [
    "for entry in extractions:\n",
    "    doi = entry['doi']\n",
    "    entry['doi'] = doi.lower()"
   ]
  },
  {
   "cell_type": "markdown",
   "metadata": {},
   "source": [
    "## Analysis of all materials extraction"
   ]
  },
  {
   "cell_type": "code",
   "execution_count": 41,
   "metadata": {},
   "outputs": [
    {
     "name": "stdout",
     "output_type": "stream",
     "text": [
      "30\n",
      "{'10.1007/s00339-012-6774-0': ['Cd(CH3COO)2', 'CdS', 'DMSO', 'GO', 'Graphene', 'G–CdS', 'G–CdS–GO', 'acetone', 'dimethylsulfoxide', 'ethanol', 'graphene', 'graphite oxide', 'steel', 'water'], '10.1021/acsomega.0c00098': ['Cane molasses', 'GQDs', 'PEG-200', 'PEG-GQDs', 'UP water', 'air', 'cane molasses', 'carbon', 'steel', 'water'], '10.3390/nano8060372_no_0': ['N2', 'O2', 'Teflon', 'aliphatic acid', 'aluminum', 'steel'], '10.1007/s10876-008-0202-9_no_1': ['C12H33N6O40PW12 2', 'H2O', 'H3PO4', 'Na2WO4 · 2H2O(0.137', 'Teflon', 'pip 6H2O', 'steel', 'tungsten', 'water'], '10.1007/s13399-019-00387-4_no_0': ['CH', 'CQDs', 'CS', 'carbon', 'chitin', 'chitosan', 'ethanol', 'graphite'], '10.1021/acsami.5b03228': ['H2O', 'garlic'], '10.3390/nano10020326': ['Carbon', 'PTFE', 'cellulose ester', 'citric acid monohydrate', 'ethylenediamine', 'meso-tetra (4-carboxyphenyl) porphin', 'water'], '10.1039/c8dt04143a_no_1': ['3-mercaptopropionic acid', 'BCS', 'CdCl2·2.5H2O', 'CdSe/BSC', 'CoCl2·6H2O', 'NaHB', 'Se', 'Teflon', 'a% Co-CdSe/BCS-b', 'alcohol', 'water'], '10.1016/j.saa.2022.122039': ['FA', 'MEA', 'N-CDs', 'NaOH', 'PTFE', 'acetamide', 'folic acid', 'steel', 'water'], '10.1039/d1ay02042k': ['CA', 'Cdots', 'EA', 'c-hexane', 'dodecylamine', 'silica'], '10.1007/s00604-017-2314-0': ['DAP', 'DAP-', 'DAP-CDs', 'Teflon', 'm-phenylenediamine', 'water'], '10.1039/c3ta14744d': ['CCMS-1', 'CCMS-2', 'CCMS-3', 'MoO3', 'MoS2', 'carbon', 'ethanol', 'steel', 'thioacetamide', 'urea', 'water'], '10.1007/s40097-020-00348-8': ['FeCl2·4H2O', 'Iron oxide', 'NaOH', 'Teflon', 'ethanol', 'ferrous chloride', 'hydroxide', 'steel', 'water'], '10.1016/j.microc.2021.107057': ['CQDs', 'K2HPO4', 'N-CQDs', 'glucosamine', 'glucose', 'sugar', 'water'], '10.1021/acssuschemeng.7b02941': ['NGQDs', 'Teflon', 'air', 'citric acid', 'ethanol', 'urea', 'water'], '10.1039/c4dt01288g_no_1': ['Ba(NO3)2', 'HfOCl2·8H2O', 'NaOH', 'Ni(NO3)2·6H2O', 'Sr(NO3)2', 'Sr0.8Ni0.2ZrO3', 'Teflon', 'ZrOCl2·8H2O', 'barium A', 'hafnium B', 'steel', 'ultra-pure', 'water'], '10.1007/s11581-020-03832-x': ['NAC', 'NaN3', 'Teflon', 'water'], '10.1021/acs.analchem.1c03515': ['CQDs', 'NH4F', 'PEI', 'PTCDA', 'ethanol', 'steel', 'water'], '10.1016/j.dyepig.2020.108953': ['SSF-CDs', 'Teflon', 'dehydroabietic acid', 'ethanolamine', 'water'], '10.1016/j.petrol.2022.110325': ['CA', 'CA-CQD', 'CA-CQDs', 'EDA', 'Teflon', 'citric acid', 'ethylenediamine', 'steel', 'water'], '10.1021/acs.cgd.2c00330_no_0': ['CA', 'CD', 'PEI', 'citric acid', 'ethylene imine', 'water'], '10.1021/acsbiomaterials.8b01528': ['N-CQDs', 'Teflon', 'water'], '10.1039/c5ra26870b': ['N-CDs', 'Teflon', 'ethylenediamine', 'maleic acid', 'water'], '10.1080/10934529.2015.1079112': ['A.', 'EG', 'Fe3O4 MNPs', 'Fe3O4–graphite', 'FeCl3', 'NaOAc', 'ethanol', 'graphite', 'steel', 'water'], '10.1007/s11581-014-1089-0_no_1': ['Ar', 'Co(NO3)2 · 6H2O', 'CoMoO4/rGO', 'GO', 'H2O2', 'HCl', 'Na2MoO4 · 2H2O', 'NaNO3', 'acetone', 'ethanol', 'fumic sulfuric acid', 'graphite', 'graphite oxide', 'potassium permanganate', 'steel', 'water'], '10.1007/s10562-010-0403-3_no_0': ['1,4-butanediol', '1,4-butanediol [HO(CH2)4OH', '1-butanol [ZNB', 'W/ZrO2', 'Zr(O(CH2)3CH3)4', 'ZrO2', 'air', 'alkoxide', 'methanol', 'nitrogen', 'zirconia', 'zirconium tetra-n-butoxide'], '10.1021/acsomega.2c03675': ['CsOH·H2O', 'WCl6', 'ethanol', 'g-C3N4', 'glacial acetic acid', 'melamine'], '10.1039/c6ra02787c_no_1': ['Fe3O4/hydrochar', 'FeCl2·4H2O', 'NaH2PO4·2H2O', 'NaOH', 'Teflon', 'ethanol', 'glucose', 'hydrochar', 'steel', 'water'], '10.1021/acsomega.0c03995': ['CPDs', 'HCl', 'SA', 'SA-CPDs', 'SG-CPD', 'glutaraldehyde', 'poly(tetrafluoroethylene)', 'water'], '10.1039/c6nr09137g': ['/', 'NaOH', 'TBA', 'TNRs', 'TNRs-C3N4-x”', 'TNRs/g-C3N4', 'TNSs', 'TiO2', 'g-C3N4', 'urea', 'water']}\n"
     ]
    }
   ],
   "source": [
    "#collecting all materials without amount from extraction\n",
    "all_materials_ext = {}\n",
    "for para in extractions:\n",
    "    all_materials_ext[para['doi']] = list(para['all_materials'])\n",
    "print(len(all_materials_ext))\n",
    "print(all_materials_ext)"
   ]
  },
  {
   "cell_type": "code",
   "execution_count": 42,
   "metadata": {},
   "outputs": [
    {
     "name": "stdout",
     "output_type": "stream",
     "text": [
      "30\n",
      "{'10.1007/s00339-012-6774-0': ['graphite oxide', 'Graphene', 'dimethylsulfoxide', 'G–CdS–GO', 'CdS', 'water', 'Cd(CH3COO)2', 'G–CdS', 'acetone', 'ethanol', 'graphene', 'DMSO', 'GO'], '10.1021/acsomega.0c00098': ['PEG-GQDs', 'carbon slag', 'water', 'GQDs', 'Cane molasses'], '10.3390/nano8060372_no_0': [], '10.1007/s10876-008-0202-9_no_1': ['H2O', 'pip 6H2O', 'H3PO4', 'Na2WO4 · 2H2O', 'tungsten', 'Compound 2'], '10.1007/s13399-019-00387-4_no_0': ['chitosan', 'CQDs', 'ethanol', 'graphite', 'chitin'], '10.1021/acsami.5b03228': ['garlic', 'CDs', 'H2O'], '10.3390/nano10020326': ['ethylenediamine', 'citric acid monohydrate', 'PCDs', 'water', 'Carbon dots', 'meso-tetra (4-carboxyphenyl) porphin'], '10.1039/c8dt04143a_no_1': ['Se powder', 'CdCl2·2.5H2O', 'BCS', 'NaHB', 'CoCl2·6H2O', 'Co-doped CdSe/BSC', '3-mercaptopropionic acid', 'water', 'Co-CdSe/BCS-b'], '10.1016/j.saa.2022.122039': ['FA', 'NaOH', 'water', 'folic acid', 'acetamide', 'N-CDs', 'MEA'], '10.1039/d1ay02042k': ['dodecylamine', 'c-hexane', 'Cdots', 'CA'], '10.1007/s00604-017-2314-0': ['DAP-CDs', 'm-phenylenediamine', 'water', 'DA'], '10.1039/c3ta14744d': ['CCMS-1', 'CCMS-3', 'water', 'thioacetamide', 'carbon cloth', 'MoS2', 'ethanol', 'urea', 'MoO3', 'CCMS-2'], '10.1007/s40097-020-00348-8': ['FeCl2·4H2O', 'NaOH', 'water', 'Fe-based nanofibers', 'ferrous chloride'], '10.1016/j.microc.2021.107057': ['N-CQDs', 'CQDs', 'water', 'K2HPO4', 'glucosamine', 'glucose'], '10.1021/acssuschemeng.7b02941': ['water', 'NGQDs', 'ethanol', 'citric acid', 'urea'], '10.1039/c4dt01288g_no_1': ['nickel doped perovskite', 'Sr(NO3)2', 'water', 'ZrOCl2·8H2O', 'barium A site perovskite', 'Ni(NO3)2·6H2O', 'hafnium B site perovskite'], '10.1007/s11581-020-03832-x': ['NAC', 'water', 'NaN3', 'active carbon'], '10.1021/acs.analchem.1c03515': ['PEI', 'CQDs', 'water', 'ethanol', 'NH4F', 'PTCDA'], '10.1016/j.dyepig.2020.108953': ['ethanolamine ', 'dehydroabietic acid', 'water', 'SSF-CDs'], '10.1016/j.petrol.2022.110325': ['ethylenediamine', 'water', 'CA-CQD', 'citric acid', 'CA-CQDs', 'EDA', 'CA'], '10.1021/acs.cgd.2c00330_no_0': ['PEI', 'CD', 'water', 'ethylene imine polymer', 'CDs', 'citric acid', 'CA'], '10.1021/acsbiomaterials.8b01528': ['water', 'neem leaves', 'N-CQDs'], '10.1039/c5ra26870b': ['ethylenediamine', 'maleic acid', 'water', 'N-CDs'], '10.1080/10934529.2015.1079112': ['NaOAc', 'water', 'FeCl3', 'EG', 'graphite', 'Fe3O4–graphite composite', 'ethanol'], '10.1007/s11581-014-1089-0_no_1': ['potassium permanganate', 'Na2MoO4 · 2H2O', 'H2O2', 'NaNO3', 'CoMoO4/rGO nanorods', 'water', 'graphite flakes', 'sulfuric acid', 'acetone', 'Co(NO3)2 · 6H2O', 'ethanol', 'HCl', 'graphite oxide', 'GO'], '10.1007/s10562-010-0403-3_no_0': ['1,4-butanediol', 'zirconium tetra-n-butoxide', 'nitrogen', 'W/ZrO2', 'zirconia', 'ZrO2', 'W precursor'], '10.1021/acsomega.2c03675': ['g-C3N4', 'melamine', 'CsOH·H2O', 'WCl6', 'glacial acetic acid', 'ethanol'], '10.1039/c6ra02787c_no_1': ['FeCl2·4H2O', 'NaOH', 'hydrochar', 'water', 'ethanol', 'NaH2PO4·2H2O', 'glucose', 'Fe3O4/hydrochar composites'], '10.1021/acsomega.0c03995': ['SG-CPD', 'CPDs', 'water ', 'glutaraldehyde', 'HCl', 'SA', 'SA-CPDs'], '10.1039/c6nr09137g': ['g-C3N4', 'NaOH', 'water', 'TBA', 'TNSs', 'TiO2', 'TNRs/g-C3N4', 'urea']}\n"
     ]
    }
   ],
   "source": [
    "#collecting all materials without amount from annotations\n",
    "all_materials_ann = {}\n",
    "for para in annotation:\n",
    "    materials = []\n",
    "    for material in para['all_materials']:\n",
    "        materials.extend(list(material))\n",
    "    all_materials_ann[para['doi']] = list(set(materials))\n",
    "print(len(all_materials_ann))\n",
    "print(all_materials_ann)"
   ]
  },
  {
   "cell_type": "code",
   "execution_count": 43,
   "metadata": {},
   "outputs": [
    {
     "name": "stdout",
     "output_type": "stream",
     "text": [
      "{'10.1007/s00339-012-6774-0': [('Cd(CH3COO)2', 'Cd(CH3COO)2'), ('CdS', 'CdS'), ('DMSO', 'DMSO'), ('GO', 'GO'), ('Graphene', 'Graphene'), ('G–CdS', 'G–CdS'), ('G–CdS–GO', 'G–CdS–GO'), ('acetone', 'acetone'), ('dimethylsulfoxide', 'dimethylsulfoxide'), ('ethanol', 'ethanol'), ('graphene', 'graphene'), ('graphite oxide', 'graphite oxide'), ('steel', ''), ('water', 'water')], '10.1021/acsomega.0c00098': [('Cane molasses', 'Cane molasses'), ('GQDs', 'GQDs'), ('PEG-200', ''), ('PEG-GQDs', 'PEG-GQDs'), ('UP water', ''), ('air', ''), ('cane molasses', ''), ('carbon', ''), ('steel', ''), ('water', 'water'), ('', 'carbon slag')], '10.3390/nano8060372_no_0': [('N2', ''), ('O2', ''), ('Teflon', ''), ('aliphatic acid', ''), ('aluminum', ''), ('steel', '')], '10.1007/s10876-008-0202-9_no_1': [('C12H33N6O40PW12 2', ''), ('H2O', 'H2O'), ('H3PO4', 'H3PO4'), ('Na2WO4 · 2H2O(0.137', ''), ('Teflon', ''), ('pip 6H2O', 'pip 6H2O'), ('steel', ''), ('tungsten', 'tungsten'), ('water', ''), ('', 'Na2WO4 · 2H2O'), ('', 'Compound 2')], '10.1007/s13399-019-00387-4_no_0': [('CH', ''), ('CQDs', 'CQDs'), ('CS', ''), ('carbon', ''), ('chitin', 'chitin'), ('chitosan', 'chitosan'), ('ethanol', 'ethanol'), ('graphite', 'graphite')], '10.1021/acsami.5b03228': [('H2O', 'H2O'), ('garlic', 'garlic'), ('', 'CDs')], '10.3390/nano10020326': [('Carbon', ''), ('PTFE', ''), ('cellulose ester', ''), ('citric acid monohydrate', 'citric acid monohydrate'), ('ethylenediamine', 'ethylenediamine'), ('meso-tetra (4-carboxyphenyl) porphin', 'meso-tetra (4-carboxyphenyl) porphin'), ('water', 'water'), ('', 'PCDs'), ('', 'Carbon dots')], '10.1039/c8dt04143a_no_1': [('3-mercaptopropionic acid', '3-mercaptopropionic acid'), ('BCS', 'BCS'), ('CdCl2·2.5H2O', 'CdCl2·2.5H2O'), ('CdSe/BSC', ''), ('CoCl2·6H2O', 'CoCl2·6H2O'), ('NaHB', 'NaHB'), ('Se', ''), ('Teflon', ''), ('a% Co-CdSe/BCS-b', ''), ('alcohol', ''), ('water', 'water'), ('', 'Se powder'), ('', 'Co-doped CdSe/BSC'), ('', 'Co-CdSe/BCS-b')], '10.1016/j.saa.2022.122039': [('FA', 'FA'), ('MEA', 'MEA'), ('N-CDs', 'N-CDs'), ('NaOH', 'NaOH'), ('PTFE', ''), ('acetamide', 'acetamide'), ('folic acid', 'folic acid'), ('steel', ''), ('water', 'water')], '10.1039/d1ay02042k': [('CA', 'CA'), ('Cdots', 'Cdots'), ('EA', ''), ('c-hexane', 'c-hexane'), ('dodecylamine', 'dodecylamine'), ('silica', '')], '10.1007/s00604-017-2314-0': [('DAP', ''), ('DAP-', ''), ('DAP-CDs', 'DAP-CDs'), ('Teflon', ''), ('m-phenylenediamine', 'm-phenylenediamine'), ('water', 'water'), ('', 'DA')], '10.1039/c3ta14744d': [('CCMS-1', 'CCMS-1'), ('CCMS-2', 'CCMS-2'), ('CCMS-3', 'CCMS-3'), ('MoO3', 'MoO3'), ('MoS2', 'MoS2'), ('carbon', ''), ('ethanol', 'ethanol'), ('steel', ''), ('thioacetamide', 'thioacetamide'), ('urea', 'urea'), ('water', 'water'), ('', 'carbon cloth')], '10.1007/s40097-020-00348-8': [('FeCl2·4H2O', 'FeCl2·4H2O'), ('Iron oxide', ''), ('NaOH', 'NaOH'), ('Teflon', ''), ('ethanol', ''), ('ferrous chloride', 'ferrous chloride'), ('hydroxide', ''), ('steel', ''), ('water', 'water'), ('', 'Fe-based nanofibers')], '10.1016/j.microc.2021.107057': [('CQDs', 'CQDs'), ('K2HPO4', 'K2HPO4'), ('N-CQDs', 'N-CQDs'), ('glucosamine', 'glucosamine'), ('glucose', 'glucose'), ('sugar', ''), ('water', 'water')], '10.1021/acssuschemeng.7b02941': [('NGQDs', 'NGQDs'), ('Teflon', ''), ('air', ''), ('citric acid', 'citric acid'), ('ethanol', 'ethanol'), ('urea', 'urea'), ('water', 'water')], '10.1039/c4dt01288g_no_1': [('Ba(NO3)2', ''), ('HfOCl2·8H2O', ''), ('NaOH', ''), ('Ni(NO3)2·6H2O', 'Ni(NO3)2·6H2O'), ('Sr(NO3)2', 'Sr(NO3)2'), ('Sr0.8Ni0.2ZrO3', ''), ('Teflon', ''), ('ZrOCl2·8H2O', 'ZrOCl2·8H2O'), ('barium A', ''), ('hafnium B', ''), ('steel', ''), ('ultra-pure', ''), ('water', 'water'), ('', 'nickel doped perovskite'), ('', 'barium A site perovskite'), ('', 'hafnium B site perovskite')], '10.1007/s11581-020-03832-x': [('NAC', 'NAC'), ('NaN3', 'NaN3'), ('Teflon', ''), ('water', 'water'), ('', 'active carbon')], '10.1021/acs.analchem.1c03515': [('CQDs', 'CQDs'), ('NH4F', 'NH4F'), ('PEI', 'PEI'), ('PTCDA', 'PTCDA'), ('ethanol', 'ethanol'), ('steel', ''), ('water', 'water')], '10.1016/j.dyepig.2020.108953': [('SSF-CDs', 'SSF-CDs'), ('Teflon', ''), ('dehydroabietic acid', 'dehydroabietic acid'), ('ethanolamine', ''), ('water', 'water'), ('', 'ethanolamine ')], '10.1016/j.petrol.2022.110325': [('CA', 'CA'), ('CA-CQD', 'CA-CQD'), ('CA-CQDs', 'CA-CQDs'), ('EDA', 'EDA'), ('Teflon', ''), ('citric acid', 'citric acid'), ('ethylenediamine', 'ethylenediamine'), ('steel', ''), ('water', 'water')], '10.1021/acs.cgd.2c00330_no_0': [('CA', 'CA'), ('CD', 'CD'), ('PEI', 'PEI'), ('citric acid', 'citric acid'), ('ethylene imine', ''), ('water', 'water'), ('', 'ethylene imine polymer'), ('', 'CDs')], '10.1021/acsbiomaterials.8b01528': [('N-CQDs', 'N-CQDs'), ('Teflon', ''), ('water', 'water'), ('', 'neem leaves')], '10.1039/c5ra26870b': [('N-CDs', 'N-CDs'), ('Teflon', ''), ('ethylenediamine', 'ethylenediamine'), ('maleic acid', 'maleic acid'), ('water', 'water')], '10.1080/10934529.2015.1079112': [('A.', ''), ('EG', 'EG'), ('Fe3O4 MNPs', ''), ('Fe3O4–graphite', ''), ('FeCl3', 'FeCl3'), ('NaOAc', 'NaOAc'), ('ethanol', 'ethanol'), ('graphite', 'graphite'), ('steel', ''), ('water', 'water'), ('', 'Fe3O4–graphite composite')], '10.1007/s11581-014-1089-0_no_1': [('Ar', ''), ('Co(NO3)2 · 6H2O', 'Co(NO3)2 · 6H2O'), ('CoMoO4/rGO', ''), ('GO', 'GO'), ('H2O2', 'H2O2'), ('HCl', 'HCl'), ('Na2MoO4 · 2H2O', 'Na2MoO4 · 2H2O'), ('NaNO3', 'NaNO3'), ('acetone', 'acetone'), ('ethanol', 'ethanol'), ('fumic sulfuric acid', ''), ('graphite', ''), ('graphite oxide', 'graphite oxide'), ('potassium permanganate', 'potassium permanganate'), ('steel', ''), ('water', 'water'), ('', 'CoMoO4/rGO nanorods'), ('', 'graphite flakes'), ('', 'sulfuric acid')], '10.1007/s10562-010-0403-3_no_0': [('1,4-butanediol', '1,4-butanediol'), ('1,4-butanediol [HO(CH2)4OH', ''), ('1-butanol [ZNB', ''), ('W/ZrO2', 'W/ZrO2'), ('Zr(O(CH2)3CH3)4', ''), ('ZrO2', 'ZrO2'), ('air', ''), ('alkoxide', ''), ('methanol', ''), ('nitrogen', 'nitrogen'), ('zirconia', 'zirconia'), ('zirconium tetra-n-butoxide', 'zirconium tetra-n-butoxide'), ('', 'W precursor')], '10.1021/acsomega.2c03675': [('CsOH·H2O', 'CsOH·H2O'), ('WCl6', 'WCl6'), ('ethanol', 'ethanol'), ('g-C3N4', 'g-C3N4'), ('glacial acetic acid', 'glacial acetic acid'), ('melamine', 'melamine')], '10.1039/c6ra02787c_no_1': [('Fe3O4/hydrochar', ''), ('FeCl2·4H2O', 'FeCl2·4H2O'), ('NaH2PO4·2H2O', 'NaH2PO4·2H2O'), ('NaOH', 'NaOH'), ('Teflon', ''), ('ethanol', 'ethanol'), ('glucose', 'glucose'), ('hydrochar', 'hydrochar'), ('steel', ''), ('water', 'water'), ('', 'Fe3O4/hydrochar composites')], '10.1021/acsomega.0c03995': [('CPDs', 'CPDs'), ('HCl', 'HCl'), ('SA', 'SA'), ('SA-CPDs', 'SA-CPDs'), ('SG-CPD', 'SG-CPD'), ('glutaraldehyde', 'glutaraldehyde'), ('poly(tetrafluoroethylene)', ''), ('water', ''), ('', 'water ')], '10.1039/c6nr09137g': [('/', ''), ('NaOH', 'NaOH'), ('TBA', 'TBA'), ('TNRs', ''), ('TNRs-C3N4-x”', ''), ('TNRs/g-C3N4', 'TNRs/g-C3N4'), ('TNSs', 'TNSs'), ('TiO2', 'TiO2'), ('g-C3N4', 'g-C3N4'), ('urea', 'urea'), ('water', 'water')]}\n"
     ]
    }
   ],
   "source": [
    "#Assigning values\n",
    "all_materials = {}\n",
    "for doi in list(all_materials_ann.keys()):\n",
    "    pair_list = []\n",
    "    for material in all_materials_ext[doi]:\n",
    "        if material in all_materials_ann[doi]:\n",
    "            pair = (material, material)\n",
    "            pair_list.append(pair)\n",
    "        elif material not in all_materials_ann[doi]:\n",
    "            pair = (material,'')\n",
    "            pair_list.append(pair)\n",
    "    for material in all_materials_ann[doi]:\n",
    "        if material not in all_materials_ext[doi]:\n",
    "            pair = ('', material)\n",
    "            pair_list.append(pair)\n",
    "    all_materials[doi] = pair_list\n",
    "    \n",
    "print(all_materials)"
   ]
  },
  {
   "cell_type": "code",
   "execution_count": 44,
   "metadata": {},
   "outputs": [
    {
     "name": "stdout",
     "output_type": "stream",
     "text": [
      "30\n",
      "{'10.1007/s00339-012-6774-0': ['TP', 'TP', 'TP', 'TP', 'TP', 'TP', 'TP', 'TP', 'TP', 'TP', 'TP', 'TP', 'FP', 'TP'], '10.1021/acsomega.0c00098': ['TP', 'TP', 'FP', 'TP', 'FP', 'FP', 'FP', 'FP', 'FP', 'TP', 'FN'], '10.3390/nano8060372_no_0': ['FP', 'FP', 'FP', 'FP', 'FP', 'FP'], '10.1007/s10876-008-0202-9_no_1': ['FP', 'TP', 'TP', 'FP', 'FP', 'TP', 'FP', 'TP', 'FP', 'FN', 'FN'], '10.1007/s13399-019-00387-4_no_0': ['FP', 'TP', 'FP', 'FP', 'TP', 'TP', 'TP', 'TP'], '10.1021/acsami.5b03228': ['TP', 'TP', 'FN'], '10.3390/nano10020326': ['FP', 'FP', 'FP', 'TP', 'TP', 'TP', 'TP', 'FN', 'FN'], '10.1039/c8dt04143a_no_1': ['TP', 'TP', 'TP', 'FP', 'TP', 'TP', 'FP', 'FP', 'FP', 'FP', 'TP', 'FN', 'FN', 'FN'], '10.1016/j.saa.2022.122039': ['TP', 'TP', 'TP', 'TP', 'FP', 'TP', 'TP', 'FP', 'TP'], '10.1039/d1ay02042k': ['TP', 'TP', 'FP', 'TP', 'TP', 'FP'], '10.1007/s00604-017-2314-0': ['FP', 'FP', 'TP', 'FP', 'TP', 'TP', 'FN'], '10.1039/c3ta14744d': ['TP', 'TP', 'TP', 'TP', 'TP', 'FP', 'TP', 'FP', 'TP', 'TP', 'TP', 'FN'], '10.1007/s40097-020-00348-8': ['TP', 'FP', 'TP', 'FP', 'FP', 'TP', 'FP', 'FP', 'TP', 'FN'], '10.1016/j.microc.2021.107057': ['TP', 'TP', 'TP', 'TP', 'TP', 'FP', 'TP'], '10.1021/acssuschemeng.7b02941': ['TP', 'FP', 'FP', 'TP', 'TP', 'TP', 'TP'], '10.1039/c4dt01288g_no_1': ['FP', 'FP', 'FP', 'TP', 'TP', 'FP', 'FP', 'TP', 'FP', 'FP', 'FP', 'FP', 'TP', 'FN', 'FN', 'FN'], '10.1007/s11581-020-03832-x': ['TP', 'TP', 'FP', 'TP', 'FN'], '10.1021/acs.analchem.1c03515': ['TP', 'TP', 'TP', 'TP', 'TP', 'FP', 'TP'], '10.1016/j.dyepig.2020.108953': ['TP', 'FP', 'TP', 'FP', 'TP', 'FN'], '10.1016/j.petrol.2022.110325': ['TP', 'TP', 'TP', 'TP', 'FP', 'TP', 'TP', 'FP', 'TP'], '10.1021/acs.cgd.2c00330_no_0': ['TP', 'TP', 'TP', 'TP', 'FP', 'TP', 'FN', 'FN'], '10.1021/acsbiomaterials.8b01528': ['TP', 'FP', 'TP', 'FN'], '10.1039/c5ra26870b': ['TP', 'FP', 'TP', 'TP', 'TP'], '10.1080/10934529.2015.1079112': ['FP', 'TP', 'FP', 'FP', 'TP', 'TP', 'TP', 'TP', 'FP', 'TP', 'FN'], '10.1007/s11581-014-1089-0_no_1': ['FP', 'TP', 'FP', 'TP', 'TP', 'TP', 'TP', 'TP', 'TP', 'TP', 'FP', 'FP', 'TP', 'TP', 'FP', 'TP', 'FN', 'FN', 'FN'], '10.1007/s10562-010-0403-3_no_0': ['TP', 'FP', 'FP', 'TP', 'FP', 'TP', 'FP', 'FP', 'FP', 'TP', 'TP', 'TP', 'FN'], '10.1021/acsomega.2c03675': ['TP', 'TP', 'TP', 'TP', 'TP', 'TP'], '10.1039/c6ra02787c_no_1': ['FP', 'TP', 'TP', 'TP', 'FP', 'TP', 'TP', 'TP', 'FP', 'TP', 'FN'], '10.1021/acsomega.0c03995': ['TP', 'TP', 'TP', 'TP', 'TP', 'TP', 'FP', 'FP', 'FN'], '10.1039/c6nr09137g': ['FP', 'TP', 'TP', 'FP', 'FP', 'TP', 'TP', 'TP', 'TP', 'TP', 'TP']}\n"
     ]
    }
   ],
   "source": [
    "all_values = {}\n",
    "for doi in list(all_materials.keys()):\n",
    "    values = []\n",
    "    for pairs in all_materials[doi]:\n",
    "        if pairs[0] == pairs[1]:\n",
    "            values.append('TP')\n",
    "        elif pairs[0] != pairs[1] and pairs[0] =='':\n",
    "            values.append('FN')\n",
    "        elif pairs[0] != pairs[1] and pairs[1] == '':\n",
    "            values.append('FP')\n",
    "        all_values[doi] = values\n",
    "print(len(all_values))\n",
    "print(all_values)"
   ]
  },
  {
   "cell_type": "code",
   "execution_count": 45,
   "metadata": {},
   "outputs": [
    {
     "name": "stdout",
     "output_type": "stream",
     "text": [
      "['TP', 'TP', 'TP', 'TP', 'TP', 'TP', 'TP', 'TP', 'TP', 'TP', 'TP', 'TP', 'FP', 'TP', 'TP', 'TP', 'FP', 'TP', 'FP', 'FP', 'FP', 'FP', 'FP', 'TP', 'FN', 'FP', 'FP', 'FP', 'FP', 'FP', 'FP', 'FP', 'TP', 'TP', 'FP', 'FP', 'TP', 'FP', 'TP', 'FP', 'FN', 'FN', 'FP', 'TP', 'FP', 'FP', 'TP', 'TP', 'TP', 'TP', 'TP', 'TP', 'FN', 'FP', 'FP', 'FP', 'TP', 'TP', 'TP', 'TP', 'FN', 'FN', 'TP', 'TP', 'TP', 'FP', 'TP', 'TP', 'FP', 'FP', 'FP', 'FP', 'TP', 'FN', 'FN', 'FN', 'TP', 'TP', 'TP', 'TP', 'FP', 'TP', 'TP', 'FP', 'TP', 'TP', 'TP', 'FP', 'TP', 'TP', 'FP', 'FP', 'FP', 'TP', 'FP', 'TP', 'TP', 'FN', 'TP', 'TP', 'TP', 'TP', 'TP', 'FP', 'TP', 'FP', 'TP', 'TP', 'TP', 'FN', 'TP', 'FP', 'TP', 'FP', 'FP', 'TP', 'FP', 'FP', 'TP', 'FN', 'TP', 'TP', 'TP', 'TP', 'TP', 'FP', 'TP', 'TP', 'FP', 'FP', 'TP', 'TP', 'TP', 'TP', 'FP', 'FP', 'FP', 'TP', 'TP', 'FP', 'FP', 'TP', 'FP', 'FP', 'FP', 'FP', 'TP', 'FN', 'FN', 'FN', 'TP', 'TP', 'FP', 'TP', 'FN', 'TP', 'TP', 'TP', 'TP', 'TP', 'FP', 'TP', 'TP', 'FP', 'TP', 'FP', 'TP', 'FN', 'TP', 'TP', 'TP', 'TP', 'FP', 'TP', 'TP', 'FP', 'TP', 'TP', 'TP', 'TP', 'TP', 'FP', 'TP', 'FN', 'FN', 'TP', 'FP', 'TP', 'FN', 'TP', 'FP', 'TP', 'TP', 'TP', 'FP', 'TP', 'FP', 'FP', 'TP', 'TP', 'TP', 'TP', 'FP', 'TP', 'FN', 'FP', 'TP', 'FP', 'TP', 'TP', 'TP', 'TP', 'TP', 'TP', 'TP', 'FP', 'FP', 'TP', 'TP', 'FP', 'TP', 'FN', 'FN', 'FN', 'TP', 'FP', 'FP', 'TP', 'FP', 'TP', 'FP', 'FP', 'FP', 'TP', 'TP', 'TP', 'FN', 'TP', 'TP', 'TP', 'TP', 'TP', 'TP', 'FP', 'TP', 'TP', 'TP', 'FP', 'TP', 'TP', 'TP', 'FP', 'TP', 'FN', 'TP', 'TP', 'TP', 'TP', 'TP', 'TP', 'FP', 'FP', 'FN', 'FP', 'TP', 'TP', 'FP', 'FP', 'TP', 'TP', 'TP', 'TP', 'TP', 'TP']\n"
     ]
    }
   ],
   "source": [
    "all_values_combine = []\n",
    "for values in all_values.values():\n",
    "    all_values_combine.extend(values)\n",
    "print(all_values_combine)"
   ]
  },
  {
   "cell_type": "code",
   "execution_count": 46,
   "metadata": {},
   "outputs": [
    {
     "name": "stdout",
     "output_type": "stream",
     "text": [
      "The precision is: 0.6477732793522267\n",
      "The recall is: 0.8556149732620321\n",
      "The F1 score is: 0.7373271889400922\n"
     ]
    }
   ],
   "source": [
    "TP = all_values_combine.count('TP')\n",
    "FP = all_values_combine.count('FP')\n",
    "FN = all_values_combine.count('FN')\n",
    "precision = TP / (TP+FP)\n",
    "recall = TP / (TP+FN)\n",
    "F1 = (2*precision*recall)/(precision+recall)\n",
    "print(f'The precision is: {precision}')\n",
    "print(f'The recall is: {recall}')\n",
    "print(f'The F1 score is: {F1}')"
   ]
  },
  {
   "cell_type": "markdown",
   "metadata": {},
   "source": [
    "## Analysis of precursor material extraction"
   ]
  },
  {
   "cell_type": "code",
   "execution_count": 47,
   "metadata": {},
   "outputs": [
    {
     "name": "stdout",
     "output_type": "stream",
     "text": [
      "30\n",
      "{'10.1007/s00339-012-6774-0': ['Cd(CH3COO)2', 'GO', 'G–CdS', 'graphene', 'graphite oxide'], '10.1021/acsomega.0c00098': ['Cane molasses', 'GQDs'], '10.3390/nano8060372_no_0': ['aliphatic acid'], '10.1007/s10876-008-0202-9_no_1': ['H2O', 'Na2WO4 · 2H2O(0.137', 'pip 6H2O'], '10.1007/s13399-019-00387-4_no_0': ['CH', 'CS', 'chitin', 'chitosan', 'graphite'], '10.1021/acsami.5b03228': ['garlic'], '10.3390/nano10020326': ['citric acid monohydrate', 'ethylenediamine', 'meso-tetra (4-carboxyphenyl) porphin'], '10.1039/c8dt04143a_no_1': ['BCS', 'CdCl2·2.5H2O', 'CoCl2·6H2O', 'NaHB', 'Se'], '10.1016/j.saa.2022.122039': ['FA', 'MEA', 'NaOH', 'acetamide', 'folic acid'], '10.1039/d1ay02042k': ['CA', 'c-hexane', 'dodecylamine'], '10.1007/s00604-017-2314-0': ['DAP', 'm-phenylenediamine'], '10.1039/c3ta14744d': ['MoO3', 'carbon', 'ethanol', 'thioacetamide', 'urea'], '10.1007/s40097-020-00348-8': ['FeCl2·4H2O', 'NaOH', 'ferrous chloride'], '10.1016/j.microc.2021.107057': ['K2HPO4', 'glucosamine', 'glucose'], '10.1021/acssuschemeng.7b02941': ['citric acid', 'urea'], '10.1039/c4dt01288g_no_1': ['Ba(NO3)2', 'HfOCl2·8H2O', 'NaOH', 'Ni(NO3)2·6H2O', 'Sr(NO3)2', 'ZrOCl2·8H2O', 'ultra-pure', 'water'], '10.1007/s11581-020-03832-x': ['NaN3'], '10.1021/acs.analchem.1c03515': ['NH4F', 'PEI', 'PTCDA'], '10.1016/j.dyepig.2020.108953': ['dehydroabietic acid', 'ethanolamine'], '10.1016/j.petrol.2022.110325': ['CA', 'EDA', 'citric acid', 'ethylenediamine'], '10.1021/acs.cgd.2c00330_no_0': ['CA', 'PEI', 'citric acid', 'ethylene imine'], '10.1021/acsbiomaterials.8b01528': [], '10.1039/c5ra26870b': ['N-CDs', 'ethylenediamine', 'maleic acid'], '10.1080/10934529.2015.1079112': ['FeCl3', 'NaOAc', 'graphite'], '10.1007/s11581-014-1089-0_no_1': ['Co(NO3)2 · 6H2O', 'GO', 'Na2MoO4 · 2H2O', 'NaNO3', 'graphite', 'potassium permanganate'], '10.1007/s10562-010-0403-3_no_0': ['alkoxide', 'zirconium tetra-n-butoxide'], '10.1021/acsomega.2c03675': ['CsOH·H2O', 'WCl6', 'g-C3N4', 'glacial acetic acid', 'melamine'], '10.1039/c6ra02787c_no_1': ['FeCl2·4H2O', 'NaH2PO4·2H2O', 'hydrochar'], '10.1021/acsomega.0c03995': ['HCl', 'SA', 'glutaraldehyde'], '10.1039/c6nr09137g': ['TNSs', 'g-C3N4', 'urea']}\n"
     ]
    }
   ],
   "source": [
    "#getting precursor materials without amounts from extraction\n",
    "precursors_ext = {}\n",
    "for para in extractions:\n",
    "    precursors_ext[para['doi']] = list(para['precursors'])\n",
    "print(len(precursors_ext))\n",
    "print(precursors_ext)"
   ]
  },
  {
   "cell_type": "code",
   "execution_count": 48,
   "metadata": {},
   "outputs": [
    {
     "name": "stdout",
     "output_type": "stream",
     "text": [
      "30\n",
      "{'10.1007/s00339-012-6774-0': ['graphene', 'DMSO', 'Cd(CH3COO)2', 'dimethylsulfoxide'], '10.1021/acsomega.0c00098': ['Cane molasses'], '10.3390/nano8060372_no_0': [], '10.1007/s10876-008-0202-9_no_1': ['H3PO4', 'Na2WO4 · 2H2O', 'pip 6H2O'], '10.1007/s13399-019-00387-4_no_0': ['chitosan', 'chitin', 'graphite'], '10.1021/acsami.5b03228': ['garlic'], '10.3390/nano10020326': ['ethylenediamine', 'citric acid monohydrate', 'meso-tetra (4-carboxyphenyl) porphin'], '10.1039/c8dt04143a_no_1': ['CdCl2·2.5H2O', 'CoCl2·6H2O', 'BCS'], '10.1016/j.saa.2022.122039': ['FA', 'NaOH', 'folic acid', 'acetamide', 'MEA'], '10.1039/d1ay02042k': ['dodecylamine', 'c-hexane', 'CA'], '10.1007/s00604-017-2314-0': ['m-phenylenediamine', 'DA'], '10.1039/c3ta14744d': ['thioacetamide', 'carbon cloth', 'ethanol', 'urea', 'MoO3'], '10.1007/s40097-020-00348-8': ['ferrous chloride', 'NaOH', 'FeCl2·4H2O'], '10.1016/j.microc.2021.107057': ['glucosamine', 'glucose', 'K2HPO4'], '10.1021/acssuschemeng.7b02941': ['citric acid', 'urea'], '10.1039/c4dt01288g_no_1': ['Sr(NO3)2', 'Ni(NO3)2·6H2O', 'ZrOCl2·8H2O'], '10.1007/s11581-020-03832-x': ['NaN3', 'active carbon'], '10.1021/acs.analchem.1c03515': ['PEI', 'NH4F', 'ethanol', 'PTCDA'], '10.1016/j.dyepig.2020.108953': ['ethanolamine ', 'dehydroabietic acid'], '10.1016/j.petrol.2022.110325': ['ethylenediamine', 'citric acid', 'EDA', 'CA'], '10.1021/acs.cgd.2c00330_no_0': ['ethylene imine polymer', 'PEI', 'citric acid', 'CA'], '10.1021/acsbiomaterials.8b01528': ['neem leaves'], '10.1039/c5ra26870b': ['ethylenediamine', 'maleic acid'], '10.1080/10934529.2015.1079112': ['FeCl3', 'NaOAc', 'graphite'], '10.1007/s11581-014-1089-0_no_1': ['potassium permanganate', 'Na2MoO4 · 2H2O', 'NaNO3', 'graphite flakes', 'Co(NO3)2 · 6H2O', 'graphite oxide', 'GO'], '10.1007/s10562-010-0403-3_no_0': ['1,4-butanediol', 'zirconium tetra-n-butoxide', 'zirconia', 'ZrO2', 'W precursor'], '10.1021/acsomega.2c03675': ['g-C3N4', 'melamine', 'CsOH·H2O', 'WCl6', 'glacial acetic acid'], '10.1039/c6ra02787c_no_1': ['hydrochar', 'glucose', 'FeCl2·4H2O', 'NaH2PO4·2H2O'], '10.1021/acsomega.0c03995': ['SA', 'glutaraldehyde', 'HCl'], '10.1039/c6nr09137g': ['g-C3N4', 'urea', 'TNSs']}\n"
     ]
    }
   ],
   "source": [
    "#collecting precursor materials without amount from annotations\n",
    "precursors_ann = {}\n",
    "for para in annotation:\n",
    "    materials = []\n",
    "    for material in para['precursors']:\n",
    "        materials.extend(list(material))\n",
    "    precursors_ann[para['doi']] = list(set(materials))\n",
    "print(len(precursors_ann))\n",
    "print(precursors_ann)"
   ]
  },
  {
   "cell_type": "code",
   "execution_count": 49,
   "metadata": {},
   "outputs": [
    {
     "name": "stdout",
     "output_type": "stream",
     "text": [
      "30\n",
      "{'10.1007/s00339-012-6774-0': [('Cd(CH3COO)2', 'Cd(CH3COO)2'), ('GO', ''), ('G–CdS', ''), ('graphene', 'graphene'), ('graphite oxide', ''), ('', 'DMSO'), ('', 'dimethylsulfoxide')], '10.1021/acsomega.0c00098': [('Cane molasses', 'Cane molasses'), ('GQDs', '')], '10.3390/nano8060372_no_0': [('aliphatic acid', '')], '10.1007/s10876-008-0202-9_no_1': [('H2O', ''), ('Na2WO4 · 2H2O(0.137', ''), ('pip 6H2O', 'pip 6H2O'), ('', 'H3PO4'), ('', 'Na2WO4 · 2H2O')], '10.1007/s13399-019-00387-4_no_0': [('CH', ''), ('CS', ''), ('chitin', 'chitin'), ('chitosan', 'chitosan'), ('graphite', 'graphite')], '10.1021/acsami.5b03228': [('garlic', 'garlic')], '10.3390/nano10020326': [('citric acid monohydrate', 'citric acid monohydrate'), ('ethylenediamine', 'ethylenediamine'), ('meso-tetra (4-carboxyphenyl) porphin', 'meso-tetra (4-carboxyphenyl) porphin')], '10.1039/c8dt04143a_no_1': [('BCS', 'BCS'), ('CdCl2·2.5H2O', 'CdCl2·2.5H2O'), ('CoCl2·6H2O', 'CoCl2·6H2O'), ('NaHB', ''), ('Se', '')], '10.1016/j.saa.2022.122039': [('FA', 'FA'), ('MEA', 'MEA'), ('NaOH', 'NaOH'), ('acetamide', 'acetamide'), ('folic acid', 'folic acid')], '10.1039/d1ay02042k': [('CA', 'CA'), ('c-hexane', 'c-hexane'), ('dodecylamine', 'dodecylamine')], '10.1007/s00604-017-2314-0': [('DAP', ''), ('m-phenylenediamine', 'm-phenylenediamine'), ('', 'DA')], '10.1039/c3ta14744d': [('MoO3', 'MoO3'), ('carbon', ''), ('ethanol', 'ethanol'), ('thioacetamide', 'thioacetamide'), ('urea', 'urea'), ('', 'carbon cloth')], '10.1007/s40097-020-00348-8': [('FeCl2·4H2O', 'FeCl2·4H2O'), ('NaOH', 'NaOH'), ('ferrous chloride', 'ferrous chloride')], '10.1016/j.microc.2021.107057': [('K2HPO4', 'K2HPO4'), ('glucosamine', 'glucosamine'), ('glucose', 'glucose')], '10.1021/acssuschemeng.7b02941': [('citric acid', 'citric acid'), ('urea', 'urea')], '10.1039/c4dt01288g_no_1': [('Ba(NO3)2', ''), ('HfOCl2·8H2O', ''), ('NaOH', ''), ('Ni(NO3)2·6H2O', 'Ni(NO3)2·6H2O'), ('Sr(NO3)2', 'Sr(NO3)2'), ('ZrOCl2·8H2O', 'ZrOCl2·8H2O'), ('ultra-pure', ''), ('water', '')], '10.1007/s11581-020-03832-x': [('NaN3', 'NaN3'), ('', 'active carbon')], '10.1021/acs.analchem.1c03515': [('NH4F', 'NH4F'), ('PEI', 'PEI'), ('PTCDA', 'PTCDA'), ('', 'ethanol')], '10.1016/j.dyepig.2020.108953': [('dehydroabietic acid', 'dehydroabietic acid'), ('ethanolamine', ''), ('', 'ethanolamine ')], '10.1016/j.petrol.2022.110325': [('CA', 'CA'), ('EDA', 'EDA'), ('citric acid', 'citric acid'), ('ethylenediamine', 'ethylenediamine')], '10.1021/acs.cgd.2c00330_no_0': [('CA', 'CA'), ('PEI', 'PEI'), ('citric acid', 'citric acid'), ('ethylene imine', ''), ('', 'ethylene imine polymer')], '10.1021/acsbiomaterials.8b01528': [('', 'neem leaves')], '10.1039/c5ra26870b': [('N-CDs', ''), ('ethylenediamine', 'ethylenediamine'), ('maleic acid', 'maleic acid')], '10.1080/10934529.2015.1079112': [('FeCl3', 'FeCl3'), ('NaOAc', 'NaOAc'), ('graphite', 'graphite')], '10.1007/s11581-014-1089-0_no_1': [('Co(NO3)2 · 6H2O', 'Co(NO3)2 · 6H2O'), ('GO', 'GO'), ('Na2MoO4 · 2H2O', 'Na2MoO4 · 2H2O'), ('NaNO3', 'NaNO3'), ('graphite', ''), ('potassium permanganate', 'potassium permanganate'), ('', 'graphite flakes'), ('', 'graphite oxide')], '10.1007/s10562-010-0403-3_no_0': [('alkoxide', ''), ('zirconium tetra-n-butoxide', 'zirconium tetra-n-butoxide'), ('', '1,4-butanediol'), ('', 'zirconia'), ('', 'ZrO2'), ('', 'W precursor')], '10.1021/acsomega.2c03675': [('CsOH·H2O', 'CsOH·H2O'), ('WCl6', 'WCl6'), ('g-C3N4', 'g-C3N4'), ('glacial acetic acid', 'glacial acetic acid'), ('melamine', 'melamine')], '10.1039/c6ra02787c_no_1': [('FeCl2·4H2O', 'FeCl2·4H2O'), ('NaH2PO4·2H2O', 'NaH2PO4·2H2O'), ('hydrochar', 'hydrochar'), ('', 'glucose')], '10.1021/acsomega.0c03995': [('HCl', 'HCl'), ('SA', 'SA'), ('glutaraldehyde', 'glutaraldehyde')], '10.1039/c6nr09137g': [('TNSs', 'TNSs'), ('g-C3N4', 'g-C3N4'), ('urea', 'urea')]}\n"
     ]
    }
   ],
   "source": [
    "#Assigning values\n",
    "precursors = {}\n",
    "for doi in list(precursors_ann.keys()):\n",
    "    pair_list = []\n",
    "    for material in precursors_ext[doi]:\n",
    "        if material in precursors_ann[doi]:\n",
    "            pair = (material, material)\n",
    "            pair_list.append(pair)\n",
    "        elif material not in precursors_ann[doi]:\n",
    "            pair = (material,'')\n",
    "            pair_list.append(pair)\n",
    "    for material in precursors_ann[doi]:\n",
    "        if material not in precursors_ext[doi]:\n",
    "            pair = ('', material)\n",
    "            pair_list.append(pair)\n",
    "    precursors[doi] = pair_list\n",
    "\n",
    "print(len(precursors))\n",
    "print(precursors)"
   ]
  },
  {
   "cell_type": "code",
   "execution_count": 50,
   "metadata": {},
   "outputs": [
    {
     "name": "stdout",
     "output_type": "stream",
     "text": [
      "30\n",
      "{'10.1007/s00339-012-6774-0': ['TP', 'FP', 'FP', 'TP', 'FP', 'FN', 'FN'], '10.1021/acsomega.0c00098': ['TP', 'FP'], '10.3390/nano8060372_no_0': ['FP'], '10.1007/s10876-008-0202-9_no_1': ['FP', 'FP', 'TP', 'FN', 'FN'], '10.1007/s13399-019-00387-4_no_0': ['FP', 'FP', 'TP', 'TP', 'TP'], '10.1021/acsami.5b03228': ['TP'], '10.3390/nano10020326': ['TP', 'TP', 'TP'], '10.1039/c8dt04143a_no_1': ['TP', 'TP', 'TP', 'FP', 'FP'], '10.1016/j.saa.2022.122039': ['TP', 'TP', 'TP', 'TP', 'TP'], '10.1039/d1ay02042k': ['TP', 'TP', 'TP'], '10.1007/s00604-017-2314-0': ['FP', 'TP', 'FN'], '10.1039/c3ta14744d': ['TP', 'FP', 'TP', 'TP', 'TP', 'FN'], '10.1007/s40097-020-00348-8': ['TP', 'TP', 'TP'], '10.1016/j.microc.2021.107057': ['TP', 'TP', 'TP'], '10.1021/acssuschemeng.7b02941': ['TP', 'TP'], '10.1039/c4dt01288g_no_1': ['FP', 'FP', 'FP', 'TP', 'TP', 'TP', 'FP', 'FP'], '10.1007/s11581-020-03832-x': ['TP', 'FN'], '10.1021/acs.analchem.1c03515': ['TP', 'TP', 'TP', 'FN'], '10.1016/j.dyepig.2020.108953': ['TP', 'FP', 'FN'], '10.1016/j.petrol.2022.110325': ['TP', 'TP', 'TP', 'TP'], '10.1021/acs.cgd.2c00330_no_0': ['TP', 'TP', 'TP', 'FP', 'FN'], '10.1021/acsbiomaterials.8b01528': ['FN'], '10.1039/c5ra26870b': ['FP', 'TP', 'TP'], '10.1080/10934529.2015.1079112': ['TP', 'TP', 'TP'], '10.1007/s11581-014-1089-0_no_1': ['TP', 'TP', 'TP', 'TP', 'FP', 'TP', 'FN', 'FN'], '10.1007/s10562-010-0403-3_no_0': ['FP', 'TP', 'FN', 'FN', 'FN', 'FN'], '10.1021/acsomega.2c03675': ['TP', 'TP', 'TP', 'TP', 'TP'], '10.1039/c6ra02787c_no_1': ['TP', 'TP', 'TP', 'FN'], '10.1021/acsomega.0c03995': ['TP', 'TP', 'TP'], '10.1039/c6nr09137g': ['TP', 'TP', 'TP']}\n"
     ]
    }
   ],
   "source": [
    "all_precursor_values = {}\n",
    "for doi in list(precursors.keys()):\n",
    "    values = []\n",
    "    for pairs in precursors[doi]:\n",
    "        if pairs[0] == pairs[1]:\n",
    "            values.append('TP')\n",
    "        elif pairs[0] != pairs[1] and pairs[0] =='':\n",
    "            values.append('FN')\n",
    "        elif pairs[0] != pairs[1] and pairs[1] == '':\n",
    "            values.append('FP')\n",
    "        all_precursor_values[doi] = values\n",
    "print(len(all_precursor_values))\n",
    "print(all_precursor_values)"
   ]
  },
  {
   "cell_type": "code",
   "execution_count": 51,
   "metadata": {},
   "outputs": [
    {
     "name": "stdout",
     "output_type": "stream",
     "text": [
      "['TP', 'FP', 'FP', 'TP', 'FP', 'FN', 'FN', 'TP', 'FP', 'FP', 'FP', 'FP', 'TP', 'FN', 'FN', 'FP', 'FP', 'TP', 'TP', 'TP', 'TP', 'TP', 'TP', 'TP', 'TP', 'TP', 'TP', 'FP', 'FP', 'TP', 'TP', 'TP', 'TP', 'TP', 'TP', 'TP', 'TP', 'FP', 'TP', 'FN', 'TP', 'FP', 'TP', 'TP', 'TP', 'FN', 'TP', 'TP', 'TP', 'TP', 'TP', 'TP', 'TP', 'TP', 'FP', 'FP', 'FP', 'TP', 'TP', 'TP', 'FP', 'FP', 'TP', 'FN', 'TP', 'TP', 'TP', 'FN', 'TP', 'FP', 'FN', 'TP', 'TP', 'TP', 'TP', 'TP', 'TP', 'TP', 'FP', 'FN', 'FN', 'FP', 'TP', 'TP', 'TP', 'TP', 'TP', 'TP', 'TP', 'TP', 'TP', 'FP', 'TP', 'FN', 'FN', 'FP', 'TP', 'FN', 'FN', 'FN', 'FN', 'TP', 'TP', 'TP', 'TP', 'TP', 'TP', 'TP', 'TP', 'FN', 'TP', 'TP', 'TP', 'TP', 'TP', 'TP']\n"
     ]
    }
   ],
   "source": [
    "all_values_combine = []\n",
    "for values in all_precursor_values.values():\n",
    "    all_values_combine.extend(values)\n",
    "print(all_values_combine)"
   ]
  },
  {
   "cell_type": "code",
   "execution_count": 52,
   "metadata": {},
   "outputs": [
    {
     "name": "stdout",
     "output_type": "stream",
     "text": [
      "The precision is: 0.7653061224489796\n",
      "The recall is: 0.8064516129032258\n",
      "The F1 score is: 0.7853403141361257\n"
     ]
    }
   ],
   "source": [
    "TP = all_values_combine.count('TP')\n",
    "FP = all_values_combine.count('FP')\n",
    "FN = all_values_combine.count('FN')\n",
    "precision = TP / (TP+FP)\n",
    "recall = TP / (TP+FN)\n",
    "F1 = (2*precision*recall)/(precision+recall)\n",
    "print(f'The precision is: {precision}')\n",
    "print(f'The recall is: {recall}')\n",
    "print(f'The F1 score is: {F1}')"
   ]
  },
  {
   "cell_type": "markdown",
   "metadata": {},
   "source": [
    "## Analysis of target material extraction"
   ]
  },
  {
   "cell_type": "code",
   "execution_count": 53,
   "metadata": {},
   "outputs": [
    {
     "name": "stdout",
     "output_type": "stream",
     "text": [
      "30\n",
      "{'10.1007/s00339-012-6774-0': ['CdS', 'GO', 'Graphene', 'G–CdS', 'G–CdS–GO'], '10.1021/acsomega.0c00098': ['GQDs'], '10.3390/nano8060372_no_0': [], '10.1007/s10876-008-0202-9_no_1': [], '10.1007/s13399-019-00387-4_no_0': ['carbon'], '10.1021/acsami.5b03228': [], '10.3390/nano10020326': ['Carbon'], '10.1039/c8dt04143a_no_1': ['CdSe/BSC', 'a% Co-CdSe/BCS-b'], '10.1016/j.saa.2022.122039': ['N-CDs'], '10.1039/d1ay02042k': ['Cdots'], '10.1007/s00604-017-2314-0': ['DAP-'], '10.1039/c3ta14744d': ['CCMS-1', 'CCMS-2', 'CCMS-3', 'MoS2'], '10.1007/s40097-020-00348-8': ['Iron oxide', 'hydroxide'], '10.1016/j.microc.2021.107057': ['CQDs', 'N-CQDs'], '10.1021/acssuschemeng.7b02941': ['NGQDs'], '10.1039/c4dt01288g_no_1': ['Sr0.8Ni0.2ZrO3'], '10.1007/s11581-020-03832-x': ['NAC'], '10.1021/acs.analchem.1c03515': ['CQDs'], '10.1016/j.dyepig.2020.108953': [], '10.1016/j.petrol.2022.110325': ['CA', 'CA-CQDs'], '10.1021/acs.cgd.2c00330_no_0': [], '10.1021/acsbiomaterials.8b01528': ['N-CQDs'], '10.1039/c5ra26870b': ['N-CDs'], '10.1080/10934529.2015.1079112': ['A.', 'Fe3O4 MNPs', 'Fe3O4–graphite'], '10.1007/s11581-014-1089-0_no_1': ['CoMoO4/rGO', 'GO', 'graphite oxide'], '10.1007/s10562-010-0403-3_no_0': ['W/ZrO2', 'zirconia'], '10.1021/acsomega.2c03675': ['g-C3N4'], '10.1039/c6ra02787c_no_1': ['Fe3O4/hydrochar', 'hydrochar'], '10.1021/acsomega.0c03995': ['CPDs', 'SA-CPDs', 'SG-CPD'], '10.1039/c6nr09137g': ['/', 'TNRs', 'TNRs-C3N4-x”', 'TNRs/g-C3N4', 'TNSs', 'TiO2', 'g-C3N4']}\n"
     ]
    }
   ],
   "source": [
    "#getting target materials without amounts from extraction\n",
    "targets_ext = {}\n",
    "for para in extractions:\n",
    "    targets_ext[para['doi']] = list(para['targets'])\n",
    "print(len(targets_ext))\n",
    "print(targets_ext)"
   ]
  },
  {
   "cell_type": "code",
   "execution_count": 54,
   "metadata": {},
   "outputs": [
    {
     "name": "stdout",
     "output_type": "stream",
     "text": [
      "30\n",
      "{'10.1007/s00339-012-6774-0': ['G–CdS', 'G–CdS–GO'], '10.1021/acsomega.0c00098': ['PEG-GQDs', 'GQDs'], '10.3390/nano8060372_no_0': [], '10.1007/s10876-008-0202-9_no_1': ['Compound 2'], '10.1007/s13399-019-00387-4_no_0': ['CQDs'], '10.1021/acsami.5b03228': ['CDs'], '10.3390/nano10020326': ['PCDs', 'Carbon dots'], '10.1039/c8dt04143a_no_1': ['Co-doped CdSe/BSC', 'Co-CdSe/BCS-b'], '10.1016/j.saa.2022.122039': ['N-CDs'], '10.1039/d1ay02042k': ['Cdots'], '10.1007/s00604-017-2314-0': ['DAP-CDs'], '10.1039/c3ta14744d': ['CCMS-3', 'CCMS-1', 'CCMS-2'], '10.1007/s40097-020-00348-8': ['Fe-based nanofibers'], '10.1016/j.microc.2021.107057': ['CQDs', 'N-CQDs'], '10.1021/acssuschemeng.7b02941': ['NGQDs'], '10.1039/c4dt01288g_no_1': ['nickel doped perovskite', 'barium A site perovskite', 'hafnium B site perovskite'], '10.1007/s11581-020-03832-x': ['NAC'], '10.1021/acs.analchem.1c03515': ['CQDs'], '10.1016/j.dyepig.2020.108953': ['SSF-CDs'], '10.1016/j.petrol.2022.110325': ['CA-CQDs', 'CA-CQD'], '10.1021/acs.cgd.2c00330_no_0': ['CD', 'CDs'], '10.1021/acsbiomaterials.8b01528': ['N-CQDs'], '10.1039/c5ra26870b': ['N-CDs'], '10.1080/10934529.2015.1079112': ['Fe3O4–graphite composite'], '10.1007/s11581-014-1089-0_no_1': ['CoMoO4/rGO nanorods'], '10.1007/s10562-010-0403-3_no_0': ['W/ZrO2'], '10.1021/acsomega.2c03675': [], '10.1039/c6ra02787c_no_1': ['Fe3O4/hydrochar composites'], '10.1021/acsomega.0c03995': ['SG-CPD', 'CPDs', 'SA-CPDs'], '10.1039/c6nr09137g': ['TNRs/g-C3N4']}\n"
     ]
    }
   ],
   "source": [
    "#collecting target materials without amount from annotations\n",
    "targets_ann = {}\n",
    "for para in annotation:\n",
    "    materials = []\n",
    "    for material in para['targets']:\n",
    "        materials.extend(list(material))\n",
    "    targets_ann[para['doi']] = list(set(materials))\n",
    "print(len(targets_ann))\n",
    "print(targets_ann)"
   ]
  },
  {
   "cell_type": "code",
   "execution_count": 55,
   "metadata": {},
   "outputs": [
    {
     "name": "stdout",
     "output_type": "stream",
     "text": [
      "30\n",
      "{'10.1007/s00339-012-6774-0': [('CdS', ''), ('GO', ''), ('Graphene', ''), ('G–CdS', 'G–CdS'), ('G–CdS–GO', 'G–CdS–GO')], '10.1021/acsomega.0c00098': [('GQDs', 'GQDs'), ('', 'PEG-GQDs')], '10.3390/nano8060372_no_0': [], '10.1007/s10876-008-0202-9_no_1': [('', 'Compound 2')], '10.1007/s13399-019-00387-4_no_0': [('carbon', ''), ('', 'CQDs')], '10.1021/acsami.5b03228': [('', 'CDs')], '10.3390/nano10020326': [('Carbon', ''), ('', 'PCDs'), ('', 'Carbon dots')], '10.1039/c8dt04143a_no_1': [('CdSe/BSC', ''), ('a% Co-CdSe/BCS-b', ''), ('', 'Co-doped CdSe/BSC'), ('', 'Co-CdSe/BCS-b')], '10.1016/j.saa.2022.122039': [('N-CDs', 'N-CDs')], '10.1039/d1ay02042k': [('Cdots', 'Cdots')], '10.1007/s00604-017-2314-0': [('DAP-', ''), ('', 'DAP-CDs')], '10.1039/c3ta14744d': [('CCMS-1', 'CCMS-1'), ('CCMS-2', 'CCMS-2'), ('CCMS-3', 'CCMS-3'), ('MoS2', '')], '10.1007/s40097-020-00348-8': [('Iron oxide', ''), ('hydroxide', ''), ('', 'Fe-based nanofibers')], '10.1016/j.microc.2021.107057': [('CQDs', 'CQDs'), ('N-CQDs', 'N-CQDs')], '10.1021/acssuschemeng.7b02941': [('NGQDs', 'NGQDs')], '10.1039/c4dt01288g_no_1': [('Sr0.8Ni0.2ZrO3', ''), ('', 'nickel doped perovskite'), ('', 'barium A site perovskite'), ('', 'hafnium B site perovskite')], '10.1007/s11581-020-03832-x': [('NAC', 'NAC')], '10.1021/acs.analchem.1c03515': [('CQDs', 'CQDs')], '10.1016/j.dyepig.2020.108953': [('', 'SSF-CDs')], '10.1016/j.petrol.2022.110325': [('CA', ''), ('CA-CQDs', 'CA-CQDs'), ('', 'CA-CQD')], '10.1021/acs.cgd.2c00330_no_0': [('', 'CD'), ('', 'CDs')], '10.1021/acsbiomaterials.8b01528': [('N-CQDs', 'N-CQDs')], '10.1039/c5ra26870b': [('N-CDs', 'N-CDs')], '10.1080/10934529.2015.1079112': [('A.', ''), ('Fe3O4 MNPs', ''), ('Fe3O4–graphite', ''), ('', 'Fe3O4–graphite composite')], '10.1007/s11581-014-1089-0_no_1': [('CoMoO4/rGO', ''), ('GO', ''), ('graphite oxide', ''), ('', 'CoMoO4/rGO nanorods')], '10.1007/s10562-010-0403-3_no_0': [('W/ZrO2', 'W/ZrO2'), ('zirconia', '')], '10.1021/acsomega.2c03675': [('g-C3N4', '')], '10.1039/c6ra02787c_no_1': [('Fe3O4/hydrochar', ''), ('hydrochar', ''), ('', 'Fe3O4/hydrochar composites')], '10.1021/acsomega.0c03995': [('CPDs', 'CPDs'), ('SA-CPDs', 'SA-CPDs'), ('SG-CPD', 'SG-CPD')], '10.1039/c6nr09137g': [('/', ''), ('TNRs', ''), ('TNRs-C3N4-x”', ''), ('TNRs/g-C3N4', 'TNRs/g-C3N4'), ('TNSs', ''), ('TiO2', ''), ('g-C3N4', '')]}\n"
     ]
    }
   ],
   "source": [
    "#Assigning values\n",
    "targets = {}\n",
    "for doi in list(targets_ann.keys()):\n",
    "    pair_list = []\n",
    "    for material in targets_ext[doi]:\n",
    "        if material in targets_ann[doi]:\n",
    "            pair = (material, material)\n",
    "            pair_list.append(pair)\n",
    "        elif material not in targets_ann[doi]:\n",
    "            pair = (material,'')\n",
    "            pair_list.append(pair)\n",
    "    for material in targets_ann[doi]:\n",
    "        if material not in targets_ext[doi]:\n",
    "            pair = ('', material)\n",
    "            pair_list.append(pair)\n",
    "    targets[doi] = pair_list\n",
    "    \n",
    "print(len(targets))\n",
    "print(targets)"
   ]
  },
  {
   "cell_type": "code",
   "execution_count": 56,
   "metadata": {},
   "outputs": [
    {
     "name": "stdout",
     "output_type": "stream",
     "text": [
      "30\n",
      "{'10.1007/s00339-012-6774-0': ['FP', 'FP', 'FP', 'TP', 'TP'], '10.1021/acsomega.0c00098': ['TP', 'FN'], '10.3390/nano8060372_no_0': ['TP'], '10.1007/s10876-008-0202-9_no_1': ['FN'], '10.1007/s13399-019-00387-4_no_0': ['FP', 'FN'], '10.1021/acsami.5b03228': ['FN'], '10.3390/nano10020326': ['FP', 'FN', 'FN'], '10.1039/c8dt04143a_no_1': ['FP', 'FP', 'FN', 'FN'], '10.1016/j.saa.2022.122039': ['TP'], '10.1039/d1ay02042k': ['TP'], '10.1007/s00604-017-2314-0': ['FP', 'FN'], '10.1039/c3ta14744d': ['TP', 'TP', 'TP', 'FP'], '10.1007/s40097-020-00348-8': ['FP', 'FP', 'FN'], '10.1016/j.microc.2021.107057': ['TP', 'TP'], '10.1021/acssuschemeng.7b02941': ['TP'], '10.1039/c4dt01288g_no_1': ['FP', 'FN', 'FN', 'FN'], '10.1007/s11581-020-03832-x': ['TP'], '10.1021/acs.analchem.1c03515': ['TP'], '10.1016/j.dyepig.2020.108953': ['FN'], '10.1016/j.petrol.2022.110325': ['FP', 'TP', 'FN'], '10.1021/acs.cgd.2c00330_no_0': ['FN', 'FN'], '10.1021/acsbiomaterials.8b01528': ['TP'], '10.1039/c5ra26870b': ['TP'], '10.1080/10934529.2015.1079112': ['FP', 'FP', 'FP', 'FN'], '10.1007/s11581-014-1089-0_no_1': ['FP', 'FP', 'FP', 'FN'], '10.1007/s10562-010-0403-3_no_0': ['TP', 'FP'], '10.1021/acsomega.2c03675': ['FP'], '10.1039/c6ra02787c_no_1': ['FP', 'FP', 'FN'], '10.1021/acsomega.0c03995': ['TP', 'TP', 'TP'], '10.1039/c6nr09137g': ['FP', 'FP', 'FP', 'TP', 'FP', 'FP', 'FP']}\n"
     ]
    }
   ],
   "source": [
    "all_targets_values = {}\n",
    "for doi in list(precursors.keys()):\n",
    "    values = []\n",
    "    for pairs in targets[doi]:\n",
    "        if pairs[0] == pairs[1]:\n",
    "            values.append('TP')\n",
    "        elif pairs[0] != pairs[1] and pairs[0] =='':\n",
    "            values.append('FN')\n",
    "        elif pairs[0] != pairs[1] and pairs[1] == '':\n",
    "            values.append('FP')\n",
    "        all_targets_values[doi] = values\n",
    "    if len(targets[doi]) == 0:\n",
    "        values.append('TP')\n",
    "    all_targets_values[doi] = values\n",
    "    \n",
    "print(len(all_targets_values))\n",
    "print(all_targets_values)"
   ]
  },
  {
   "cell_type": "code",
   "execution_count": 57,
   "metadata": {},
   "outputs": [
    {
     "name": "stdout",
     "output_type": "stream",
     "text": [
      "['FP', 'FP', 'FP', 'TP', 'TP', 'TP', 'FN', 'TP', 'FN', 'FP', 'FN', 'FN', 'FP', 'FN', 'FN', 'FP', 'FP', 'FN', 'FN', 'TP', 'TP', 'FP', 'FN', 'TP', 'TP', 'TP', 'FP', 'FP', 'FP', 'FN', 'TP', 'TP', 'TP', 'FP', 'FN', 'FN', 'FN', 'TP', 'TP', 'FN', 'FP', 'TP', 'FN', 'FN', 'FN', 'TP', 'TP', 'FP', 'FP', 'FP', 'FN', 'FP', 'FP', 'FP', 'FN', 'TP', 'FP', 'FP', 'FP', 'FP', 'FN', 'TP', 'TP', 'TP', 'FP', 'FP', 'FP', 'TP', 'FP', 'FP', 'FP']\n"
     ]
    }
   ],
   "source": [
    "all_values_combine = []\n",
    "for values in all_targets_values.values():\n",
    "    all_values_combine.extend(values)\n",
    "print(all_values_combine)"
   ]
  },
  {
   "cell_type": "code",
   "execution_count": 58,
   "metadata": {},
   "outputs": [
    {
     "name": "stdout",
     "output_type": "stream",
     "text": [
      "The precision is: 0.43137254901960786\n",
      "The recall is: 0.5238095238095238\n",
      "The F1 score is: 0.4731182795698925\n"
     ]
    }
   ],
   "source": [
    "TP = all_values_combine.count('TP')\n",
    "FP = all_values_combine.count('FP')\n",
    "FN = all_values_combine.count('FN')\n",
    "precision = TP / (TP+FP)\n",
    "recall = TP / (TP+FN)\n",
    "F1 = (2*precision*recall)/(precision+recall)\n",
    "print(f'The precision is: {precision}')\n",
    "print(f'The recall is: {recall}')\n",
    "print(f'The F1 score is: {F1}')"
   ]
  },
  {
   "cell_type": "markdown",
   "metadata": {},
   "source": [
    "## Analysis of reaction time and temp extraction"
   ]
  },
  {
   "cell_type": "code",
   "execution_count": 69,
   "metadata": {},
   "outputs": [
    {
     "name": "stdout",
     "output_type": "stream",
     "text": [
      "30\n",
      "{'10.1007/s00339-012-6774-0': {'temp': [180.0], 'time': [10.0]}, '10.1021/acsomega.0c00098': {'temp': [190.0], 'time': [24.0]}, '10.3390/nano8060372_no_0': {'temp': [200.0], 'time': ''}, '10.1007/s10876-008-0202-9_no_1': {'temp': [160.0], 'time': [4.0]}, '10.1007/s13399-019-00387-4_no_0': {'temp': '', 'time': ''}, '10.1021/acsami.5b03228': {'temp': [200.0], 'time': [3.0]}, '10.3390/nano10020326': {'temp': '', 'time': ''}, '10.1039/c8dt04143a_no_1': {'temp': [160.0], 'time': [40.0]}, '10.1016/j.saa.2022.122039': {'temp': [200.0], 'time': [4.0]}, '10.1039/d1ay02042k': {'temp': '', 'time': ''}, '10.1007/s00604-017-2314-0': {'temp': [200.0], 'time': [5.0]}, '10.1039/c3ta14744d': {'temp': [220.0], 'time': [24.0]}, '10.1007/s40097-020-00348-8': {'temp': [200.0], 'time': [18.0, 3.0]}, '10.1016/j.microc.2021.107057': {'temp': [200.0], 'time': [12.0]}, '10.1021/acssuschemeng.7b02941': {'temp': '', 'time': [8.0]}, '10.1039/c4dt01288g_no_1': {'temp': [180.0], 'time': [72.0]}, '10.1007/s11581-020-03832-x': {'temp': [180.0], 'time': [12.0]}, '10.1021/acs.analchem.1c03515': {'temp': [180.0], 'time': [20.0]}, '10.1016/j.dyepig.2020.108953': {'temp': [200.0], 'time': [300.0]}, '10.1016/j.petrol.2022.110325': {'temp': [200.0], 'time': [6.0]}, '10.1021/acs.cgd.2c00330_no_0': {'temp': [180.0], 'time': [5.0]}, '10.1021/acsbiomaterials.8b01528': {'temp': [4.0], 'time': ''}, '10.1039/c5ra26870b': {'temp': [190.0], 'time': [15.0]}, '10.1080/10934529.2015.1079112': {'temp': [200.0], 'time': [10.0]}, '10.1007/s11581-014-1089-0_no_1': {'temp': [5.0], 'time': [2.0]}, '10.1007/s10562-010-0403-3_no_0': {'temp': '', 'time': [2.0]}, '10.1021/acsomega.2c03675': {'temp': [240.0], 'time': [20.0]}, '10.1039/c6ra02787c_no_1': {'temp': [200.0], 'time': [15.0]}, '10.1021/acsomega.0c03995': {'temp': [180.0], 'time': ''}, '10.1039/c6nr09137g': {'temp': '', 'time': ''}}\n"
     ]
    }
   ],
   "source": [
    "#Collecting reaction time and temp from extractions\n",
    "temp_time_ext = {}\n",
    "for para in extractions:\n",
    "    temp_time_ext[para['doi']] = {}\n",
    "    for operation in para['heating_operations']:\n",
    "        if operation['temp_values']['values'] != None and operation['time_values']['values'] != None:\n",
    "            temp_time_ext[para['doi']].update({'temp':operation['temp_values']['values'], 'time':operation['time_values']['values']})\n",
    "        if operation['temp_values']['values'] != None and operation['time_values']['values'] is None:\n",
    "            temp_time_ext[para['doi']].update({'temp':operation['temp_values']['values'], 'time':''})\n",
    "        if operation['temp_values']['values'] is None and operation['time_values']['values'] != None:\n",
    "            temp_time_ext[para['doi']].update({'temp':'', 'time':operation['time_values']['values']})\n",
    "        if operation['temp_values']['values'] is None and operation['time_values']['values'] is None:\n",
    "            temp_time_ext[para['doi']].update({'temp':'', 'time':''})\n",
    "    if len(para['heating_operations']) == 0:\n",
    "        temp_time_ext[para['doi']].update({'temp': '','time':''})\n",
    "print(len(temp_time_ext))\n",
    "print(temp_time_ext)"
   ]
  },
  {
   "cell_type": "code",
   "execution_count": 65,
   "metadata": {},
   "outputs": [
    {
     "name": "stdout",
     "output_type": "stream",
     "text": [
      "30\n",
      "{'10.1007/s00339-012-6774-0': {'temp': [180], 'time': [10]}, '10.1021/acsomega.0c00098': {'temp': [190], 'time': [24]}, '10.3390/nano8060372_no_0': {'temp': [200], 'time': ''}, '10.1007/s10876-008-0202-9_no_1': {'temp': [160], 'time': [4]}, '10.1007/s13399-019-00387-4_no_0': {'temp': [200], 'time': [6]}, '10.1021/acsami.5b03228': {'temp': [200], 'time': [3]}, '10.3390/nano10020326': {'temp': [200], 'time': [12]}, '10.1039/c8dt04143a_no_1': {'temp': [160], 'time': [40]}, '10.1016/j.saa.2022.122039': {'temp': [200], 'time': [4]}, '10.1039/d1ay02042k': {'temp': [160], 'time': [18]}, '10.1007/s00604-017-2314-0': {'temp': [200], 'time': [5]}, '10.1039/c3ta14744d': {'temp': [220], 'time': [24]}, '10.1007/s40097-020-00348-8': {'temp': [200, 130], 'time': [18, 3]}, '10.1016/j.microc.2021.107057': {'temp': [200], 'time': [12]}, '10.1021/acssuschemeng.7b02941': {'temp': [180], 'time': [8]}, '10.1039/c4dt01288g_no_1': {'temp': [180], 'time': [72]}, '10.1007/s11581-020-03832-x': {'temp': [180], 'time': [12]}, '10.1021/acs.analchem.1c03515': {'temp': [180], 'time': [20]}, '10.1016/j.dyepig.2020.108953': {'temp': [200], 'time': [300]}, '10.1016/j.petrol.2022.110325': {'temp': [200], 'time': [6]}, '10.1021/acs.cgd.2c00330_no_0': {'temp': [180], 'time': [5]}, '10.1021/acsbiomaterials.8b01528': {'temp': [150], 'time': [4]}, '10.1039/c5ra26870b': {'temp': [190], 'time': [15]}, '10.1080/10934529.2015.1079112': {'temp': [200], 'time': [10]}, '10.1007/s11581-014-1089-0_no_1': {'temp': [180], 'time': [12]}, '10.1007/s10562-010-0403-3_no_0': {'temp': '', 'time': [2]}, '10.1021/acsomega.2c03675': {'temp': [240], 'time': [20]}, '10.1039/c6ra02787c_no_1': {'temp': [200, 180], 'time': [15, 10]}, '10.1021/acsomega.0c03995': {'temp': [180], 'time': ''}, '10.1039/c6nr09137g': {'temp': [180], 'time': [5]}}\n"
     ]
    }
   ],
   "source": [
    "#Collecting reaction time and temp from annotations\n",
    "temp_time_ann = {}\n",
    "for para in annotation:    \n",
    "    temp_time_ann[para['doi']] = {}\n",
    "    if not para['temp_values'] and not para['time_values']:\n",
    "        temp_time_ann[para['doi']].update({'temp':'','time':''})\n",
    "    else:\n",
    "        if not para['time_values']:\n",
    "            para['time_values'].update({'values':''})\n",
    "        if not para['temp_values']:\n",
    "            para['temp_values'].update({'values':''})\n",
    "        temp_time_ann[para['doi']].update({'temp':para['temp_values']['values'], 'time':para['time_values']['values']})\n",
    "print(len(temp_time_ann))\n",
    "print(temp_time_ann)"
   ]
  },
  {
   "cell_type": "code",
   "execution_count": 76,
   "metadata": {},
   "outputs": [
    {
     "name": "stdout",
     "output_type": "stream",
     "text": [
      "30\n",
      "30\n"
     ]
    }
   ],
   "source": [
    "#Assigning values\n",
    "def list_is_equal(lst1, lst2):\n",
    "    if type(lst1) != type(lst2):\n",
    "        return False\n",
    "    if len(lst1) == len(lst2) and set(lst1)==set(lst2):\n",
    "        return True\n",
    "    else:\n",
    "        return False\n",
    "temp_val = {}\n",
    "time_val = {}\n",
    "for doi in list(temp_time_ext.keys()):\n",
    "    if type(temp_time_ext[doi]['temp']) == list and type(temp_time_ann[doi]['temp']) == list:\n",
    "        if list_is_equal(temp_time_ext[doi]['temp'],temp_time_ann[doi]['temp']):\n",
    "            temp_val[doi] = 'TP'\n",
    "        else:\n",
    "            temp_val[doi] = 'FP'\n",
    "    elif type(temp_time_ext[doi]['temp']) == str and type(temp_time_ann[doi]['temp']) == str:\n",
    "        temp_val[doi] ='TP'\n",
    "    elif type(temp_time_ext[doi]['temp']) == str and type(temp_time_ann[doi]['temp']) == list:\n",
    "        temp_val[doi] = 'FN'\n",
    "    elif type(temp_time_ext[doi]['temp']) == list and type(temp_time_ann[doi]['temp']) == str:\n",
    "        temp_val[doi] = 'FP'\n",
    "for doi in list(temp_time_ext.keys()):\n",
    "    if type(temp_time_ext[doi]['time']) == list and type(temp_time_ann[doi]['time']) == list:\n",
    "        if list_is_equal(temp_time_ext[doi]['time'],temp_time_ann[doi]['time']):\n",
    "            time_val[doi] = 'TP'\n",
    "        else:\n",
    "            time_val[doi] = 'FP'\n",
    "    elif type(temp_time_ext[doi]['time']) == str and type(temp_time_ann[doi]['time']) == str:\n",
    "        time_val[doi] ='TP'\n",
    "    elif type(temp_time_ext[doi]['time']) == str and type(temp_time_ann[doi]['time']) == list:\n",
    "        time_val[doi] = 'FN'\n",
    "    elif type(temp_time_ext[doi]['time']) == list and type(temp_time_ann[doi]['time']) == str:\n",
    "        time_val[doi] = 'FP'\n",
    "print(len(temp_val))\n",
    "print(len(time_val))"
   ]
  },
  {
   "cell_type": "code",
   "execution_count": 84,
   "metadata": {},
   "outputs": [
    {
     "name": "stdout",
     "output_type": "stream",
     "text": [
      "The temp precision is: 0.84\n",
      "The temp recall is: 0.8076923076923077\n",
      "The temp F1 score is: 0.8235294117647058\n",
      "The time precision is: 0.92\n",
      "The time recall is: 0.8214285714285714\n",
      "The time F1 score is: 0.8679245283018867\n"
     ]
    }
   ],
   "source": [
    "TP_time = list(time_val.values()).count('TP')\n",
    "FP_time = list(time_val.values()).count('FP')\n",
    "FN_time = list(time_val.values()).count('FN')\n",
    "TP_temp = list(temp_val.values()).count('TP')\n",
    "FP_temp = list(temp_val.values()).count('FP')\n",
    "FN_temp = list(temp_val.values()).count('FN')\n",
    "precision_temp = TP_temp / (TP_temp+FP_temp)\n",
    "recall_temp = TP_temp / (TP_temp+FN_temp)\n",
    "F1_temp = (2*precision_temp*recall_temp)/(precision_temp+recall_temp)\n",
    "print(f'The temp precision is: {precision_temp}')\n",
    "print(f'The temp recall is: {recall_temp}')\n",
    "print(f'The temp F1 score is: {F1_temp}')\n",
    "precision_time = TP_time / (TP_time+FP_time)\n",
    "recall_time = TP_time / (TP_time+FN_time)\n",
    "F1_time = (2*precision_time*recall_time)/(precision_time+recall_time)\n",
    "print(f'The time precision is: {precision_time}')\n",
    "print(f'The time recall is: {recall_time}')\n",
    "print(f'The time F1 score is: {F1_time}')"
   ]
  },
  {
   "cell_type": "code",
   "execution_count": 86,
   "metadata": {},
   "outputs": [
    {
     "name": "stdout",
     "output_type": "stream",
     "text": [
      "The precision is: 0.88\n",
      "The recall is: 0.8148148148148148\n",
      "The F1 score is: 0.8461538461538461\n"
     ]
    }
   ],
   "source": [
    "#Combined time and temp\n",
    "TP = TP_time + TP_temp\n",
    "FP = FP_time + FP_temp\n",
    "FN = FN_time + FN_temp\n",
    "precision = TP / (TP+FP)\n",
    "recall = TP / (TP+FN)\n",
    "F1 = (2*precision*recall)/(precision + recall)\n",
    "print(f'The precision is: {precision}')\n",
    "print(f'The recall is: {recall}')\n",
    "print(f'The F1 score is: {F1}')"
   ]
  },
  {
   "cell_type": "markdown",
   "metadata": {},
   "source": [
    "# Analysis of 30 random sample from relevant paragraphs"
   ]
  },
  {
   "cell_type": "code",
   "execution_count": 18,
   "metadata": {},
   "outputs": [],
   "source": [
    "# Sampling 30 random dois from relevant dataset\n",
    "path = '/Users/pnt17/Library/CloudStorage/OneDrive-ImperialCollegeLondon/MRes_project_data/ceder_extract_data'\n",
    "filename = 'relevant_data.json'\n",
    "with open(os.path.join(path, filename),'r', encoding = 'utf-8') as file:\n",
    "    rel_data = json.load(file)"
   ]
  },
  {
   "cell_type": "code",
   "execution_count": 6,
   "metadata": {},
   "outputs": [
    {
     "name": "stdout",
     "output_type": "stream",
     "text": [
      "The number of paragraphs relevant to CDs is: 1905\n"
     ]
    }
   ],
   "source": [
    "print('The number of paragraphs relevant to CDs is:',len(rel_data))"
   ]
  },
  {
   "cell_type": "code",
   "execution_count": 7,
   "metadata": {},
   "outputs": [],
   "source": [
    "rel_dois = []\n",
    "for entry in rel_data:\n",
    "    rel_dois.append(entry['doi'])"
   ]
  },
  {
   "cell_type": "code",
   "execution_count": 8,
   "metadata": {},
   "outputs": [],
   "source": [
    "# Sampling 30 dois and ensuring they're not in 30 test sample\n",
    "path_2 = '/Users/pnt17/Library/CloudStorage/OneDrive-ImperialCollegeLondon/MRes_project_data/para_dataset'\n",
    "filename = 'para_30_sample.txt'\n",
    "para_30 = []\n",
    "with open(os.path.join(path_2, filename),'r', encoding='utf-8') as file:\n",
    "    para_30 = file.read().splitlines()\n",
    "\n",
    "doi_30 = []\n",
    "for entry in para_30:\n",
    "    doi_30.append(entry.split(':',1)[0])"
   ]
  },
  {
   "cell_type": "code",
   "execution_count": 11,
   "metadata": {},
   "outputs": [
    {
     "data": {
      "text/plain": [
       "1880"
      ]
     },
     "execution_count": 11,
     "metadata": {},
     "output_type": "execute_result"
    }
   ],
   "source": [
    "rel_dois_no_test = list(set(rel_dois)-set(doi_30))\n",
    "len(rel_dois_no_test)"
   ]
  },
  {
   "cell_type": "code",
   "execution_count": 14,
   "metadata": {},
   "outputs": [],
   "source": [
    "# rel_30_sample = random.choices(rel_dois_no_test, k = 30)"
   ]
  },
  {
   "cell_type": "code",
   "execution_count": 13,
   "metadata": {},
   "outputs": [],
   "source": [
    "# Getting text for rel_30_sample\n",
    "path_3 = '/Users/pnt17/Library/CloudStorage/OneDrive-ImperialCollegeLondon/MRes_project_data/para_dataset_all'\n",
    "all_text = []\n",
    "with open(os.path.join(path_3, 'all_para_dataset.txt'), 'r', encoding = 'utf-8') as file:\n",
    "    all_text = file.read().splitlines()"
   ]
  },
  {
   "cell_type": "code",
   "execution_count": 15,
   "metadata": {},
   "outputs": [],
   "source": [
    "rel_30_text = []\n",
    "for doi in rel_30_sample:\n",
    "    for text in all_text:\n",
    "        if text.startswith(doi):\n",
    "            rel_30_text.append(text)"
   ]
  },
  {
   "cell_type": "code",
   "execution_count": 16,
   "metadata": {},
   "outputs": [
    {
     "data": {
      "text/plain": [
       "30"
      ]
     },
     "execution_count": 16,
     "metadata": {},
     "output_type": "execute_result"
    }
   ],
   "source": [
    "len(rel_30_text)"
   ]
  },
  {
   "cell_type": "code",
   "execution_count": 17,
   "metadata": {},
   "outputs": [],
   "source": [
    "# Saving rel_30_text to file\n",
    "with open(os.path.join(path, 'rel_30_sample.txt'),'w', encoding = 'utf-8') as file:\n",
    "    file.write('\\n'.join(text for text in rel_30_text))\n"
   ]
  },
  {
   "cell_type": "code",
   "execution_count": 19,
   "metadata": {},
   "outputs": [],
   "source": [
    "# Getting the extracted data for the rel_30_dois\n",
    "rel_30_sample_data = []\n",
    "for doi in rel_30_sample:\n",
    "    for entry in rel_data:\n",
    "        if entry['doi'] == doi:\n",
    "            rel_30_sample_data.append(entry)"
   ]
  },
  {
   "cell_type": "code",
   "execution_count": 20,
   "metadata": {},
   "outputs": [],
   "source": [
    "#Saving to file\n",
    "path = '/Users/pnt17/Library/CloudStorage/OneDrive-ImperialCollegeLondon/MRes_project_data/ceder_extract_data'\n",
    "with open(os.path.join(path, 'rel_30_sample_data.json'),'w', encoding ='utf-8') as file:\n",
    "    json.dump(rel_30_sample_data, file, indent=4,sort_keys=True,ensure_ascii=False)"
   ]
  },
  {
   "cell_type": "markdown",
   "metadata": {},
   "source": [
    "#### Start of analysis"
   ]
  },
  {
   "cell_type": "code",
   "execution_count": 54,
   "metadata": {},
   "outputs": [],
   "source": [
    "#File import\n",
    "# path = '/Users/pnt17/Library/CloudStorage/OneDrive-ImperialCollegeLondon/MRes_project_data/ceder_extract_data'\n",
    "path = r'C:\\Users\\Piotr\\OneDrive - Imperial College London\\MRes_project_data\\ceder_extract_data'\n",
    "filename = 'rel_30_sample_data.json'\n",
    "# path_2 = '/Users/pnt17/Library/CloudStorage/OneDrive-ImperialCollegeLondon/MRes_project_data/annotations'\n",
    "path_2 = r'C:\\Users\\Piotr\\OneDrive - Imperial College London\\MRes_project_data\\annotations'\n",
    "filename_2 = 'rel_30_sample.json'\n",
    "\n",
    "with open(os.path.join(path, filename), 'r', encoding = 'utf-8') as file:\n",
    "    extractions = json.load(file)\n",
    "    \n",
    "with open(os.path.join(path_2, filename_2), 'r', encoding = 'utf-8') as file:\n",
    "    annotation = json.load(file)"
   ]
  },
  {
   "cell_type": "markdown",
   "metadata": {},
   "source": [
    "## Analysis of precursor material extraction"
   ]
  },
  {
   "cell_type": "code",
   "execution_count": 55,
   "metadata": {},
   "outputs": [
    {
     "name": "stdout",
     "output_type": "stream",
     "text": [
      "30\n",
      "{'10.1080/00387010.2020.1764589': ['neera'], '10.1007/s10904-019-01232-x_no_1': ['NaOH', 'copper acetate'], '10.1039/C8RA09868A': ['PPD', 'ZnCl2'], '10.1039/C6NJ01753C': ['L-cysteine', 'citric acid monohydrate'], '10.1007/s10895-021-02804-2': ['citric acid', 'ethylene diamine'], '10.1002/MAME.202100339': ['citric acid', 'fuchsine', 'p‐phenylenediamine'], '10.3390/ma13184146': ['ethylenediamine', 'lutein'], '10.1021/ac3007939': ['CPs', 'pomelo'], '10.1039/C5AY01715G': ['citric acid', 'urea'], '10.1039/D1RA01478A': ['AM', 'acrylamide', 'citric'], '10.1039/D1AN00796C': ['AA', 'EDC', 'copper acetate'], '10.1039/D2AN01929A': ['AEEA', 'APTES', 'APTMS', 'RB'], '10.1039/D1AY00762A': ['AA', 'Cu(NO3)2', 'DPA'], '10.1016/j.microc.2019.104528': ['CPC', 'cetylpyridinium chloride'], '10.1007/s00604-020-04344-1': ['AgNO3', 'EuWO4(OH)', 'sodium citrate'], '10.1007/s00604-019-3593-4': ['EDTA', 'FeSO4∙7H2O', 'GSH'], '10.1002/advs.201900397_no_1': ['N,N‐diethyl‐', 'N,N‐dimethyl‐p‐PD', 'N,N‐dipropyl‐p‐PD'], '10.1039/D2RA05137K_no_0': ['FN', 'ethylenediamine'], '10.1002/cssc.202102390': ['acid', 'citric acid', 'ethylenediamine', 'manganese nitrate', 'polyvinyl pyrrolidone'], '10.1039/C8GC01638K_no_0': ['Mf', 'molasses filtrate'], '10.1039/D2AY00231K': ['NaOH'], '10.1021/CM303513Y': ['F127', 'α-CD'], '10.1039/D1EN00175B': ['NCQDs', 'VCl3', 'ammonia'], '10.1021/ACSSUSCHEMENG.7B00393': ['water'], '10.1007/s00604-018-3045-6': ['Sodium lignosulfonate', 'p-phenylenediamine'], '10.3390/s18040964': [], '10.1039/C4TC01857E': ['NaHB4', 'NaHSe', 'NiCl2·6H2O', 'OA', 'TOP', 'UA', 'selenium', 'toluene'], '10.1016/j.optmat.2019.04.045': ['PEI', 'glycine'], '10.1039/C8AN01552J': ['EDA', 'phenolphthalein'], '10.1002/pat.4901_no_1': ['AEAPMS', 'CA', 'ZrO2']}\n"
     ]
    }
   ],
   "source": [
    "#getting precursor materials without amounts from extraction\n",
    "precursors_ext = {}\n",
    "for para in extractions:\n",
    "    precursors_ext[para['doi']] = list(para['precursors'])\n",
    "print(len(precursors_ext))\n",
    "print(precursors_ext)"
   ]
  },
  {
   "cell_type": "code",
   "execution_count": 56,
   "metadata": {},
   "outputs": [
    {
     "name": "stdout",
     "output_type": "stream",
     "text": [
      "30\n",
      "{'10.1080/00387010.2020.1764589': ['neera'], '10.1007/s10904-019-01232-x_no_1': ['copper acetate'], '10.1039/C8RA09868A': ['PPD', 'ZnCl2'], '10.1039/C6NJ01753C': ['citric acid monohydrate', 'L-cysteine'], '10.1007/s10895-021-02804-2': ['citric acid', 'ethylene diamine'], '10.1002/MAME.202100339': ['CA', 'basic fuchsine', 'BF', 'p‐phenylenediamine', 'citric acid'], '10.3390/ma13184146': ['ethylenediamine', 'lutein'], '10.1021/ac3007939': ['pomelo peel'], '10.1039/C5AY01715G': ['citric acid', 'urea'], '10.1039/D1RA01478A': ['acrylamide', 'AM', 'anhydrous citric'], '10.1039/D1AN00796C': ['EDC', 'AA', 'copper acetate'], '10.1039/D2AN01929A': ['AEEA', 'APTMS', 'APTES', 'RB'], '10.1039/D1AY00762A': ['AA', 'Cu(NO3)2', 'DPA'], '10.1016/j.microc.2019.104528': ['CPC', 'cetylpyridinium chloride'], '10.1007/s00604-020-04344-1': ['sodium citrate', 'EuWO4(OH)', 'AgNO3'], '10.1007/s00604-019-3593-4': ['FeSO4∙7H2O', 'GSH', 'EDTA'], '10.1002/advs.201900397_no_1': ['N,N‐dimethyl‐p‐PD', 'N,N‐dipropyl‐p‐PD'], '10.1039/D2RA05137K_no_0': ['ethylenediamine', 'FN'], '10.1002/cssc.202102390': ['manganese nitrate', '1, 3, 5‐benzenetricarboxylic acid', 'ethylenediamine', 'polyvinyl pyrrolidone', 'citric acid'], '10.1039/C8GC01638K_no_0': ['molasses'], '10.1039/D2AY00231K': ['dry yeast', 'NaOH'], '10.1021/CM303513Y': ['F127', 'α-CD'], '10.1039/D1EN00175B': ['ammonia solution', 'VCl3', 'NCQDs'], '10.1021/ACSSUSCHEMENG.7B00393': ['water chestnut ', 'chestnut', 'onion'], '10.1007/s00604-018-3045-6': ['Sodium lignosulfonate', 'p-phenylenediamine'], '10.3390/s18040964': ['gardenias'], '10.1039/C4TC01857E': ['NaHB4', 'selenium', 'NaHSe', 'OA', 'UA', 'NiCl2·6H2O', 'toluene', 'TOP'], '10.1016/j.optmat.2019.04.045': ['glycine', 'PEI'], '10.1039/C8AN01552J': ['EDA', 'phenolphthalein'], '10.1002/pat.4901_no_1': ['AEAPMS', 'CA', 'ZrO2']}\n"
     ]
    }
   ],
   "source": [
    "#collecting precursor materials without amount from annotations\n",
    "precursors_ann = {}\n",
    "for para in annotation:\n",
    "    materials = []\n",
    "    for material in para['precursors']:\n",
    "        materials.extend(list(material))\n",
    "    precursors_ann[para['doi']] = list(set(materials))\n",
    "print(len(precursors_ann))\n",
    "print(precursors_ann)"
   ]
  },
  {
   "cell_type": "code",
   "execution_count": 57,
   "metadata": {},
   "outputs": [
    {
     "name": "stdout",
     "output_type": "stream",
     "text": [
      "30\n",
      "{'10.1080/00387010.2020.1764589': [('neera', 'neera')], '10.1007/s10904-019-01232-x_no_1': [('NaOH', ''), ('copper acetate', 'copper acetate')], '10.1039/C8RA09868A': [('PPD', 'PPD'), ('ZnCl2', 'ZnCl2')], '10.1039/C6NJ01753C': [('L-cysteine', 'L-cysteine'), ('citric acid monohydrate', 'citric acid monohydrate')], '10.1007/s10895-021-02804-2': [('citric acid', 'citric acid'), ('ethylene diamine', 'ethylene diamine')], '10.1002/MAME.202100339': [('citric acid', 'citric acid'), ('fuchsine', ''), ('p‐phenylenediamine', 'p‐phenylenediamine'), ('', 'CA'), ('', 'basic fuchsine'), ('', 'BF')], '10.3390/ma13184146': [('ethylenediamine', 'ethylenediamine'), ('lutein', 'lutein')], '10.1021/ac3007939': [('CPs', ''), ('pomelo', ''), ('', 'pomelo peel')], '10.1039/C5AY01715G': [('citric acid', 'citric acid'), ('urea', 'urea')], '10.1039/D1RA01478A': [('AM', 'AM'), ('acrylamide', 'acrylamide'), ('citric', ''), ('', 'anhydrous citric')], '10.1039/D1AN00796C': [('AA', 'AA'), ('EDC', 'EDC'), ('copper acetate', 'copper acetate')], '10.1039/D2AN01929A': [('AEEA', 'AEEA'), ('APTES', 'APTES'), ('APTMS', 'APTMS'), ('RB', 'RB')], '10.1039/D1AY00762A': [('AA', 'AA'), ('Cu(NO3)2', 'Cu(NO3)2'), ('DPA', 'DPA')], '10.1016/j.microc.2019.104528': [('CPC', 'CPC'), ('cetylpyridinium chloride', 'cetylpyridinium chloride')], '10.1007/s00604-020-04344-1': [('AgNO3', 'AgNO3'), ('EuWO4(OH)', 'EuWO4(OH)'), ('sodium citrate', 'sodium citrate')], '10.1007/s00604-019-3593-4': [('EDTA', 'EDTA'), ('FeSO4∙7H2O', 'FeSO4∙7H2O'), ('GSH', 'GSH')], '10.1002/advs.201900397_no_1': [('N,N‐diethyl‐', ''), ('N,N‐dimethyl‐p‐PD', 'N,N‐dimethyl‐p‐PD'), ('N,N‐dipropyl‐p‐PD', 'N,N‐dipropyl‐p‐PD')], '10.1039/D2RA05137K_no_0': [('FN', 'FN'), ('ethylenediamine', 'ethylenediamine')], '10.1002/cssc.202102390': [('acid', ''), ('citric acid', 'citric acid'), ('ethylenediamine', 'ethylenediamine'), ('manganese nitrate', 'manganese nitrate'), ('polyvinyl pyrrolidone', 'polyvinyl pyrrolidone'), ('', '1, 3, 5‐benzenetricarboxylic acid')], '10.1039/C8GC01638K_no_0': [('Mf', ''), ('molasses filtrate', ''), ('', 'molasses')], '10.1039/D2AY00231K': [('NaOH', 'NaOH'), ('', 'dry yeast')], '10.1021/CM303513Y': [('F127', 'F127'), ('α-CD', 'α-CD')], '10.1039/D1EN00175B': [('NCQDs', 'NCQDs'), ('VCl3', 'VCl3'), ('ammonia', ''), ('', 'ammonia solution')], '10.1021/ACSSUSCHEMENG.7B00393': [('water', ''), ('', 'water chestnut '), ('', 'chestnut'), ('', 'onion')], '10.1007/s00604-018-3045-6': [('Sodium lignosulfonate', 'Sodium lignosulfonate'), ('p-phenylenediamine', 'p-phenylenediamine')], '10.3390/s18040964': [('', 'gardenias')], '10.1039/C4TC01857E': [('NaHB4', 'NaHB4'), ('NaHSe', 'NaHSe'), ('NiCl2·6H2O', 'NiCl2·6H2O'), ('OA', 'OA'), ('TOP', 'TOP'), ('UA', 'UA'), ('selenium', 'selenium'), ('toluene', 'toluene')], '10.1016/j.optmat.2019.04.045': [('PEI', 'PEI'), ('glycine', 'glycine')], '10.1039/C8AN01552J': [('EDA', 'EDA'), ('phenolphthalein', 'phenolphthalein')], '10.1002/pat.4901_no_1': [('AEAPMS', 'AEAPMS'), ('CA', 'CA'), ('ZrO2', 'ZrO2')]}\n"
     ]
    }
   ],
   "source": [
    "#Assigning values\n",
    "precursors = {}\n",
    "for doi in list(precursors_ann.keys()):\n",
    "    pair_list = []\n",
    "    for material in precursors_ext[doi]:\n",
    "        if material in precursors_ann[doi]:\n",
    "            pair = (material, material)\n",
    "            pair_list.append(pair)\n",
    "        elif material not in precursors_ann[doi]:\n",
    "            pair = (material,'')\n",
    "            pair_list.append(pair)\n",
    "    for material in precursors_ann[doi]:\n",
    "        if material not in precursors_ext[doi]:\n",
    "            pair = ('', material)\n",
    "            pair_list.append(pair)\n",
    "    precursors[doi] = pair_list\n",
    "\n",
    "print(len(precursors))\n",
    "print(precursors)"
   ]
  },
  {
   "cell_type": "code",
   "execution_count": 58,
   "metadata": {},
   "outputs": [
    {
     "name": "stdout",
     "output_type": "stream",
     "text": [
      "30\n",
      "{'10.1080/00387010.2020.1764589': ['TP'], '10.1007/s10904-019-01232-x_no_1': ['FP', 'TP'], '10.1039/C8RA09868A': ['TP', 'TP'], '10.1039/C6NJ01753C': ['TP', 'TP'], '10.1007/s10895-021-02804-2': ['TP', 'TP'], '10.1002/MAME.202100339': ['TP', 'FP', 'TP', 'FN', 'FN', 'FN'], '10.3390/ma13184146': ['TP', 'TP'], '10.1021/ac3007939': ['FP', 'FP', 'FN'], '10.1039/C5AY01715G': ['TP', 'TP'], '10.1039/D1RA01478A': ['TP', 'TP', 'FP', 'FN'], '10.1039/D1AN00796C': ['TP', 'TP', 'TP'], '10.1039/D2AN01929A': ['TP', 'TP', 'TP', 'TP'], '10.1039/D1AY00762A': ['TP', 'TP', 'TP'], '10.1016/j.microc.2019.104528': ['TP', 'TP'], '10.1007/s00604-020-04344-1': ['TP', 'TP', 'TP'], '10.1007/s00604-019-3593-4': ['TP', 'TP', 'TP'], '10.1002/advs.201900397_no_1': ['FP', 'TP', 'TP'], '10.1039/D2RA05137K_no_0': ['TP', 'TP'], '10.1002/cssc.202102390': ['FP', 'TP', 'TP', 'TP', 'TP', 'FN'], '10.1039/C8GC01638K_no_0': ['FP', 'FP', 'FN'], '10.1039/D2AY00231K': ['TP', 'FN'], '10.1021/CM303513Y': ['TP', 'TP'], '10.1039/D1EN00175B': ['TP', 'TP', 'FP', 'FN'], '10.1021/ACSSUSCHEMENG.7B00393': ['FP', 'FN', 'FN', 'FN'], '10.1007/s00604-018-3045-6': ['TP', 'TP'], '10.3390/s18040964': ['FN'], '10.1039/C4TC01857E': ['TP', 'TP', 'TP', 'TP', 'TP', 'TP', 'TP', 'TP'], '10.1016/j.optmat.2019.04.045': ['TP', 'TP'], '10.1039/C8AN01552J': ['TP', 'TP'], '10.1002/pat.4901_no_1': ['TP', 'TP', 'TP']}\n"
     ]
    }
   ],
   "source": [
    "all_precursor_values = {}\n",
    "for doi in list(precursors.keys()):\n",
    "    values = []\n",
    "    for pairs in precursors[doi]:\n",
    "        if pairs[0] == pairs[1]:\n",
    "            values.append('TP')\n",
    "        elif pairs[0] != pairs[1] and pairs[0] =='':\n",
    "            values.append('FN')\n",
    "        elif pairs[0] != pairs[1] and pairs[1] == '':\n",
    "            values.append('FP')\n",
    "        all_precursor_values[doi] = values\n",
    "print(len(all_precursor_values))\n",
    "print(all_precursor_values)"
   ]
  },
  {
   "cell_type": "code",
   "execution_count": 59,
   "metadata": {},
   "outputs": [
    {
     "name": "stdout",
     "output_type": "stream",
     "text": [
      "['TP', 'FP', 'TP', 'TP', 'TP', 'TP', 'TP', 'TP', 'TP', 'TP', 'FP', 'TP', 'FN', 'FN', 'FN', 'TP', 'TP', 'FP', 'FP', 'FN', 'TP', 'TP', 'TP', 'TP', 'FP', 'FN', 'TP', 'TP', 'TP', 'TP', 'TP', 'TP', 'TP', 'TP', 'TP', 'TP', 'TP', 'TP', 'TP', 'TP', 'TP', 'TP', 'TP', 'TP', 'FP', 'TP', 'TP', 'TP', 'TP', 'FP', 'TP', 'TP', 'TP', 'TP', 'FN', 'FP', 'FP', 'FN', 'TP', 'FN', 'TP', 'TP', 'TP', 'TP', 'FP', 'FN', 'FP', 'FN', 'FN', 'FN', 'TP', 'TP', 'FN', 'TP', 'TP', 'TP', 'TP', 'TP', 'TP', 'TP', 'TP', 'TP', 'TP', 'TP', 'TP', 'TP', 'TP', 'TP']\n"
     ]
    }
   ],
   "source": [
    "all_values_combine = []\n",
    "for values in all_precursor_values.values():\n",
    "    all_values_combine.extend(values)\n",
    "print(all_values_combine)"
   ]
  },
  {
   "cell_type": "code",
   "execution_count": 60,
   "metadata": {},
   "outputs": [
    {
     "name": "stdout",
     "output_type": "stream",
     "text": [
      "The precision is: 0.85\n",
      "The recall is: 0.83\n",
      "The F1 score is: 0.84\n"
     ]
    }
   ],
   "source": [
    "TP = all_values_combine.count('TP')\n",
    "FP = all_values_combine.count('FP')\n",
    "FN = all_values_combine.count('FN')\n",
    "precision = TP / (TP+FP)\n",
    "recall = TP / (TP+FN)\n",
    "F1 = (2*precision*recall)/(precision+recall)\n",
    "print(f'The precision is: {precision:.2f}')\n",
    "print(f'The recall is: {recall:.2f}')\n",
    "print(f'The F1 score is: {F1:.2f}')"
   ]
  },
  {
   "cell_type": "markdown",
   "metadata": {},
   "source": [
    "## Analysis of target material extraction"
   ]
  },
  {
   "cell_type": "code",
   "execution_count": 61,
   "metadata": {},
   "outputs": [
    {
     "name": "stdout",
     "output_type": "stream",
     "text": [
      "30\n",
      "{'10.1080/00387010.2020.1764589': [], '10.1007/s10904-019-01232-x_no_1': ['CuO'], '10.1039/C8RA09868A': [], '10.1039/C6NJ01753C': ['NS-CDs'], '10.1007/s10895-021-02804-2': ['CQDs', 'Carbon'], '10.1002/MAME.202100339': ['N‐CDs', 'RTP‐CDs', 'b‐CDs', 'c‐CDs', 'p‐CDs'], '10.3390/ma13184146': ['L-CDs', 'carbon'], '10.1021/ac3007939': ['CPs'], '10.1039/C5AY01715G': ['A-CDs', 'CD'], '10.1039/D1RA01478A': [], '10.1039/D1AN00796C': ['N, Cu-CQD', 'N, Cu-CQDs', 'free-Cu CQDs'], '10.1039/D2AN01929A': ['CD2', 'CD3', 'CD560'], '10.1039/D1AY00762A': [], '10.1016/j.microc.2019.104528': ['NCl-CDs'], '10.1007/s00604-020-04344-1': ['Ag', 'Ag@EuWO4(OH)', 'EuWO4(OH)', 'carbon'], '10.1007/s00604-019-3593-4': ['CQDs'], '10.1002/advs.201900397_no_1': ['R‐EGP‐CQDs‐Et2', 'R‐EGP‐CQDs‐NMe2'], '10.1039/D2RA05137K_no_0': [], '10.1002/cssc.202102390': ['Mn3O4', 'Mn3O4/NCDs', 'carbon'], '10.1039/C8GC01638K_no_0': ['S-GQDs'], '10.1039/D2AY00231K': [], '10.1021/CM303513Y': ['HCNPs'], '10.1039/D1EN00175B': ['NCQDs/VN', 'VN'], '10.1021/ACSSUSCHEMENG.7B00393': ['S,N/CDs'], '10.1007/s00604-018-3045-6': ['N,S-CDs'], '10.3390/s18040964': ['FCNs'], '10.1039/C4TC01857E': ['NiSe'], '10.1016/j.optmat.2019.04.045': ['N-CQDs'], '10.1039/C8AN01552J': [], '10.1002/pat.4901_no_1': ['Si‐ZrO2', 'ZrO2', 'silicone‐decorated']}\n"
     ]
    }
   ],
   "source": [
    "#getting target materials without amounts from extraction\n",
    "targets_ext = {}\n",
    "for para in extractions:\n",
    "    targets_ext[para['doi']] = list(para['targets'])\n",
    "print(len(targets_ext))\n",
    "print(targets_ext)"
   ]
  },
  {
   "cell_type": "code",
   "execution_count": 62,
   "metadata": {},
   "outputs": [
    {
     "name": "stdout",
     "output_type": "stream",
     "text": [
      "30\n",
      "{'10.1080/00387010.2020.1764589': ['CDs'], '10.1007/s10904-019-01232-x_no_1': ['CuO'], '10.1039/C8RA09868A': ['Zn-doped CDs'], '10.1039/C6NJ01753C': ['NS-CDs', 'CDs'], '10.1007/s10895-021-02804-2': ['CQDs', 'Carbon quantum dots'], '10.1002/MAME.202100339': ['CDs', 'c‐CDs', 'N‐CDs', 'b‐CDs', 'p‐CDs', 'RTP‐CDs'], '10.3390/ma13184146': ['Nitrogen-doped carbon dots', 'L-CDs'], '10.1021/ac3007939': ['CPs'], '10.1039/C5AY01715G': ['CD', 'A-CDs'], '10.1039/D1RA01478A': ['CDs'], '10.1039/D1AN00796C': ['N, Cu-CQD', 'free-Cu CQDs', 'N, Cu-CQDs'], '10.1039/D2AN01929A': ['CD3', 'CD2', 'CD560'], '10.1039/D1AY00762A': ['CDs', 'Cu NCs'], '10.1016/j.microc.2019.104528': ['NCl-CDs', 'CDs'], '10.1007/s00604-020-04344-1': ['carbon dot-embedded EuWO4(OH) composite', 'carbon dot-embedded Ag@EuWO4(OH) composite'], '10.1007/s00604-019-3593-4': ['CQDs', 'Fe-CQDs'], '10.1002/advs.201900397_no_1': ['R‐EGP‐CQDs‐Et2', '‐NPr2: R‐EGP‐CQDs', 'R‐EGP‐CQDs‐NMe2'], '10.1039/D2RA05137K_no_0': ['CDs'], '10.1002/cssc.202102390': ['Mn3O4/NCDs', 'Mn3O4/NCDs composite'], '10.1039/C8GC01638K_no_0': ['S-GQDs'], '10.1039/D2AY00231K': ['Y-CD'], '10.1021/CM303513Y': ['HCNPs'], '10.1039/D1EN00175B': ['NCQDs/VN', 'NCQDs/VN composite'], '10.1021/ACSSUSCHEMENG.7B00393': ['S,N/CDs'], '10.1007/s00604-018-3045-6': ['N,S-CDs'], '10.3390/s18040964': ['FCNs'], '10.1039/C4TC01857E': ['TOP-NiSe QDs', 'QDs', 'NiSe QDs'], '10.1016/j.optmat.2019.04.045': ['N-CQDs'], '10.1039/C8AN01552J': ['CDs'], '10.1002/pat.4901_no_1': ['Si‐ZrO2', 'Pure‐CDs']}\n"
     ]
    }
   ],
   "source": [
    "#collecting target materials without amount from annotations\n",
    "targets_ann = {}\n",
    "for para in annotation:\n",
    "    materials = []\n",
    "    for material in para['targets']:\n",
    "        materials.extend(list(material))\n",
    "    targets_ann[para['doi']] = list(set(materials))\n",
    "print(len(targets_ann))\n",
    "print(targets_ann)"
   ]
  },
  {
   "cell_type": "code",
   "execution_count": 63,
   "metadata": {},
   "outputs": [
    {
     "name": "stdout",
     "output_type": "stream",
     "text": [
      "30\n",
      "{'10.1080/00387010.2020.1764589': [('', 'CDs')], '10.1007/s10904-019-01232-x_no_1': [('CuO', 'CuO')], '10.1039/C8RA09868A': [('', 'Zn-doped CDs')], '10.1039/C6NJ01753C': [('NS-CDs', 'NS-CDs'), ('', 'CDs')], '10.1007/s10895-021-02804-2': [('CQDs', 'CQDs'), ('Carbon', ''), ('', 'Carbon quantum dots')], '10.1002/MAME.202100339': [('N‐CDs', 'N‐CDs'), ('RTP‐CDs', 'RTP‐CDs'), ('b‐CDs', 'b‐CDs'), ('c‐CDs', 'c‐CDs'), ('p‐CDs', 'p‐CDs'), ('', 'CDs')], '10.3390/ma13184146': [('L-CDs', 'L-CDs'), ('carbon', ''), ('', 'Nitrogen-doped carbon dots')], '10.1021/ac3007939': [('CPs', 'CPs')], '10.1039/C5AY01715G': [('A-CDs', 'A-CDs'), ('CD', 'CD')], '10.1039/D1RA01478A': [('', 'CDs')], '10.1039/D1AN00796C': [('N, Cu-CQD', 'N, Cu-CQD'), ('N, Cu-CQDs', 'N, Cu-CQDs'), ('free-Cu CQDs', 'free-Cu CQDs')], '10.1039/D2AN01929A': [('CD2', 'CD2'), ('CD3', 'CD3'), ('CD560', 'CD560')], '10.1039/D1AY00762A': [('', 'CDs'), ('', 'Cu NCs')], '10.1016/j.microc.2019.104528': [('NCl-CDs', 'NCl-CDs'), ('', 'CDs')], '10.1007/s00604-020-04344-1': [('Ag', ''), ('Ag@EuWO4(OH)', ''), ('EuWO4(OH)', ''), ('carbon', ''), ('', 'carbon dot-embedded EuWO4(OH) composite'), ('', 'carbon dot-embedded Ag@EuWO4(OH) composite')], '10.1007/s00604-019-3593-4': [('CQDs', 'CQDs'), ('', 'Fe-CQDs')], '10.1002/advs.201900397_no_1': [('R‐EGP‐CQDs‐Et2', 'R‐EGP‐CQDs‐Et2'), ('R‐EGP‐CQDs‐NMe2', 'R‐EGP‐CQDs‐NMe2'), ('', '‐NPr2: R‐EGP‐CQDs')], '10.1039/D2RA05137K_no_0': [('', 'CDs')], '10.1002/cssc.202102390': [('Mn3O4', ''), ('Mn3O4/NCDs', 'Mn3O4/NCDs'), ('carbon', ''), ('', 'Mn3O4/NCDs composite')], '10.1039/C8GC01638K_no_0': [('S-GQDs', 'S-GQDs')], '10.1039/D2AY00231K': [('', 'Y-CD')], '10.1021/CM303513Y': [('HCNPs', 'HCNPs')], '10.1039/D1EN00175B': [('NCQDs/VN', 'NCQDs/VN'), ('VN', ''), ('', 'NCQDs/VN composite')], '10.1021/ACSSUSCHEMENG.7B00393': [('S,N/CDs', 'S,N/CDs')], '10.1007/s00604-018-3045-6': [('N,S-CDs', 'N,S-CDs')], '10.3390/s18040964': [('FCNs', 'FCNs')], '10.1039/C4TC01857E': [('NiSe', ''), ('', 'TOP-NiSe QDs'), ('', 'QDs'), ('', 'NiSe QDs')], '10.1016/j.optmat.2019.04.045': [('N-CQDs', 'N-CQDs')], '10.1039/C8AN01552J': [('', 'CDs')], '10.1002/pat.4901_no_1': [('Si‐ZrO2', 'Si‐ZrO2'), ('ZrO2', ''), ('silicone‐decorated', ''), ('', 'Pure‐CDs')]}\n"
     ]
    }
   ],
   "source": [
    "#Assigning values\n",
    "targets = {}\n",
    "for doi in list(targets_ann.keys()):\n",
    "    pair_list = []\n",
    "    for material in targets_ext[doi]:\n",
    "        if material in targets_ann[doi]:\n",
    "            pair = (material, material)\n",
    "            pair_list.append(pair)\n",
    "        elif material not in targets_ann[doi]:\n",
    "            pair = (material,'')\n",
    "            pair_list.append(pair)\n",
    "    for material in targets_ann[doi]:\n",
    "        if material not in targets_ext[doi]:\n",
    "            pair = ('', material)\n",
    "            pair_list.append(pair)\n",
    "    targets[doi] = pair_list\n",
    "    \n",
    "print(len(targets))\n",
    "print(targets)"
   ]
  },
  {
   "cell_type": "code",
   "execution_count": 64,
   "metadata": {},
   "outputs": [
    {
     "name": "stdout",
     "output_type": "stream",
     "text": [
      "30\n",
      "{'10.1080/00387010.2020.1764589': ['FN'], '10.1007/s10904-019-01232-x_no_1': ['TP'], '10.1039/C8RA09868A': ['FN'], '10.1039/C6NJ01753C': ['TP', 'FN'], '10.1007/s10895-021-02804-2': ['TP', 'FP', 'FN'], '10.1002/MAME.202100339': ['TP', 'TP', 'TP', 'TP', 'TP', 'FN'], '10.3390/ma13184146': ['TP', 'FP', 'FN'], '10.1021/ac3007939': ['TP'], '10.1039/C5AY01715G': ['TP', 'TP'], '10.1039/D1RA01478A': ['FN'], '10.1039/D1AN00796C': ['TP', 'TP', 'TP'], '10.1039/D2AN01929A': ['TP', 'TP', 'TP'], '10.1039/D1AY00762A': ['FN', 'FN'], '10.1016/j.microc.2019.104528': ['TP', 'FN'], '10.1007/s00604-020-04344-1': ['FP', 'FP', 'FP', 'FP', 'FN', 'FN'], '10.1007/s00604-019-3593-4': ['TP', 'FN'], '10.1002/advs.201900397_no_1': ['TP', 'TP', 'FN'], '10.1039/D2RA05137K_no_0': ['FN'], '10.1002/cssc.202102390': ['FP', 'TP', 'FP', 'FN'], '10.1039/C8GC01638K_no_0': ['TP'], '10.1039/D2AY00231K': ['FN'], '10.1021/CM303513Y': ['TP'], '10.1039/D1EN00175B': ['TP', 'FP', 'FN'], '10.1021/ACSSUSCHEMENG.7B00393': ['TP'], '10.1007/s00604-018-3045-6': ['TP'], '10.3390/s18040964': ['TP'], '10.1039/C4TC01857E': ['FP', 'FN', 'FN', 'FN'], '10.1016/j.optmat.2019.04.045': ['TP'], '10.1039/C8AN01552J': ['FN'], '10.1002/pat.4901_no_1': ['TP', 'FP', 'FP', 'FN']}\n"
     ]
    }
   ],
   "source": [
    "all_targets_values = {}\n",
    "for doi in list(precursors.keys()):\n",
    "    values = []\n",
    "    for pairs in targets[doi]:\n",
    "        if pairs[0] == pairs[1]:\n",
    "            values.append('TP')\n",
    "        elif pairs[0] != pairs[1] and pairs[0] =='':\n",
    "            values.append('FN')\n",
    "        elif pairs[0] != pairs[1] and pairs[1] == '':\n",
    "            values.append('FP')\n",
    "        all_targets_values[doi] = values\n",
    "    if len(targets[doi]) == 0:\n",
    "        values.append('TP')\n",
    "    all_targets_values[doi] = values\n",
    "    \n",
    "print(len(all_targets_values))\n",
    "print(all_targets_values)"
   ]
  },
  {
   "cell_type": "code",
   "execution_count": 65,
   "metadata": {},
   "outputs": [
    {
     "name": "stdout",
     "output_type": "stream",
     "text": [
      "['FN', 'TP', 'FN', 'TP', 'FN', 'TP', 'FP', 'FN', 'TP', 'TP', 'TP', 'TP', 'TP', 'FN', 'TP', 'FP', 'FN', 'TP', 'TP', 'TP', 'FN', 'TP', 'TP', 'TP', 'TP', 'TP', 'TP', 'FN', 'FN', 'TP', 'FN', 'FP', 'FP', 'FP', 'FP', 'FN', 'FN', 'TP', 'FN', 'TP', 'TP', 'FN', 'FN', 'FP', 'TP', 'FP', 'FN', 'TP', 'FN', 'TP', 'TP', 'FP', 'FN', 'TP', 'TP', 'TP', 'FP', 'FN', 'FN', 'FN', 'TP', 'FN', 'TP', 'FP', 'FP', 'FN']\n"
     ]
    }
   ],
   "source": [
    "all_values_combine = []\n",
    "for values in all_targets_values.values():\n",
    "    all_values_combine.extend(values)\n",
    "print(all_values_combine)"
   ]
  },
  {
   "cell_type": "code",
   "execution_count": 66,
   "metadata": {},
   "outputs": [
    {
     "name": "stdout",
     "output_type": "stream",
     "text": [
      "The precision is: 0.72\n",
      "The recall is: 0.57\n",
      "The F1 score is: 0.64\n"
     ]
    }
   ],
   "source": [
    "TP = all_values_combine.count('TP')\n",
    "FP = all_values_combine.count('FP')\n",
    "FN = all_values_combine.count('FN')\n",
    "precision = TP / (TP+FP)\n",
    "recall = TP / (TP+FN)\n",
    "F1 = (2*precision*recall)/(precision+recall)\n",
    "print(f'The precision is: {precision:.2f}')\n",
    "print(f'The recall is: {recall:.2f}')\n",
    "print(f'The F1 score is: {F1:.2f}')"
   ]
  },
  {
   "cell_type": "markdown",
   "metadata": {},
   "source": [
    "## Analysis of reaction time and temp extraction"
   ]
  },
  {
   "cell_type": "code",
   "execution_count": 67,
   "metadata": {},
   "outputs": [
    {
     "name": "stdout",
     "output_type": "stream",
     "text": [
      "30\n"
     ]
    },
    {
     "data": {
      "text/plain": [
       "{'10.1080/00387010.2020.1764589': {'temp': [105.0], 'time': [7.0]},\n",
       " '10.1007/s10904-019-01232-x_no_1': {'temp': [150.0], 'time': [90.0]},\n",
       " '10.1039/C8RA09868A': {'temp': [200.0], 'time': [4.0]},\n",
       " '10.1039/C6NJ01753C': {'temp': [220.0], 'time': [6.0]},\n",
       " '10.1007/s10895-021-02804-2': {'temp': [200.0], 'time': [6.0]},\n",
       " '10.1002/MAME.202100339': {'temp': [180.0], 'time': [12.0]},\n",
       " '10.3390/ma13184146': {'temp': [140.0], 'time': [12.0]},\n",
       " '10.1021/ac3007939': {'temp': [200.0], 'time': [3.0]},\n",
       " '10.1039/C5AY01715G': {'temp': [180.0], 'time': [24.0]},\n",
       " '10.1039/D1RA01478A': {'temp': [180.0], 'time': [6.0]},\n",
       " '10.1039/D1AN00796C': {'temp': [220.0], 'time': [8.0]},\n",
       " '10.1039/D2AN01929A': {'temp': [200.0], 'time': [6.0]},\n",
       " '10.1039/D1AY00762A': {'temp': [180.0], 'time': [4.0]},\n",
       " '10.1016/j.microc.2019.104528': {'temp': [190.0], 'time': [6.0]},\n",
       " '10.1007/s00604-020-04344-1': {'temp': [], 'time': []},\n",
       " '10.1007/s00604-019-3593-4': {'temp': [180.0], 'time': [6.0]},\n",
       " '10.1002/advs.201900397_no_1': {'temp': [200.0], 'time': [12.0]},\n",
       " '10.1039/D2RA05137K_no_0': {'temp': [], 'time': []},\n",
       " '10.1002/cssc.202102390': {'temp': [160.0, 700.0], 'time': [5.0]},\n",
       " '10.1039/C8GC01638K_no_0': {'temp': [180.0], 'time': [4.0]},\n",
       " '10.1039/D2AY00231K': {'temp': [180.0], 'time': [5.0]},\n",
       " '10.1021/CM303513Y': {'temp': [200.0, 900.0], 'time': [6.0, 6.0]},\n",
       " '10.1039/D1EN00175B': {'temp': [200.0, 600.0], 'time': [24.0, 1.0]},\n",
       " '10.1021/ACSSUSCHEMENG.7B00393': {'temp': [180.0], 'time': [4.0]},\n",
       " '10.1007/s00604-018-3045-6': {'temp': [200.0], 'time': [9.0]},\n",
       " '10.3390/s18040964': {'temp': [180.0], 'time': [6.0]},\n",
       " '10.1039/C4TC01857E': {'temp': [95.0, 200.0], 'time': [7.0]},\n",
       " '10.1016/j.optmat.2019.04.045': {'temp': [200.0], 'time': [4.0]},\n",
       " '10.1039/C8AN01552J': {'temp': [180.0], 'time': [5.0]},\n",
       " '10.1002/pat.4901_no_1': {'temp': [], 'time': []}}"
      ]
     },
     "execution_count": 67,
     "metadata": {},
     "output_type": "execute_result"
    }
   ],
   "source": [
    "#Collecting reaction time and temp from extraction\n",
    "temp_time_ext = {}\n",
    "for para in extractions:\n",
    "    temp_time_ext[para['doi']] = {}\n",
    "    temps = []\n",
    "    times = []\n",
    "    for operation in para['heating_operations']:\n",
    "        if operation['temp_values']['values'] is not None:\n",
    "            temps.extend(operation['temp_values']['values'])\n",
    "        if operation['time_values']['values'] is not None:\n",
    "            times.extend(operation['time_values']['values'])  \n",
    "    temp_time_ext[para['doi']].update({'temp':temps, 'time':times})\n",
    "print(len(temp_time_ext))\n",
    "temp_time_ext"
   ]
  },
  {
   "cell_type": "code",
   "execution_count": 68,
   "metadata": {},
   "outputs": [
    {
     "name": "stdout",
     "output_type": "stream",
     "text": [
      "30\n"
     ]
    },
    {
     "data": {
      "text/plain": [
       "{'10.1080/00387010.2020.1764589': {'temp': [105], 'time': [7]},\n",
       " '10.1007/s10904-019-01232-x_no_1': {'temp': [150], 'time': [90]},\n",
       " '10.1039/C8RA09868A': {'temp': [200], 'time': [4]},\n",
       " '10.1039/C6NJ01753C': {'temp': [220], 'time': [6]},\n",
       " '10.1007/s10895-021-02804-2': {'temp': [200], 'time': [6]},\n",
       " '10.1002/MAME.202100339': {'temp': [180], 'time': [12]},\n",
       " '10.3390/ma13184146': {'temp': [140], 'time': [12]},\n",
       " '10.1021/ac3007939': {'temp': [200], 'time': [3]},\n",
       " '10.1039/C5AY01715G': {'temp': [180], 'time': [24]},\n",
       " '10.1039/D1RA01478A': {'temp': [180], 'time': [6]},\n",
       " '10.1039/D1AN00796C': {'temp': [220], 'time': [8]},\n",
       " '10.1039/D2AN01929A': {'temp': [200], 'time': [6]},\n",
       " '10.1039/D1AY00762A': {'temp': [180], 'time': [4]},\n",
       " '10.1016/j.microc.2019.104528': {'temp': [190], 'time': [6]},\n",
       " '10.1007/s00604-020-04344-1': {'temp': [], 'time': []},\n",
       " '10.1007/s00604-019-3593-4': {'temp': [180], 'time': [6]},\n",
       " '10.1002/advs.201900397_no_1': {'temp': [200], 'time': [12]},\n",
       " '10.1039/D2RA05137K_no_0': {'temp': [], 'time': []},\n",
       " '10.1002/cssc.202102390': {'temp': [160], 'time': [5]},\n",
       " '10.1039/C8GC01638K_no_0': {'temp': [180], 'time': [4]},\n",
       " '10.1039/D2AY00231K': {'temp': [180], 'time': [5]},\n",
       " '10.1021/CM303513Y': {'temp': [200], 'time': [6]},\n",
       " '10.1039/D1EN00175B': {'temp': [200], 'time': [24]},\n",
       " '10.1021/ACSSUSCHEMENG.7B00393': {'temp': [180], 'time': [4]},\n",
       " '10.1007/s00604-018-3045-6': {'temp': [200], 'time': [9]},\n",
       " '10.3390/s18040964': {'temp': [180], 'time': [6]},\n",
       " '10.1039/C4TC01857E': {'temp': [200], 'time': [7]},\n",
       " '10.1016/j.optmat.2019.04.045': {'temp': [200], 'time': [4]},\n",
       " '10.1039/C8AN01552J': {'temp': [180], 'time': [5]},\n",
       " '10.1002/pat.4901_no_1': {'temp': [], 'time': []}}"
      ]
     },
     "execution_count": 68,
     "metadata": {},
     "output_type": "execute_result"
    }
   ],
   "source": [
    "#Collecting reaction time and temp from annotations\n",
    "temp_time_ann = {}\n",
    "for para in annotation:\n",
    "    temp_time_ann[para['doi']] = {}\n",
    "    if not para['temp_values']:\n",
    "        temps = []\n",
    "    if not para['time_values']:\n",
    "        times = []\n",
    "    if para['temp_values']:\n",
    "        temps = para['temp_values']['values']\n",
    "    if para['time_values']:\n",
    "        times = para['time_values']['values']\n",
    "    temp_time_ann[para['doi']].update({'temp':temps, 'time':times})\n",
    "print(len(temp_time_ann))\n",
    "temp_time_ann"
   ]
  },
  {
   "cell_type": "code",
   "execution_count": 69,
   "metadata": {},
   "outputs": [
    {
     "name": "stdout",
     "output_type": "stream",
     "text": [
      "30\n",
      "{'10.1080/00387010.2020.1764589': ['TP'], '10.1007/s10904-019-01232-x_no_1': ['TP'], '10.1039/C8RA09868A': ['TP'], '10.1039/C6NJ01753C': ['TP'], '10.1007/s10895-021-02804-2': ['TP'], '10.1002/MAME.202100339': ['TP'], '10.3390/ma13184146': ['TP'], '10.1021/ac3007939': ['TP'], '10.1039/C5AY01715G': ['TP'], '10.1039/D1RA01478A': ['TP'], '10.1039/D1AN00796C': ['TP'], '10.1039/D2AN01929A': ['TP'], '10.1039/D1AY00762A': ['TP'], '10.1016/j.microc.2019.104528': ['TP'], '10.1007/s00604-020-04344-1': ['TP'], '10.1007/s00604-019-3593-4': ['TP'], '10.1002/advs.201900397_no_1': ['TP'], '10.1039/D2RA05137K_no_0': ['TP'], '10.1002/cssc.202102390': ['TP', 'FP'], '10.1039/C8GC01638K_no_0': ['TP'], '10.1039/D2AY00231K': ['TP'], '10.1021/CM303513Y': ['TP', 'FP'], '10.1039/D1EN00175B': ['TP', 'FP'], '10.1021/ACSSUSCHEMENG.7B00393': ['TP'], '10.1007/s00604-018-3045-6': ['TP'], '10.3390/s18040964': ['TP'], '10.1039/C4TC01857E': ['TP', 'FP'], '10.1016/j.optmat.2019.04.045': ['TP'], '10.1039/C8AN01552J': ['TP'], '10.1002/pat.4901_no_1': ['TP']}\n",
      "30\n",
      "{'10.1080/00387010.2020.1764589': ['TP'], '10.1007/s10904-019-01232-x_no_1': ['TP'], '10.1039/C8RA09868A': ['TP'], '10.1039/C6NJ01753C': ['TP'], '10.1007/s10895-021-02804-2': ['TP'], '10.1002/MAME.202100339': ['TP'], '10.3390/ma13184146': ['TP'], '10.1021/ac3007939': ['TP'], '10.1039/C5AY01715G': ['TP'], '10.1039/D1RA01478A': ['TP'], '10.1039/D1AN00796C': ['TP'], '10.1039/D2AN01929A': ['TP'], '10.1039/D1AY00762A': ['TP'], '10.1016/j.microc.2019.104528': ['TP'], '10.1007/s00604-020-04344-1': ['TP'], '10.1007/s00604-019-3593-4': ['TP'], '10.1002/advs.201900397_no_1': ['TP'], '10.1039/D2RA05137K_no_0': ['TP'], '10.1002/cssc.202102390': ['TP'], '10.1039/C8GC01638K_no_0': ['TP'], '10.1039/D2AY00231K': ['TP'], '10.1021/CM303513Y': ['TP'], '10.1039/D1EN00175B': ['TP', 'FP'], '10.1021/ACSSUSCHEMENG.7B00393': ['TP'], '10.1007/s00604-018-3045-6': ['TP'], '10.3390/s18040964': ['TP'], '10.1039/C4TC01857E': ['TP'], '10.1016/j.optmat.2019.04.045': ['TP'], '10.1039/C8AN01552J': ['TP'], '10.1002/pat.4901_no_1': ['TP']}\n"
     ]
    }
   ],
   "source": [
    "#Assigning values\n",
    "temp_val = {}\n",
    "time_val = {}\n",
    "for doi in list(temp_time_ann.keys()):\n",
    "    temps_tags = []\n",
    "    times_tags =[]\n",
    "    for value in temp_time_ann[doi]['temp']:\n",
    "        if value in temp_time_ext[doi]['temp']:\n",
    "            temps_tags.append('TP')\n",
    "        if value not in temp_time_ext[doi]['temp']:\n",
    "            temps_tags.append('FN')\n",
    "    for value in temp_time_ann[doi]['time']:\n",
    "        if value in temp_time_ext[doi]['time']:\n",
    "            times_tags.append('TP')\n",
    "        if value not in temp_time_ext[doi]['time']:\n",
    "            times_tags.append('FN')\n",
    "    for value in temp_time_ext[doi]['temp']:\n",
    "        if value not in temp_time_ann[doi]['temp']:\n",
    "            temps_tags.append('FP')\n",
    "    for value in temp_time_ext[doi]['time']:\n",
    "        if value not in temp_time_ann[doi]['time']:\n",
    "            times_tags.append('FP')\n",
    "    if len(temp_time_ext[doi]['time']) == 0 and len(temp_time_ann[doi]['time']) == 0:\n",
    "        times_tags.append('TP')\n",
    "    if len(temp_time_ext[doi]['temp']) == 0 and len(temp_time_ann[doi]['temp']) == 0:\n",
    "        temps_tags.append('TP')\n",
    "    temp_val.update({doi:temps_tags})\n",
    "    time_val.update({doi:times_tags})\n",
    "\n",
    "print(len(temp_val))\n",
    "print(temp_val)\n",
    "\n",
    "print(len(time_val))\n",
    "print(time_val)"
   ]
  },
  {
   "cell_type": "code",
   "execution_count": 70,
   "metadata": {},
   "outputs": [
    {
     "name": "stdout",
     "output_type": "stream",
     "text": [
      "The temp precision is: 0.8823529411764706\n",
      "The temp recall is: 1.0\n",
      "The temp F1 score is: 0.9375\n",
      "The time precision is: 0.967741935483871\n",
      "The time recall is: 1.0\n",
      "The time F1 score is: 0.9836065573770492\n"
     ]
    }
   ],
   "source": [
    "#Combining values\n",
    "all_temp_val = []\n",
    "all_time_val = []\n",
    "for doi in list(temp_val.keys()):\n",
    "    all_temp_val.extend(temp_val[doi])\n",
    "for doi in list(time_val.keys()):\n",
    "    all_time_val.extend(time_val[doi])\n",
    "\n",
    "TP_time = all_time_val.count('TP')\n",
    "FP_time = all_time_val.count('FP')\n",
    "FN_time = all_time_val.count('FN')\n",
    "TP_temp = all_temp_val.count('TP')\n",
    "FP_temp = all_temp_val.count('FP')\n",
    "FN_temp = all_temp_val.count('FN')\n",
    "precision_temp = TP_temp / (TP_temp+FP_temp)\n",
    "recall_temp = TP_temp / (TP_temp+FN_temp)\n",
    "F1_temp = (2*precision_temp*recall_temp)/(precision_temp+recall_temp)\n",
    "print(f'The temp precision is: {precision_temp}')\n",
    "print(f'The temp recall is: {recall_temp}')\n",
    "print(f'The temp F1 score is: {F1_temp}')\n",
    "precision_time = TP_time / (TP_time+FP_time)\n",
    "recall_time = TP_time / (TP_time+FN_time)\n",
    "F1_time = (2*precision_time*recall_time)/(precision_time+recall_time)\n",
    "print(f'The time precision is: {precision_time}')\n",
    "print(f'The time recall is: {recall_time}')\n",
    "print(f'The time F1 score is: {F1_time}')"
   ]
  },
  {
   "cell_type": "code",
   "execution_count": null,
   "metadata": {},
   "outputs": [],
   "source": []
  },
  {
   "cell_type": "code",
   "execution_count": null,
   "metadata": {},
   "outputs": [],
   "source": []
  },
  {
   "cell_type": "code",
   "execution_count": null,
   "metadata": {},
   "outputs": [],
   "source": []
  },
  {
   "cell_type": "code",
   "execution_count": null,
   "metadata": {},
   "outputs": [],
   "source": []
  },
  {
   "cell_type": "code",
   "execution_count": null,
   "metadata": {},
   "outputs": [],
   "source": []
  }
 ],
 "metadata": {
  "kernelspec": {
   "display_name": "Python 3",
   "language": "python",
   "name": "python3"
  },
  "language_info": {
   "codemirror_mode": {
    "name": "ipython",
    "version": 3
   },
   "file_extension": ".py",
   "mimetype": "text/x-python",
   "name": "python",
   "nbconvert_exporter": "python",
   "pygments_lexer": "ipython3",
   "version": "3.7.6"
  }
 },
 "nbformat": 4,
 "nbformat_minor": 4
}
