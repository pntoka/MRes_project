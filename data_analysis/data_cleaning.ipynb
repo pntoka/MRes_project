{
 "cells": [
  {
   "cell_type": "markdown",
   "id": "cbcc2b88",
   "metadata": {},
   "source": [
    "# Data cleaning\n",
    "Notebook to clean generated dataset for better analysis. Primary objectives are to \n",
    "\n",
    "1. remove duplicates \n",
    "2. standardize material name\n",
    "3. standardize value units"
   ]
  },
  {
   "cell_type": "code",
   "execution_count": 262,
   "id": "2d93fc49",
   "metadata": {},
   "outputs": [],
   "source": [
    "import os\n",
    "import pandas as pd\n",
    "import json\n",
    "import re\n",
    "from collections import Counter\n",
    "import ast"
   ]
  },
  {
   "cell_type": "code",
   "execution_count": 263,
   "id": "b3cef6f3",
   "metadata": {},
   "outputs": [],
   "source": [
    "#Data import\n",
    "path = '/Users/pnt17/Library/CloudStorage/OneDrive-ImperialCollegeLondon/MRes_project_data/ceder_extract_data'\n",
    "# path = r'C:\\Users\\Piotr\\OneDrive - Imperial College London\\MRes_project_data\\ceder_extract_data'\n",
    "# file = 'data_batch_2.json'\n",
    "file = 'all_extracted_data.json'\n",
    "with open(os.path.join(path, file), 'r', encoding='utf-8') as f:\n",
    "    raw_data = json.load(f)"
   ]
  },
  {
   "cell_type": "code",
   "execution_count": 264,
   "id": "5d4ddbc7",
   "metadata": {},
   "outputs": [
    {
     "name": "stdout",
     "output_type": "stream",
     "text": [
      "3789\n"
     ]
    }
   ],
   "source": [
    "print(len(raw_data))"
   ]
  },
  {
   "cell_type": "markdown",
   "id": "ca1340a5",
   "metadata": {},
   "source": [
    "## 1. Duplicate removal"
   ]
  },
  {
   "cell_type": "code",
   "execution_count": 265,
   "id": "cfa4421e",
   "metadata": {},
   "outputs": [
    {
     "name": "stdout",
     "output_type": "stream",
     "text": [
      "22\n",
      "['10.1007/s10934-014-9850-3', '10.1007/s00339-015-9027-1', '10.1007/s12649-018-0426-3', '10.1007/s12649-018-00561-1', '10.1007/s00339-018-1894-9', '10.1007/s10948-015-3231-2_no_0', '10.1007/s00339-015-9164-6_no_0', '10.1007/s00339-015-9164-6_no_1', '10.1007/s10404-016-1825-z', '10.1039/c9ay01794a', '10.1039/c3nj01320k_no_0', '10.1039/c3nj01320k_no_1', '10.1007/s10404-016-1763-9', '10.1007/s12648-015-0741-5_no_0', '10.1007/s40789-016-0124-3', '10.1007/s11837-019-03372-4_no_0', '10.1007/s11837-013-0607-2_no_0', '10.1007/s11837-013-0607-2_no_1', '10.1007/s11837-013-0607-2_no_2', '10.1007/s13399-019-00387-4_no_0', '10.1007/s00339-012-6774-0', '10.1007/s42452-019-0178-0']\n",
      "3\n",
      "['10.1039/C9AY01794A', '10.1039/C3NJ01320K_no_0', '10.1039/C3NJ01320K_no_1']\n"
     ]
    }
   ],
   "source": [
    "dois = []\n",
    "dois_2 = []\n",
    "for entry in raw_data:\n",
    "    dois.append(entry['doi'].lower())\n",
    "    dois_2.append(entry['doi'])\n",
    "case_duplicates = [k for k,v in Counter(dois).items() if v>1]\n",
    "duplicates = [k for k,v in Counter(dois_2).items() if v>1]\n",
    "print(len(case_duplicates))\n",
    "print(case_duplicates)\n",
    "print(len(duplicates))\n",
    "print(duplicates)"
   ]
  },
  {
   "cell_type": "code",
   "execution_count": 266,
   "id": "f5092f7a",
   "metadata": {},
   "outputs": [
    {
     "name": "stdout",
     "output_type": "stream",
     "text": [
      "19\n"
     ]
    }
   ],
   "source": [
    "for doi in duplicates:\n",
    "    if doi.lower() in case_duplicates:\n",
    "        case_duplicates.remove(doi.lower())\n",
    "print(len(case_duplicates))"
   ]
  },
  {
   "cell_type": "code",
   "execution_count": 267,
   "id": "05589754",
   "metadata": {},
   "outputs": [
    {
     "name": "stdout",
     "output_type": "stream",
     "text": [
      "3767\n"
     ]
    }
   ],
   "source": [
    "data = []\n",
    "removed = []\n",
    "for entry in raw_data:\n",
    "    if entry['doi'] in case_duplicates:\n",
    "        continue\n",
    "    if entry['doi'] in duplicates and entry['doi'] not in removed:\n",
    "        removed.append(entry['doi'])\n",
    "        continue\n",
    "    else:\n",
    "        data.append(entry)\n",
    "print(len(data))"
   ]
  },
  {
   "cell_type": "code",
   "execution_count": 268,
   "id": "1b547bd8",
   "metadata": {},
   "outputs": [
    {
     "name": "stdout",
     "output_type": "stream",
     "text": [
      "0\n",
      "[]\n",
      "0\n",
      "[]\n"
     ]
    }
   ],
   "source": [
    "dois = []\n",
    "dois_2 = []\n",
    "for entry in data:\n",
    "    dois.append(entry['doi'].lower())\n",
    "    dois_2.append(entry['doi'])\n",
    "case_duplicates = [k for k,v in Counter(dois).items() if v>1]\n",
    "duplicates = [k for k,v in Counter(dois_2).items() if v>1]\n",
    "print(len(case_duplicates))\n",
    "print(case_duplicates)\n",
    "print(len(duplicates))\n",
    "print(duplicates)"
   ]
  },
  {
   "cell_type": "code",
   "execution_count": 269,
   "id": "96a30367",
   "metadata": {},
   "outputs": [],
   "source": [
    "# with open(os.path.join(path,'extracted_dois.txt'), 'w', encoding = 'utf-8') as file:\n",
    "#     file.write('\\n'.join(doi for doi in dois_2))\n",
    "\n",
    "# with open(os.path.join(path, 'all_extracted_data_clean.json'), 'w', encoding = 'utf-8') as file:\n",
    "#     json.dump(data, file, indent=4,sort_keys=True,ensure_ascii=False)"
   ]
  },
  {
   "cell_type": "markdown",
   "id": "53db908b",
   "metadata": {},
   "source": [
    "## Removing non carbon dot related entries\n",
    "Each doi has a tag relating to relevance to CDs based on abstract and materials mentioned in synthesis procedure\n",
    "\n",
    "Legend:\n",
    "\n",
    "(0,0) no mention of CDs in abstract or materials\n",
    "\n",
    "(1,0) mention of CDs in abstract but no mention in materials\n",
    "\n",
    "(0,1) no mention of CDs in abstract but mentioned in materials\n",
    "\n",
    "(1,1) mention of CDs both in absrtact and materials"
   ]
  },
  {
   "cell_type": "code",
   "execution_count": 270,
   "id": "d9ec2f28",
   "metadata": {},
   "outputs": [
    {
     "name": "stdout",
     "output_type": "stream",
     "text": [
      "3767\n"
     ]
    }
   ],
   "source": [
    "#importing filter results\n",
    "# path_abs = r'C:\\Users\\Piotr\\OneDrive - Imperial College London\\MRes_project_data\\abstracts'\n",
    "path_abs = '/Users/pnt17/Library/CloudStorage/OneDrive-ImperialCollegeLondon/MRes_project_data/abstracts'\n",
    "filter_results = []\n",
    "with open(os.path.join(path_abs, 'filter_results.txt'),'r', encoding = 'utf-8') as file:\n",
    "    for line in file:\n",
    "        line = line.strip()\n",
    "        result = ast.literal_eval(line)\n",
    "        filter_results.append(result)\n",
    "print(len(filter_results))"
   ]
  },
  {
   "cell_type": "code",
   "execution_count": 271,
   "id": "c4c3da32",
   "metadata": {},
   "outputs": [],
   "source": [
    "relevant_dois = []\n",
    "abs_only = []\n",
    "mat_only = []\n",
    "both = []\n",
    "not_rel = []\n",
    "for result in filter_results:\n",
    "    if result[1] == 1 and result[2] == 1:\n",
    "        both.append(result[0])\n",
    "        relevant_dois.append(result[0])\n",
    "    elif result[1] == 1 and result[2] == 0:\n",
    "        abs_only.append(result[0])\n",
    "        relevant_dois.append(result[0])\n",
    "    elif result[1] == 0 and result[2] == 1:\n",
    "        mat_only.append(result[0])\n",
    "        not_rel.append(result[0])\n",
    "    elif result[1] == 0 and result[2] == 0:\n",
    "        not_rel.append(result[0])"
   ]
  },
  {
   "cell_type": "code",
   "execution_count": 272,
   "id": "11922ae0",
   "metadata": {},
   "outputs": [
    {
     "name": "stdout",
     "output_type": "stream",
     "text": [
      "3767\n",
      "1904\n",
      "1863\n",
      "1062\n",
      "12\n",
      "842\n"
     ]
    }
   ],
   "source": [
    "print(len(relevant_dois) + len(not_rel))\n",
    "print(len(relevant_dois))\n",
    "print(len(not_rel))\n",
    "print(len(abs_only))\n",
    "print(len(mat_only))\n",
    "print(len(both))"
   ]
  },
  {
   "cell_type": "code",
   "execution_count": 273,
   "id": "75f69de7",
   "metadata": {},
   "outputs": [
    {
     "name": "stdout",
     "output_type": "stream",
     "text": [
      "['10.1016/j.applthermaleng.2021.116580', '10.1021/CM504042S', '10.1007/s10854-019-01920-x', '10.1007/s10934-021-01053-9', '10.1007/s10854-021-06057-4', '10.1039/D2TB01304E_no_1', '10.1007/s11249-017-0923-8_no_0', '10.1002/pssa.202100808_no_0', '10.1038/srep02925', '10.1002/adfm.202009197', '10.1016/j.microc.2021.106273', '10.1002/adfm.201900093_no_0']\n"
     ]
    }
   ],
   "source": [
    "print(mat_only)"
   ]
  },
  {
   "cell_type": "markdown",
   "id": "b09f4c51",
   "metadata": {},
   "source": [
    "All dois that had no mention of CDs in abstract but mention in materials are not relevant to CDs (most time CD is abbreviatio for cyclodextrin or part of other abbreviation)\n",
    "\n",
    "Only relevant DOI is\n",
    "\n",
    "10.1016/j.microc.2021.106273\n",
    "\n",
    "Is contained in this list because abstract was not found but does mention carbon dots in abstract\n",
    "\n",
    "10.1016/j.ultsonch.2016.03.004 - should be dropped no mention of carbon dots but CD is in abstract\n"
   ]
  },
  {
   "cell_type": "code",
   "execution_count": 274,
   "id": "ed913fc6",
   "metadata": {},
   "outputs": [
    {
     "name": "stdout",
     "output_type": "stream",
     "text": [
      "1905\n"
     ]
    }
   ],
   "source": [
    "relevant_dois.append('10.1016/j.microc.2021.106273')\n",
    "print(len(relevant_dois))"
   ]
  },
  {
   "cell_type": "code",
   "execution_count": 275,
   "id": "e58bf3f1",
   "metadata": {},
   "outputs": [
    {
     "name": "stdout",
     "output_type": "stream",
     "text": [
      "1905\n"
     ]
    }
   ],
   "source": [
    "#Creating dataset with only carbon dot related entries\n",
    "relevant_data = []\n",
    "for doi in relevant_dois:\n",
    "    for entry in data:\n",
    "        if entry['doi'] == doi:\n",
    "            relevant_data.append(entry)\n",
    "            break\n",
    "print(len(relevant_data))"
   ]
  },
  {
   "cell_type": "code",
   "execution_count": 276,
   "id": "6c25972b",
   "metadata": {},
   "outputs": [],
   "source": [
    "# with open(os.path.join(path, 'relevant_data.json'), 'w', encoding='utf-8') as file:\n",
    "#     json.dump(relevant_data, file, indent=4, sort_keys=True,ensure_ascii=False)"
   ]
  },
  {
   "cell_type": "markdown",
   "id": "c29bf82b",
   "metadata": {},
   "source": [
    "## 2. Standardizing material names\n",
    "Have to remove solvents (water, ethanol) as well mention of target materials such as CDs"
   ]
  },
  {
   "cell_type": "code",
   "execution_count": 277,
   "id": "3275bdfc",
   "metadata": {},
   "outputs": [],
   "source": [
    "#Collecting all precursors into one file with all precursors from each entry on one line\n",
    "# filename = 'all_precursors_raw_rel.txt'\n",
    "# for entry in relevant_data:\n",
    "#     with open(os.path.join(path, filename), 'a', encoding='utf-8') as f:\n",
    "#         f.write(f\"'DOI': {entry['doi']}, 'precursors': {list(entry['precursors'].keys())}\")\n",
    "#         f.write('\\n')"
   ]
  },
  {
   "cell_type": "code",
   "execution_count": 278,
   "id": "fef5e452",
   "metadata": {},
   "outputs": [
    {
     "name": "stdout",
     "output_type": "stream",
     "text": [
      "4370\n",
      "1749\n"
     ]
    }
   ],
   "source": [
    "precursors_raw = []\n",
    "for entry in relevant_data:\n",
    "    precursors_raw.extend(list(entry['precursors'].keys()))\n",
    "print(len(precursors_raw))\n",
    "precursors_set = list(set(precursors_raw))\n",
    "print(len(precursors_set))"
   ]
  },
  {
   "cell_type": "code",
   "execution_count": 279,
   "id": "4b8c5778",
   "metadata": {},
   "outputs": [],
   "source": [
    "# for material in precursors_set:\n",
    "#     with open(os.path.join(path, 'precursors_set.txt'), 'a', encoding = 'utf-8') as file:\n",
    "#         file.write(material)\n",
    "#         file.write('\\n')"
   ]
  },
  {
   "cell_type": "code",
   "execution_count": 280,
   "id": "de16bfd3",
   "metadata": {},
   "outputs": [
    {
     "data": {
      "text/html": [
       "<div>\n",
       "<style scoped>\n",
       "    .dataframe tbody tr th:only-of-type {\n",
       "        vertical-align: middle;\n",
       "    }\n",
       "\n",
       "    .dataframe tbody tr th {\n",
       "        vertical-align: top;\n",
       "    }\n",
       "\n",
       "    .dataframe thead th {\n",
       "        text-align: right;\n",
       "    }\n",
       "</style>\n",
       "<table border=\"1\" class=\"dataframe\">\n",
       "  <thead>\n",
       "    <tr style=\"text-align: right;\">\n",
       "      <th></th>\n",
       "      <th>chemical</th>\n",
       "      <th>tag</th>\n",
       "    </tr>\n",
       "  </thead>\n",
       "  <tbody>\n",
       "    <tr>\n",
       "      <th>0</th>\n",
       "      <td>aspartic acid</td>\n",
       "      <td>NaN</td>\n",
       "    </tr>\n",
       "    <tr>\n",
       "      <th>1</th>\n",
       "      <td>C96H30</td>\n",
       "      <td>NaN</td>\n",
       "    </tr>\n",
       "    <tr>\n",
       "      <th>2</th>\n",
       "      <td>molasses filtrate</td>\n",
       "      <td>NaN</td>\n",
       "    </tr>\n",
       "    <tr>\n",
       "      <th>3</th>\n",
       "      <td>Bi(NO)3·5H2O</td>\n",
       "      <td>NaN</td>\n",
       "    </tr>\n",
       "    <tr>\n",
       "      <th>4</th>\n",
       "      <td>Na2S</td>\n",
       "      <td>NaN</td>\n",
       "    </tr>\n",
       "  </tbody>\n",
       "</table>\n",
       "</div>"
      ],
      "text/plain": [
       "            chemical  tag\n",
       "0      aspartic acid  NaN\n",
       "1             C96H30  NaN\n",
       "2  molasses filtrate  NaN\n",
       "3       Bi(NO)3·5H2O  NaN\n",
       "4               Na2S  NaN"
      ]
     },
     "execution_count": 280,
     "metadata": {},
     "output_type": "execute_result"
    }
   ],
   "source": [
    "#Removing target and errors and filtering out repetitions of spelling\n",
    "df = pd.read_csv(os.path.join(path, 'precursors_1.csv'))\n",
    "df.head()"
   ]
  },
  {
   "cell_type": "code",
   "execution_count": 281,
   "id": "cb2217d0",
   "metadata": {},
   "outputs": [
    {
     "name": "stdout",
     "output_type": "stream",
     "text": [
      "1613\n"
     ]
    }
   ],
   "source": [
    "chemicals = df.loc[df['tag'].isnull(), 'chemical'].tolist()\n",
    "chemicals_unaltered = df.loc[df['tag'].isnull(), 'chemical'].tolist()\n",
    "print(len(chemicals))"
   ]
  },
  {
   "cell_type": "code",
   "execution_count": 282,
   "id": "ace835dd",
   "metadata": {},
   "outputs": [
    {
     "name": "stdout",
     "output_type": "stream",
     "text": [
      "1554\n"
     ]
    }
   ],
   "source": [
    "# making all chemical names start with lowercase and find duplicates (e.g. Citric acid and citric acid)\n",
    "for i, chemical in enumerate(chemicals):\n",
    "    try:\n",
    "        if chemical[0].isupper() and chemical[1].islower() and chemical[2].islower():\n",
    "            chemicals[i] = chemical.replace(chemical[0], chemical[0].lower())\n",
    "    except IndexError:\n",
    "        continue\n",
    "chemicals_set = list(set(chemicals))\n",
    "print(len(chemicals_set))\n",
    "duplicates = [k for k,v in Counter(chemicals).items() if v>1]"
   ]
  },
  {
   "cell_type": "code",
   "execution_count": 283,
   "id": "f1f0e1a8",
   "metadata": {},
   "outputs": [
    {
     "name": "stdout",
     "output_type": "stream",
     "text": [
      "59\n",
      "['luminol', 'ammonium citrate', 'citric acid', 'graphite', 'aluminum nitrate', 'tetrabutyl titanate', 'phosphoric acid', 'copper acetate monohydrate', 'dextrin', 'sodium citrate', 'glycerin', 'arginine', 'trisodium citrate', 'glucose', 'titanium butoxide', 'tartaric acid', 'ethanol', 'oleic acid', 'sodium thiosulfate', 'critic acid', 'urea', 'formaldehyde', 'polyethyleneimine', 'sucrose', 'ginkgo', 'manganese acetate', 'terephthalic acid', 'glycyrrhizic acid', 'sodium alginate', 'malic acid', 'dopamine', 'rutin', 'gelatin', 'ammonium oxalate', 'ethylene diamine', 'sodium acetate', 'citric acid monohydrate', 'nickel chloride hexahydrate', 'milk', 'hydrazine hydrate', 'catechol', 'folic acid', 'thioacetamide', 'zinc acetate', 'mango', 'dicyandiamide', 'ethylenediamine', 'benzophenone', 'polyacrylic acid', 'zinc acetate dihydrate', 'ascorbic acid', 'hydrogen peroxide', 'cys', 'chlorella', 'tangerine', 'acetone', 'chitosan', 'cysteine', 'melamine']\n"
     ]
    }
   ],
   "source": [
    "# Duplicate names changed to lowercase in chemical names spreadsheet\n",
    "print(len(duplicates))\n",
    "print(duplicates)"
   ]
  },
  {
   "cell_type": "code",
   "execution_count": 284,
   "id": "dae9cc24",
   "metadata": {},
   "outputs": [
    {
     "name": "stdout",
     "output_type": "stream",
     "text": [
      "1905\n"
     ]
    }
   ],
   "source": [
    "# Creating dictionary with precursors from relevant data\n",
    "precursor_dict = []\n",
    "for entry in relevant_data:\n",
    "    precursor_dict.append({'DOI':entry['doi'], 'precursors': list(entry['precursors'].keys())})\n",
    "\n",
    "print(len(precursor_dict))"
   ]
  },
  {
   "cell_type": "code",
   "execution_count": 285,
   "id": "0efb97b1",
   "metadata": {},
   "outputs": [],
   "source": [
    "#First step is sorting out specific cases of the same abbreviation having different meanings\n",
    "def replace_name(precursor_list, old_name, new_name):\n",
    "    for i, value in enumerate(precursor_list):\n",
    "        if value == old_name:\n",
    "            precursor_list[i] = new_name\n",
    "\n",
    "ascorbic_acid = ['10.1039/D1AY00762A', '10.1021/acs.langmuir.6b04100','10.1007/s00604-017-2526-3', '10.1002/bio.4158', \n",
    "                 '10.1039/C8RA03353F_no_0', '10.1021/ACS.JPCC.5B05786', '10.1016/j.ijbiomac.2020.01.238', '10.1039/C7AY01180F_no_0',\n",
    "                 '10.1039/C7AY01180F_no_1', '10.1039/D1AN00796C', '10.1021/acsami.8b17128']\n",
    "gum_tr = ['10.1007/s00289-022-04207-0', '10.1016/j.molliq.2018.03.054', '10.1016/j.optmat.2019.109356', '10.1007/s00289-020-03236-x']\n",
    "\n",
    "for entry in precursor_dict:\n",
    "    doi = entry['DOI']\n",
    "    pre = entry['precursors']\n",
    "    if doi == '10.1080/1536383X.2019.1587747':\n",
    "        replace_name(pre,'GA', 'gluconic acid')\n",
    "    if doi in ['10.1007/s10895-021-02870-6', '10.1007/s10895-020-02661-5']:\n",
    "        replace_name(pre,'GA', 'gallic acid')\n",
    "    if doi == '10.1007/s40097-021-00431-8_no_8':\n",
    "        replace_name(pre, 'GA', 'glucosamine')\n",
    "    if doi == '10.1039/C5TA05189D':\n",
    "        replace_name(pre, 'AA', 'alginic acid')\n",
    "    if doi in ascorbic_acid:\n",
    "        replace_name(pre, 'AA', 'ascorbic acid')\n",
    "    if doi == '10.3390/nano12173062_no_0':\n",
    "        replace_name(pre, 'TA', 'tannic acid')\n",
    "    if doi in ['10.1016/j.apsusc.2019.144567', '10.1007/s10953-016-0531-5_no_0']:\n",
    "        replace_name(pre, 'TA', 'tartaric acid')\n",
    "    if doi == '10.1016/j.jcis.2019.04.088':\n",
    "        replace_name(pre,'TEA', 'triethylamine')\n",
    "    if doi == '10.1039/C4RA14865G':\n",
    "        replace_name(pre, 'TEA', 'triethanolamine')\n",
    "    if doi in ['10.1007/S13399-019-00387-4_no_0', '10.1002/smll.202205065']:\n",
    "        replace_name(pre, 'CS', 'chitosan')\n",
    "    if doi == '10.1039/C5RA14585F':\n",
    "        replace_name(pre, 'CS', 'chondroitin sulfate')\n",
    "    if doi == '10.1039/D1AY00762A':\n",
    "        replace_name(pre, 'DPA', 'penicillamine')\n",
    "    if doi == '10.1002/smll.201700983_no_11':\n",
    "        replace_name(pre, 'DPA', '9,10-diphenylanthracene')\n",
    "    if doi == '10.3390/molecules27155021':\n",
    "        replace_name(pre,'CB', 'carbon black')\n",
    "    if doi == '10.1016/j.dyepig.2022.110101':\n",
    "        replace_name(pre, 'CB', 'canon ball fruit')\n",
    "    if doi in ['10.1039/C7TC01585B', '10.1021/acsomega.0c02627']:\n",
    "        replace_name(pre, 'TSC', 'citric acid')\n",
    "    if doi in ['10.1007/s00216-020-02629-1', '10.1002/bio.4083']:\n",
    "        replace_name(pre, 'TSC', 'thiosemicarbazide')\n",
    "    if doi == '10.1038/s41467-019-09830-6':\n",
    "        replace_name(pre, 'MA', 'melamine')\n",
    "    if doi in ['10.1016/j.apsusc.2019.144567', '10.1007/s10953-016-0531-5_no_0']:\n",
    "        replace_name(pre, 'MA', 'malic acid')\n",
    "    if doi == '10.1007/s10853-021-06606-6':\n",
    "        replace_name(pre, 'HA', 'humic acid')\n",
    "    if doi == '10.3390/pharmaceutics14112423_no_0':\n",
    "        replace_name(pre, 'HA', 'hyaluronic acid')\n",
    "    if doi == '10.1021/acsami.0c00283':\n",
    "        replace_name(pre,'AC', 'alizarin carmine')\n",
    "    if doi in ['10.1039/C4RA06757F', '10.1007/s11051-015-3294-9', '10.1007/s10934-022-01421-z']:\n",
    "        replace_name(pre, 'AC', 'activated carbon')\n",
    "    if doi in ['10.1021/acs.jafc.8b07176', '10.1039/C7NR05363K']:\n",
    "        replace_name(pre, 'AC', 'ammonium citrate')\n",
    "    if doi in gum_tr:\n",
    "        replace_name(pre, 'GT', 'gum tragacanth')\n",
    "    if doi in ['10.1007/s10570-021-04270-2', '10.1016/j.carbpol.2020.117387']:\n",
    "        replace_name(pre, 'GT', 'glutathione')\n",
    "    if doi == '10.1016/j.apsusc.2018.03.246':\n",
    "        replace_name(pre, 'PA', 'phytic acid')\n",
    "    if doi == '10.1039/C7RA02421E':\n",
    "        replace_name(pre, 'PA', 'phthalic acid')\n",
    "    if doi == '10.1039/C4TC01857E':\n",
    "        replace_name(pre, 'UA', 'undecylenic acid')\n",
    "    if doi in ['10.1002/smll.201804515_no_1', '10.1002/smll.201804515_no_2']:\n",
    "        replace_name(pre, 'UA', 'urea')\n",
    "    if doi == '10.1021/acsomega.0c03995':\n",
    "        replace_name(pre, 'SA', 'alginic acid')\n",
    "    if doi == '10.1007/s44211-022-00236-x_no_1':\n",
    "        replace_name(pre, 'SA', 'salicylic acid')\n",
    "    if doi == '10.1038/s41598-021-83863-0':\n",
    "        replace_name(pre, 'SA', 'stearic acid')\n",
    "    if doi == '10.1016/j.indcrop.2022.115568':\n",
    "        replace_name(pre, 'OA', 'oxalic acid')\n",
    "    if doi == '10.1039/C4TC01857E':\n",
    "        replace_name(pre, 'OA', 'oleic acid')\n",
    "    if doi == '10.1016/j.jmst.2019.03.039':\n",
    "        replace_name(pre, 'AMP', 'carbon pitch')\n",
    "    if doi in ['10.1021/acs.analchem.7b01053', '10.1007/s00604-016-2039-5']:\n",
    "        replace_name(pre, 'AMP', 'adenosine 5′-monophosphate')\n",
    "    if doi == '10.1007/s00216-019-02293-0':\n",
    "        replace_name(pre, 'AMP', 'ampicillin')\n"
   ]
  },
  {
   "cell_type": "code",
   "execution_count": 286,
   "id": "c47ab25e",
   "metadata": {},
   "outputs": [
    {
     "name": "stdout",
     "output_type": "stream",
     "text": [
      "1746\n"
     ]
    }
   ],
   "source": [
    "pre = []\n",
    "for entry in precursor_dict:\n",
    "    pre.extend(entry['precursors'])\n",
    "print(len(list(set(pre))))"
   ]
  },
  {
   "cell_type": "code",
   "execution_count": 287,
   "id": "149eb633",
   "metadata": {},
   "outputs": [
    {
     "name": "stdout",
     "output_type": "stream",
     "text": [
      "['N,N′-methylenebisacrylamide']\n"
     ]
    },
    {
     "data": {
      "text/html": [
       "<div>\n",
       "<style scoped>\n",
       "    .dataframe tbody tr th:only-of-type {\n",
       "        vertical-align: middle;\n",
       "    }\n",
       "\n",
       "    .dataframe tbody tr th {\n",
       "        vertical-align: top;\n",
       "    }\n",
       "\n",
       "    .dataframe thead th {\n",
       "        text-align: right;\n",
       "    }\n",
       "</style>\n",
       "<table border=\"1\" class=\"dataframe\">\n",
       "  <thead>\n",
       "    <tr style=\"text-align: right;\">\n",
       "      <th></th>\n",
       "      <th>chemical</th>\n",
       "      <th>tag</th>\n",
       "      <th>name</th>\n",
       "      <th>category</th>\n",
       "    </tr>\n",
       "  </thead>\n",
       "  <tbody>\n",
       "    <tr>\n",
       "      <th>0</th>\n",
       "      <td>aspartic acid</td>\n",
       "      <td>NaN</td>\n",
       "      <td>aspartic acid</td>\n",
       "      <td>ORG</td>\n",
       "    </tr>\n",
       "    <tr>\n",
       "      <th>1</th>\n",
       "      <td>C96H30</td>\n",
       "      <td>NaN</td>\n",
       "      <td>superphenalene</td>\n",
       "      <td>ORG</td>\n",
       "    </tr>\n",
       "    <tr>\n",
       "      <th>2</th>\n",
       "      <td>molasses filtrate</td>\n",
       "      <td>NaN</td>\n",
       "      <td>NaN</td>\n",
       "      <td>BIO</td>\n",
       "    </tr>\n",
       "    <tr>\n",
       "      <th>3</th>\n",
       "      <td>Bi(NO)3·5H2O</td>\n",
       "      <td>NaN</td>\n",
       "      <td>NaN</td>\n",
       "      <td>IN</td>\n",
       "    </tr>\n",
       "    <tr>\n",
       "      <th>4</th>\n",
       "      <td>Na2S</td>\n",
       "      <td>NaN</td>\n",
       "      <td>NaN</td>\n",
       "      <td>IN</td>\n",
       "    </tr>\n",
       "  </tbody>\n",
       "</table>\n",
       "</div>"
      ],
      "text/plain": [
       "            chemical  tag            name category\n",
       "0      aspartic acid  NaN   aspartic acid      ORG\n",
       "1             C96H30  NaN  superphenalene      ORG\n",
       "2  molasses filtrate  NaN             NaN      BIO\n",
       "3       Bi(NO)3·5H2O  NaN             NaN       IN\n",
       "4               Na2S  NaN             NaN       IN"
      ]
     },
     "execution_count": 287,
     "metadata": {},
     "output_type": "execute_result"
    }
   ],
   "source": [
    "# Importing chemical names spreadsheet\n",
    "df = pd.read_csv(os.path.join(path, 'chemical_names.csv'), encoding='utf-8')\n",
    "print(df.loc[df['chemical'] == 'MBA', 'name'].values)\n",
    "df.head()"
   ]
  },
  {
   "cell_type": "code",
   "execution_count": 288,
   "id": "9c7917a1",
   "metadata": {},
   "outputs": [
    {
     "name": "stdout",
     "output_type": "stream",
     "text": [
      "['WAC', 'P-CQDs-2', 'CD-B', 'water‐phase', 'b-CQDs', 'CDYel', 'CDs-PEG-CC', 'EO20PO70EO20', 'HCD', 'P-CQDs']\n",
      "223\n"
     ]
    }
   ],
   "source": [
    "# Getting list of chemical names to be removed\n",
    "bad_entries = df.loc[((df['tag'] == 'DEL') | (df['tag'] == 'TARGET')), 'chemical'].tolist()\n",
    "print(bad_entries[:10])\n",
    "print(len(bad_entries))"
   ]
  },
  {
   "cell_type": "code",
   "execution_count": 289,
   "id": "8f2fe040",
   "metadata": {},
   "outputs": [],
   "source": [
    "#Removing bad entries from precursors\n",
    "def remove_elements(original_list, remove_list):\n",
    "    return [element for element in original_list if element not in remove_list]\n",
    "\n",
    "for entry in precursor_dict:\n",
    "    clean_precursors = remove_elements(entry['precursors'], bad_entries)\n",
    "    entry['precursors'] = clean_precursors"
   ]
  },
  {
   "cell_type": "code",
   "execution_count": 290,
   "id": "f33a240a",
   "metadata": {},
   "outputs": [
    {
     "name": "stdout",
     "output_type": "stream",
     "text": [
      "{'DOI': '10.1021/acs.jafc.8b07176', 'precursors': ['-cysteine', 'ammonium citrate', 'Cys', 'ammonium citrate']}\n",
      "1523\n"
     ]
    }
   ],
   "source": [
    "#Checking if removal worked\n",
    "for entry in precursor_dict:\n",
    "    if entry['DOI'] == '10.1021/acs.jafc.8b07176':\n",
    "        print(entry)\n",
    "        break\n",
    "new_pre = []\n",
    "for entry in precursor_dict:\n",
    "    new_pre.extend(entry['precursors'])\n",
    "print(len(list(set(new_pre))))\n",
    "#length should be len before deletion minus 223"
   ]
  },
  {
   "cell_type": "code",
   "execution_count": 291,
   "id": "bf81c0f5",
   "metadata": {},
   "outputs": [
    {
     "name": "stdout",
     "output_type": "stream",
     "text": [
      "873\n"
     ]
    }
   ],
   "source": [
    "# Getting all organic and amino acid chemical names\n",
    "organics_amino = df.loc[((df['category'] == 'ORG') | (df['category'] == 'AMINO')), 'chemical'].tolist()\n",
    "print(len(organics_amino))"
   ]
  },
  {
   "cell_type": "code",
   "execution_count": 292,
   "id": "73b47e6e",
   "metadata": {},
   "outputs": [
    {
     "name": "stdout",
     "output_type": "stream",
     "text": [
      "{'DOI': '10.1002/pat.4901_no_0', 'precursors': ['AEAPMS', 'CA']}\n",
      "1905\n"
     ]
    }
   ],
   "source": [
    "# Creating dataset of precursors that only contain organic and amino chemicals\n",
    "def keep_elements(original_list, keep_list):\n",
    "    return[element for element in original_list if element in keep_list]\n",
    "\n",
    "org_amino_precursor_dict = []\n",
    "for entry in precursor_dict:\n",
    "    org_precursors = keep_elements(entry['precursors'], organics_amino)\n",
    "    org_amino_precursor_dict.append({'DOI':entry['DOI'], 'precursors': org_precursors})\n",
    "print(org_amino_precursor_dict[4])\n",
    "print(len(org_amino_precursor_dict))"
   ]
  },
  {
   "cell_type": "code",
   "execution_count": 293,
   "id": "c066b741",
   "metadata": {},
   "outputs": [],
   "source": [
    "# Normalizing all precursor names and removing duplicates\n",
    "def find_names(dframe, original_list):\n",
    "    new_list = []\n",
    "    for element in original_list:\n",
    "        new_list.extend(dframe.loc[dframe['chemical'] == element, 'name'].tolist())\n",
    "    return list(set(new_list))\n",
    "\n",
    "for entry in org_amino_precursor_dict:\n",
    "    clean_precursors = find_names(df, entry['precursors'])\n",
    "    entry['precursors'] = clean_precursors\n",
    "\n",
    "    "
   ]
  },
  {
   "cell_type": "code",
   "execution_count": 294,
   "id": "572e9337",
   "metadata": {},
   "outputs": [
    {
     "name": "stdout",
     "output_type": "stream",
     "text": [
      "{'DOI': '10.1002/pat.4901_no_0', 'precursors': ['citric acid', 'N-(2-aminoethyl)-3-aminopropyldimethoxysilane']}\n",
      "[{'DOI': '10.1039/C6RA20534H', 'precursors': []}, {'DOI': '10.1016/j.cej.2016.04.123_no_1', 'precursors': ['PEI']}, {'DOI': '10.1039/D0RA10144C_no_0', 'precursors': ['glucose']}, {'DOI': '10.1016/j.snb.2017.04.092', 'precursors': ['melamine', 'citric acid']}, {'DOI': '10.1016/j.inoche.2022.110041', 'precursors': []}]\n"
     ]
    }
   ],
   "source": [
    "print(org_amino_precursor_dict[4])\n",
    "print(org_amino_precursor_dict[135:140])"
   ]
  },
  {
   "cell_type": "code",
   "execution_count": 295,
   "id": "68932d4e",
   "metadata": {},
   "outputs": [
    {
     "data": {
      "text/html": [
       "<div>\n",
       "<style scoped>\n",
       "    .dataframe tbody tr th:only-of-type {\n",
       "        vertical-align: middle;\n",
       "    }\n",
       "\n",
       "    .dataframe tbody tr th {\n",
       "        vertical-align: top;\n",
       "    }\n",
       "\n",
       "    .dataframe thead th {\n",
       "        text-align: right;\n",
       "    }\n",
       "</style>\n",
       "<table border=\"1\" class=\"dataframe\">\n",
       "  <thead>\n",
       "    <tr style=\"text-align: right;\">\n",
       "      <th></th>\n",
       "      <th>DOI</th>\n",
       "      <th>precursors</th>\n",
       "    </tr>\n",
       "  </thead>\n",
       "  <tbody>\n",
       "    <tr>\n",
       "      <th>0</th>\n",
       "      <td>10.1039/D1FO03426J</td>\n",
       "      <td>[]</td>\n",
       "    </tr>\n",
       "    <tr>\n",
       "      <th>1</th>\n",
       "      <td>10.1002/cssc.201700474</td>\n",
       "      <td>[citric acid]</td>\n",
       "    </tr>\n",
       "    <tr>\n",
       "      <th>2</th>\n",
       "      <td>10.1007/s13399-020-00839-2_no_0</td>\n",
       "      <td>[ethanol]</td>\n",
       "    </tr>\n",
       "    <tr>\n",
       "      <th>3</th>\n",
       "      <td>10.1021/acsami.1c07260</td>\n",
       "      <td>[calcein]</td>\n",
       "    </tr>\n",
       "    <tr>\n",
       "      <th>4</th>\n",
       "      <td>10.1002/pat.4901_no_0</td>\n",
       "      <td>[citric acid, N-(2-aminoethyl)-3-aminopropyldi...</td>\n",
       "    </tr>\n",
       "    <tr>\n",
       "      <th>5</th>\n",
       "      <td>10.1002/pat.4901_no_1</td>\n",
       "      <td>[citric acid, N-(2-aminoethyl)-3-aminopropyldi...</td>\n",
       "    </tr>\n",
       "    <tr>\n",
       "      <th>6</th>\n",
       "      <td>10.1016/j.apcatb.2018.03.027_no_1</td>\n",
       "      <td>[citric acid, thiourea]</td>\n",
       "    </tr>\n",
       "    <tr>\n",
       "      <th>7</th>\n",
       "      <td>10.1039/D0NR09131F</td>\n",
       "      <td>[p-phenylenediamine, ascorbic acid]</td>\n",
       "    </tr>\n",
       "    <tr>\n",
       "      <th>8</th>\n",
       "      <td>10.1039/C6NR06558A</td>\n",
       "      <td>[]</td>\n",
       "    </tr>\n",
       "    <tr>\n",
       "      <th>9</th>\n",
       "      <td>10.1039/D1AY00762A</td>\n",
       "      <td>[penicillamine, ascorbic acid]</td>\n",
       "    </tr>\n",
       "  </tbody>\n",
       "</table>\n",
       "</div>"
      ],
      "text/plain": [
       "                                 DOI  \\\n",
       "0                 10.1039/D1FO03426J   \n",
       "1             10.1002/cssc.201700474   \n",
       "2    10.1007/s13399-020-00839-2_no_0   \n",
       "3             10.1021/acsami.1c07260   \n",
       "4              10.1002/pat.4901_no_0   \n",
       "5              10.1002/pat.4901_no_1   \n",
       "6  10.1016/j.apcatb.2018.03.027_no_1   \n",
       "7                 10.1039/D0NR09131F   \n",
       "8                 10.1039/C6NR06558A   \n",
       "9                 10.1039/D1AY00762A   \n",
       "\n",
       "                                          precursors  \n",
       "0                                                 []  \n",
       "1                                      [citric acid]  \n",
       "2                                          [ethanol]  \n",
       "3                                          [calcein]  \n",
       "4  [citric acid, N-(2-aminoethyl)-3-aminopropyldi...  \n",
       "5  [citric acid, N-(2-aminoethyl)-3-aminopropyldi...  \n",
       "6                            [citric acid, thiourea]  \n",
       "7                [p-phenylenediamine, ascorbic acid]  \n",
       "8                                                 []  \n",
       "9                     [penicillamine, ascorbic acid]  "
      ]
     },
     "execution_count": 295,
     "metadata": {},
     "output_type": "execute_result"
    }
   ],
   "source": [
    "# Converting to dataframe and then csv file for later analysis\n",
    "org_amino_df = pd.DataFrame(columns = ['DOI', 'precursors'])\n",
    "for entry in org_amino_precursor_dict:\n",
    "    new_df = pd.DataFrame([entry])\n",
    "    org_amino_df = pd.concat([org_amino_df, new_df], axis=0, ignore_index=True)\n",
    "org_amino_df.head(10)"
   ]
  },
  {
   "cell_type": "code",
   "execution_count": 296,
   "id": "ca6cf99e",
   "metadata": {},
   "outputs": [],
   "source": [
    "#Saving to csv\n",
    "org_amino_df.to_csv(os.path.join(path,'org_amino_pre.csv'), columns = ['DOI', 'precursors'], encoding='utf-8', index = False)"
   ]
  },
  {
   "cell_type": "code",
   "execution_count": 297,
   "id": "cf46aa7f",
   "metadata": {},
   "outputs": [
    {
     "name": "stdout",
     "output_type": "stream",
     "text": [
      "[list(['2,2′-(ethylenedioxy)-bis(ethylamine)', 'quinine sulfate', 'malic acid'])]\n"
     ]
    }
   ],
   "source": [
    "print(org_amino_df.loc[org_amino_df['DOI']=='10.1021/ACSOMEGA.8B03191', 'precursors'].values)"
   ]
  },
  {
   "cell_type": "code",
   "execution_count": null,
   "id": "b72f0e5c",
   "metadata": {},
   "outputs": [],
   "source": []
  },
  {
   "cell_type": "code",
   "execution_count": null,
   "id": "be3c7f94",
   "metadata": {},
   "outputs": [],
   "source": []
  },
  {
   "cell_type": "code",
   "execution_count": null,
   "id": "31ad893d",
   "metadata": {},
   "outputs": [],
   "source": []
  },
  {
   "cell_type": "code",
   "execution_count": null,
   "id": "ff5be220",
   "metadata": {},
   "outputs": [],
   "source": []
  },
  {
   "cell_type": "code",
   "execution_count": null,
   "id": "9b023407",
   "metadata": {},
   "outputs": [],
   "source": []
  },
  {
   "cell_type": "markdown",
   "id": "c804b734",
   "metadata": {},
   "source": [
    "## 3. Standardizing reaction time and temperature"
   ]
  },
  {
   "cell_type": "code",
   "execution_count": 46,
   "id": "80470db2",
   "metadata": {},
   "outputs": [],
   "source": [
    "with open(os.path.join(path, 'relevant_data.json'), 'r', encoding='utf-8') as file:\n",
    "    relevant_data = json.load(file)"
   ]
  },
  {
   "cell_type": "code",
   "execution_count": 39,
   "id": "1ddd9ead",
   "metadata": {},
   "outputs": [
    {
     "name": "stdout",
     "output_type": "stream",
     "text": [
      "['K', None, '°C', 'C']\n",
      "['h', 'hrs', 'hr', None, 'day', 'min', 'hour', 'hours', 'minutes']\n"
     ]
    }
   ],
   "source": [
    "temp_units = []\n",
    "time_units = []\n",
    "for entry in relevant_data:\n",
    "    if not entry['heating_operations']:\n",
    "        continue\n",
    "    else:\n",
    "        for element in entry['heating_operations']:\n",
    "            if 'temp_values' in element:\n",
    "                temp_units.append(element['temp_values']['units'])\n",
    "            if 'time_values' in element:\n",
    "                time_units.append(element['time_values']['units'])\n",
    "print(list(set(temp_units)))\n",
    "print(list(set(time_units)))"
   ]
  },
  {
   "cell_type": "code",
   "execution_count": 47,
   "id": "9ffcec82",
   "metadata": {},
   "outputs": [
    {
     "name": "stdout",
     "output_type": "stream",
     "text": [
      "1905\n",
      "{'DOI': '10.1021/acs.inorgchem.0c01243_no_0', 'heating_op': [{'subject': 'the white emulsion', 'temp_values': {'max': 180.0, 'min': 180.0, 'units': '°C', 'values': [180.0]}, 'time_values': {'max': 7.0, 'min': 7.0, 'units': 'day', 'values': [7.0]}}]}\n",
      "{'all_materials': {'H2O': None, 'H3BO3': ['7', 'mmol'], 'N,N-dimethylformamide': ['1', 'mL', '1', 'mL'], 'N-ethyl piperazine(1': None, 'Teflon': ['25', 'mL'], 'Zn(OH)2': None, 'ZnO': None, 'air': ['45.51', '%'], 'en': ['2', 'mL'], 'ethylenediamine': None}, 'doi': '10.1021/acs.inorgchem.0c01243_no_0', 'heating_operations': [{'subject': 'the white emulsion', 'temp_values': {'max': 180.0, 'min': 180.0, 'units': '°C', 'values': [180.0]}, 'time_values': {'max': 7.0, 'min': 7.0, 'units': 'day', 'values': [7.0]}}], 'paragraph': ['White block crystals of 1 were prepared via the so', '...', ' 11.91 wt %; Found: C 10.86, H 2.63, N 12.57 wt %.'], 'precursors': {'H3BO3': ['7', 'mmol'], 'N,N-dimethylformamide': ['1', 'mL', '1', 'mL'], 'N-ethyl piperazine(1': None, 'Zn(OH)2': None, 'ZnO': None, 'en': ['2', 'mL'], 'ethylenediamine': None}, 'targets': {}}\n"
     ]
    }
   ],
   "source": [
    "# Creating subset of data containing only doi and heating operations\n",
    "heating_dict = []\n",
    "for entry in relevant_data:\n",
    "    heating_dict.append({'DOI':entry['doi'], 'heating_op': entry['heating_operations']})\n",
    "print(len(heating_dict))\n",
    "for entry in heating_dict:\n",
    "    if entry['DOI'] == '10.1021/acs.inorgchem.0c01243_no_0':\n",
    "        print(entry)\n",
    "for entry in relevant_data:\n",
    "    if entry['doi'] == '10.1021/acs.inorgchem.0c01243_no_0':\n",
    "        print(entry)      "
   ]
  },
  {
   "cell_type": "code",
   "execution_count": 42,
   "id": "81f5693d",
   "metadata": {},
   "outputs": [],
   "source": [
    "# Functions to convert different units to celsius and hours\n",
    "def kelvin_to_cel(value_list):\n",
    "    new_values = []\n",
    "    for value in value_list:\n",
    "        new_values.append(value-273)\n",
    "    return new_values\n",
    "\n",
    "def day_to_hr(value_list):\n",
    "    new_values = []\n",
    "    for value in value_list:\n",
    "        new_values.append(value*24)\n",
    "    return new_values\n",
    "\n",
    "def min_to_hr(value_list):\n",
    "    new_values = [] \n",
    "    for value in value_list:\n",
    "        new_values.append(round(value/60,2))\n",
    "    return new_values"
   ]
  },
  {
   "cell_type": "code",
   "execution_count": 49,
   "id": "44a55a11",
   "metadata": {},
   "outputs": [
    {
     "name": "stdout",
     "output_type": "stream",
     "text": [
      "{'DOI': '10.1039/D2RA01911F_no_1', 'heating_op': [{'subject': 'This solution', 'temp_values': {'max': None, 'min': None, 'units': None, 'values': None}, 'time_values': {'max': None, 'min': None, 'units': None, 'values': None}}, {'subject': 'Both the solutions', 'temp_values': {'max': None, 'min': None, 'units': None, 'values': None}, 'time_values': {'max': None, 'min': None, 'units': None, 'values': None}}, {'subject': 'The reaction', 'temp_values': {'max': 200.0, 'min': 200.0, 'units': '°C', 'values': [200.0]}, 'time_values': {'max': 0.5, 'min': 0.5, 'units': 'h', 'values': [0.5]}}]}\n"
     ]
    }
   ],
   "source": [
    "# Converting values to celsius and hours\n",
    "for entry in heating_dict:\n",
    "    if not entry['heating_op']:\n",
    "        continue\n",
    "    else:\n",
    "        for element in entry['heating_op']:\n",
    "            if 'temp_values' in element:\n",
    "                if element['temp_values']['units'] is None:\n",
    "                    continue\n",
    "                elif element['temp_values']['units'] == 'K':\n",
    "                    new_values = kelvin_to_cel(element['temp_values']['values'])\n",
    "                    new_max = max(new_values)\n",
    "                    new_min = min(new_values)\n",
    "                    element['temp_values']['values'] = new_values\n",
    "                    element['temp_values']['max'] = new_max\n",
    "                    element['temp_values']['min'] = new_min\n",
    "                    element['temp_values']['units'] = '°C'\n",
    "            if 'time_values' in element:\n",
    "                if element['time_values']['units'] is None:\n",
    "                    continue\n",
    "                elif element['time_values']['units'] in ['minutes', 'min']:\n",
    "                    new_values = min_to_hr(element['time_values']['values'])\n",
    "                    new_max = max(new_values)\n",
    "                    new_min = min(new_values)\n",
    "                    element['time_values']['values'] = new_values\n",
    "                    element['time_values']['max'] = new_max\n",
    "                    element['time_values']['min'] = new_min\n",
    "                    element['time_values']['units'] = 'h'\n",
    "                elif element['time_values']['units'] == 'day':\n",
    "                    new_values = day_to_hr(element['time_values']['values'])\n",
    "                    new_max = max(new_values)\n",
    "                    new_min = min(new_values)\n",
    "                    element['time_values']['values'] = new_values\n",
    "                    element['time_values']['max'] = new_max\n",
    "                    element['time_values']['min'] = new_min\n",
    "                    element['time_values']['units'] = 'h'\n",
    "\n",
    "for entry in heating_dict:\n",
    "    if entry['DOI'] == '10.1039/D2RA01911F_no_1':\n",
    "        print(entry)"
   ]
  },
  {
   "cell_type": "code",
   "execution_count": 51,
   "id": "f68eab8c",
   "metadata": {},
   "outputs": [
    {
     "name": "stdout",
     "output_type": "stream",
     "text": [
      "1905\n",
      "{'DOI': '10.1039/D2RA01911F_no_1', 'rxn_temp_time': [{'rxn_temp': None, 'rxn_time': None}, {'rxn_temp': None, 'rxn_time': None}, {'rxn_temp': [200.0], 'rxn_time': [0.5]}]}\n"
     ]
    }
   ],
   "source": [
    "#Simplifying data structure\n",
    "heating_dict_2 = []\n",
    "for entry in heating_dict:\n",
    "    if not entry['heating_op']:\n",
    "        heating_dict_2.append({'DOI':entry['DOI'], 'rxn_temp_time': None})\n",
    "    else:\n",
    "        rxn_temp_time = []\n",
    "        for element in entry['heating_op']:\n",
    "            rxn_temp = element['temp_values']['values']\n",
    "            rxn_time = element['time_values']['values']\n",
    "            rxn_temp_time.append({'rxn_temp': rxn_temp, 'rxn_time': rxn_time})\n",
    "        heating_dict_2.append({'DOI':entry['DOI'], 'rxn_temp_time':rxn_temp_time})\n",
    "print(len(heating_dict_2))\n",
    "for entry in heating_dict_2:\n",
    "    if entry['DOI'] == '10.1039/D2RA01911F_no_1':#\n",
    "        print(entry)\n",
    "            "
   ]
  },
  {
   "cell_type": "code",
   "execution_count": 53,
   "id": "cdae10f5",
   "metadata": {},
   "outputs": [
    {
     "data": {
      "text/html": [
       "<div>\n",
       "<style scoped>\n",
       "    .dataframe tbody tr th:only-of-type {\n",
       "        vertical-align: middle;\n",
       "    }\n",
       "\n",
       "    .dataframe tbody tr th {\n",
       "        vertical-align: top;\n",
       "    }\n",
       "\n",
       "    .dataframe thead th {\n",
       "        text-align: right;\n",
       "    }\n",
       "</style>\n",
       "<table border=\"1\" class=\"dataframe\">\n",
       "  <thead>\n",
       "    <tr style=\"text-align: right;\">\n",
       "      <th></th>\n",
       "      <th>DOI</th>\n",
       "      <th>rxn_temp_time</th>\n",
       "    </tr>\n",
       "  </thead>\n",
       "  <tbody>\n",
       "    <tr>\n",
       "      <th>0</th>\n",
       "      <td>10.1039/D1FO03426J</td>\n",
       "      <td>[{'rxn_temp': [200.0], 'rxn_time': [8.0]}, {'r...</td>\n",
       "    </tr>\n",
       "    <tr>\n",
       "      <th>1</th>\n",
       "      <td>10.1002/cssc.201700474</td>\n",
       "      <td>[{'rxn_temp': [10.0], 'rxn_time': [3.0]}, {'rx...</td>\n",
       "    </tr>\n",
       "    <tr>\n",
       "      <th>2</th>\n",
       "      <td>10.1007/s13399-020-00839-2_no_0</td>\n",
       "      <td>[{'rxn_temp': [200.0], 'rxn_time': [24.0]}]</td>\n",
       "    </tr>\n",
       "    <tr>\n",
       "      <th>3</th>\n",
       "      <td>10.1021/acsami.1c07260</td>\n",
       "      <td>[{'rxn_temp': [180.0], 'rxn_time': None}, {'rx...</td>\n",
       "    </tr>\n",
       "    <tr>\n",
       "      <th>4</th>\n",
       "      <td>10.1002/pat.4901_no_0</td>\n",
       "      <td>[{'rxn_temp': [80.0], 'rxn_time': [4.0]}]</td>\n",
       "    </tr>\n",
       "    <tr>\n",
       "      <th>5</th>\n",
       "      <td>10.1002/pat.4901_no_1</td>\n",
       "      <td>None</td>\n",
       "    </tr>\n",
       "    <tr>\n",
       "      <th>6</th>\n",
       "      <td>10.1016/j.apcatb.2018.03.027_no_1</td>\n",
       "      <td>None</td>\n",
       "    </tr>\n",
       "    <tr>\n",
       "      <th>7</th>\n",
       "      <td>10.1039/D0NR09131F</td>\n",
       "      <td>[{'rxn_temp': [200.0], 'rxn_time': [2.0]}]</td>\n",
       "    </tr>\n",
       "    <tr>\n",
       "      <th>8</th>\n",
       "      <td>10.1039/C6NR06558A</td>\n",
       "      <td>[{'rxn_temp': [200.0], 'rxn_time': None}, {'rx...</td>\n",
       "    </tr>\n",
       "    <tr>\n",
       "      <th>9</th>\n",
       "      <td>10.1039/D1AY00762A</td>\n",
       "      <td>[{'rxn_temp': [180.0], 'rxn_time': [4.0]}]</td>\n",
       "    </tr>\n",
       "  </tbody>\n",
       "</table>\n",
       "</div>"
      ],
      "text/plain": [
       "                                 DOI  \\\n",
       "0                 10.1039/D1FO03426J   \n",
       "1             10.1002/cssc.201700474   \n",
       "2    10.1007/s13399-020-00839-2_no_0   \n",
       "3             10.1021/acsami.1c07260   \n",
       "4              10.1002/pat.4901_no_0   \n",
       "5              10.1002/pat.4901_no_1   \n",
       "6  10.1016/j.apcatb.2018.03.027_no_1   \n",
       "7                 10.1039/D0NR09131F   \n",
       "8                 10.1039/C6NR06558A   \n",
       "9                 10.1039/D1AY00762A   \n",
       "\n",
       "                                       rxn_temp_time  \n",
       "0  [{'rxn_temp': [200.0], 'rxn_time': [8.0]}, {'r...  \n",
       "1  [{'rxn_temp': [10.0], 'rxn_time': [3.0]}, {'rx...  \n",
       "2        [{'rxn_temp': [200.0], 'rxn_time': [24.0]}]  \n",
       "3  [{'rxn_temp': [180.0], 'rxn_time': None}, {'rx...  \n",
       "4          [{'rxn_temp': [80.0], 'rxn_time': [4.0]}]  \n",
       "5                                               None  \n",
       "6                                               None  \n",
       "7         [{'rxn_temp': [200.0], 'rxn_time': [2.0]}]  \n",
       "8  [{'rxn_temp': [200.0], 'rxn_time': None}, {'rx...  \n",
       "9         [{'rxn_temp': [180.0], 'rxn_time': [4.0]}]  "
      ]
     },
     "execution_count": 53,
     "metadata": {},
     "output_type": "execute_result"
    }
   ],
   "source": [
    "# Saving to dataframe and subsequently\n",
    "rxn_temp_time_df = pd.DataFrame(columns=['DOI', 'rxn_temp_time'])\n",
    "for entry in heating_dict_2:\n",
    "    new_df = pd.DataFrame([entry])\n",
    "    rxn_temp_time_df = pd.concat([rxn_temp_time_df, new_df], axis=0, ignore_index=True)\n",
    "rxn_temp_time_df.head(10)"
   ]
  },
  {
   "cell_type": "code",
   "execution_count": 54,
   "id": "32a498a5",
   "metadata": {},
   "outputs": [],
   "source": [
    "#Saving to csv\n",
    "# rxn_temp_time_df.to_csv(os.path.join(path,'rxn_temp_time.csv'))"
   ]
  },
  {
   "cell_type": "code",
   "execution_count": null,
   "id": "eebf85b5",
   "metadata": {},
   "outputs": [],
   "source": []
  },
  {
   "cell_type": "code",
   "execution_count": null,
   "id": "f03d693e",
   "metadata": {},
   "outputs": [],
   "source": []
  },
  {
   "cell_type": "code",
   "execution_count": null,
   "id": "05a8e388",
   "metadata": {},
   "outputs": [],
   "source": []
  },
  {
   "cell_type": "code",
   "execution_count": null,
   "id": "693befa9",
   "metadata": {},
   "outputs": [],
   "source": []
  },
  {
   "cell_type": "code",
   "execution_count": null,
   "id": "5dbeadb5",
   "metadata": {},
   "outputs": [],
   "source": []
  },
  {
   "cell_type": "code",
   "execution_count": null,
   "id": "df1a573a",
   "metadata": {},
   "outputs": [],
   "source": []
  },
  {
   "cell_type": "code",
   "execution_count": null,
   "id": "bda6ec47",
   "metadata": {},
   "outputs": [],
   "source": []
  },
  {
   "cell_type": "code",
   "execution_count": null,
   "id": "4f6ccbcd",
   "metadata": {},
   "outputs": [],
   "source": []
  },
  {
   "cell_type": "code",
   "execution_count": null,
   "id": "f59c79c5",
   "metadata": {},
   "outputs": [],
   "source": []
  }
 ],
 "metadata": {
  "kernelspec": {
   "display_name": "Python 3 (ipykernel)",
   "language": "python",
   "name": "python3"
  },
  "language_info": {
   "codemirror_mode": {
    "name": "ipython",
    "version": 3
   },
   "file_extension": ".py",
   "mimetype": "text/x-python",
   "name": "python",
   "nbconvert_exporter": "python",
   "pygments_lexer": "ipython3",
   "version": "3.9.13"
  }
 },
 "nbformat": 4,
 "nbformat_minor": 5
}
