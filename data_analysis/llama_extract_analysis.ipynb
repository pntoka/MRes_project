{
 "cells": [
  {
   "cell_type": "markdown",
   "metadata": {},
   "source": [
    "# Notebook to analyze extraction performance using llama2"
   ]
  },
  {
   "cell_type": "code",
   "execution_count": 1,
   "metadata": {},
   "outputs": [],
   "source": [
    "import os\n",
    "import json"
   ]
  },
  {
   "cell_type": "code",
   "execution_count": 6,
   "metadata": {},
   "outputs": [],
   "source": [
    "#file import\n",
    "path = r'C:\\Users\\Piotr\\OneDrive - Imperial College London\\MRes_project_data\\para_dataset'\n",
    "# path = '/Users/pnt17/Library/CloudStorage/OneDrive-ImperialCollegeLondon/MRes_project_data/para_dataset'\n",
    "file_pred = 'llama_time_temp_30_sample_cleaned.json'\n",
    "path_2 = r'C:\\Users\\Piotr\\OneDrive - Imperial College London\\MRes_project_data\\annotations'\n",
    "# path_2 = '/Users/pnt17/Library/CloudStorage/OneDrive-ImperialCollegeLondon/MRes_project_data/annotations'\n",
    "file_ann = 'ceder_30_sample.json'\n",
    "\n",
    "with open(os.path.join(path, file_pred),'r', encoding = 'utf-8') as file:\n",
    "    extractions = json.load(file)\n",
    "    \n",
    "with open(os.path.join(path_2, file_ann), 'r', encoding = 'utf-8') as file:\n",
    "    annotation = json.load(file)"
   ]
  },
  {
   "cell_type": "markdown",
   "metadata": {},
   "source": [
    "## Analysis of reaction time and temp extraction"
   ]
  },
  {
   "cell_type": "code",
   "execution_count": 7,
   "metadata": {},
   "outputs": [
    {
     "name": "stdout",
     "output_type": "stream",
     "text": [
      "30\n"
     ]
    },
    {
     "data": {
      "text/plain": [
       "{'10.1007/s10876-022-02339-x': {'temp': [180], 'time': [2]},\n",
       " '10.1007/s00216-015-9138-8': {'temp': [], 'time': [2]},\n",
       " '10.1007/s10895-020-02645-5': {'temp': [180], 'time': [12]},\n",
       " '10.1016/j.saa.2020.118580': {'temp': [180], 'time': [10]},\n",
       " '10.1021/acs.jpcc.9b06672': {'temp': [180], 'time': [1, 3, 6, 9]},\n",
       " '10.1016/j.optmat.2019.05.045': {'temp': [200], 'time': [20]},\n",
       " '10.1080/00032719.2020.1759618_no_1': {'temp': [180], 'time': [8]},\n",
       " '10.1038/ncomms6357': {'temp': [200], 'time': [8]},\n",
       " '10.1007/s10570-017-1230-0': {'temp': [150], 'time': [3]},\n",
       " '10.1021/acssuschemeng.9b00027_no_2': {'temp': [80], 'time': [8]},\n",
       " '10.1021/acsabm.9b00101': {'temp': [180], 'time': [6]},\n",
       " '10.3390/chemosensors10060219': {'temp': [160], 'time': [24]},\n",
       " '10.3390/nano12234166': {'temp': [180], 'time': [8]},\n",
       " '10.1002/bio.3407': {'temp': [180], 'time': [3]},\n",
       " '10.1002/bio.3803': {'temp': [200], 'time': [5]},\n",
       " '10.3390/molecules27165254': {'temp': [], 'time': [180]},\n",
       " '10.1039/C8NJ02086H': {'temp': [200], 'time': [5]},\n",
       " '10.1039/C4TA05483K': {'temp': [160, 180, 200, 220, 240], 'time': [6]},\n",
       " '10.1039/C6TB00519E': {'temp': [200], 'time': [6]},\n",
       " '10.1080/1536383X.2022.2030315': {'temp': [180], 'time': [3]},\n",
       " '10.3390/ma15249057': {'temp': [], 'time': []},\n",
       " '10.1021/acsabm.1c00371': {'temp': [150, 170, 180], 'time': [2, 5, 6]},\n",
       " '10.1021/acsami.8b16710': {'temp': [160], 'time': [8]},\n",
       " '10.3390/coatings12091311': {'temp': [180, 200, 220], 'time': []},\n",
       " '10.1016/j.saa.2022.121139': {'temp': [190], 'time': [9]},\n",
       " '10.1002/pssb.201700222': {'temp': [], 'time': [4]},\n",
       " '10.1021/acsomega.2c06047': {'temp': [240], 'time': [24]},\n",
       " '10.1002/adom.201701150_no_2': {'temp': [180], 'time': [12]},\n",
       " '10.3390/chemosensors10100383': {'temp': [160], 'time': [8]},\n",
       " '10.1016/j.snb.2018.10.075': {'temp': [180], 'time': [5]}}"
      ]
     },
     "execution_count": 7,
     "metadata": {},
     "output_type": "execute_result"
    }
   ],
   "source": [
    "#collecting time and temp from extraction\n",
    "temp_time_ext = {}\n",
    "for entry in extractions:\n",
    "    temp_time_ext[entry['DOI']] = {}\n",
    "    temps = entry['temp_values']['values']\n",
    "    times = entry['time_values']['values']\n",
    "    temp_time_ext[entry['DOI']].update({'temp':temps, 'time':times})\n",
    "print(len(temp_time_ext))\n",
    "temp_time_ext"
   ]
  },
  {
   "cell_type": "code",
   "execution_count": 8,
   "metadata": {},
   "outputs": [
    {
     "name": "stdout",
     "output_type": "stream",
     "text": [
      "30\n"
     ]
    },
    {
     "data": {
      "text/plain": [
       "{'10.1007/s10876-022-02339-x': {'temp': [180], 'time': [4]},\n",
       " '10.1007/s00216-015-9138-8': {'temp': [300], 'time': [2]},\n",
       " '10.1007/s10895-020-02645-5': {'temp': [180], 'time': [12]},\n",
       " '10.1016/j.saa.2020.118580': {'temp': [180], 'time': [10]},\n",
       " '10.1021/acs.jpcc.9b06672': {'temp': [180], 'time': [3, 1, 9, 6]},\n",
       " '10.1016/j.optmat.2019.05.045': {'temp': [200], 'time': [20]},\n",
       " '10.1080/00032719.2020.1759618_no_1': {'temp': [180], 'time': [8]},\n",
       " '10.1038/ncomms6357': {'temp': [200], 'time': [10]},\n",
       " '10.1007/s10570-017-1230-0': {'temp': [150], 'time': [3]},\n",
       " '10.1021/acssuschemeng.9b00027_no_2': {'temp': [], 'time': []},\n",
       " '10.1021/acsabm.9b00101': {'temp': [180], 'time': [6]},\n",
       " '10.3390/chemosensors10060219': {'temp': [160], 'time': [24]},\n",
       " '10.3390/nano12234166': {'temp': [180], 'time': [8]},\n",
       " '10.1002/bio.3407': {'temp': [180], 'time': [3]},\n",
       " '10.1002/bio.3803': {'temp': [200], 'time': [5]},\n",
       " '10.3390/molecules27165254': {'temp': [180], 'time': [24]},\n",
       " '10.1039/C8NJ02086H': {'temp': [200], 'time': [5]},\n",
       " '10.1039/C4TA05483K': {'temp': [160, 220, 240, 180, 200], 'time': [6]},\n",
       " '10.1039/C6TB00519E': {'temp': [200], 'time': [6]},\n",
       " '10.1080/1536383X.2022.2030315': {'temp': [180], 'time': [3]},\n",
       " '10.3390/ma15249057': {'temp': [180], 'time': [4]},\n",
       " '10.1021/acsabm.1c00371': {'temp': [170, 180, 150], 'time': [5, 2, 6]},\n",
       " '10.1021/acsami.8b16710': {'temp': [160], 'time': [8]},\n",
       " '10.3390/coatings12091311': {'temp': [140, 220], 'time': [3, 24]},\n",
       " '10.1016/j.saa.2022.121139': {'temp': [190], 'time': [9]},\n",
       " '10.1002/pssb.201700222': {'temp': [200], 'time': [4]},\n",
       " '10.1021/acsomega.2c06047': {'temp': [240], 'time': [24]},\n",
       " '10.1002/adom.201701150_no_2': {'temp': [], 'time': []},\n",
       " '10.3390/chemosensors10100383': {'temp': [160], 'time': [8]},\n",
       " '10.1016/j.snb.2018.10.075': {'temp': [180], 'time': [5]}}"
      ]
     },
     "execution_count": 8,
     "metadata": {},
     "output_type": "execute_result"
    }
   ],
   "source": [
    "#Collecting reaction time and temp from annotations\n",
    "temp_time_ann = {}\n",
    "for para in annotation:\n",
    "    temp_time_ann[para['doi']] = {}\n",
    "    if not para['temp_values']:\n",
    "        temps = []\n",
    "    if not para['time_values']:\n",
    "        times = []\n",
    "    if para['temp_values']:\n",
    "        temps = para['temp_values']['values']\n",
    "    if para['time_values']:\n",
    "        times = para['time_values']['values']\n",
    "    temp_time_ann[para['doi']].update({'temp':temps, 'time':times})\n",
    "print(len(temp_time_ann))\n",
    "temp_time_ann"
   ]
  },
  {
   "cell_type": "code",
   "execution_count": 9,
   "metadata": {},
   "outputs": [
    {
     "name": "stdout",
     "output_type": "stream",
     "text": [
      "30\n",
      "{'10.1007/s10876-022-02339-x': ['TP'], '10.1007/s00216-015-9138-8': ['FN'], '10.1007/s10895-020-02645-5': ['TP'], '10.1016/j.saa.2020.118580': ['TP'], '10.1021/acs.jpcc.9b06672': ['TP'], '10.1016/j.optmat.2019.05.045': ['TP'], '10.1080/00032719.2020.1759618_no_1': ['TP'], '10.1038/ncomms6357': ['TP'], '10.1007/s10570-017-1230-0': ['TP'], '10.1021/acssuschemeng.9b00027_no_2': ['FP'], '10.1021/acsabm.9b00101': ['TP'], '10.3390/chemosensors10060219': ['TP'], '10.3390/nano12234166': ['TP'], '10.1002/bio.3407': ['TP'], '10.1002/bio.3803': ['TP'], '10.3390/molecules27165254': ['FN'], '10.1039/C8NJ02086H': ['TP'], '10.1039/C4TA05483K': ['TP', 'TP', 'TP', 'TP', 'TP'], '10.1039/C6TB00519E': ['TP'], '10.1080/1536383X.2022.2030315': ['TP'], '10.3390/ma15249057': ['FN'], '10.1021/acsabm.1c00371': ['TP', 'TP', 'TP'], '10.1021/acsami.8b16710': ['TP'], '10.3390/coatings12091311': ['FN', 'TP', 'FP', 'FP'], '10.1016/j.saa.2022.121139': ['TP'], '10.1002/pssb.201700222': ['FN'], '10.1021/acsomega.2c06047': ['TP'], '10.1002/adom.201701150_no_2': ['FP'], '10.3390/chemosensors10100383': ['TP'], '10.1016/j.snb.2018.10.075': ['TP']}\n",
      "30\n",
      "{'10.1007/s10876-022-02339-x': ['FN', 'FP'], '10.1007/s00216-015-9138-8': ['TP'], '10.1007/s10895-020-02645-5': ['TP'], '10.1016/j.saa.2020.118580': ['TP'], '10.1021/acs.jpcc.9b06672': ['TP', 'TP', 'TP', 'TP'], '10.1016/j.optmat.2019.05.045': ['TP'], '10.1080/00032719.2020.1759618_no_1': ['TP'], '10.1038/ncomms6357': ['FN', 'FP'], '10.1007/s10570-017-1230-0': ['TP'], '10.1021/acssuschemeng.9b00027_no_2': ['FP'], '10.1021/acsabm.9b00101': ['TP'], '10.3390/chemosensors10060219': ['TP'], '10.3390/nano12234166': ['TP'], '10.1002/bio.3407': ['TP'], '10.1002/bio.3803': ['TP'], '10.3390/molecules27165254': ['FN', 'FP'], '10.1039/C8NJ02086H': ['TP'], '10.1039/C4TA05483K': ['TP'], '10.1039/C6TB00519E': ['TP'], '10.1080/1536383X.2022.2030315': ['TP'], '10.3390/ma15249057': ['FN'], '10.1021/acsabm.1c00371': ['TP', 'TP', 'TP'], '10.1021/acsami.8b16710': ['TP'], '10.3390/coatings12091311': ['FN', 'FN'], '10.1016/j.saa.2022.121139': ['TP'], '10.1002/pssb.201700222': ['TP'], '10.1021/acsomega.2c06047': ['TP'], '10.1002/adom.201701150_no_2': ['FP'], '10.3390/chemosensors10100383': ['TP'], '10.1016/j.snb.2018.10.075': ['TP']}\n"
     ]
    }
   ],
   "source": [
    "#Assigning values\n",
    "temp_val = {}\n",
    "time_val = {}\n",
    "for doi in list(temp_time_ann.keys()):\n",
    "    temps_tags = []\n",
    "    times_tags =[]\n",
    "    for value in temp_time_ann[doi]['temp']:\n",
    "        if value in temp_time_ext[doi]['temp']:\n",
    "            temps_tags.append('TP')\n",
    "        if value not in temp_time_ext[doi]['temp']:\n",
    "            temps_tags.append('FN')\n",
    "    for value in temp_time_ann[doi]['time']:\n",
    "        if value in temp_time_ext[doi]['time']:\n",
    "            times_tags.append('TP')\n",
    "        if value not in temp_time_ext[doi]['time']:\n",
    "            times_tags.append('FN')\n",
    "    for value in temp_time_ext[doi]['temp']:\n",
    "        if value not in temp_time_ann[doi]['temp']:\n",
    "            temps_tags.append('FP')\n",
    "    for value in temp_time_ext[doi]['time']:\n",
    "        if value not in temp_time_ann[doi]['time']:\n",
    "            times_tags.append('FP')\n",
    "    if len(temp_time_ext[doi]['time']) == 0 and len(temp_time_ann[doi]['time']) == 0:\n",
    "        times_tags.append('TP')\n",
    "    if len(temp_time_ext[doi]['temp']) == 0 and len(temp_time_ann[doi]['temp']) == 0:\n",
    "        temps_tags.append('TP')\n",
    "    temp_val.update({doi:temps_tags})\n",
    "    time_val.update({doi:times_tags})\n",
    "\n",
    "print(len(temp_val))\n",
    "print(temp_val)\n",
    "\n",
    "print(len(time_val))\n",
    "print(time_val)"
   ]
  },
  {
   "cell_type": "code",
   "execution_count": 10,
   "metadata": {},
   "outputs": [
    {
     "name": "stdout",
     "output_type": "stream",
     "text": [
      "The temp precision is: 0.88\n",
      "The temp recall is: 0.86\n",
      "The temp F1 score is: 0.87\n",
      "The time precision is: 0.85\n",
      "The time recall is: 0.82\n",
      "The time F1 score is: 0.84\n"
     ]
    }
   ],
   "source": [
    "#Combining values\n",
    "all_temp_val = []\n",
    "all_time_val = []\n",
    "for doi in list(temp_val.keys()):\n",
    "    all_temp_val.extend(temp_val[doi])\n",
    "for doi in list(time_val.keys()):\n",
    "    all_time_val.extend(time_val[doi])\n",
    "\n",
    "TP_time = all_time_val.count('TP')\n",
    "FP_time = all_time_val.count('FP')\n",
    "FN_time = all_time_val.count('FN')\n",
    "TP_temp = all_temp_val.count('TP')\n",
    "FP_temp = all_temp_val.count('FP')\n",
    "FN_temp = all_temp_val.count('FN')\n",
    "precision_temp = TP_temp / (TP_temp+FP_temp)\n",
    "recall_temp = TP_temp / (TP_temp+FN_temp)\n",
    "F1_temp = (2*precision_temp*recall_temp)/(precision_temp+recall_temp)\n",
    "print(f'The temp precision is: {precision_temp:.2f}')\n",
    "print(f'The temp recall is: {recall_temp:.2f}')\n",
    "print(f'The temp F1 score is: {F1_temp:.2f}')\n",
    "precision_time = TP_time / (TP_time+FP_time)\n",
    "recall_time = TP_time / (TP_time+FN_time)\n",
    "F1_time = (2*precision_time*recall_time)/(precision_time+recall_time)\n",
    "print(f'The time precision is: {precision_time:.2f}')\n",
    "print(f'The time recall is: {recall_time:.2f}')\n",
    "print(f'The time F1 score is: {F1_time:.2f}')"
   ]
  },
  {
   "cell_type": "code",
   "execution_count": null,
   "metadata": {},
   "outputs": [],
   "source": []
  },
  {
   "cell_type": "code",
   "execution_count": null,
   "metadata": {},
   "outputs": [],
   "source": []
  },
  {
   "cell_type": "code",
   "execution_count": null,
   "metadata": {},
   "outputs": [],
   "source": []
  },
  {
   "cell_type": "code",
   "execution_count": null,
   "metadata": {},
   "outputs": [],
   "source": []
  },
  {
   "cell_type": "code",
   "execution_count": null,
   "metadata": {},
   "outputs": [],
   "source": []
  },
  {
   "cell_type": "code",
   "execution_count": null,
   "metadata": {},
   "outputs": [],
   "source": []
  },
  {
   "cell_type": "code",
   "execution_count": null,
   "metadata": {},
   "outputs": [],
   "source": []
  },
  {
   "cell_type": "code",
   "execution_count": null,
   "metadata": {},
   "outputs": [],
   "source": []
  }
 ],
 "metadata": {
  "kernelspec": {
   "display_name": "Python 3 (ipykernel)",
   "language": "python",
   "name": "python3"
  },
  "language_info": {
   "codemirror_mode": {
    "name": "ipython",
    "version": 3
   },
   "file_extension": ".py",
   "mimetype": "text/x-python",
   "name": "python",
   "nbconvert_exporter": "python",
   "pygments_lexer": "ipython3",
   "version": "3.9.13"
  }
 },
 "nbformat": 4,
 "nbformat_minor": 4
}
