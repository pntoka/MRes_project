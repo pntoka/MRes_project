{
 "cells": [
  {
   "cell_type": "markdown",
   "metadata": {},
   "source": [
    "# Notebook for the analysis of performance of olivetti token classifier"
   ]
  },
  {
   "cell_type": "code",
   "execution_count": 1,
   "metadata": {},
   "outputs": [],
   "source": [
    "import os\n",
    "import json\n",
    "import pandas\n",
    "import numpy"
   ]
  },
  {
   "cell_type": "code",
   "execution_count": 4,
   "metadata": {},
   "outputs": [
    {
     "name": "stdout",
     "output_type": "stream",
     "text": [
      "Collecting jsonlines\n",
      "  Using cached jsonlines-3.1.0-py3-none-any.whl (8.6 kB)\n",
      "Requirement already satisfied: attrs>=19.2.0 in /Users/pnt17/opt/anaconda3/lib/python3.9/site-packages (from jsonlines) (21.4.0)\n",
      "Installing collected packages: jsonlines\n",
      "Successfully installed jsonlines-3.1.0\n",
      "Note: you may need to restart the kernel to use updated packages.\n"
     ]
    }
   ],
   "source": [
    "pip install jsonlines"
   ]
  },
  {
   "cell_type": "code",
   "execution_count": 5,
   "metadata": {},
   "outputs": [],
   "source": [
    "import jsonlines"
   ]
  },
  {
   "cell_type": "code",
   "execution_count": 6,
   "metadata": {},
   "outputs": [],
   "source": [
    "# path = r'C:\\Users\\Piotr\\OneDrive - Imperial College London\\MRes_project_data\\para_dataset'\n",
    "path = '/Users/pnt17/Library/CloudStorage/OneDrive-ImperialCollegeLondon/MRes_project_data/para_dataset'\n",
    "# path_ann = r'C:\\Users\\Piotr\\OneDrive - Imperial College London\\MRes_project_data\\annotations'\n",
    "path_ann = '/Users/pnt17/Library/CloudStorage/OneDrive-ImperialCollegeLondon/MRes_project_data/annotations'\n",
    "file_ft = 'para_30_sample_pred.jsonl'\n",
    "file_elmo = 'para_30_sample_pred_elmo.jsonl'\n",
    "file_ann = 'ceder_30_sample.json'"
   ]
  },
  {
   "cell_type": "code",
   "execution_count": 7,
   "metadata": {},
   "outputs": [],
   "source": [
    "data_ft = []\n",
    "with jsonlines.open(os.path.join(path, file_ft), 'r') as f:\n",
    "    for line in f:\n",
    "        data_ft.append(line)\n",
    "data_elmo = []\n",
    "with jsonlines.open(os.path.join(path, file_elmo), 'r') as f:\n",
    "    for line in f:\n",
    "        data_elmo.append(line)"
   ]
  },
  {
   "cell_type": "code",
   "execution_count": 8,
   "metadata": {},
   "outputs": [
    {
     "name": "stdout",
     "output_type": "stream",
     "text": [
      "30\n",
      "30\n"
     ]
    }
   ],
   "source": [
    "print(len(data_ft))\n",
    "print(len(data_elmo))"
   ]
  },
  {
   "cell_type": "markdown",
   "metadata": {},
   "source": [
    "## Extracting precursors from token classifier"
   ]
  },
  {
   "cell_type": "code",
   "execution_count": 9,
   "metadata": {},
   "outputs": [
    {
     "name": "stdout",
     "output_type": "stream",
     "text": [
      "30\n",
      "{'10.1007/s10876-022-02339-x': ['O. basilicum L.', 'O.'], '10.1007/s00216-015-9138-8': ['PVP', 'CNDs', 'glycine'], '10.1007/s10895-020-02645-5': [], '10.1016/j.saa.2020.118580': ['diethylenetriamine', 'CA'], '10.1021/acs.jpcc.9b06672': ['EDA'], '10.1016/j.optmat.2019.05.045': ['4-aminophenol'], '10.1080/00032719.2020.1759618_no_1': ['eggshell'], '10.1038/ncomms6357': ['hydrazine', 'amine', 'pyrene', '1,3,6-trinitropyrene', '-GQDs'], '10.1007/s10570-017-1230-0': ['hexadecyl trimethyl ammonium bromide', 'sodium hydroxide', 'tributyl'], '10.1021/acssuschemeng.9b00027_no_2': ['CQDs', 'glucose', 'H2O2'], '10.1021/acsabm.9b00101': ['carbon'], '10.3390/chemosensors10060219': ['PVP-K30', 'Ce(Ac)3', 'FA'], '10.3390/nano12234166': ['Glucose'], '10.1002/bio.3407': ['O-phenylenediamine', 'silica', 'dicyandiamide'], '10.1002/bio.3803': ['citric', 'l‐histidine'], '10.3390/molecules27165254': ['glycol', 'PEI'], '10.1039/C8NJ02086H': ['methionine', 'ethylenediamine co-precursors', 'ethylenediamine'], '10.1039/C4TA05483K': ['citrate', 'sodium thiosulfate'], '10.1039/C6TB00519E': ['BSA'], '10.1080/1536383X.2022.2030315': ['glucose'], '10.3390/ma15249057': ['acid'], '10.1021/acsabm.1c00371': [], '10.1021/acsami.8b16710': ['o-PD', 'Y-CDs', 'GABA'], '10.3390/coatings12091311': ['XRD', 'XPS', 'FT-IR', 'urea'], '10.1016/j.saa.2022.121139': ['3-aminopropyltrimethoxysilane', '-', 'acid'], '10.1002/pssb.201700222': ['ammonia'], '10.1021/acsomega.2c06047': ['amido black 10b'], '10.1002/adom.201701150_no_2': ['y-CDs', 'yeast'], '10.3390/chemosensors10100383': ['acid'], '10.1016/j.snb.2018.10.075': ['borax', 'CA', 'p-phenylenediamine']}\n",
      "30\n",
      "{'10.1007/s10876-022-02339-x': ['O. basilicum L.', 'O. basilicum L. seed'], '10.1007/s00216-015-9138-8': ['PVP', 'glycine'], '10.1007/s10895-020-02645-5': [], '10.1016/j.saa.2020.118580': ['diethylenetriamine', 'CA'], '10.1021/acs.jpcc.9b06672': ['CA', 'EDA'], '10.1016/j.optmat.2019.05.045': ['4-aminophenol'], '10.1080/00032719.2020.1759618_no_1': [], '10.1038/ncomms6357': ['pyrene', 'hydrazine hydrate', 'ammonia', 'trinitropyrene', 'y-GQDs', '1,3,6-trinitropyrene'], '10.1007/s10570-017-1230-0': ['hexadecyl trimethyl ammonium bromide', 'citric acid', 'cotton', 'urea', 'sodium hydroxide', 'tributyl phosphate'], '10.1021/acssuschemeng.9b00027_no_2': ['glucose', 'H2O2', 'hydrochar'], '10.1021/acsabm.9b00101': ['carbon', 'sucrose'], '10.3390/chemosensors10060219': ['PVP-K30', 'Ce(Ac)3', 'FA'], '10.3390/nano12234166': ['Glucose'], '10.1002/bio.3407': ['O-phenylenediamine', 'acetate', 'dicyandiamide'], '10.1002/bio.3803': ['citric acid', 'l‐histidine'], '10.3390/molecules27165254': ['glycol', 'phosphoric acid', 'PEI'], '10.1039/C8NJ02086H': ['methionine', 'ethylenediamine'], '10.1039/C4TA05483K': ['sodium thiosulfate', 'sodium citrate'], '10.1039/C6TB00519E': ['carbide slag', 'BSA'], '10.1080/1536383X.2022.2030315': ['glucose'], '10.3390/ma15249057': ['urea', 'DMF', 'L-tartaric acid'], '10.1021/acsabm.1c00371': ['-aspartic', '3,6-diaminoacridine'], '10.1021/acsami.8b16710': ['o-PD', 'Y-CDs', 'GABA'], '10.3390/coatings12091311': ['lactic acid', 'urea'], '10.1016/j.saa.2022.121139': ['3-aminopropyltrimethoxysilane', 'sulfuric acid'], '10.1002/pssb.201700222': ['citric acid', 'C6H8O7'], '10.1021/acsomega.2c06047': ['amido black 10b'], '10.1002/adom.201701150_no_2': ['yeast'], '10.3390/chemosensors10100383': ['3-hydroxyphenylboric acid'], '10.1016/j.snb.2018.10.075': ['borax', 'CA', 'p-phenylenediamine']}\n"
     ]
    }
   ],
   "source": [
    "precursors_ft = {}\n",
    "for entry in data_ft:\n",
    "    precursors = []\n",
    "    for tag in entry['label']:\n",
    "        if tag[2] == 'precursor':\n",
    "            precursors.append(tag[3])\n",
    "    precursors_ft[entry['doi']] = list(set(precursors))\n",
    "print(len(precursors_ft))\n",
    "print(precursors_ft)\n",
    "precursors_elmo = {}\n",
    "for entry in data_elmo:\n",
    "    precursors = []\n",
    "    for tag in entry['label']:\n",
    "        if tag[2] == 'precursor':\n",
    "            precursors.append(tag[3])\n",
    "    precursors_elmo[entry['doi']]= list(set(precursors))\n",
    "print(len(precursors_elmo))\n",
    "print(precursors_elmo)"
   ]
  },
  {
   "cell_type": "markdown",
   "metadata": {},
   "source": [
    "## Extracting targets from token classifier"
   ]
  },
  {
   "cell_type": "code",
   "execution_count": 10,
   "metadata": {},
   "outputs": [
    {
     "name": "stdout",
     "output_type": "stream",
     "text": [
      "30\n",
      "{'10.1007/s10876-022-02339-x': ['L.', 'CQDs'], '10.1007/s00216-015-9138-8': ['CNDs'], '10.1007/s10895-020-02645-5': ['CDs'], '10.1016/j.saa.2020.118580': ['N-CQDs'], '10.1021/acs.jpcc.9b06672': ['N-CQDs-3h', 'N-CQDs-1h', 'N-CQDs-6h', 'N-CQDs-9h', 'N-CQDs'], '10.1016/j.optmat.2019.05.045': ['CDs'], '10.1080/00032719.2020.1759618_no_1': [], '10.1038/ncomms6357': ['b-GQDs', 'OH-GQDs', '-GQDs'], '10.1007/s10570-017-1230-0': ['carbon', 'CNPs/cotton'], '10.1021/acssuschemeng.9b00027_no_2': ['CQDs'], '10.1021/acsabm.9b00101': ['C'], '10.3390/chemosensors10060219': ['Ce-CDs', 'Ce-CDs-FA', 'carbon-dots'], '10.3390/nano12234166': ['B-CD'], '10.1002/bio.3407': [], '10.1002/bio.3803': ['C‐dots', 'as‐synthesized'], '10.3390/molecules27165254': ['PEI-CQDs', 'PEI-CDs'], '10.1039/C8NJ02086H': ['C-dots', 'as-prepared C-dots'], '10.1039/C4TA05483K': ['C-dots'], '10.1039/C6TB00519E': ['N@C-dots'], '10.1080/1536383X.2022.2030315': ['graphene'], '10.3390/ma15249057': ['[22,23,24]', 'Y-CDs'], '10.1021/acsabm.1c00371': ['NCDs'], '10.1021/acsami.8b16710': ['Y-CDs'], '10.3390/coatings12091311': ['CQD', 'as-prepared', 'CQDs'], '10.1016/j.saa.2022.121139': ['Si-CQDs', '-', 'CQDs', 'Si'], '10.1002/pssb.201700222': ['carbon'], '10.1021/acsomega.2c06047': ['C'], '10.1002/adom.201701150_no_2': ['y-CDs'], '10.3390/chemosensors10100383': ['C'], '10.1016/j.snb.2018.10.075': ['PB-CQDs', 'CQDs', 'NB-CQDs', 'p-phenylenediamine']}\n",
      "30\n",
      "{'10.1007/s10876-022-02339-x': ['CQDs'], '10.1007/s00216-015-9138-8': ['CNDs'], '10.1007/s10895-020-02645-5': ['CDs'], '10.1016/j.saa.2020.118580': ['N-CQDs'], '10.1021/acs.jpcc.9b06672': ['N-CQDs-1h, N-CQDs-3h, N-CQDs-6h,', 'N-CQDs-9h', 'N-CQDs'], '10.1016/j.optmat.2019.05.045': ['CDs'], '10.1080/00032719.2020.1759618_no_1': [], '10.1038/ncomms6357': ['b-GQDs', 'OH-GQDs', 'GQDs', 'amine-GQDs'], '10.1007/s10570-017-1230-0': ['carbon nanoparticles', 'CNPs/cotton fibers'], '10.1021/acssuschemeng.9b00027_no_2': ['CQDs'], '10.1021/acsabm.9b00101': ['—C dots', 'N—C dots'], '10.3390/chemosensors10060219': ['nano Ce-CDs', 'Ce-CDs-FA', 'carbon-dots'], '10.3390/nano12234166': ['B-CD'], '10.1002/bio.3407': ['N-CDs'], '10.1002/bio.3803': ['C‐dots'], '10.3390/molecules27165254': ['PEI-CQDs', 'PEI-CDs'], '10.1039/C8NJ02086H': ['C-dots'], '10.1039/C4TA05483K': ['C-dots'], '10.1039/C6TB00519E': ['N@C-dots', 'U2OS'], '10.1080/1536383X.2022.2030315': ['graphene'], '10.3390/ma15249057': ['Y-CDs'], '10.1021/acsabm.1c00371': ['NCDs', 'NCD'], '10.1021/acsami.8b16710': ['Y-CDs'], '10.3390/coatings12091311': ['CQD', 'CQDs'], '10.1016/j.saa.2022.121139': ['Si-CQDs', '-CQDs'], '10.1002/pssb.201700222': ['carbon', 'glucose', 'carbon dots', 'g-CDs'], '10.1021/acsomega.2c06047': [], '10.1002/adom.201701150_no_2': ['y-CDs'], '10.3390/chemosensors10100383': [], '10.1016/j.snb.2018.10.075': ['PB-CQDs', 'O-CQDs', 'CQDs', 'NB-CQDs']}\n"
     ]
    }
   ],
   "source": [
    "targets_ft = {}\n",
    "for entry in data_ft:\n",
    "    targets = []\n",
    "    for tag in entry['label']:\n",
    "        if tag[2] == 'target':\n",
    "            targets.append(tag[3])\n",
    "    targets_ft[entry['doi']] = list(set(targets))\n",
    "print(len(targets_ft))\n",
    "print(targets_ft)\n",
    "targets_elmo = {}\n",
    "for entry in data_elmo:\n",
    "    targets = []\n",
    "    for tag in entry['label']:\n",
    "        if tag[2] == 'target':\n",
    "            targets.append(tag[3])\n",
    "    targets_elmo[entry['doi']]= list(set(targets))\n",
    "print(len(targets_elmo))\n",
    "print(targets_elmo)"
   ]
  },
  {
   "cell_type": "markdown",
   "metadata": {},
   "source": [
    "## Extracting precursors and targets from annotations"
   ]
  },
  {
   "cell_type": "code",
   "execution_count": 11,
   "metadata": {},
   "outputs": [],
   "source": [
    "with open(os.path.join(path_ann, file_ann), 'r', encoding = 'utf-8') as file:\n",
    "    annotation = json.load(file)"
   ]
  },
  {
   "cell_type": "code",
   "execution_count": 12,
   "metadata": {},
   "outputs": [
    {
     "name": "stdout",
     "output_type": "stream",
     "text": [
      "30\n",
      "{'10.1007/s10876-022-02339-x': ['O. basilicum L.'], '10.1007/s00216-015-9138-8': ['PVP', 'glycine'], '10.1007/s10895-020-02645-5': ['E.A'], '10.1016/j.saa.2020.118580': ['diethylenetriamine', 'CA'], '10.1021/acs.jpcc.9b06672': ['CA', 'EDA'], '10.1016/j.optmat.2019.05.045': ['4-aminophenol'], '10.1080/00032719.2020.1759618_no_1': ['eggshell membrane'], '10.1038/ncomms6357': ['hydrazine hydrate', 'ammonia', '1,3,6-trinitropyrene'], '10.1007/s10570-017-1230-0': ['citric acid', 'urea'], '10.1021/acssuschemeng.9b00027_no_2': ['glucose'], '10.1021/acsabm.9b00101': ['carbon powder', 'sucrose'], '10.3390/chemosensors10060219': ['PVP-K30', 'Ce(Ac)3', 'FA'], '10.3390/nano12234166': ['Glucose'], '10.1002/bio.3407': ['O-phenylenediamine', 'dicyandiamide'], '10.1002/bio.3803': ['citric acid', 'l‐histidine'], '10.3390/molecules27165254': ['glycol', 'phosphoric acid', 'PEI'], '10.1039/C8NJ02086H': ['methionine', 'ethylenediamine'], '10.1039/C4TA05483K': ['sodium thiosulfate', 'sodium citrate'], '10.1039/C6TB00519E': ['BSA'], '10.1080/1536383X.2022.2030315': ['glucose'], '10.3390/ma15249057': ['DMF', 'L-tartaric acid', 'urea'], '10.1021/acsabm.1c00371': ['3,6-diaminoacridine', '-aspartic acid'], '10.1021/acsami.8b16710': ['o-PD', 'GABA'], '10.3390/coatings12091311': ['lactic acid', 'urea'], '10.1016/j.saa.2022.121139': ['3-aminopropyltrimethoxysilane', 'sulfuric acid'], '10.1002/pssb.201700222': ['ammonia', 'citric acid', 'glucose'], '10.1021/acsomega.2c06047': ['sodium hydroxide', 'amido black 10b'], '10.1002/adom.201701150_no_2': ['yeast'], '10.3390/chemosensors10100383': ['3-hydroxyphenylboric acid', 'NaOH'], '10.1016/j.snb.2018.10.075': ['borax', 'CA', 'p-phenylenediamine']}\n"
     ]
    }
   ],
   "source": [
    "#collecting precursor materials without amount from annotations\n",
    "precursors_ann = {}\n",
    "for para in annotation:\n",
    "    materials = []\n",
    "    for material in para['precursors']:\n",
    "        materials.extend(list(material))\n",
    "    precursors_ann[para['doi']] = list(set(materials))\n",
    "print(len(precursors_ann))\n",
    "print(precursors_ann)"
   ]
  },
  {
   "cell_type": "code",
   "execution_count": 13,
   "metadata": {},
   "outputs": [
    {
     "name": "stdout",
     "output_type": "stream",
     "text": [
      "30\n",
      "{'10.1007/s10876-022-02339-x': ['CQDs'], '10.1007/s00216-015-9138-8': ['CNDs'], '10.1007/s10895-020-02645-5': ['CDs'], '10.1016/j.saa.2020.118580': ['N-CQDs'], '10.1021/acs.jpcc.9b06672': ['N-CQDs-3h', 'N-CQDs-1h', 'N-CQDs-6h', 'N-CQDs-9h', 'N-CQDs'], '10.1016/j.optmat.2019.05.045': ['CDs'], '10.1080/00032719.2020.1759618_no_1': [], '10.1038/ncomms6357': ['b-GQDs', 'GQDs', 'amine-GQDs', 'OH-GQDs', 'y-GQDs'], '10.1007/s10570-017-1230-0': ['CNPs'], '10.1021/acssuschemeng.9b00027_no_2': ['CQDs'], '10.1021/acsabm.9b00101': ['N—C dots'], '10.3390/chemosensors10060219': ['Ce-CDs', 'cerium-doped carbon-dots', 'Ce-CDs-FA'], '10.3390/nano12234166': ['B-CD'], '10.1002/bio.3407': ['N-CDs'], '10.1002/bio.3803': ['C‐dots'], '10.3390/molecules27165254': ['PEI-CQDs', 'PEI-CDs'], '10.1039/C8NJ02086H': ['C-dots'], '10.1039/C4TA05483K': ['S-doped C-dots'], '10.1039/C6TB00519E': ['N@C-dots'], '10.1080/1536383X.2022.2030315': ['graphene quantum dots'], '10.3390/ma15249057': ['N-doped Y-CDs', 'Y-CDs'], '10.1021/acsabm.1c00371': ['NCDs', 'NCD'], '10.1021/acsami.8b16710': ['Y-CDs'], '10.3390/coatings12091311': ['CQDs'], '10.1016/j.saa.2022.121139': ['Si-CQDs'], '10.1002/pssb.201700222': ['g-CDs', 'carbon dots', 'ca-CDs'], '10.1021/acsomega.2c06047': [], '10.1002/adom.201701150_no_2': ['y-CDs'], '10.3390/chemosensors10100383': [], '10.1016/j.snb.2018.10.075': ['PB-CQDs', 'O-CQDs', 'CQDs', 'NB-CQDs']}\n"
     ]
    }
   ],
   "source": [
    "#collecting target materials without amount from annotations\n",
    "targets_ann = {}\n",
    "for para in annotation:\n",
    "    materials = []\n",
    "    for material in para['targets']:\n",
    "        materials.extend(list(material))\n",
    "    targets_ann[para['doi']] = list(set(materials))\n",
    "print(len(targets_ann))\n",
    "print(targets_ann)"
   ]
  },
  {
   "cell_type": "markdown",
   "metadata": {},
   "source": [
    "## Analysis of precursor material extraction"
   ]
  },
  {
   "cell_type": "code",
   "execution_count": 14,
   "metadata": {},
   "outputs": [],
   "source": [
    "#Assigning values to ft\n",
    "precursors_ft_pairs = {}\n",
    "for doi in list(precursors_ann.keys()):\n",
    "    pair_list = []\n",
    "    for material in precursors_ft[doi]:\n",
    "        if material in precursors_ann[doi]:\n",
    "            pair = (material, material)\n",
    "            pair_list.append(pair)\n",
    "        elif material not in precursors_ann[doi]:\n",
    "            pair = (material,'')\n",
    "            pair_list.append(pair)\n",
    "    for material in precursors_ann[doi]:\n",
    "        if material not in precursors_ft[doi]:\n",
    "            pair = ('', material)\n",
    "            pair_list.append(pair)\n",
    "    precursors_ft_pairs[doi] = pair_list"
   ]
  },
  {
   "cell_type": "code",
   "execution_count": 15,
   "metadata": {},
   "outputs": [
    {
     "name": "stdout",
     "output_type": "stream",
     "text": [
      "30\n",
      "{'10.1007/s10876-022-02339-x': [('O. basilicum L.', 'O. basilicum L.'), ('O.', '')], '10.1007/s00216-015-9138-8': [('PVP', 'PVP'), ('CNDs', ''), ('glycine', 'glycine')], '10.1007/s10895-020-02645-5': [('', 'E.A')], '10.1016/j.saa.2020.118580': [('diethylenetriamine', 'diethylenetriamine'), ('CA', 'CA')], '10.1021/acs.jpcc.9b06672': [('EDA', 'EDA'), ('', 'CA')], '10.1016/j.optmat.2019.05.045': [('4-aminophenol', '4-aminophenol')], '10.1080/00032719.2020.1759618_no_1': [('eggshell', ''), ('', 'eggshell membrane')], '10.1038/ncomms6357': [('hydrazine', ''), ('amine', ''), ('pyrene', ''), ('1,3,6-trinitropyrene', '1,3,6-trinitropyrene'), ('-GQDs', ''), ('', 'hydrazine hydrate'), ('', 'ammonia')], '10.1007/s10570-017-1230-0': [('hexadecyl trimethyl ammonium bromide', ''), ('sodium hydroxide', ''), ('tributyl', ''), ('', 'citric acid'), ('', 'urea')], '10.1021/acssuschemeng.9b00027_no_2': [('CQDs', ''), ('glucose', 'glucose'), ('H2O2', '')], '10.1021/acsabm.9b00101': [('carbon', ''), ('', 'carbon powder'), ('', 'sucrose')], '10.3390/chemosensors10060219': [('PVP-K30', 'PVP-K30'), ('Ce(Ac)3', 'Ce(Ac)3'), ('FA', 'FA')], '10.3390/nano12234166': [('Glucose', 'Glucose')], '10.1002/bio.3407': [('O-phenylenediamine', 'O-phenylenediamine'), ('silica', ''), ('dicyandiamide', 'dicyandiamide')], '10.1002/bio.3803': [('citric', ''), ('l‐histidine', 'l‐histidine'), ('', 'citric acid')], '10.3390/molecules27165254': [('glycol', 'glycol'), ('PEI', 'PEI'), ('', 'phosphoric acid')], '10.1039/C8NJ02086H': [('methionine', 'methionine'), ('ethylenediamine co-precursors', ''), ('ethylenediamine', 'ethylenediamine')], '10.1039/C4TA05483K': [('citrate', ''), ('sodium thiosulfate', 'sodium thiosulfate'), ('', 'sodium citrate')], '10.1039/C6TB00519E': [('BSA', 'BSA')], '10.1080/1536383X.2022.2030315': [('glucose', 'glucose')], '10.3390/ma15249057': [('acid', ''), ('', 'DMF'), ('', 'L-tartaric acid'), ('', 'urea')], '10.1021/acsabm.1c00371': [('', '3,6-diaminoacridine'), ('', '-aspartic acid')], '10.1021/acsami.8b16710': [('o-PD', 'o-PD'), ('Y-CDs', ''), ('GABA', 'GABA')], '10.3390/coatings12091311': [('XRD', ''), ('XPS', ''), ('FT-IR', ''), ('urea', 'urea'), ('', 'lactic acid')], '10.1016/j.saa.2022.121139': [('3-aminopropyltrimethoxysilane', '3-aminopropyltrimethoxysilane'), ('-', ''), ('acid', ''), ('', 'sulfuric acid')], '10.1002/pssb.201700222': [('ammonia', 'ammonia'), ('', 'citric acid'), ('', 'glucose')], '10.1021/acsomega.2c06047': [('amido black 10b', 'amido black 10b'), ('', 'sodium hydroxide')], '10.1002/adom.201701150_no_2': [('y-CDs', ''), ('yeast', 'yeast')], '10.3390/chemosensors10100383': [('acid', ''), ('', '3-hydroxyphenylboric acid'), ('', 'NaOH')], '10.1016/j.snb.2018.10.075': [('borax', 'borax'), ('CA', 'CA'), ('p-phenylenediamine', 'p-phenylenediamine')]}\n"
     ]
    }
   ],
   "source": [
    "print(len(precursors_ft_pairs))\n",
    "print(precursors_ft_pairs)"
   ]
  },
  {
   "cell_type": "code",
   "execution_count": 16,
   "metadata": {},
   "outputs": [],
   "source": [
    "#Assigning values to elmo\n",
    "precursors_elmo_pairs = {}\n",
    "for doi in list(precursors_ann.keys()):\n",
    "    pair_list = []\n",
    "    for material in precursors_elmo[doi]:\n",
    "        if material in precursors_ann[doi]:\n",
    "            pair = (material, material)\n",
    "            pair_list.append(pair)\n",
    "        elif material not in precursors_ann[doi]:\n",
    "            pair = (material,'')\n",
    "            pair_list.append(pair)\n",
    "    for material in precursors_ann[doi]:\n",
    "        if material not in precursors_elmo[doi]:\n",
    "            pair = ('', material)\n",
    "            pair_list.append(pair)\n",
    "    precursors_elmo_pairs[doi] = pair_list"
   ]
  },
  {
   "cell_type": "code",
   "execution_count": 17,
   "metadata": {},
   "outputs": [
    {
     "name": "stdout",
     "output_type": "stream",
     "text": [
      "30\n",
      "{'10.1007/s10876-022-02339-x': [('O. basilicum L.', 'O. basilicum L.'), ('O. basilicum L. seed', '')], '10.1007/s00216-015-9138-8': [('PVP', 'PVP'), ('glycine', 'glycine')], '10.1007/s10895-020-02645-5': [('', 'E.A')], '10.1016/j.saa.2020.118580': [('diethylenetriamine', 'diethylenetriamine'), ('CA', 'CA')], '10.1021/acs.jpcc.9b06672': [('CA', 'CA'), ('EDA', 'EDA')], '10.1016/j.optmat.2019.05.045': [('4-aminophenol', '4-aminophenol')], '10.1080/00032719.2020.1759618_no_1': [('', 'eggshell membrane')], '10.1038/ncomms6357': [('pyrene', ''), ('hydrazine hydrate', 'hydrazine hydrate'), ('ammonia', 'ammonia'), ('trinitropyrene', ''), ('y-GQDs', ''), ('1,3,6-trinitropyrene', '1,3,6-trinitropyrene')], '10.1007/s10570-017-1230-0': [('hexadecyl trimethyl ammonium bromide', ''), ('citric acid', 'citric acid'), ('cotton', ''), ('urea', 'urea'), ('sodium hydroxide', ''), ('tributyl phosphate', '')], '10.1021/acssuschemeng.9b00027_no_2': [('glucose', 'glucose'), ('H2O2', ''), ('hydrochar', '')], '10.1021/acsabm.9b00101': [('carbon', ''), ('sucrose', 'sucrose'), ('', 'carbon powder')], '10.3390/chemosensors10060219': [('PVP-K30', 'PVP-K30'), ('Ce(Ac)3', 'Ce(Ac)3'), ('FA', 'FA')], '10.3390/nano12234166': [('Glucose', 'Glucose')], '10.1002/bio.3407': [('O-phenylenediamine', 'O-phenylenediamine'), ('acetate', ''), ('dicyandiamide', 'dicyandiamide')], '10.1002/bio.3803': [('citric acid', 'citric acid'), ('l‐histidine', 'l‐histidine')], '10.3390/molecules27165254': [('glycol', 'glycol'), ('phosphoric acid', 'phosphoric acid'), ('PEI', 'PEI')], '10.1039/C8NJ02086H': [('methionine', 'methionine'), ('ethylenediamine', 'ethylenediamine')], '10.1039/C4TA05483K': [('sodium thiosulfate', 'sodium thiosulfate'), ('sodium citrate', 'sodium citrate')], '10.1039/C6TB00519E': [('carbide slag', ''), ('BSA', 'BSA')], '10.1080/1536383X.2022.2030315': [('glucose', 'glucose')], '10.3390/ma15249057': [('urea', 'urea'), ('DMF', 'DMF'), ('L-tartaric acid', 'L-tartaric acid')], '10.1021/acsabm.1c00371': [('-aspartic', ''), ('3,6-diaminoacridine', '3,6-diaminoacridine'), ('', '-aspartic acid')], '10.1021/acsami.8b16710': [('o-PD', 'o-PD'), ('Y-CDs', ''), ('GABA', 'GABA')], '10.3390/coatings12091311': [('lactic acid', 'lactic acid'), ('urea', 'urea')], '10.1016/j.saa.2022.121139': [('3-aminopropyltrimethoxysilane', '3-aminopropyltrimethoxysilane'), ('sulfuric acid', 'sulfuric acid')], '10.1002/pssb.201700222': [('citric acid', 'citric acid'), ('C6H8O7', ''), ('', 'ammonia'), ('', 'glucose')], '10.1021/acsomega.2c06047': [('amido black 10b', 'amido black 10b'), ('', 'sodium hydroxide')], '10.1002/adom.201701150_no_2': [('yeast', 'yeast')], '10.3390/chemosensors10100383': [('3-hydroxyphenylboric acid', '3-hydroxyphenylboric acid'), ('', 'NaOH')], '10.1016/j.snb.2018.10.075': [('borax', 'borax'), ('CA', 'CA'), ('p-phenylenediamine', 'p-phenylenediamine')]}\n"
     ]
    }
   ],
   "source": [
    "print(len(precursors_elmo_pairs))\n",
    "print(precursors_elmo_pairs)"
   ]
  },
  {
   "cell_type": "code",
   "execution_count": 18,
   "metadata": {},
   "outputs": [
    {
     "name": "stdout",
     "output_type": "stream",
     "text": [
      "30\n",
      "30\n"
     ]
    }
   ],
   "source": [
    "all_precursor_values_ft = {}\n",
    "for doi in list(precursors_ft_pairs.keys()):\n",
    "    values = []\n",
    "    for pairs in precursors_ft_pairs[doi]:\n",
    "        if pairs[0] == pairs[1]:\n",
    "            values.append('TP')\n",
    "        elif pairs[0] != pairs[1] and pairs[0] =='':\n",
    "            values.append('FN')\n",
    "        elif pairs[0] != pairs[1] and pairs[1] == '':\n",
    "            values.append('FP')\n",
    "        all_precursor_values_ft[doi] = values\n",
    "all_precursor_values_elmo = {}\n",
    "for doi in list(precursors_elmo_pairs.keys()):\n",
    "    values = []\n",
    "    for pairs in precursors_elmo_pairs[doi]:\n",
    "        if pairs[0] == pairs[1]:\n",
    "            values.append('TP')\n",
    "        elif pairs[0] != pairs[1] and pairs[0] =='':\n",
    "            values.append('FN')\n",
    "        elif pairs[0] != pairs[1] and pairs[1] == '':\n",
    "            values.append('FP')\n",
    "        all_precursor_values_elmo[doi] = values\n",
    "print(len(all_precursor_values_ft))\n",
    "print(len(all_precursor_values_elmo))"
   ]
  },
  {
   "cell_type": "code",
   "execution_count": 19,
   "metadata": {},
   "outputs": [
    {
     "name": "stdout",
     "output_type": "stream",
     "text": [
      "['TP', 'FP', 'TP', 'FP', 'TP', 'FN', 'TP', 'TP', 'TP', 'FN', 'TP', 'FP', 'FN', 'FP', 'FP', 'FP', 'TP', 'FP', 'FN', 'FN', 'FP', 'FP', 'FP', 'FN', 'FN', 'FP', 'TP', 'FP', 'FP', 'FN', 'FN', 'TP', 'TP', 'TP', 'TP', 'TP', 'FP', 'TP', 'FP', 'TP', 'FN', 'TP', 'TP', 'FN', 'TP', 'FP', 'TP', 'FP', 'TP', 'FN', 'TP', 'TP', 'FP', 'FN', 'FN', 'FN', 'FN', 'FN', 'TP', 'FP', 'TP', 'FP', 'FP', 'FP', 'TP', 'FN', 'TP', 'FP', 'FP', 'FN', 'TP', 'FN', 'FN', 'TP', 'FN', 'FP', 'TP', 'FP', 'FN', 'FN', 'TP', 'TP', 'TP']\n",
      "['TP', 'FP', 'TP', 'TP', 'FN', 'TP', 'TP', 'TP', 'TP', 'TP', 'FN', 'FP', 'TP', 'TP', 'FP', 'FP', 'TP', 'FP', 'TP', 'FP', 'TP', 'FP', 'FP', 'TP', 'FP', 'FP', 'FP', 'TP', 'FN', 'TP', 'TP', 'TP', 'TP', 'TP', 'FP', 'TP', 'TP', 'TP', 'TP', 'TP', 'TP', 'TP', 'TP', 'TP', 'TP', 'FP', 'TP', 'TP', 'TP', 'TP', 'TP', 'FP', 'TP', 'FN', 'TP', 'FP', 'TP', 'TP', 'TP', 'TP', 'TP', 'TP', 'FP', 'FN', 'FN', 'TP', 'FN', 'TP', 'TP', 'FN', 'TP', 'TP', 'TP']\n"
     ]
    }
   ],
   "source": [
    "all_values_combine_ft = []\n",
    "for values in all_precursor_values_ft.values():\n",
    "    all_values_combine_ft.extend(values)\n",
    "print(all_values_combine_ft)\n",
    "all_values_combine_elmo = []\n",
    "for values in all_precursor_values_elmo.values():\n",
    "    all_values_combine_elmo.extend(values)\n",
    "print(all_values_combine_elmo)"
   ]
  },
  {
   "cell_type": "markdown",
   "metadata": {},
   "source": [
    "#### Performance of fasttext tc for precursor extraction"
   ]
  },
  {
   "cell_type": "code",
   "execution_count": 20,
   "metadata": {},
   "outputs": [
    {
     "name": "stdout",
     "output_type": "stream",
     "text": [
      "The precision is: 0.559322033898305\n",
      "The recall is: 0.5789473684210527\n",
      "The F1 score is: 0.5689655172413793\n"
     ]
    }
   ],
   "source": [
    "TP = all_values_combine_ft.count('TP')\n",
    "FP = all_values_combine_ft.count('FP')\n",
    "FN = all_values_combine_ft.count('FN')\n",
    "precision = TP / (TP+FP)\n",
    "recall = TP / (TP+FN)\n",
    "F1 = (2*precision*recall)/(precision+recall)\n",
    "print(f'The precision is: {precision}')\n",
    "print(f'The recall is: {recall}')\n",
    "print(f'The F1 score is: {F1}')"
   ]
  },
  {
   "cell_type": "markdown",
   "metadata": {},
   "source": [
    "#### Performance of elmo tc for precursor extraction"
   ]
  },
  {
   "cell_type": "code",
   "execution_count": 21,
   "metadata": {},
   "outputs": [
    {
     "name": "stdout",
     "output_type": "stream",
     "text": [
      "The precision is: 0.7538461538461538\n",
      "The recall is: 0.8596491228070176\n",
      "The F1 score is: 0.8032786885245902\n"
     ]
    }
   ],
   "source": [
    "TP = all_values_combine_elmo.count('TP')\n",
    "FP = all_values_combine_elmo.count('FP')\n",
    "FN = all_values_combine_elmo.count('FN')\n",
    "precision = TP / (TP+FP)\n",
    "recall = TP / (TP+FN)\n",
    "F1 = (2*precision*recall)/(precision+recall)\n",
    "print(f'The precision is: {precision}')\n",
    "print(f'The recall is: {recall}')\n",
    "print(f'The F1 score is: {F1}')"
   ]
  },
  {
   "cell_type": "markdown",
   "metadata": {},
   "source": [
    "## Analysis of target material extraction"
   ]
  },
  {
   "cell_type": "code",
   "execution_count": 22,
   "metadata": {},
   "outputs": [],
   "source": [
    "#Assigning values to ft\n",
    "targets_ft_pairs = {}\n",
    "for doi in list(targets_ann.keys()):\n",
    "    pair_list = []\n",
    "    for material in targets_ft[doi]:\n",
    "        if material in targets_ann[doi]:\n",
    "            pair = (material, material)\n",
    "            pair_list.append(pair)\n",
    "        elif material not in targets_ann[doi]:\n",
    "            pair = (material,'')\n",
    "            pair_list.append(pair)\n",
    "    for material in targets_ann[doi]:\n",
    "        if material not in targets_ft[doi]:\n",
    "            pair = ('', material)\n",
    "            pair_list.append(pair)\n",
    "    targets_ft_pairs[doi] = pair_list"
   ]
  },
  {
   "cell_type": "code",
   "execution_count": 23,
   "metadata": {},
   "outputs": [
    {
     "name": "stdout",
     "output_type": "stream",
     "text": [
      "30\n",
      "{'10.1007/s10876-022-02339-x': [('L.', ''), ('CQDs', 'CQDs')], '10.1007/s00216-015-9138-8': [('CNDs', 'CNDs')], '10.1007/s10895-020-02645-5': [('CDs', 'CDs')], '10.1016/j.saa.2020.118580': [('N-CQDs', 'N-CQDs')], '10.1021/acs.jpcc.9b06672': [('N-CQDs-3h', 'N-CQDs-3h'), ('N-CQDs-1h', 'N-CQDs-1h'), ('N-CQDs-6h', 'N-CQDs-6h'), ('N-CQDs-9h', 'N-CQDs-9h'), ('N-CQDs', 'N-CQDs')], '10.1016/j.optmat.2019.05.045': [('CDs', 'CDs')], '10.1080/00032719.2020.1759618_no_1': [], '10.1038/ncomms6357': [('b-GQDs', 'b-GQDs'), ('OH-GQDs', 'OH-GQDs'), ('-GQDs', ''), ('', 'GQDs'), ('', 'amine-GQDs'), ('', 'y-GQDs')], '10.1007/s10570-017-1230-0': [('carbon', ''), ('CNPs/cotton', ''), ('', 'CNPs')], '10.1021/acssuschemeng.9b00027_no_2': [('CQDs', 'CQDs')], '10.1021/acsabm.9b00101': [('C', ''), ('', 'N—C dots')], '10.3390/chemosensors10060219': [('Ce-CDs', 'Ce-CDs'), ('Ce-CDs-FA', 'Ce-CDs-FA'), ('carbon-dots', ''), ('', 'cerium-doped carbon-dots')], '10.3390/nano12234166': [('B-CD', 'B-CD')], '10.1002/bio.3407': [('', 'N-CDs')], '10.1002/bio.3803': [('C‐dots', 'C‐dots'), ('as‐synthesized', '')], '10.3390/molecules27165254': [('PEI-CQDs', 'PEI-CQDs'), ('PEI-CDs', 'PEI-CDs')], '10.1039/C8NJ02086H': [('C-dots', 'C-dots'), ('as-prepared C-dots', '')], '10.1039/C4TA05483K': [('C-dots', ''), ('', 'S-doped C-dots')], '10.1039/C6TB00519E': [('N@C-dots', 'N@C-dots')], '10.1080/1536383X.2022.2030315': [('graphene', ''), ('', 'graphene quantum dots')], '10.3390/ma15249057': [('[22,23,24]', ''), ('Y-CDs', 'Y-CDs'), ('', 'N-doped Y-CDs')], '10.1021/acsabm.1c00371': [('NCDs', 'NCDs'), ('', 'NCD')], '10.1021/acsami.8b16710': [('Y-CDs', 'Y-CDs')], '10.3390/coatings12091311': [('CQD', ''), ('as-prepared', ''), ('CQDs', 'CQDs')], '10.1016/j.saa.2022.121139': [('Si-CQDs', 'Si-CQDs'), ('-', ''), ('CQDs', ''), ('Si', '')], '10.1002/pssb.201700222': [('carbon', ''), ('', 'g-CDs'), ('', 'carbon dots'), ('', 'ca-CDs')], '10.1021/acsomega.2c06047': [('C', '')], '10.1002/adom.201701150_no_2': [('y-CDs', 'y-CDs')], '10.3390/chemosensors10100383': [('C', '')], '10.1016/j.snb.2018.10.075': [('PB-CQDs', 'PB-CQDs'), ('CQDs', 'CQDs'), ('NB-CQDs', 'NB-CQDs'), ('p-phenylenediamine', ''), ('', 'O-CQDs')]}\n"
     ]
    }
   ],
   "source": [
    "print(len(targets_ft_pairs))\n",
    "print(targets_ft_pairs)"
   ]
  },
  {
   "cell_type": "code",
   "execution_count": 24,
   "metadata": {},
   "outputs": [],
   "source": [
    "#Assigning values to elmo\n",
    "targets_elmo_pairs = {}\n",
    "for doi in list(targets_ann.keys()):\n",
    "    pair_list = []\n",
    "    for material in targets_elmo[doi]:\n",
    "        if material in targets_ann[doi]:\n",
    "            pair = (material, material)\n",
    "            pair_list.append(pair)\n",
    "        elif material not in targets_ann[doi]:\n",
    "            pair = (material,'')\n",
    "            pair_list.append(pair)\n",
    "    for material in targets_ann[doi]:\n",
    "        if material not in targets_elmo[doi]:\n",
    "            pair = ('', material)\n",
    "            pair_list.append(pair)\n",
    "    targets_elmo_pairs[doi] = pair_list"
   ]
  },
  {
   "cell_type": "code",
   "execution_count": 25,
   "metadata": {},
   "outputs": [
    {
     "name": "stdout",
     "output_type": "stream",
     "text": [
      "30\n",
      "{'10.1007/s10876-022-02339-x': [('CQDs', 'CQDs')], '10.1007/s00216-015-9138-8': [('CNDs', 'CNDs')], '10.1007/s10895-020-02645-5': [('CDs', 'CDs')], '10.1016/j.saa.2020.118580': [('N-CQDs', 'N-CQDs')], '10.1021/acs.jpcc.9b06672': [('N-CQDs-1h, N-CQDs-3h, N-CQDs-6h,', ''), ('N-CQDs-9h', 'N-CQDs-9h'), ('N-CQDs', 'N-CQDs'), ('', 'N-CQDs-3h'), ('', 'N-CQDs-1h'), ('', 'N-CQDs-6h')], '10.1016/j.optmat.2019.05.045': [('CDs', 'CDs')], '10.1080/00032719.2020.1759618_no_1': [], '10.1038/ncomms6357': [('b-GQDs', 'b-GQDs'), ('OH-GQDs', 'OH-GQDs'), ('GQDs', 'GQDs'), ('amine-GQDs', 'amine-GQDs'), ('', 'y-GQDs')], '10.1007/s10570-017-1230-0': [('carbon nanoparticles', ''), ('CNPs/cotton fibers', ''), ('', 'CNPs')], '10.1021/acssuschemeng.9b00027_no_2': [('CQDs', 'CQDs')], '10.1021/acsabm.9b00101': [('—C dots', ''), ('N—C dots', 'N—C dots')], '10.3390/chemosensors10060219': [('nano Ce-CDs', ''), ('Ce-CDs-FA', 'Ce-CDs-FA'), ('carbon-dots', ''), ('', 'Ce-CDs'), ('', 'cerium-doped carbon-dots')], '10.3390/nano12234166': [('B-CD', 'B-CD')], '10.1002/bio.3407': [('N-CDs', 'N-CDs')], '10.1002/bio.3803': [('C‐dots', 'C‐dots')], '10.3390/molecules27165254': [('PEI-CQDs', 'PEI-CQDs'), ('PEI-CDs', 'PEI-CDs')], '10.1039/C8NJ02086H': [('C-dots', 'C-dots')], '10.1039/C4TA05483K': [('C-dots', ''), ('', 'S-doped C-dots')], '10.1039/C6TB00519E': [('N@C-dots', 'N@C-dots'), ('U2OS', '')], '10.1080/1536383X.2022.2030315': [('graphene', ''), ('', 'graphene quantum dots')], '10.3390/ma15249057': [('Y-CDs', 'Y-CDs'), ('', 'N-doped Y-CDs')], '10.1021/acsabm.1c00371': [('NCDs', 'NCDs'), ('NCD', 'NCD')], '10.1021/acsami.8b16710': [('Y-CDs', 'Y-CDs')], '10.3390/coatings12091311': [('CQD', ''), ('CQDs', 'CQDs')], '10.1016/j.saa.2022.121139': [('Si-CQDs', 'Si-CQDs'), ('-CQDs', '')], '10.1002/pssb.201700222': [('carbon', ''), ('glucose', ''), ('carbon dots', 'carbon dots'), ('g-CDs', 'g-CDs'), ('', 'ca-CDs')], '10.1021/acsomega.2c06047': [], '10.1002/adom.201701150_no_2': [('y-CDs', 'y-CDs')], '10.3390/chemosensors10100383': [], '10.1016/j.snb.2018.10.075': [('PB-CQDs', 'PB-CQDs'), ('O-CQDs', 'O-CQDs'), ('CQDs', 'CQDs'), ('NB-CQDs', 'NB-CQDs')]}\n"
     ]
    }
   ],
   "source": [
    "print(len(targets_elmo_pairs))\n",
    "print(targets_elmo_pairs)"
   ]
  },
  {
   "cell_type": "code",
   "execution_count": 26,
   "metadata": {},
   "outputs": [
    {
     "name": "stdout",
     "output_type": "stream",
     "text": [
      "30\n",
      "30\n"
     ]
    }
   ],
   "source": [
    "all_targets_values_ft = {}\n",
    "for doi in list(targets_ft_pairs.keys()):\n",
    "    values = []\n",
    "    for pairs in targets_ft_pairs[doi]:\n",
    "        if pairs[0] == pairs[1]:\n",
    "            values.append('TP')\n",
    "        elif pairs[0] != pairs[1] and pairs[0] =='':\n",
    "            values.append('FN')\n",
    "        elif pairs[0] != pairs[1] and pairs[1] == '':\n",
    "            values.append('FP')\n",
    "    if len(targets_ft_pairs[doi]) == 0:\n",
    "        values.append('TP')\n",
    "    all_targets_values_ft[doi] = values\n",
    "all_targets_values_elmo = {}\n",
    "for doi in list(targets_elmo_pairs.keys()):\n",
    "    values = []\n",
    "    for pairs in targets_elmo_pairs[doi]:\n",
    "        if pairs[0] == pairs[1]:\n",
    "            values.append('TP')\n",
    "        elif pairs[0] != pairs[1] and pairs[0] =='':\n",
    "            values.append('FN')\n",
    "        elif pairs[0] != pairs[1] and pairs[1] == '':\n",
    "            values.append('FP')\n",
    "    if len(targets_elmo_pairs[doi]) == 0:\n",
    "        values.append('TP')\n",
    "    all_targets_values_elmo[doi] = values\n",
    "print(len(all_targets_values_ft))\n",
    "print(len(all_targets_values_elmo))"
   ]
  },
  {
   "cell_type": "code",
   "execution_count": 27,
   "metadata": {},
   "outputs": [
    {
     "name": "stdout",
     "output_type": "stream",
     "text": [
      "['FP', 'TP', 'TP', 'TP', 'TP', 'TP', 'TP', 'TP', 'TP', 'TP', 'TP', 'TP', 'TP', 'TP', 'FP', 'FN', 'FN', 'FN', 'FP', 'FP', 'FN', 'TP', 'FP', 'FN', 'TP', 'TP', 'FP', 'FN', 'TP', 'FN', 'TP', 'FP', 'TP', 'TP', 'TP', 'FP', 'FP', 'FN', 'TP', 'FP', 'FN', 'FP', 'TP', 'FN', 'TP', 'FN', 'TP', 'FP', 'FP', 'TP', 'TP', 'FP', 'FP', 'FP', 'FP', 'FN', 'FN', 'FN', 'FP', 'TP', 'FP', 'TP', 'TP', 'TP', 'FP', 'FN']\n",
      "['TP', 'TP', 'TP', 'TP', 'FP', 'TP', 'TP', 'FN', 'FN', 'FN', 'TP', 'TP', 'TP', 'TP', 'TP', 'TP', 'FN', 'FP', 'FP', 'FN', 'TP', 'FP', 'TP', 'FP', 'TP', 'FP', 'FN', 'FN', 'TP', 'TP', 'TP', 'TP', 'TP', 'TP', 'FP', 'FN', 'TP', 'FP', 'FP', 'FN', 'TP', 'FN', 'TP', 'TP', 'TP', 'FP', 'TP', 'TP', 'FP', 'FP', 'FP', 'TP', 'TP', 'FN', 'TP', 'TP', 'TP', 'TP', 'TP', 'TP', 'TP']\n"
     ]
    }
   ],
   "source": [
    "all_values_combine_ft = []\n",
    "for values in all_targets_values_ft.values():\n",
    "    all_values_combine_ft.extend(values)\n",
    "print(all_values_combine_ft)\n",
    "all_values_combine_elmo = []\n",
    "for values in all_targets_values_elmo.values():\n",
    "    all_values_combine_elmo.extend(values)\n",
    "print(all_values_combine_elmo)"
   ]
  },
  {
   "cell_type": "markdown",
   "metadata": {},
   "source": [
    "#### Performance of fasttext for target extraction"
   ]
  },
  {
   "cell_type": "code",
   "execution_count": 28,
   "metadata": {},
   "outputs": [
    {
     "name": "stdout",
     "output_type": "stream",
     "text": [
      "The precision is: 0.6078431372549019\n",
      "The recall is: 0.6739130434782609\n",
      "The F1 score is: 0.6391752577319587\n"
     ]
    }
   ],
   "source": [
    "TP = all_values_combine_ft.count('TP')\n",
    "FP = all_values_combine_ft.count('FP')\n",
    "FN = all_values_combine_ft.count('FN')\n",
    "precision = TP / (TP+FP)\n",
    "recall = TP / (TP+FN)\n",
    "F1 = (2*precision*recall)/(precision+recall)\n",
    "print(f'The precision is: {precision}')\n",
    "print(f'The recall is: {recall}')\n",
    "print(f'The F1 score is: {F1}')"
   ]
  },
  {
   "cell_type": "markdown",
   "metadata": {},
   "source": [
    "#### Performance of elmo for target extraction"
   ]
  },
  {
   "cell_type": "code",
   "execution_count": 29,
   "metadata": {},
   "outputs": [
    {
     "name": "stdout",
     "output_type": "stream",
     "text": [
      "The precision is: 0.74\n",
      "The recall is: 0.7708333333333334\n",
      "The F1 score is: 0.7551020408163266\n"
     ]
    }
   ],
   "source": [
    "TP = all_values_combine_elmo.count('TP')\n",
    "FP = all_values_combine_elmo.count('FP')\n",
    "FN = all_values_combine_elmo.count('FN')\n",
    "precision = TP / (TP+FP)\n",
    "recall = TP / (TP+FN)\n",
    "F1 = (2*precision*recall)/(precision+recall)\n",
    "print(f'The precision is: {precision}')\n",
    "print(f'The recall is: {recall}')\n",
    "print(f'The F1 score is: {F1}')"
   ]
  },
  {
   "cell_type": "code",
   "execution_count": null,
   "metadata": {},
   "outputs": [],
   "source": []
  },
  {
   "cell_type": "code",
   "execution_count": null,
   "metadata": {},
   "outputs": [],
   "source": []
  }
 ],
 "metadata": {
  "kernelspec": {
   "display_name": "Python 3 (ipykernel)",
   "language": "python",
   "name": "python3"
  },
  "language_info": {
   "codemirror_mode": {
    "name": "ipython",
    "version": 3
   },
   "file_extension": ".py",
   "mimetype": "text/x-python",
   "name": "python",
   "nbconvert_exporter": "python",
   "pygments_lexer": "ipython3",
   "version": "3.9.13"
  }
 },
 "nbformat": 4,
 "nbformat_minor": 4
}
