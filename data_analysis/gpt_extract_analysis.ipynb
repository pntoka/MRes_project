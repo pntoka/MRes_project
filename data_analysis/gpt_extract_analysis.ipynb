{
 "cells": [
  {
   "cell_type": "markdown",
   "metadata": {},
   "source": [
    "# Notebook to evaluate performance of gpt_extract\n",
    "Evaluating extraction of precursors, targets, rxn temp time and QY"
   ]
  },
  {
   "cell_type": "code",
   "execution_count": 81,
   "metadata": {},
   "outputs": [],
   "source": [
    "import os\n",
    "import json"
   ]
  },
  {
   "cell_type": "code",
   "execution_count": 3,
   "metadata": {},
   "outputs": [],
   "source": [
    "#file import\n",
    "# path = r'C:\\Users\\Piotr\\OneDrive - Imperial College London\\MRes_project_data\\para_dataset'\n",
    "path = '/Users/pnt17/Library/CloudStorage/OneDrive-ImperialCollegeLondon/MRes_project_data/para_dataset'\n",
    "file_pred = 'gpt_synth_30_sample_cleaned.json'\n",
    "# path_2 = r'C:\\Users\\Piotr\\OneDrive - Imperial College London\\MRes_project_data\\annotations'\n",
    "path_2 = '/Users/pnt17/Library/CloudStorage/OneDrive-ImperialCollegeLondon/MRes_project_data/annotations'\n",
    "file_ann = 'ceder_30_sample.json'\n",
    "\n",
    "with open(os.path.join(path, file_pred),'r', encoding = 'utf-8') as file:\n",
    "    extractions = json.load(file)\n",
    "    \n",
    "with open(os.path.join(path_2, file_ann), 'r', encoding = 'utf-8') as file:\n",
    "    annotation = json.load(file)"
   ]
  },
  {
   "cell_type": "markdown",
   "metadata": {},
   "source": [
    "## Analysis of target material extraction"
   ]
  },
  {
   "cell_type": "code",
   "execution_count": 4,
   "metadata": {},
   "outputs": [
    {
     "name": "stdout",
     "output_type": "stream",
     "text": [
      "30\n",
      "{'10.1007/s10876-022-02339-x': ['CQDs'], '10.1007/s00216-015-9138-8': ['CNDs'], '10.1007/s10895-020-02645-5': ['CDs'], '10.1016/j.saa.2020.118580': ['N-CQDs'], '10.1021/acs.jpcc.9b06672': ['N-CQDs'], '10.1016/j.optmat.2019.05.045': ['CDs'], '10.1080/00032719.2020.1759618_no_1': ['dried eggshell membrane'], '10.1038/ncomms6357': ['amine-GQDs', 'OH-GQDs'], '10.1007/s10570-017-1230-0': ['CNPs'], '10.1021/acssuschemeng.9b00027_no_2': ['CQDs'], '10.1021/acsabm.9b00101': ['N—C dots'], '10.3390/chemosensors10060219': ['FA-modified cerium-doped carbon-dots (Ce-CDs-FA)', 'Ce-CDs', 'Ce-CDs-FA', 'cerium-doped carbon-dots'], '10.3390/nano12234166': ['B-CD'], '10.1002/bio.3407': ['N-CDs'], '10.1002/bio.3803': ['C‐dots'], '10.3390/molecules27165254': ['PEI-CDs'], '10.1039/C8NJ02086H': ['C-dots'], '10.1039/C4TA05483K': ['S-doped C-dots'], '10.1039/C6TB00519E': ['N@C-dots'], '10.1080/1536383X.2022.2030315': ['graphene quantum dots'], '10.3390/ma15249057': ['N-doped Y-CDs'], '10.1021/acsabm.1c00371': ['NCDs'], '10.1021/acsami.8b16710': ['Y-CDs'], '10.3390/coatings12091311': ['CQDs'], '10.1016/j.saa.2022.121139': ['Si-CQDs'], '10.1002/pssb.201700222': ['g-CDs', 'ca-CDs'], '10.1021/acsomega.2c06047': ['amido black 10b'], '10.1002/adom.201701150_no_2': ['y-CDs'], '10.3390/chemosensors10100383': ['3-hydroxyphenylboric acid'], '10.1016/j.snb.2018.10.075': ['NB-CQDs', 'O-CQDs', 'PB-CQDs']}\n"
     ]
    }
   ],
   "source": [
    "#collecting target materials from extraction\n",
    "targets_ext = {}\n",
    "for entry in extractions:\n",
    "    targets_ext[entry['DOI']] = entry['target_materials']\n",
    "print(len(targets_ext))\n",
    "print(targets_ext)"
   ]
  },
  {
   "cell_type": "code",
   "execution_count": 5,
   "metadata": {},
   "outputs": [
    {
     "name": "stdout",
     "output_type": "stream",
     "text": [
      "30\n",
      "{'10.1007/s10876-022-02339-x': ['CQDs'], '10.1007/s00216-015-9138-8': ['CNDs'], '10.1007/s10895-020-02645-5': ['CDs'], '10.1016/j.saa.2020.118580': ['N-CQDs'], '10.1021/acs.jpcc.9b06672': ['N-CQDs-6h', 'N-CQDs-9h', 'N-CQDs', 'N-CQDs-3h', 'N-CQDs-1h'], '10.1016/j.optmat.2019.05.045': ['CDs'], '10.1080/00032719.2020.1759618_no_1': [], '10.1038/ncomms6357': ['b-GQDs', 'amine-GQDs', 'y-GQDs', 'OH-GQDs', 'GQDs'], '10.1007/s10570-017-1230-0': ['CNPs'], '10.1021/acssuschemeng.9b00027_no_2': ['CQDs'], '10.1021/acsabm.9b00101': ['N—C dots'], '10.3390/chemosensors10060219': ['Ce-CDs', 'cerium-doped carbon-dots', 'Ce-CDs-FA'], '10.3390/nano12234166': ['B-CD'], '10.1002/bio.3407': ['N-CDs'], '10.1002/bio.3803': ['C‐dots'], '10.3390/molecules27165254': ['PEI-CQDs', 'PEI-CDs'], '10.1039/C8NJ02086H': ['C-dots'], '10.1039/C4TA05483K': ['S-doped C-dots'], '10.1039/C6TB00519E': ['N@C-dots'], '10.1080/1536383X.2022.2030315': ['graphene quantum dots'], '10.3390/ma15249057': ['N-doped Y-CDs', 'Y-CDs'], '10.1021/acsabm.1c00371': ['NCD', 'NCDs'], '10.1021/acsami.8b16710': ['Y-CDs'], '10.3390/coatings12091311': ['CQDs'], '10.1016/j.saa.2022.121139': ['Si-CQDs'], '10.1002/pssb.201700222': ['g-CDs', 'carbon dots', 'ca-CDs'], '10.1021/acsomega.2c06047': [], '10.1002/adom.201701150_no_2': ['y-CDs'], '10.3390/chemosensors10100383': [], '10.1016/j.snb.2018.10.075': ['CQDs', 'O-CQDs', 'NB-CQDs', 'PB-CQDs']}\n"
     ]
    }
   ],
   "source": [
    "#collecting target materials without amount from annotations\n",
    "targets_ann = {}\n",
    "for para in annotation:\n",
    "    materials = []\n",
    "    for material in para['targets']:\n",
    "        materials.extend(list(material))\n",
    "    targets_ann[para['doi']] = list(set(materials))\n",
    "print(len(targets_ann))\n",
    "print(targets_ann)"
   ]
  },
  {
   "cell_type": "code",
   "execution_count": 6,
   "metadata": {},
   "outputs": [],
   "source": [
    "#Assigning values\n",
    "targets = {}\n",
    "for doi in list(targets_ann.keys()):\n",
    "    pair_list = []\n",
    "    for material in targets_ext[doi]:\n",
    "        if material in targets_ann[doi]:\n",
    "            pair = (material, material)\n",
    "            pair_list.append(pair)\n",
    "        elif material not in targets_ann[doi]:\n",
    "            pair = (material,'')\n",
    "            pair_list.append(pair)\n",
    "    for material in targets_ann[doi]:\n",
    "        if material not in targets_ext[doi]:\n",
    "            pair = ('', material)\n",
    "            pair_list.append(pair)\n",
    "    targets[doi] = pair_list"
   ]
  },
  {
   "cell_type": "code",
   "execution_count": 7,
   "metadata": {},
   "outputs": [
    {
     "name": "stdout",
     "output_type": "stream",
     "text": [
      "30\n",
      "{'10.1007/s10876-022-02339-x': [('CQDs', 'CQDs')], '10.1007/s00216-015-9138-8': [('CNDs', 'CNDs')], '10.1007/s10895-020-02645-5': [('CDs', 'CDs')], '10.1016/j.saa.2020.118580': [('N-CQDs', 'N-CQDs')], '10.1021/acs.jpcc.9b06672': [('N-CQDs', 'N-CQDs'), ('', 'N-CQDs-6h'), ('', 'N-CQDs-9h'), ('', 'N-CQDs-3h'), ('', 'N-CQDs-1h')], '10.1016/j.optmat.2019.05.045': [('CDs', 'CDs')], '10.1080/00032719.2020.1759618_no_1': [('dried eggshell membrane', '')], '10.1038/ncomms6357': [('amine-GQDs', 'amine-GQDs'), ('OH-GQDs', 'OH-GQDs'), ('', 'b-GQDs'), ('', 'y-GQDs'), ('', 'GQDs')], '10.1007/s10570-017-1230-0': [('CNPs', 'CNPs')], '10.1021/acssuschemeng.9b00027_no_2': [('CQDs', 'CQDs')], '10.1021/acsabm.9b00101': [('N—C dots', 'N—C dots')], '10.3390/chemosensors10060219': [('FA-modified cerium-doped carbon-dots (Ce-CDs-FA)', ''), ('Ce-CDs', 'Ce-CDs'), ('Ce-CDs-FA', 'Ce-CDs-FA'), ('cerium-doped carbon-dots', 'cerium-doped carbon-dots')], '10.3390/nano12234166': [('B-CD', 'B-CD')], '10.1002/bio.3407': [('N-CDs', 'N-CDs')], '10.1002/bio.3803': [('C‐dots', 'C‐dots')], '10.3390/molecules27165254': [('PEI-CDs', 'PEI-CDs'), ('', 'PEI-CQDs')], '10.1039/C8NJ02086H': [('C-dots', 'C-dots')], '10.1039/C4TA05483K': [('S-doped C-dots', 'S-doped C-dots')], '10.1039/C6TB00519E': [('N@C-dots', 'N@C-dots')], '10.1080/1536383X.2022.2030315': [('graphene quantum dots', 'graphene quantum dots')], '10.3390/ma15249057': [('N-doped Y-CDs', 'N-doped Y-CDs'), ('', 'Y-CDs')], '10.1021/acsabm.1c00371': [('NCDs', 'NCDs'), ('', 'NCD')], '10.1021/acsami.8b16710': [('Y-CDs', 'Y-CDs')], '10.3390/coatings12091311': [('CQDs', 'CQDs')], '10.1016/j.saa.2022.121139': [('Si-CQDs', 'Si-CQDs')], '10.1002/pssb.201700222': [('g-CDs', 'g-CDs'), ('ca-CDs', 'ca-CDs'), ('', 'carbon dots')], '10.1021/acsomega.2c06047': [('amido black 10b', '')], '10.1002/adom.201701150_no_2': [('y-CDs', 'y-CDs')], '10.3390/chemosensors10100383': [('3-hydroxyphenylboric acid', '')], '10.1016/j.snb.2018.10.075': [('NB-CQDs', 'NB-CQDs'), ('O-CQDs', 'O-CQDs'), ('PB-CQDs', 'PB-CQDs'), ('', 'CQDs')]}\n"
     ]
    }
   ],
   "source": [
    "print(len(targets))\n",
    "print(targets)"
   ]
  },
  {
   "cell_type": "code",
   "execution_count": 8,
   "metadata": {},
   "outputs": [],
   "source": [
    "all_targets_values = {}\n",
    "for doi in list(targets.keys()):\n",
    "    values = []\n",
    "    for pairs in targets[doi]:\n",
    "        if pairs[0] == pairs[1]:\n",
    "            values.append('TP')\n",
    "        elif pairs[0] != pairs[1] and pairs[0] =='':\n",
    "            values.append('FN')\n",
    "        elif pairs[0] != pairs[1] and pairs[1] == '':\n",
    "            values.append('FP')\n",
    "        all_targets_values[doi] = values\n",
    "    if len(targets[doi]) == 0:\n",
    "        values.append('TP')\n",
    "    all_targets_values[doi] = values"
   ]
  },
  {
   "cell_type": "code",
   "execution_count": 9,
   "metadata": {},
   "outputs": [
    {
     "name": "stdout",
     "output_type": "stream",
     "text": [
      "30\n",
      "{'10.1007/s10876-022-02339-x': ['TP'], '10.1007/s00216-015-9138-8': ['TP'], '10.1007/s10895-020-02645-5': ['TP'], '10.1016/j.saa.2020.118580': ['TP'], '10.1021/acs.jpcc.9b06672': ['TP', 'FN', 'FN', 'FN', 'FN'], '10.1016/j.optmat.2019.05.045': ['TP'], '10.1080/00032719.2020.1759618_no_1': ['FP'], '10.1038/ncomms6357': ['TP', 'TP', 'FN', 'FN', 'FN'], '10.1007/s10570-017-1230-0': ['TP'], '10.1021/acssuschemeng.9b00027_no_2': ['TP'], '10.1021/acsabm.9b00101': ['TP'], '10.3390/chemosensors10060219': ['FP', 'TP', 'TP', 'TP'], '10.3390/nano12234166': ['TP'], '10.1002/bio.3407': ['TP'], '10.1002/bio.3803': ['TP'], '10.3390/molecules27165254': ['TP', 'FN'], '10.1039/C8NJ02086H': ['TP'], '10.1039/C4TA05483K': ['TP'], '10.1039/C6TB00519E': ['TP'], '10.1080/1536383X.2022.2030315': ['TP'], '10.3390/ma15249057': ['TP', 'FN'], '10.1021/acsabm.1c00371': ['TP', 'FN'], '10.1021/acsami.8b16710': ['TP'], '10.3390/coatings12091311': ['TP'], '10.1016/j.saa.2022.121139': ['TP'], '10.1002/pssb.201700222': ['TP', 'TP', 'FN'], '10.1021/acsomega.2c06047': ['FP'], '10.1002/adom.201701150_no_2': ['TP'], '10.3390/chemosensors10100383': ['FP'], '10.1016/j.snb.2018.10.075': ['TP', 'TP', 'TP', 'FN']}\n"
     ]
    }
   ],
   "source": [
    "print(len(all_targets_values))\n",
    "print(all_targets_values)"
   ]
  },
  {
   "cell_type": "code",
   "execution_count": 10,
   "metadata": {},
   "outputs": [
    {
     "name": "stdout",
     "output_type": "stream",
     "text": [
      "['TP', 'TP', 'TP', 'TP', 'TP', 'FN', 'FN', 'FN', 'FN', 'TP', 'FP', 'TP', 'TP', 'FN', 'FN', 'FN', 'TP', 'TP', 'TP', 'FP', 'TP', 'TP', 'TP', 'TP', 'TP', 'TP', 'TP', 'FN', 'TP', 'TP', 'TP', 'TP', 'TP', 'FN', 'TP', 'FN', 'TP', 'TP', 'TP', 'TP', 'TP', 'FN', 'FP', 'TP', 'FP', 'TP', 'TP', 'TP', 'FN']\n"
     ]
    }
   ],
   "source": [
    "all_values_combine = []\n",
    "for values in all_targets_values.values():\n",
    "    all_values_combine.extend(values)\n",
    "print(all_values_combine)"
   ]
  },
  {
   "cell_type": "code",
   "execution_count": 11,
   "metadata": {},
   "outputs": [
    {
     "name": "stdout",
     "output_type": "stream",
     "text": [
      "The precision is: 0.89\n",
      "The recall is: 0.73\n",
      "The F1 score is: 0.80\n"
     ]
    }
   ],
   "source": [
    "TP = all_values_combine.count('TP')\n",
    "FP = all_values_combine.count('FP')\n",
    "FN = all_values_combine.count('FN')\n",
    "precision = TP / (TP+FP)\n",
    "recall = TP / (TP+FN)\n",
    "F1 = (2*precision*recall)/(precision+recall)\n",
    "print(f'The precision is: {precision:.2f}')\n",
    "print(f'The recall is: {recall:.2f}')\n",
    "print(f'The F1 score is: {F1:.2f}')"
   ]
  },
  {
   "cell_type": "markdown",
   "metadata": {},
   "source": [
    "## Analysis of precursor material extraction"
   ]
  },
  {
   "cell_type": "code",
   "execution_count": 64,
   "metadata": {},
   "outputs": [
    {
     "name": "stdout",
     "output_type": "stream",
     "text": [
      "30\n",
      "{'10.1007/s10876-022-02339-x': ['distilled water', 'O. basilicum L.'], '10.1007/s00216-015-9138-8': ['glycine', 'PVP'], '10.1007/s10895-020-02645-5': ['E.A'], '10.1016/j.saa.2020.118580': ['CA', 'diethylenetriamine'], '10.1021/acs.jpcc.9b06672': ['CA', 'EDA'], '10.1016/j.optmat.2019.05.045': ['4-aminophenol'], '10.1080/00032719.2020.1759618_no_1': ['eggshell membrane'], '10.1038/ncomms6357': ['deionized water', 'ammonia', 'pyrene', 'sodium salt', 'hydrazine hydrate', 'HNO3', 'water-soluble GQDs', '1,3,6-trinitropyrene', 'NaOH'], '10.1007/s10570-017-1230-0': ['sodium hydroxide', 'citric acid', 'tributyl phosphate', 'urea', 'hexadecyl trimethyl ammonium bromide'], '10.1021/acssuschemeng.9b00027_no_2': ['H2O2', 'deionized water', 'NaOH solution', 'glucose', 'HCl solution'], '10.1021/acsabm.9b00101': ['ammonia solution', 'sucrose'], '10.3390/chemosensors10060219': ['Ce(Ac)3', 'PVP-K30', 'FA'], '10.3390/nano12234166': ['deionized water', 'Glucose', 'ethanol'], '10.1002/bio.3407': ['O-phenylenediamine', 'dicyandiamide'], '10.1002/bio.3803': ['citric acid', 'l‐histidine'], '10.3390/molecules27165254': ['ultra-pure water', 'glycol', 'phosphoric acid', 'PEI'], '10.1039/C8NJ02086H': ['ethylenediamine', 'methionine'], '10.1039/C4TA05483K': ['sodium citrate', 'sodium thiosulfate'], '10.1039/C6TB00519E': ['BSA'], '10.1080/1536383X.2022.2030315': ['glucose'], '10.3390/ma15249057': ['urea', 'L-tartaric acid', 'DMF'], '10.1021/acsabm.1c00371': ['3,6-diaminoacridine', '-aspartic acid'], '10.1021/acsami.8b16710': ['GABA', 'o-PD'], '10.3390/coatings12091311': ['urea', 'lactic acid'], '10.1016/j.saa.2022.121139': ['sulfuric acid', '3-aminopropyltrimethoxysilane'], '10.1002/pssb.201700222': ['glucose', 'citric acid'], '10.1021/acsomega.2c06047': ['sodium hydroxide', 'amido black 10b'], '10.1002/adom.201701150_no_2': ['yeast'], '10.3390/chemosensors10100383': ['3-hydroxyphenylboric acid', 'NaOH'], '10.1016/j.snb.2018.10.075': ['CA', 'p-phenylenediamine', 'borax']}\n"
     ]
    }
   ],
   "source": [
    "#collecting precursor materials from extraction\n",
    "precursors_ext = {}\n",
    "for entry in extractions:\n",
    "    precursors_ext[entry['DOI']] = entry['precursor_materials']\n",
    "print(len(precursors_ext))\n",
    "print(precursors_ext)"
   ]
  },
  {
   "cell_type": "code",
   "execution_count": 65,
   "metadata": {},
   "outputs": [
    {
     "name": "stdout",
     "output_type": "stream",
     "text": [
      "30\n",
      "{'10.1007/s10876-022-02339-x': ['O. basilicum L.'], '10.1007/s00216-015-9138-8': ['glycine', 'PVP'], '10.1007/s10895-020-02645-5': ['E.A'], '10.1016/j.saa.2020.118580': ['diethylenetriamine', 'CA'], '10.1021/acs.jpcc.9b06672': ['EDA', 'CA'], '10.1016/j.optmat.2019.05.045': ['4-aminophenol'], '10.1080/00032719.2020.1759618_no_1': ['eggshell membrane'], '10.1038/ncomms6357': ['1,3,6-trinitropyrene', 'ammonia', 'hydrazine hydrate'], '10.1007/s10570-017-1230-0': ['urea', 'citric acid'], '10.1021/acssuschemeng.9b00027_no_2': ['glucose'], '10.1021/acsabm.9b00101': ['carbon powder', 'sucrose'], '10.3390/chemosensors10060219': ['FA', 'PVP-K30', 'Ce(Ac)3'], '10.3390/nano12234166': ['Glucose'], '10.1002/bio.3407': ['O-phenylenediamine', 'dicyandiamide'], '10.1002/bio.3803': ['l‐histidine', 'citric acid'], '10.3390/molecules27165254': ['glycol', 'phosphoric acid', 'PEI'], '10.1039/C8NJ02086H': ['methionine', 'ethylenediamine'], '10.1039/C4TA05483K': ['sodium citrate', 'sodium thiosulfate'], '10.1039/C6TB00519E': ['BSA'], '10.1080/1536383X.2022.2030315': ['glucose'], '10.3390/ma15249057': ['DMF', 'L-tartaric acid', 'urea'], '10.1021/acsabm.1c00371': ['-aspartic acid', '3,6-diaminoacridine'], '10.1021/acsami.8b16710': ['o-PD', 'GABA'], '10.3390/coatings12091311': ['urea', 'lactic acid'], '10.1016/j.saa.2022.121139': ['sulfuric acid', '3-aminopropyltrimethoxysilane'], '10.1002/pssb.201700222': ['ammonia', 'glucose', 'citric acid'], '10.1021/acsomega.2c06047': ['amido black 10b', 'sodium hydroxide'], '10.1002/adom.201701150_no_2': ['yeast'], '10.3390/chemosensors10100383': ['3-hydroxyphenylboric acid', 'NaOH'], '10.1016/j.snb.2018.10.075': ['borax', 'p-phenylenediamine', 'CA']}\n"
     ]
    }
   ],
   "source": [
    "#collecting precursor materials without amount from annotations\n",
    "precursors_ann = {}\n",
    "for para in annotation:\n",
    "    materials = []\n",
    "    for material in para['precursors']:\n",
    "        materials.extend(list(material))\n",
    "    precursors_ann[para['doi']] = list(set(materials))\n",
    "print(len(precursors_ann))\n",
    "print(precursors_ann)"
   ]
  },
  {
   "cell_type": "code",
   "execution_count": 66,
   "metadata": {},
   "outputs": [],
   "source": [
    "#Assigning values\n",
    "precursors = {}\n",
    "for doi in list(precursors_ann.keys()):\n",
    "    pair_list = []\n",
    "    for material in precursors_ext[doi]:\n",
    "        if material in precursors_ann[doi]:\n",
    "            pair = (material, material)\n",
    "            pair_list.append(pair)\n",
    "        elif material not in precursors_ann[doi]:\n",
    "            pair = (material,'')\n",
    "            pair_list.append(pair)\n",
    "    for material in precursors_ann[doi]:\n",
    "        if material not in precursors_ext[doi]:\n",
    "            pair = ('', material)\n",
    "            pair_list.append(pair)\n",
    "    precursors[doi] = pair_list"
   ]
  },
  {
   "cell_type": "code",
   "execution_count": 67,
   "metadata": {},
   "outputs": [
    {
     "name": "stdout",
     "output_type": "stream",
     "text": [
      "30\n",
      "{'10.1007/s10876-022-02339-x': [('distilled water', ''), ('O. basilicum L.', 'O. basilicum L.')], '10.1007/s00216-015-9138-8': [('glycine', 'glycine'), ('PVP', 'PVP')], '10.1007/s10895-020-02645-5': [('E.A', 'E.A')], '10.1016/j.saa.2020.118580': [('CA', 'CA'), ('diethylenetriamine', 'diethylenetriamine')], '10.1021/acs.jpcc.9b06672': [('CA', 'CA'), ('EDA', 'EDA')], '10.1016/j.optmat.2019.05.045': [('4-aminophenol', '4-aminophenol')], '10.1080/00032719.2020.1759618_no_1': [('eggshell membrane', 'eggshell membrane')], '10.1038/ncomms6357': [('deionized water', ''), ('ammonia', 'ammonia'), ('pyrene', ''), ('sodium salt', ''), ('hydrazine hydrate', 'hydrazine hydrate'), ('HNO3', ''), ('water-soluble GQDs', ''), ('1,3,6-trinitropyrene', '1,3,6-trinitropyrene'), ('NaOH', '')], '10.1007/s10570-017-1230-0': [('sodium hydroxide', ''), ('citric acid', 'citric acid'), ('tributyl phosphate', ''), ('urea', 'urea'), ('hexadecyl trimethyl ammonium bromide', '')], '10.1021/acssuschemeng.9b00027_no_2': [('H2O2', ''), ('deionized water', ''), ('NaOH solution', ''), ('glucose', 'glucose'), ('HCl solution', '')], '10.1021/acsabm.9b00101': [('ammonia solution', ''), ('sucrose', 'sucrose'), ('', 'carbon powder')], '10.3390/chemosensors10060219': [('Ce(Ac)3', 'Ce(Ac)3'), ('PVP-K30', 'PVP-K30'), ('FA', 'FA')], '10.3390/nano12234166': [('deionized water', ''), ('Glucose', 'Glucose'), ('ethanol', '')], '10.1002/bio.3407': [('O-phenylenediamine', 'O-phenylenediamine'), ('dicyandiamide', 'dicyandiamide')], '10.1002/bio.3803': [('citric acid', 'citric acid'), ('l‐histidine', 'l‐histidine')], '10.3390/molecules27165254': [('ultra-pure water', ''), ('glycol', 'glycol'), ('phosphoric acid', 'phosphoric acid'), ('PEI', 'PEI')], '10.1039/C8NJ02086H': [('ethylenediamine', 'ethylenediamine'), ('methionine', 'methionine')], '10.1039/C4TA05483K': [('sodium citrate', 'sodium citrate'), ('sodium thiosulfate', 'sodium thiosulfate')], '10.1039/C6TB00519E': [('BSA', 'BSA')], '10.1080/1536383X.2022.2030315': [('glucose', 'glucose')], '10.3390/ma15249057': [('urea', 'urea'), ('L-tartaric acid', 'L-tartaric acid'), ('DMF', 'DMF')], '10.1021/acsabm.1c00371': [('3,6-diaminoacridine', '3,6-diaminoacridine'), ('-aspartic acid', '-aspartic acid')], '10.1021/acsami.8b16710': [('GABA', 'GABA'), ('o-PD', 'o-PD')], '10.3390/coatings12091311': [('urea', 'urea'), ('lactic acid', 'lactic acid')], '10.1016/j.saa.2022.121139': [('sulfuric acid', 'sulfuric acid'), ('3-aminopropyltrimethoxysilane', '3-aminopropyltrimethoxysilane')], '10.1002/pssb.201700222': [('glucose', 'glucose'), ('citric acid', 'citric acid'), ('', 'ammonia')], '10.1021/acsomega.2c06047': [('sodium hydroxide', 'sodium hydroxide'), ('amido black 10b', 'amido black 10b')], '10.1002/adom.201701150_no_2': [('yeast', 'yeast')], '10.3390/chemosensors10100383': [('3-hydroxyphenylboric acid', '3-hydroxyphenylboric acid'), ('NaOH', 'NaOH')], '10.1016/j.snb.2018.10.075': [('CA', 'CA'), ('p-phenylenediamine', 'p-phenylenediamine'), ('borax', 'borax')]}\n"
     ]
    }
   ],
   "source": [
    "print(len(precursors))\n",
    "print(precursors)"
   ]
  },
  {
   "cell_type": "code",
   "execution_count": 68,
   "metadata": {},
   "outputs": [],
   "source": [
    "all_precursor_values = {}\n",
    "for doi in list(precursors.keys()):\n",
    "    values = []\n",
    "    for pairs in precursors[doi]:\n",
    "        if pairs[0] == pairs[1]:\n",
    "            values.append('TP')\n",
    "        elif pairs[0] != pairs[1] and pairs[0] =='':\n",
    "            values.append('FN')\n",
    "        elif pairs[0] != pairs[1] and pairs[1] == '':\n",
    "            values.append('FP')\n",
    "        all_precursor_values[doi] = values"
   ]
  },
  {
   "cell_type": "code",
   "execution_count": 69,
   "metadata": {},
   "outputs": [
    {
     "name": "stdout",
     "output_type": "stream",
     "text": [
      "30\n",
      "{'10.1007/s10876-022-02339-x': ['FP', 'TP'], '10.1007/s00216-015-9138-8': ['TP', 'TP'], '10.1007/s10895-020-02645-5': ['TP'], '10.1016/j.saa.2020.118580': ['TP', 'TP'], '10.1021/acs.jpcc.9b06672': ['TP', 'TP'], '10.1016/j.optmat.2019.05.045': ['TP'], '10.1080/00032719.2020.1759618_no_1': ['TP'], '10.1038/ncomms6357': ['FP', 'TP', 'FP', 'FP', 'TP', 'FP', 'FP', 'TP', 'FP'], '10.1007/s10570-017-1230-0': ['FP', 'TP', 'FP', 'TP', 'FP'], '10.1021/acssuschemeng.9b00027_no_2': ['FP', 'FP', 'FP', 'TP', 'FP'], '10.1021/acsabm.9b00101': ['FP', 'TP', 'FN'], '10.3390/chemosensors10060219': ['TP', 'TP', 'TP'], '10.3390/nano12234166': ['FP', 'TP', 'FP'], '10.1002/bio.3407': ['TP', 'TP'], '10.1002/bio.3803': ['TP', 'TP'], '10.3390/molecules27165254': ['FP', 'TP', 'TP', 'TP'], '10.1039/C8NJ02086H': ['TP', 'TP'], '10.1039/C4TA05483K': ['TP', 'TP'], '10.1039/C6TB00519E': ['TP'], '10.1080/1536383X.2022.2030315': ['TP'], '10.3390/ma15249057': ['TP', 'TP', 'TP'], '10.1021/acsabm.1c00371': ['TP', 'TP'], '10.1021/acsami.8b16710': ['TP', 'TP'], '10.3390/coatings12091311': ['TP', 'TP'], '10.1016/j.saa.2022.121139': ['TP', 'TP'], '10.1002/pssb.201700222': ['TP', 'TP', 'FN'], '10.1021/acsomega.2c06047': ['TP', 'TP'], '10.1002/adom.201701150_no_2': ['TP'], '10.3390/chemosensors10100383': ['TP', 'TP'], '10.1016/j.snb.2018.10.075': ['TP', 'TP', 'TP']}\n"
     ]
    }
   ],
   "source": [
    "print(len(all_precursor_values))\n",
    "print(all_precursor_values)"
   ]
  },
  {
   "cell_type": "code",
   "execution_count": 70,
   "metadata": {},
   "outputs": [
    {
     "name": "stdout",
     "output_type": "stream",
     "text": [
      "['FP', 'TP', 'TP', 'TP', 'TP', 'TP', 'TP', 'TP', 'TP', 'TP', 'TP', 'FP', 'TP', 'FP', 'FP', 'TP', 'FP', 'FP', 'TP', 'FP', 'FP', 'TP', 'FP', 'TP', 'FP', 'FP', 'FP', 'FP', 'TP', 'FP', 'FP', 'TP', 'FN', 'TP', 'TP', 'TP', 'FP', 'TP', 'FP', 'TP', 'TP', 'TP', 'TP', 'FP', 'TP', 'TP', 'TP', 'TP', 'TP', 'TP', 'TP', 'TP', 'TP', 'TP', 'TP', 'TP', 'TP', 'TP', 'TP', 'TP', 'TP', 'TP', 'TP', 'TP', 'TP', 'TP', 'FN', 'TP', 'TP', 'TP', 'TP', 'TP', 'TP', 'TP', 'TP']\n"
     ]
    }
   ],
   "source": [
    "all_values_combine = []\n",
    "for values in all_precursor_values.values():\n",
    "    all_values_combine.extend(values)\n",
    "print(all_values_combine)"
   ]
  },
  {
   "cell_type": "code",
   "execution_count": 71,
   "metadata": {},
   "outputs": [
    {
     "name": "stdout",
     "output_type": "stream",
     "text": [
      "The precision is: 0.75\n",
      "The recall is: 0.96\n",
      "The F1 score is: 0.85\n"
     ]
    }
   ],
   "source": [
    "TP = all_values_combine.count('TP')\n",
    "FP = all_values_combine.count('FP')\n",
    "FN = all_values_combine.count('FN')\n",
    "precision = TP / (TP+FP)\n",
    "recall = TP / (TP+FN)\n",
    "F1 = (2*precision*recall)/(precision+recall)\n",
    "print(f'The precision is: {precision:.2f}')\n",
    "print(f'The recall is: {recall:.2f}')\n",
    "print(f'The F1 score is: {F1:.2f}')"
   ]
  },
  {
   "cell_type": "markdown",
   "metadata": {},
   "source": [
    "## Analysis of reaction time and temp extraction"
   ]
  },
  {
   "cell_type": "code",
   "execution_count": 77,
   "metadata": {},
   "outputs": [
    {
     "name": "stdout",
     "output_type": "stream",
     "text": [
      "30\n"
     ]
    },
    {
     "data": {
      "text/plain": [
       "{'10.1007/s10876-022-02339-x': {'temp': [180], 'time': [4]},\n",
       " '10.1007/s00216-015-9138-8': {'temp': [300], 'time': [2]},\n",
       " '10.1007/s10895-020-02645-5': {'temp': [180], 'time': [12]},\n",
       " '10.1016/j.saa.2020.118580': {'temp': [180], 'time': [10]},\n",
       " '10.1021/acs.jpcc.9b06672': {'temp': [180, 1, 3, 6, 9], 'time': [1, 3, 6, 9]},\n",
       " '10.1016/j.optmat.2019.05.045': {'temp': [200], 'time': [20, 1]},\n",
       " '10.1080/00032719.2020.1759618_no_1': {'temp': [180], 'time': [8]},\n",
       " '10.1038/ncomms6357': {'temp': [200], 'time': [10]},\n",
       " '10.1007/s10570-017-1230-0': {'temp': [150], 'time': [3]},\n",
       " '10.1021/acssuschemeng.9b00027_no_2': {'temp': [80], 'time': [8]},\n",
       " '10.1021/acsabm.9b00101': {'temp': [180], 'time': [6]},\n",
       " '10.3390/chemosensors10060219': {'temp': [160, 60], 'time': [24]},\n",
       " '10.3390/nano12234166': {'temp': [180], 'time': [8]},\n",
       " '10.1002/bio.3407': {'temp': [180], 'time': [3]},\n",
       " '10.1002/bio.3803': {'temp': [], 'time': [5]},\n",
       " '10.3390/molecules27165254': {'temp': [180], 'time': [24]},\n",
       " '10.1039/C8NJ02086H': {'temp': [200], 'time': [5]},\n",
       " '10.1039/C4TA05483K': {'temp': [160, 180, 200, 220, 240], 'time': [6]},\n",
       " '10.1039/C6TB00519E': {'temp': [200], 'time': [6]},\n",
       " '10.1080/1536383X.2022.2030315': {'temp': [180], 'time': [3]},\n",
       " '10.3390/ma15249057': {'temp': [180], 'time': [4]},\n",
       " '10.1021/acsabm.1c00371': {'temp': [150, 170, 180], 'time': [2, 5, 6]},\n",
       " '10.1021/acsami.8b16710': {'temp': [160], 'time': [8]},\n",
       " '10.3390/coatings12091311': {'temp': [140, 220], 'time': []},\n",
       " '10.1016/j.saa.2022.121139': {'temp': [190], 'time': [9]},\n",
       " '10.1002/pssb.201700222': {'temp': [200], 'time': [4]},\n",
       " '10.1021/acsomega.2c06047': {'temp': [240], 'time': [24]},\n",
       " '10.1002/adom.201701150_no_2': {'temp': [], 'time': []},\n",
       " '10.3390/chemosensors10100383': {'temp': [160], 'time': [8]},\n",
       " '10.1016/j.snb.2018.10.075': {'temp': [180], 'time': [5]}}"
      ]
     },
     "execution_count": 77,
     "metadata": {},
     "output_type": "execute_result"
    }
   ],
   "source": [
    "#collecting time and temp from extraction\n",
    "temp_time_ext = {}\n",
    "for entry in extractions:\n",
    "    temp_time_ext[entry['DOI']] = {}\n",
    "    temps = entry['temp_values']['values']\n",
    "    times = entry['time_values']['values']\n",
    "    temp_time_ext[entry['DOI']].update({'temp':temps, 'time':times})\n",
    "print(len(temp_time_ext))\n",
    "temp_time_ext"
   ]
  },
  {
   "cell_type": "code",
   "execution_count": 78,
   "metadata": {},
   "outputs": [
    {
     "name": "stdout",
     "output_type": "stream",
     "text": [
      "30\n"
     ]
    },
    {
     "data": {
      "text/plain": [
       "{'10.1007/s10876-022-02339-x': {'temp': [180], 'time': [4]},\n",
       " '10.1007/s00216-015-9138-8': {'temp': [300], 'time': [2]},\n",
       " '10.1007/s10895-020-02645-5': {'temp': [180], 'time': [12]},\n",
       " '10.1016/j.saa.2020.118580': {'temp': [180], 'time': [10]},\n",
       " '10.1021/acs.jpcc.9b06672': {'temp': [180], 'time': [3, 1, 9, 6]},\n",
       " '10.1016/j.optmat.2019.05.045': {'temp': [200], 'time': [20]},\n",
       " '10.1080/00032719.2020.1759618_no_1': {'temp': [180], 'time': [8]},\n",
       " '10.1038/ncomms6357': {'temp': [200], 'time': [10]},\n",
       " '10.1007/s10570-017-1230-0': {'temp': [150], 'time': [3]},\n",
       " '10.1021/acssuschemeng.9b00027_no_2': {'temp': [], 'time': []},\n",
       " '10.1021/acsabm.9b00101': {'temp': [180], 'time': [6]},\n",
       " '10.3390/chemosensors10060219': {'temp': [160], 'time': [24]},\n",
       " '10.3390/nano12234166': {'temp': [180], 'time': [8]},\n",
       " '10.1002/bio.3407': {'temp': [180], 'time': [3]},\n",
       " '10.1002/bio.3803': {'temp': [200], 'time': [5]},\n",
       " '10.3390/molecules27165254': {'temp': [180], 'time': [24]},\n",
       " '10.1039/C8NJ02086H': {'temp': [200], 'time': [5]},\n",
       " '10.1039/C4TA05483K': {'temp': [160, 220, 240, 180, 200], 'time': [6]},\n",
       " '10.1039/C6TB00519E': {'temp': [200], 'time': [6]},\n",
       " '10.1080/1536383X.2022.2030315': {'temp': [180], 'time': [3]},\n",
       " '10.3390/ma15249057': {'temp': [180], 'time': [4]},\n",
       " '10.1021/acsabm.1c00371': {'temp': [170, 180, 150], 'time': [5, 2, 6]},\n",
       " '10.1021/acsami.8b16710': {'temp': [160], 'time': [8]},\n",
       " '10.3390/coatings12091311': {'temp': [140, 220], 'time': [3, 24]},\n",
       " '10.1016/j.saa.2022.121139': {'temp': [190], 'time': [9]},\n",
       " '10.1002/pssb.201700222': {'temp': [200], 'time': [4]},\n",
       " '10.1021/acsomega.2c06047': {'temp': [240], 'time': [24]},\n",
       " '10.1002/adom.201701150_no_2': {'temp': [], 'time': []},\n",
       " '10.3390/chemosensors10100383': {'temp': [160], 'time': [8]},\n",
       " '10.1016/j.snb.2018.10.075': {'temp': [180], 'time': [5]}}"
      ]
     },
     "execution_count": 78,
     "metadata": {},
     "output_type": "execute_result"
    }
   ],
   "source": [
    "#Collecting reaction time and temp from annotations\n",
    "temp_time_ann = {}\n",
    "for para in annotation:\n",
    "    temp_time_ann[para['doi']] = {}\n",
    "    if not para['temp_values']:\n",
    "        temps = []\n",
    "    if not para['time_values']:\n",
    "        times = []\n",
    "    if para['temp_values']:\n",
    "        temps = para['temp_values']['values']\n",
    "    if para['time_values']:\n",
    "        times = para['time_values']['values']\n",
    "    temp_time_ann[para['doi']].update({'temp':temps, 'time':times})\n",
    "print(len(temp_time_ann))\n",
    "temp_time_ann"
   ]
  },
  {
   "cell_type": "code",
   "execution_count": 79,
   "metadata": {},
   "outputs": [
    {
     "name": "stdout",
     "output_type": "stream",
     "text": [
      "30\n",
      "{'10.1007/s10876-022-02339-x': ['TP'], '10.1007/s00216-015-9138-8': ['TP'], '10.1007/s10895-020-02645-5': ['TP'], '10.1016/j.saa.2020.118580': ['TP'], '10.1021/acs.jpcc.9b06672': ['TP', 'FP', 'FP', 'FP', 'FP'], '10.1016/j.optmat.2019.05.045': ['TP'], '10.1080/00032719.2020.1759618_no_1': ['TP'], '10.1038/ncomms6357': ['TP'], '10.1007/s10570-017-1230-0': ['TP'], '10.1021/acssuschemeng.9b00027_no_2': ['FP'], '10.1021/acsabm.9b00101': ['TP'], '10.3390/chemosensors10060219': ['TP', 'FP'], '10.3390/nano12234166': ['TP'], '10.1002/bio.3407': ['TP'], '10.1002/bio.3803': ['FN'], '10.3390/molecules27165254': ['TP'], '10.1039/C8NJ02086H': ['TP'], '10.1039/C4TA05483K': ['TP', 'TP', 'TP', 'TP', 'TP'], '10.1039/C6TB00519E': ['TP'], '10.1080/1536383X.2022.2030315': ['TP'], '10.3390/ma15249057': ['TP'], '10.1021/acsabm.1c00371': ['TP', 'TP', 'TP'], '10.1021/acsami.8b16710': ['TP'], '10.3390/coatings12091311': ['TP', 'TP'], '10.1016/j.saa.2022.121139': ['TP'], '10.1002/pssb.201700222': ['TP'], '10.1021/acsomega.2c06047': ['TP'], '10.1002/adom.201701150_no_2': ['TP'], '10.3390/chemosensors10100383': ['TP'], '10.1016/j.snb.2018.10.075': ['TP']}\n",
      "30\n",
      "{'10.1007/s10876-022-02339-x': ['TP'], '10.1007/s00216-015-9138-8': ['TP'], '10.1007/s10895-020-02645-5': ['TP'], '10.1016/j.saa.2020.118580': ['TP'], '10.1021/acs.jpcc.9b06672': ['TP', 'TP', 'TP', 'TP'], '10.1016/j.optmat.2019.05.045': ['TP', 'FP'], '10.1080/00032719.2020.1759618_no_1': ['TP'], '10.1038/ncomms6357': ['TP'], '10.1007/s10570-017-1230-0': ['TP'], '10.1021/acssuschemeng.9b00027_no_2': ['FP'], '10.1021/acsabm.9b00101': ['TP'], '10.3390/chemosensors10060219': ['TP'], '10.3390/nano12234166': ['TP'], '10.1002/bio.3407': ['TP'], '10.1002/bio.3803': ['TP'], '10.3390/molecules27165254': ['TP'], '10.1039/C8NJ02086H': ['TP'], '10.1039/C4TA05483K': ['TP'], '10.1039/C6TB00519E': ['TP'], '10.1080/1536383X.2022.2030315': ['TP'], '10.3390/ma15249057': ['TP'], '10.1021/acsabm.1c00371': ['TP', 'TP', 'TP'], '10.1021/acsami.8b16710': ['TP'], '10.3390/coatings12091311': ['FN', 'FN'], '10.1016/j.saa.2022.121139': ['TP'], '10.1002/pssb.201700222': ['TP'], '10.1021/acsomega.2c06047': ['TP'], '10.1002/adom.201701150_no_2': ['TP'], '10.3390/chemosensors10100383': ['TP'], '10.1016/j.snb.2018.10.075': ['TP']}\n"
     ]
    }
   ],
   "source": [
    "#Assigning values\n",
    "temp_val = {}\n",
    "time_val = {}\n",
    "for doi in list(temp_time_ann.keys()):\n",
    "    temps_tags = []\n",
    "    times_tags =[]\n",
    "    for value in temp_time_ann[doi]['temp']:\n",
    "        if value in temp_time_ext[doi]['temp']:\n",
    "            temps_tags.append('TP')\n",
    "        if value not in temp_time_ext[doi]['temp']:\n",
    "            temps_tags.append('FN')\n",
    "    for value in temp_time_ann[doi]['time']:\n",
    "        if value in temp_time_ext[doi]['time']:\n",
    "            times_tags.append('TP')\n",
    "        if value not in temp_time_ext[doi]['time']:\n",
    "            times_tags.append('FN')\n",
    "    for value in temp_time_ext[doi]['temp']:\n",
    "        if value not in temp_time_ann[doi]['temp']:\n",
    "            temps_tags.append('FP')\n",
    "    for value in temp_time_ext[doi]['time']:\n",
    "        if value not in temp_time_ann[doi]['time']:\n",
    "            times_tags.append('FP')\n",
    "    if len(temp_time_ext[doi]['time']) == 0 and len(temp_time_ann[doi]['time']) == 0:\n",
    "        times_tags.append('TP')\n",
    "    if len(temp_time_ext[doi]['temp']) == 0 and len(temp_time_ann[doi]['temp']) == 0:\n",
    "        temps_tags.append('TP')\n",
    "    temp_val.update({doi:temps_tags})\n",
    "    time_val.update({doi:times_tags})\n",
    "\n",
    "print(len(temp_val))\n",
    "print(temp_val)\n",
    "\n",
    "print(len(time_val))\n",
    "print(time_val)"
   ]
  },
  {
   "cell_type": "code",
   "execution_count": 80,
   "metadata": {},
   "outputs": [
    {
     "name": "stdout",
     "output_type": "stream",
     "text": [
      "The temp precision is: 0.85\n",
      "The temp recall is: 0.97\n",
      "The temp F1 score is: 0.91\n",
      "The time precision is: 0.94\n",
      "The time recall is: 0.94\n",
      "The time F1 score is: 0.94\n"
     ]
    }
   ],
   "source": [
    "#Combining values\n",
    "all_temp_val = []\n",
    "all_time_val = []\n",
    "for doi in list(temp_val.keys()):\n",
    "    all_temp_val.extend(temp_val[doi])\n",
    "for doi in list(time_val.keys()):\n",
    "    all_time_val.extend(time_val[doi])\n",
    "\n",
    "TP_time = all_time_val.count('TP')\n",
    "FP_time = all_time_val.count('FP')\n",
    "FN_time = all_time_val.count('FN')\n",
    "TP_temp = all_temp_val.count('TP')\n",
    "FP_temp = all_temp_val.count('FP')\n",
    "FN_temp = all_temp_val.count('FN')\n",
    "precision_temp = TP_temp / (TP_temp+FP_temp)\n",
    "recall_temp = TP_temp / (TP_temp+FN_temp)\n",
    "F1_temp = (2*precision_temp*recall_temp)/(precision_temp+recall_temp)\n",
    "print(f'The temp precision is: {precision_temp:.2f}')\n",
    "print(f'The temp recall is: {recall_temp:.2f}')\n",
    "print(f'The temp F1 score is: {F1_temp:.2f}')\n",
    "precision_time = TP_time / (TP_time+FP_time)\n",
    "recall_time = TP_time / (TP_time+FN_time)\n",
    "F1_time = (2*precision_time*recall_time)/(precision_time+recall_time)\n",
    "print(f'The time precision is: {precision_time:.2f}')\n",
    "print(f'The time recall is: {recall_time:.2f}')\n",
    "print(f'The time F1 score is: {F1_time:.2f}')"
   ]
  },
  {
   "cell_type": "markdown",
   "metadata": {},
   "source": [
    "## Analysis of QY extraction"
   ]
  },
  {
   "cell_type": "code",
   "execution_count": 88,
   "metadata": {},
   "outputs": [],
   "source": [
    "#importing files\n",
    "path = r'C:\\Users\\Piotr\\OneDrive - Imperial College London\\MRes_project_data\\ceder_extract_data'\n",
    "file = 'QY_test2_extraction_cleaned.json'\n",
    "path_ann = r'C:\\Users\\Piotr\\OneDrive - Imperial College London\\MRes_project_data\\annotations'\n",
    "file_ann = 'QY_test2.json'\n",
    "\n",
    "with open(os.path.join(path, file), 'r') as f:\n",
    "    qy_extractions = json.load(f)\n",
    "\n",
    "with open(os.path.join(path_ann, file_ann), 'r') as f:\n",
    "    qy_annotations = json.load(f)\n",
    "    "
   ]
  },
  {
   "cell_type": "code",
   "execution_count": 94,
   "metadata": {},
   "outputs": [
    {
     "name": "stdout",
     "output_type": "stream",
     "text": [
      "103\n",
      "{'10.1016/j.saa.2022.121139': [34.8], '10.1016/j.saa.2020.118580': [84.79], '10.1016/j.materresbull.2017.01.013': [41.3], '10.1016/j.dyepig.2020.108761': [9.44, 7.25], '10.1016/j.mtchem.2021.100755_no_0': [], '10.1016/j.mtchem.2021.100755_no_1': [], '10.1016/j.mtchem.2021.100755_no_2': [8.9], '10.1016/j.mtchem.2021.100755_no_3': [], '10.1016/j.mtchem.2021.100755_no_4': [], '10.1016/j.mtchem.2021.100755_no_5': [], '10.1016/j.mtchem.2021.100755_no_6': [], '10.1016/j.mtchem.2021.100755_no_7': [], '10.1016/j.mtchem.2021.100755_no_8': [], '10.1016/j.mtchem.2021.100755_no_9': [], '10.1016/j.mtchem.2021.100755_no_10': [5.9, 6.7], '10.1016/j.mtchem.2021.100755_no_11': [77.4, 59.1], '10.1016/j.mtchem.2021.100755_no_12': [], '10.1016/j.mtchem.2021.100755_no_13': [], '10.1016/j.dyepig.2022.110886': [21.3, 23.7, 23.0, 23.2, 5.76, 28.9, 6.32, 21.5, 28.3, 33.8, 30.9, 31.4, 12.3, 2.07], '10.1039/C8AY00441B_no_0': [41.4], '10.1039/C8AY00441B_no_1': [41.4], '10.1039/C8NJ01639A': [2.46], '10.1039/C3AN01003A_no_0': [], '10.1039/C3AN01003A_no_1': [19.3], '10.1039/C4TA05483K_no_0': [], '10.1039/C4TA05483K_no_1': [54.0, 67.0], '10.1039/C8NJ02086H': [37.76, 62.24, 6.77], '10.1039/C5RA14720D': [], '10.1039/C4AY02737J': [7.6], '10.1039/C6TB00519E_no_0': [44.0], '10.1039/C6TB00519E_no_1': [44.0], '10.1039/D2GC04177D': [14.6, 16.0], '10.1021/acsomega.2c06047': [24.1], '10.1021/acsomega.0c03290': [17.98], '10.1021/acssuschemeng.9b00027': [5.06, 17.88, 5.39, 17.88, 22.67], '10.1021/acs.jpcc.9b06672_no_0': [97.4, 80.6, 86.0], '10.1021/acs.jpcc.9b06672_no_1': [], '10.1021/acsabm.1c00371_no_0': [22.7], '10.1021/acsabm.1c00371_no_1': [0.227], '10.1021/ie402421s': [36.0], '10.1021/acs.langmuir.6b04225_no_0': [], '10.1021/acs.langmuir.6b04225_no_1': [], '10.1021/acsanm.9b01446': [64.5], '10.1021/acsabm.9b00101': [10.72], '10.1021/acsami.8b16710': [22.6], '10.1002/adom.201701150': [], '10.1002/bio.3794': [0.68], '10.1002/slct.202202223_no_0': [26.03], '10.1002/slct.202202223_no_1': [26.03], '10.1002/slct.202202223_no_2': [], '10.1002/adma.202201031': [41.0], '10.1002/pssb.201700222_no_0': [], '10.1002/pssb.201700222_no_1': [], '10.1002/bio.3407': [0.19], '10.1002/smll.201703919_no_0': [], '10.1002/smll.201703919_no_1': [], '10.1007/s00216-015-9138-8_no_0': [21.43], '10.1007/s00216-015-9138-8_no_1': [47.59], '10.1007/s00216-015-9138-8_no_2': [], '10.1007/s10895-020-02592-1': [0.15], '10.1007/s42247-022-00365-z': [36.23], '10.1007/s13399-019-00387-4': [17.1], '10.1038/s41467-019-09830-6': [5.96], '10.1038/s41598-019-49266-y': [18.0], '10.1038/s41598-020-78070-2_no_0': [0.54], '10.1038/s41598-020-78070-2_no_1': [0.09, 0.07], '10.1038/s41598-020-78070-2_no_2': [], '10.1038/s41598-020-78070-2_no_3': [0.23], '10.1038/ncomms6357_no_0': [23.0], '10.1038/ncomms6357_no_1': [7.0, 26.0, 45.0, 21.0], '10.1038/ncomms6357_no_2': [45.0], '10.1038/ncomms6357_no_3': [], '10.1038/s41598-018-19373-3_no_0': [], '10.1038/s41598-018-19373-3_no_1': [], '10.1038/s41598-018-19373-3_no_2': [], '10.1038/s41598-018-19373-3_no_3': [], '10.1038/s41598-022-22518-0_no_0': [13.2], '10.1038/s41598-022-22518-0_no_1': [], '10.1038/s41598-019-55996-w': [43.0], '10.1080/00032719.2023.2180802': [51.08], '10.1080/03067319.2021.2004589_no_0': [27.9], '10.1080/03067319.2021.2004589_no_1': [], '10.1080/00268976.2019.1569734_no_0': [], '10.1080/00268976.2019.1569734_no_1': [], '10.1080/00268976.2019.1569734_no_2': [78.6], '10.1080/00032719.2020.1759618_no_0': [9.6], '10.1080/00032719.2020.1759618_no_1': [4.0, 50.0], '10.1080/1536383X.2021.1926452_no_0': [], '10.1080/1536383X.2021.1926452_no_1': [8.0, 3.1], '10.1080/1536383X.2021.1999933': [68.0, 58.0, 0.7], '10.1080/03067319.2016.1264584': [4.8], '10.3390/s22082944_no_0': [9.49], '10.3390/s22082944_no_1': [5.15], '10.3390/s22082944_no_2': [12.08, 7.18, 4.65], '10.3390/nano12234166': [3.0], '10.3390/pharmaceutics14112423_no_0': [11.64], '10.3390/pharmaceutics14112423_no_1': [], '10.3390/chemosensors10100383': [28.4], '10.3390/nano12183241': [], '10.3390/chemosensors10090362': [], '10.3390/coatings12091311': [48.0], '10.3390/molecules27165254': [38.0], '10.3390/nano12091528': [3.3]}\n"
     ]
    }
   ],
   "source": [
    "#collecting QY values from extraction\n",
    "qy_ext = {}\n",
    "for entry in qy_extractions:\n",
    "    qy_ext[entry['DOI']] = entry['QY']['values']\n",
    "    \n",
    "print(len(qy_ext))\n",
    "print(qy_ext)"
   ]
  },
  {
   "cell_type": "code",
   "execution_count": 93,
   "metadata": {},
   "outputs": [
    {
     "name": "stdout",
     "output_type": "stream",
     "text": [
      "103\n",
      "{'10.1016/j.saa.2022.121139': [34.8], '10.1016/j.saa.2020.118580': [84.79], '10.1016/j.materresbull.2017.01.013': [41.3], '10.1016/j.dyepig.2020.108761': [7.25, 9.44], '10.1016/j.mtchem.2021.100755_no_0': [], '10.1016/j.mtchem.2021.100755_no_1': [], '10.1016/j.mtchem.2021.100755_no_2': [8.9], '10.1016/j.mtchem.2021.100755_no_3': [], '10.1016/j.mtchem.2021.100755_no_4': [], '10.1016/j.mtchem.2021.100755_no_5': [], '10.1016/j.mtchem.2021.100755_no_6': [], '10.1016/j.mtchem.2021.100755_no_7': [], '10.1016/j.mtchem.2021.100755_no_8': [], '10.1016/j.mtchem.2021.100755_no_9': [], '10.1016/j.mtchem.2021.100755_no_10': [5.9, 6.7], '10.1016/j.mtchem.2021.100755_no_11': [], '10.1016/j.mtchem.2021.100755_no_12': [], '10.1016/j.mtchem.2021.100755_no_13': [], '10.1016/j.dyepig.2022.110886': [6.32, 2.07, 28.3, 5.76, 23.7, 28.9, 23.2, 33.8, 30.9, 31.4, 23.0, 21.3, 21.5, 12.3], '10.1039/C8AY00441B_no_0': [41.4], '10.1039/C8AY00441B_no_1': [41.4], '10.1039/C8NJ01639A': [2.46], '10.1039/C3AN01003A_no_0': [], '10.1039/C3AN01003A_no_1': [6.7, 9.7, 19.3], '10.1039/C4TA05483K_no_0': [], '10.1039/C4TA05483K_no_1': [67.0], '10.1039/C8NJ02086H': [6.77], '10.1039/C5RA14720D': [], '10.1039/C4AY02737J': [7.6], '10.1039/C6TB00519E_no_0': [44.0], '10.1039/C6TB00519E_no_1': [44.0], '10.1039/D2GC04177D': [14.6, 16.0], '10.1021/acsomega.2c06047': [24.1], '10.1021/acsomega.0c03290': [17.98], '10.1021/acssuschemeng.9b00027': [17.88, 5.06, 22.67, 5.39], '10.1021/acs.jpcc.9b06672_no_0': [86.0, 97.4, 80.6], '10.1021/acs.jpcc.9b06672_no_1': [], '10.1021/acsabm.1c00371_no_0': [22.7], '10.1021/acsabm.1c00371_no_1': [], '10.1021/ie402421s': [36.0], '10.1021/acs.langmuir.6b04225_no_0': [48.3], '10.1021/acs.langmuir.6b04225_no_1': [], '10.1021/acsanm.9b01446': [64.5], '10.1021/acsabm.9b00101': [10.72], '10.1021/acsami.8b16710': [22.6], '10.1002/adom.201701150': [], '10.1002/bio.3794': [0.68], '10.1002/slct.202202223_no_0': [26.03], '10.1002/slct.202202223_no_1': [26.03], '10.1002/slct.202202223_no_2': [], '10.1002/adma.202201031': [41.0], '10.1002/pssb.201700222_no_0': [], '10.1002/pssb.201700222_no_1': [], '10.1002/bio.3407': [0.19], '10.1002/smll.201703919_no_0': [1.0], '10.1002/smll.201703919_no_1': [], '10.1007/s00216-015-9138-8_no_0': [21.43], '10.1007/s00216-015-9138-8_no_1': [47.59], '10.1007/s00216-015-9138-8_no_2': [], '10.1007/s10895-020-02592-1': [0.15], '10.1007/s42247-022-00365-z': [36.23], '10.1007/s13399-019-00387-4': [17.1], '10.1038/s41467-019-09830-6': [5.96], '10.1038/s41598-019-49266-y': [18.0], '10.1038/s41598-020-78070-2_no_0': [], '10.1038/s41598-020-78070-2_no_1': [0.07, 0.09], '10.1038/s41598-020-78070-2_no_2': [], '10.1038/s41598-020-78070-2_no_3': [0.23], '10.1038/ncomms6357_no_0': [23.0], '10.1038/ncomms6357_no_1': [45.0, 26.0, 21.0], '10.1038/ncomms6357_no_2': [], '10.1038/ncomms6357_no_3': [], '10.1038/s41598-018-19373-3_no_0': [], '10.1038/s41598-018-19373-3_no_1': [], '10.1038/s41598-018-19373-3_no_2': [], '10.1038/s41598-018-19373-3_no_3': [], '10.1038/s41598-022-22518-0_no_0': [13.2], '10.1038/s41598-022-22518-0_no_1': [], '10.1038/s41598-019-55996-w': [43.0], '10.1080/00032719.2023.2180802': [51.08], '10.1080/03067319.2021.2004589_no_0': [27.9], '10.1080/03067319.2021.2004589_no_1': [], '10.1080/00268976.2019.1569734_no_0': [], '10.1080/00268976.2019.1569734_no_1': [], '10.1080/00268976.2019.1569734_no_2': [78.6], '10.1080/00032719.2020.1759618_no_0': [9.6], '10.1080/00032719.2020.1759618_no_1': [4.0, 50.0], '10.1080/1536383X.2021.1926452_no_0': [], '10.1080/1536383X.2021.1926452_no_1': [8.0, 3.1], '10.1080/1536383X.2021.1999933': [68.0], '10.1080/03067319.2016.1264584': [4.8, 2.3], '10.3390/s22082944_no_0': [9.49], '10.3390/s22082944_no_1': [5.15], '10.3390/s22082944_no_2': [2.82, 4.0, 4.25, 7.18, 12.08, 4.65], '10.3390/nano12234166': [3.0], '10.3390/pharmaceutics14112423_no_0': [11.64], '10.3390/pharmaceutics14112423_no_1': [], '10.3390/chemosensors10100383': [28.4], '10.3390/nano12183241': [19.45], '10.3390/chemosensors10090362': [], '10.3390/coatings12091311': [48.0], '10.3390/molecules27165254': [38.0], '10.3390/nano12091528': [3.3]}\n"
     ]
    }
   ],
   "source": [
    "#collecting QY values from annotations\n",
    "qy_ann = {}\n",
    "for entry in qy_annotations:\n",
    "    qy_ann[entry['doi']] = entry['QY']['values']\n",
    "\n",
    "print(len(qy_ann))\n",
    "print(qy_ann)"
   ]
  },
  {
   "cell_type": "code",
   "execution_count": 95,
   "metadata": {},
   "outputs": [
    {
     "name": "stdout",
     "output_type": "stream",
     "text": [
      "103\n",
      "{'10.1016/j.saa.2022.121139': ['TP'], '10.1016/j.saa.2020.118580': ['TP'], '10.1016/j.materresbull.2017.01.013': ['TP'], '10.1016/j.dyepig.2020.108761': ['TP', 'TP'], '10.1016/j.mtchem.2021.100755_no_0': ['TP'], '10.1016/j.mtchem.2021.100755_no_1': ['TP'], '10.1016/j.mtchem.2021.100755_no_2': ['TP'], '10.1016/j.mtchem.2021.100755_no_3': ['TP'], '10.1016/j.mtchem.2021.100755_no_4': ['TP'], '10.1016/j.mtchem.2021.100755_no_5': ['TP'], '10.1016/j.mtchem.2021.100755_no_6': ['TP'], '10.1016/j.mtchem.2021.100755_no_7': ['TP'], '10.1016/j.mtchem.2021.100755_no_8': ['TP'], '10.1016/j.mtchem.2021.100755_no_9': ['TP'], '10.1016/j.mtchem.2021.100755_no_10': ['TP', 'TP'], '10.1016/j.mtchem.2021.100755_no_11': ['FP', 'FP'], '10.1016/j.mtchem.2021.100755_no_12': ['TP'], '10.1016/j.mtchem.2021.100755_no_13': ['TP'], '10.1016/j.dyepig.2022.110886': ['TP', 'TP', 'TP', 'TP', 'TP', 'TP', 'TP', 'TP', 'TP', 'TP', 'TP', 'TP', 'TP', 'TP'], '10.1039/C8AY00441B_no_0': ['TP'], '10.1039/C8AY00441B_no_1': ['TP'], '10.1039/C8NJ01639A': ['TP'], '10.1039/C3AN01003A_no_0': ['TP'], '10.1039/C3AN01003A_no_1': ['FN', 'FN', 'TP'], '10.1039/C4TA05483K_no_0': ['TP'], '10.1039/C4TA05483K_no_1': ['TP', 'FP'], '10.1039/C8NJ02086H': ['TP', 'FP', 'FP'], '10.1039/C5RA14720D': ['TP'], '10.1039/C4AY02737J': ['TP'], '10.1039/C6TB00519E_no_0': ['TP'], '10.1039/C6TB00519E_no_1': ['TP'], '10.1039/D2GC04177D': ['TP', 'TP'], '10.1021/acsomega.2c06047': ['TP'], '10.1021/acsomega.0c03290': ['TP'], '10.1021/acssuschemeng.9b00027': ['TP', 'TP', 'TP', 'TP'], '10.1021/acs.jpcc.9b06672_no_0': ['TP', 'TP', 'TP'], '10.1021/acs.jpcc.9b06672_no_1': ['TP'], '10.1021/acsabm.1c00371_no_0': ['TP'], '10.1021/acsabm.1c00371_no_1': ['FP'], '10.1021/ie402421s': ['TP'], '10.1021/acs.langmuir.6b04225_no_0': ['FN'], '10.1021/acs.langmuir.6b04225_no_1': ['TP'], '10.1021/acsanm.9b01446': ['TP'], '10.1021/acsabm.9b00101': ['TP'], '10.1021/acsami.8b16710': ['TP'], '10.1002/adom.201701150': ['TP'], '10.1002/bio.3794': ['TP'], '10.1002/slct.202202223_no_0': ['TP'], '10.1002/slct.202202223_no_1': ['TP'], '10.1002/slct.202202223_no_2': ['TP'], '10.1002/adma.202201031': ['TP'], '10.1002/pssb.201700222_no_0': ['TP'], '10.1002/pssb.201700222_no_1': ['TP'], '10.1002/bio.3407': ['TP'], '10.1002/smll.201703919_no_0': ['FN'], '10.1002/smll.201703919_no_1': ['TP'], '10.1007/s00216-015-9138-8_no_0': ['TP'], '10.1007/s00216-015-9138-8_no_1': ['TP'], '10.1007/s00216-015-9138-8_no_2': ['TP'], '10.1007/s10895-020-02592-1': ['TP'], '10.1007/s42247-022-00365-z': ['TP'], '10.1007/s13399-019-00387-4': ['TP'], '10.1038/s41467-019-09830-6': ['TP'], '10.1038/s41598-019-49266-y': ['TP'], '10.1038/s41598-020-78070-2_no_0': ['FP'], '10.1038/s41598-020-78070-2_no_1': ['TP', 'TP'], '10.1038/s41598-020-78070-2_no_2': ['TP'], '10.1038/s41598-020-78070-2_no_3': ['TP'], '10.1038/ncomms6357_no_0': ['TP'], '10.1038/ncomms6357_no_1': ['TP', 'TP', 'TP', 'FP'], '10.1038/ncomms6357_no_2': ['FP'], '10.1038/ncomms6357_no_3': ['TP'], '10.1038/s41598-018-19373-3_no_0': ['TP'], '10.1038/s41598-018-19373-3_no_1': ['TP'], '10.1038/s41598-018-19373-3_no_2': ['TP'], '10.1038/s41598-018-19373-3_no_3': ['TP'], '10.1038/s41598-022-22518-0_no_0': ['TP'], '10.1038/s41598-022-22518-0_no_1': ['TP'], '10.1038/s41598-019-55996-w': ['TP'], '10.1080/00032719.2023.2180802': ['TP'], '10.1080/03067319.2021.2004589_no_0': ['TP'], '10.1080/03067319.2021.2004589_no_1': ['TP'], '10.1080/00268976.2019.1569734_no_0': ['TP'], '10.1080/00268976.2019.1569734_no_1': ['TP'], '10.1080/00268976.2019.1569734_no_2': ['TP'], '10.1080/00032719.2020.1759618_no_0': ['TP'], '10.1080/00032719.2020.1759618_no_1': ['TP', 'TP'], '10.1080/1536383X.2021.1926452_no_0': ['TP'], '10.1080/1536383X.2021.1926452_no_1': ['TP', 'TP'], '10.1080/1536383X.2021.1999933': ['TP', 'FP', 'FP'], '10.1080/03067319.2016.1264584': ['TP', 'FN'], '10.3390/s22082944_no_0': ['TP'], '10.3390/s22082944_no_1': ['TP'], '10.3390/s22082944_no_2': ['FN', 'FN', 'FN', 'TP', 'TP', 'TP'], '10.3390/nano12234166': ['TP'], '10.3390/pharmaceutics14112423_no_0': ['TP'], '10.3390/pharmaceutics14112423_no_1': ['TP'], '10.3390/chemosensors10100383': ['TP'], '10.3390/nano12183241': ['FN'], '10.3390/chemosensors10090362': ['TP'], '10.3390/coatings12091311': ['TP'], '10.3390/molecules27165254': ['TP'], '10.3390/nano12091528': ['TP']}\n"
     ]
    }
   ],
   "source": [
    "#Assigning values\n",
    "qy_val = {}\n",
    "for doi in list(qy_ann.keys()):\n",
    "    qy_tags = []\n",
    "    for value in qy_ann[doi]:\n",
    "        if value in qy_ext[doi]:\n",
    "            qy_tags.append('TP')\n",
    "        if value not in qy_ext[doi]:\n",
    "            qy_tags.append('FN')\n",
    "    for value in qy_ext[doi]:\n",
    "        if value not in qy_ann[doi]:\n",
    "            qy_tags.append('FP')\n",
    "    if len(qy_ann[doi]) == 0 and len(qy_ext[doi]) == 0:\n",
    "        qy_tags.append('TP')\n",
    "    qy_val.update({doi:qy_tags})\n",
    "\n",
    "print(len(qy_val))\n",
    "print(qy_val)"
   ]
  },
  {
   "cell_type": "code",
   "execution_count": 96,
   "metadata": {},
   "outputs": [
    {
     "name": "stdout",
     "output_type": "stream",
     "text": [
      "The precision is: 0.92\n",
      "The recall is: 0.93\n",
      "The F1 score is: 0.93\n"
     ]
    }
   ],
   "source": [
    "#Combining values\n",
    "all_qy_val = []\n",
    "for doi in list(qy_val.keys()):\n",
    "    all_qy_val.extend(qy_val[doi])\n",
    "\n",
    "TP = all_qy_val.count('TP')\n",
    "FP = all_qy_val.count('FP')\n",
    "FN = all_qy_val.count('FN')\n",
    "precision = TP / (TP+FP)\n",
    "recall = TP / (TP+FN)\n",
    "F1 = (2*precision*recall)/(precision+recall)\n",
    "print(f'The precision is: {precision:.2f}')\n",
    "print(f'The recall is: {recall:.2f}')\n",
    "print(f'The F1 score is: {F1:.2f}')"
   ]
  },
  {
   "cell_type": "code",
   "execution_count": null,
   "metadata": {},
   "outputs": [],
   "source": []
  },
  {
   "cell_type": "code",
   "execution_count": null,
   "metadata": {},
   "outputs": [],
   "source": []
  },
  {
   "cell_type": "code",
   "execution_count": null,
   "metadata": {},
   "outputs": [],
   "source": []
  },
  {
   "cell_type": "code",
   "execution_count": null,
   "metadata": {},
   "outputs": [],
   "source": []
  }
 ],
 "metadata": {
  "kernelspec": {
   "display_name": "Python 3",
   "language": "python",
   "name": "python3"
  },
  "language_info": {
   "codemirror_mode": {
    "name": "ipython",
    "version": 3
   },
   "file_extension": ".py",
   "mimetype": "text/x-python",
   "name": "python",
   "nbconvert_exporter": "python",
   "pygments_lexer": "ipython3",
   "version": "3.7.6"
  }
 },
 "nbformat": 4,
 "nbformat_minor": 4
}
