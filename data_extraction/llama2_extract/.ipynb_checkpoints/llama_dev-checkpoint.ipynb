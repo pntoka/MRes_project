{
 "cells": [
  {
   "cell_type": "code",
   "execution_count": 1,
   "id": "d695af2e-23d0-40b1-9a85-f34d4662198a",
   "metadata": {},
   "outputs": [],
   "source": [
    "from langchain.llms import LlamaCpp\n",
    "from langchain import PromptTemplate, LLMChain\n",
    "from langchain.callbacks.manager import CallbackManager\n",
    "from langchain.callbacks.streaming_stdout import StreamingStdOutCallbackHandler\n",
    "from langchain.llms import CTransformers\n",
    "from langchain.schema import SystemMessage\n",
    "from langchain.prompts import (\n",
    "    HumanMessagePromptTemplate,\n",
    "    AIMessagePromptTemplate,\n",
    "    SystemMessagePromptTemplate,\n",
    ")\n",
    "from langchain.prompts.few_shot import FewShotChatMessagePromptTemplate\n",
    "from langchain.chains import LLMChain\n",
    "from langchain.schema import BaseOutputParser"
   ]
  },
  {
   "cell_type": "code",
   "execution_count": 131,
   "id": "5b1ee15f-2d3c-4e4a-bd43-dec21e107836",
   "metadata": {},
   "outputs": [
    {
     "name": "stderr",
     "output_type": "stream",
     "text": [
      "llama.cpp: loading model from /home/ptoka/llama-2-13b-chat.ggmlv3.q2_K.bin\n",
      "llama_model_load_internal: format     = ggjt v3 (latest)\n",
      "llama_model_load_internal: n_vocab    = 32000\n",
      "llama_model_load_internal: n_ctx      = 1024\n",
      "llama_model_load_internal: n_embd     = 5120\n",
      "llama_model_load_internal: n_mult     = 256\n",
      "llama_model_load_internal: n_head     = 40\n",
      "llama_model_load_internal: n_head_kv  = 40\n",
      "llama_model_load_internal: n_layer    = 40\n",
      "llama_model_load_internal: n_rot      = 128\n",
      "llama_model_load_internal: n_gqa      = 1\n",
      "llama_model_load_internal: rnorm_eps  = 1.0e-06\n",
      "llama_model_load_internal: n_ff       = 13824\n",
      "llama_model_load_internal: freq_base  = 10000.0\n",
      "llama_model_load_internal: freq_scale = 1\n",
      "llama_model_load_internal: ftype      = 10 (mostly Q2_K)\n",
      "llama_model_load_internal: model size = 13B\n",
      "llama_model_load_internal: ggml ctx size =    0.11 MB\n",
      "llama_model_load_internal: mem required  = 5662.01 MB (+  800.00 MB per state)\n",
      "llama_new_context_with_model: kv self size  =  800.00 MB\n",
      "AVX = 1 | AVX2 = 1 | AVX512 = 0 | AVX512_VBMI = 0 | AVX512_VNNI = 0 | FMA = 1 | NEON = 0 | ARM_FMA = 0 | F16C = 1 | FP16_VA = 0 | WASM_SIMD = 0 | BLAS = 0 | SSE3 = 1 | VSX = 0 | \n"
     ]
    }
   ],
   "source": [
    "callback_manager = CallbackManager([StreamingStdOutCallbackHandler()])\n",
    "\n",
    "llm_2 = LlamaCpp(\n",
    "    model_path=\"/home/ptoka/llama-2-13b-chat.ggmlv3.q2_K.bin\",\n",
    "    input={\"temperature\": 0.2, \"max_length\": 2000, \"top_p\": 1},\n",
    "    n_ctx = 1024,\n",
    "    n_threads = 8\n",
    "    # callback_manager=callback_manager\n",
    "    # verbose=True,\n",
    ")"
   ]
  },
  {
   "cell_type": "code",
   "execution_count": 86,
   "id": "7dd34f1a-7d18-408a-aca1-c05f67e2969e",
   "metadata": {},
   "outputs": [
    {
     "name": "stderr",
     "output_type": "stream",
     "text": [
      "llama.cpp: loading model from /home/ptoka/llama-2-13b.ggmlv3.q2_K.bin\n",
      "llama_model_load_internal: format     = ggjt v3 (latest)\n",
      "llama_model_load_internal: n_vocab    = 32000\n",
      "llama_model_load_internal: n_ctx      = 1024\n",
      "llama_model_load_internal: n_embd     = 5120\n",
      "llama_model_load_internal: n_mult     = 256\n",
      "llama_model_load_internal: n_head     = 40\n",
      "llama_model_load_internal: n_head_kv  = 40\n",
      "llama_model_load_internal: n_layer    = 40\n",
      "llama_model_load_internal: n_rot      = 128\n",
      "llama_model_load_internal: n_gqa      = 1\n",
      "llama_model_load_internal: rnorm_eps  = 1.0e-06\n",
      "llama_model_load_internal: n_ff       = 13824\n",
      "llama_model_load_internal: freq_base  = 10000.0\n",
      "llama_model_load_internal: freq_scale = 1\n",
      "llama_model_load_internal: ftype      = 10 (mostly Q2_K)\n",
      "llama_model_load_internal: model size = 13B\n",
      "llama_model_load_internal: ggml ctx size =    0.11 MB\n",
      "llama_model_load_internal: mem required  = 5662.01 MB (+  800.00 MB per state)\n",
      "AVX = 1 | AVX2 = 1 | AVX512 = 0 | AVX512_VBMI = 0 | AVX512_VNNI = 0 | FMA = 1 | NEON = 0 | ARM_FMA = 0 | F16C = 1 | FP16_VA = 0 | WASM_SIMD = 0 | BLAS = 0 | SSE3 = 1 | VSX = 0 | llama_new_context_with_model: kv self size  =  800.00 MB\n",
      "\n"
     ]
    }
   ],
   "source": [
    "callback_manager = CallbackManager([StreamingStdOutCallbackHandler()])\n",
    "\n",
    "llm = LlamaCpp(\n",
    "    model_path=\"/home/ptoka/llama-2-13b.ggmlv3.q2_K.bin\",\n",
    "    input={\"temperature\": 0.2, \"max_length\": 2000, \"top_p\": 1},\n",
    "    n_ctx = 1024,\n",
    "    n_threads = 8\n",
    "    # callback_manager=callback_manager\n",
    "    # verbose=True,\n",
    ")"
   ]
  },
  {
   "cell_type": "code",
   "execution_count": 6,
   "id": "fd1eb31c-e135-4ba7-909e-0974b4c9c44c",
   "metadata": {},
   "outputs": [
    {
     "name": "stderr",
     "output_type": "stream",
     "text": [
      "Llama.generate: prefix-match hit\n",
      "\n",
      "llama_print_timings:        load time =  1408.85 ms\n",
      "llama_print_timings:      sample time =   120.02 ms /   256 runs   (    0.47 ms per token,  2133.01 tokens per second)\n",
      "llama_print_timings: prompt eval time =   876.78 ms /     5 tokens (  175.36 ms per token,     5.70 tokens per second)\n",
      "llama_print_timings:        eval time = 51740.38 ms /   255 runs   (  202.90 ms per token,     4.93 tokens per second)\n",
      "llama_print_timings:       total time = 53235.67 ms\n"
     ]
    }
   ],
   "source": [
    "question = \"THe quantum yield is\"\n",
    "result = llm(question)"
   ]
  },
  {
   "cell_type": "code",
   "execution_count": 7,
   "id": "258d5c72-b13f-4b57-a071-a24840d33037",
   "metadata": {},
   "outputs": [
    {
     "name": "stdout",
     "output_type": "stream",
     "text": [
      " also known as the quantum efficiency and the internal Photosensitivity of a photosite. It gives us an idea how sensitive that particular photosite is to light.\n",
      "The quantum Yield is a measure of the number of photons that are generated by a unit amount of energy (or power).\n",
      "For example if we have 10 mW and we send it into a 50mm diameter lens and we have an image area of say 6x6cm2. We get 89.47% Quantum Yield out of our Lens. If we send the same power through a 25mm diameter lens we get 100% Quantum Efficiency.\n",
      "So in theory if you have more sensitivity, you will be able to increase your shutter speed without compromising on ISO (although this would depend on the camera model). So with the new Nikon D7100 (for example) the 39 Points Photo Detector array has a Quantum Efficiency of about 85% which means you are going to be getting 85% of all that light into your sensor.\n",
      "The reason why this is important is because light is made up of phot\n"
     ]
    }
   ],
   "source": [
    "print(result)"
   ]
  },
  {
   "cell_type": "code",
   "execution_count": 30,
   "id": "2d2a033c-127c-49bd-8ef7-b8153c30835f",
   "metadata": {},
   "outputs": [
    {
     "name": "stdout",
     "output_type": "stream",
     "text": [
      "\n",
      "\n",
      "Answer: The density of water is approximately 1 gram per milliliter (g/mL) at standard temperature and pressure conditions. This means that a cube of water with a volume of 1 mL weighs 1 gram.\n",
      "\n",
      "Note: The density of water can vary slightly depending on the temperature and pressure conditions, but 1 g/mL is a commonly accepted value for the density of water at room temperature and standard atmospheric pressure.\n"
     ]
    },
    {
     "name": "stderr",
     "output_type": "stream",
     "text": [
      "\n",
      "llama_print_timings:        load time =  1316.94 ms\n",
      "llama_print_timings:      sample time =    46.80 ms /    99 runs   (    0.47 ms per token,  2115.61 tokens per second)\n",
      "llama_print_timings: prompt eval time =  1678.12 ms /    10 tokens (  167.81 ms per token,     5.96 tokens per second)\n",
      "llama_print_timings:        eval time = 18720.90 ms /    98 runs   (  191.03 ms per token,     5.23 tokens per second)\n",
      "llama_print_timings:       total time = 20719.49 ms\n"
     ]
    }
   ],
   "source": [
    "question = \"Question: What is the density of water?\"\n",
    "result = llm(question)\n",
    "print(result)"
   ]
  },
  {
   "cell_type": "code",
   "execution_count": 6,
   "id": "49f20f33-24b8-4d2d-b9fd-2fb5a04ff50d",
   "metadata": {},
   "outputs": [
    {
     "name": "stdout",
     "output_type": "stream",
     "text": [
      "\n",
      "\n",
      "Answer: The density of water is approximately 1 gram per milliliter (g/mL) at standard temperature and pressure conditions. This means that a cubic meter of water has a mass of 1000 grams, or 1 liter.\n",
      "\n",
      "Note: The density of water can vary slightly depending on the temperature and pressure conditions, but 1 g/mL is a commonly accepted value for standard temperature and pressure (STP) conditions.\n"
     ]
    }
   ],
   "source": [
    "print(result)"
   ]
  },
  {
   "cell_type": "code",
   "execution_count": 10,
   "id": "013f5072-fac9-4c6f-a144-7e9d7e01f81a",
   "metadata": {},
   "outputs": [],
   "source": [
    "#Functions to structure prompts\n",
    "B_INST, E_INST = \"[INST]\", \"[/INST]\"\n",
    "B_SYS, E_SYS = \"<<SYS>>\\n\", \"\\n<</SYS>>\\n\\n\"\n",
    "DEFAULT_SYSTEM_PROMPT = \"\"\"\\\n",
    "You are a helpful, respectful and honest assistant. Always answer as helpfully as possible, while being safe. Your answers should not include any harmful, unethical, racist, sexist, toxic, dangerous, or illegal content. Please ensure that your responses are socially unbiased and positive in nature.\n",
    "\n",
    "If a question does not make any sense, or is not factually coherent, explain why instead of answering something not correct. If you don't know the answer to a question, please don't share false information.\"\"\"\n",
    "\n",
    "def get_prompt(instruction, new_system_prompt=DEFAULT_SYSTEM_PROMPT):\n",
    "    SYSTEM_PROMPT = B_SYS + new_system_prompt + E_SYS\n",
    "    prompt_template = B_INST + SYSTEM_PROMPT + instruction + E_INST\n",
    "    return prompt_template\n",
    "\n"
   ]
  },
  {
   "cell_type": "code",
   "execution_count": 136,
   "id": "d81f0ff1-4adb-44ad-b986-6e9752b4539e",
   "metadata": {},
   "outputs": [],
   "source": [
    "# Extract temp\n",
    "\"\"\"You are an expert in materials chemistry and are extracting data from fragments of scientific texts. You are interested in extracting the temperatures at which the autoclave was heated in the process described in the text.\n",
    "    A User will pass in a fragment of text and you will have to return the temperature values and units of the process in the autoclave as a comma separated list. Do not include temperature values of processes not carried out in an autoclave.\n",
    "    ONLY return the temperature and units in a comma separated list and nothing more.\"\"\"\n",
    "system_prompt_temp = \"\"\"Extractor is a materials chemistry expert extracting information from fragments of scientific text. Extractor is interested in extracting the temperatures at which the autoclave was heated in the process described in the text.\n",
    "    A user will pass in a fragment of text and Extractor will have to return the temperature values and units of the process in the autoclave as a comma separated list. Extractor does not include temperature values of processes not carried out in an autoclave.\n",
    "    Extractor only returns the temperature and units from the process in the autoclave in a comma separated list and nothing more. If there is only one value to report then Extractor returns only that value with units and nothing more. Extractor does not reply with additional conversational text it only returns the comma separated list in its output\n",
    "\n",
    "    Here are some examples of previous interactions between Assistant and User:\n",
    "\n",
    "    User: The hydrothermal reactor was kept at 200 °C for 8 h and then cooled to room temperature at atmospheric pressure.\n",
    "    Extractor: 200 °C\n",
    "\n",
    "    User: dissolved in 16 mL of distilled water, stirred for 10 min, and then the mixture was transferred to a 30 mL Teflon autoclave, and heated at 160, 180 or 200 °C for 6, 7 or 8 h.\n",
    "    Extractor: 160 °C, 180 °C, 200 °C\n",
    "\n",
    "    User: was added to 30 mL of deionized water and heated at 70 °C for 30 min. Subsequently, the solution was transferred to a Teflon-lined stainless steel autoclave reactor and heated at 180 °C for 12 h\n",
    "    Extractor: 180 °C\n",
    "    \"\"\""
   ]
  },
  {
   "cell_type": "code",
   "execution_count": 47,
   "id": "0566655e-ad3e-4536-bf48-2b111af4fff8",
   "metadata": {},
   "outputs": [],
   "source": [
    "# system_prompt_temp = \"\"\"Assistant is a materials chemistry expert extracting information from fragments of scientific text. Assistant is interested in extracting the temperatures at which the autoclave was heated in the process described in the text.\n",
    "#     A user will pass in a fragment of text and Assistant will have to return the temperature values and units of the process in the autoclave as a comma separated list. Assistant does not include temperature values of processes not carried out in an autoclave.\n",
    "#     Assistant ONLY returns the temperature and units in a comma separated list and nothing more.\n",
    "\n",
    "#     Here is an example of a previous interaction between Assistant and User:\n",
    "\n",
    "#     User: dissolved in 16 mL of distilled water, stirred for 10 min, and then the mixture was transferred to a 30 mL Teflon autoclave, and heated at 160, 180 or 200 °C for 6, 7 or 8 h.\n",
    "#     Assistant: 160 °C, 180 °C, 200 °C\n",
    "#     \"\"\""
   ]
  },
  {
   "cell_type": "code",
   "execution_count": 124,
   "id": "8bb9e1fb-4615-4605-ba94-99d3e02cdc49",
   "metadata": {},
   "outputs": [],
   "source": [
    "system_prompt_temp = \"\"\"Extractor is a materials chemistry expert extracting information from fragments of scientific text. Extractor is interested in extracting the temperatures at which the autoclave was heated in the process described in the text.\n",
    "    A user will pass in a fragment of text and Extractor will have to return the temperature values and units of the process in the autoclave as a comma separated list. Extractor does not include temperature values of processes not carried out in an autoclave.\n",
    "    Extractor only returns the temperature and units from the process in the autoclave in a comma separated list and nothing more. If there is only one value to report then Extractor returns only that value with units and nothing more. Extractor does not reply with additional conversational text it only returns the comma separated list in its output.\n",
    "    \"\"\""
   ]
  },
  {
   "cell_type": "code",
   "execution_count": 174,
   "id": "9f9b136c-3305-46ac-8d50-68a6259df5f0",
   "metadata": {},
   "outputs": [],
   "source": [
    "system_prompt_temp = \"\"\" You are an expert in materials chemistry called Extractor and are extracting data from fragments of scientific texts. You are interested in extracting the temperatures at which the autoclave was heated in the process described in the text.\n",
    "    A user will pass in a fragment of text and you will have to return the temperature values and units of the process in the autoclave as a comma separated list. Do not include temperature values of processes not carried out in an autoclave.\n",
    "    ONLY return the temperature and units in a comma separated list and nothing more. If there is only one relevant temperature value than return just that one. Do not add any explanation of the units. Do not reply with additional conversational text such as \"Sure! I can do that\".\n",
    "    Here are some examples of previous interactions between you and the user:\n",
    "\n",
    "    User: Extract the autoclave temperatures as a comma separated list from the following text: The hydrothermal reactor was kept at 200 °C for 8 h and then cooled to room temperature at atmospheric pressure.\n",
    "    Extractor: 200 °C\n",
    "    ```\n",
    "    User: Extract the autoclave temperatures as a comma separated list from the following text: dissolved in 16 mL of distilled water, stirred for 10 min, and then the mixture was transferred to a 30 mL Teflon autoclave, and heated at 260, 280 or 300 °C for 6, 7 or 8 h.\n",
    "    Extractor: 160 °C, 180 °C, 200 °C\n",
    "    ```\n",
    "    User: Extract the autoclave temperatures as a comma separated list from the following text: was added to 30 mL of deionized water and heated at 70 °C for 30 min. Subsequently, the solution was transferred to a Teflon-lined stainless steel autoclave reactor and heated at 180 °C for 12 h\n",
    "    Extractor: 180 °C\n",
    "\"\"\""
   ]
  },
  {
   "cell_type": "code",
   "execution_count": 11,
   "id": "d98a236c-7a5c-4efa-b726-6dc03c910e8f",
   "metadata": {},
   "outputs": [],
   "source": [
    "text = \"CQDs were synthesized by the usage of O. basilicum L. extract via a simple hydrothermal method (Fig. 1). In a typical one-step synthesizing procedure, 2.0 g of O. basilicum L. seed was added to 100 mL of distilled water and stirred at 50 °C for 2 h. Then, the obtained extract was filtered and transferred into a 100 mL Teflon-lined stainless-steel autoclave to be heated at 180 °C for 4 h. Once the autoclave was cooled naturally at room temperature and the solution was centrifuged (12,000 rpm) for 15 min, the prepared brown solution was filtered through a fine-grained 0.45 μm membrane to remove larger particles. Finally, the solution was freeze-dried to attain the dark brown powder of CQDs.\"\n",
    "text_2 ='S-doped C-dots were synthesized using a hydrothermal method. Briefly, 25 mL sodium citrate solution (0.1 M) and sodium thiosulfate were added into a 50 mL Teflon-lined stainless steel autoclave. After that, the autoclave was kept at a fixed temperature (160, 180, 200, 220 or 240 °C) for 6 h. The product could be used after filtration with a cylinder filtration membrane filter (0.22 μm).'"
   ]
  },
  {
   "cell_type": "code",
   "execution_count": 176,
   "id": "a204950d-2dc4-465e-b1d5-c7fb1942f846",
   "metadata": {},
   "outputs": [],
   "source": [
    "# instruction = \"Extract and only return the temperature values from the process in the autoclave as comma separated list and nothing more from the following text {input}\"\n",
    "instruction = \"Extract the autoclave temperatures as a comma separated list from the following text: {input}\"\n",
    "template = get_prompt(instruction, system_prompt_temp)\n",
    "prompt = PromptTemplate(template = template, input_variables=[\"input\"])\n",
    "llm_chain = LLMChain(prompt=prompt, llm=llm)"
   ]
  },
  {
   "cell_type": "code",
   "execution_count": 189,
   "id": "f69f71ea-05ad-464b-a78e-272ac7a30e30",
   "metadata": {},
   "outputs": [
    {
     "name": "stderr",
     "output_type": "stream",
     "text": [
      "Llama.generate: prefix-match hit\n",
      "\n",
      "llama_print_timings:        load time =  1261.58 ms\n",
      "llama_print_timings:      sample time =    27.90 ms /    59 runs   (    0.47 ms per token,  2114.85 tokens per second)\n",
      "llama_print_timings: prompt eval time = 22784.67 ms /   144 tokens (  158.23 ms per token,     6.32 tokens per second)\n",
      "llama_print_timings:        eval time = 12407.24 ms /    58 runs   (  213.92 ms per token,     4.67 tokens per second)\n",
      "llama_print_timings:       total time = 35358.28 ms\n"
     ]
    }
   ],
   "source": [
    "output = llm_chain.run(text_2)"
   ]
  },
  {
   "cell_type": "code",
   "execution_count": 190,
   "id": "c28dbcf5-bcfe-4529-8891-ca811936b644",
   "metadata": {},
   "outputs": [
    {
     "name": "stdout",
     "output_type": "stream",
     "text": [
      "  Sure! I can do that. Here is the list of autoclave temperatures as a comma separated list:\n",
      "160 °C, 180 °C, 200 °C, 220 °C, 240 °C\n"
     ]
    }
   ],
   "source": [
    "print(output)"
   ]
  },
  {
   "cell_type": "code",
   "execution_count": 180,
   "id": "2d5292d5-067b-49e9-b824-ca5733b6fc37",
   "metadata": {},
   "outputs": [
    {
     "data": {
      "text/plain": [
       "['I can do that! Here is the list of autoclave temperatures as a comma separated list:\\n160 °C',\n",
       " '180 °C',\n",
       " '200 °C',\n",
       " '220 °C',\n",
       " '240 °C']"
      ]
     },
     "execution_count": 180,
     "metadata": {},
     "output_type": "execute_result"
    }
   ],
   "source": [
    "list(map(str.strip, output.split(',')[1:]))"
   ]
  },
  {
   "cell_type": "code",
   "execution_count": 186,
   "id": "721d34d6-22ef-4ab1-bcc2-5d3fbe7ec2a3",
   "metadata": {},
   "outputs": [
    {
     "data": {
      "text/plain": [
       "['180 °C']"
      ]
     },
     "execution_count": 186,
     "metadata": {},
     "output_type": "execute_result"
    }
   ],
   "source": [
    "list(map(str.strip, output.split(':')[1:]))\n",
    "temps = output.split(':')[1]\n",
    "list(map(str.strip, temps.split(',')))"
   ]
  },
  {
   "cell_type": "code",
   "execution_count": 199,
   "id": "b877e4ea-27f3-46a2-8fd3-59d415f66c63",
   "metadata": {},
   "outputs": [],
   "source": [
    "def temp_output_parser(output):\n",
    "    temps_str = output.split(':')[1]\n",
    "    temp_values = list(map(str.strip, temps_str.split(',')))\n",
    "    return temp_values"
   ]
  },
  {
   "cell_type": "code",
   "execution_count": 198,
   "id": "ee4cd247-c6d9-4c08-b1d5-d48d27d7667a",
   "metadata": {},
   "outputs": [
    {
     "name": "stdout",
     "output_type": "stream",
     "text": [
      "\n",
      "160 °C, 180 °C, 200 °C, 220 °C, 240 °C\n"
     ]
    },
    {
     "data": {
      "text/plain": [
       "['160 °C', '180 °C', '200 °C', '220 °C', '240 °C']"
      ]
     },
     "execution_count": 198,
     "metadata": {},
     "output_type": "execute_result"
    }
   ],
   "source": [
    "temp_output_parser(output)"
   ]
  },
  {
   "cell_type": "code",
   "execution_count": 225,
   "id": "84def6d4-f4a6-4d10-9d90-3aed743a8c24",
   "metadata": {},
   "outputs": [],
   "source": [
    "system_prompt_temp = \"\"\"You are an expert in materials chemistry called Extractor and are extracting data from fragments of scientific texts. You are interested in extracting the time for which the autoclave was kept at a high temperature in the process described in the text.\n",
    "    A user will pass in a fragment of text and you will have to return the time values and units of the process in the autoclave as a comma separated list. Do not include time values of any processes that are not carried out in an autoclave or ramp times. Do not include any information about temperature.\n",
    "    ONLY return the time and units in a comma separated list and nothing more. If there is only one relevant time value than return just that one. Do not add any explanation of the units. Do not reply with additional conversational text such as \"Sure! I can do that\".\n",
    "    \n",
    "    Here are some examples of previous interactions between you and the user:\n",
    "    \n",
    "    User: Extract the time of the process in the autoclave as a comma separated list from the following text: The hydrothermal reactor was kept at 200 °C for 8 h and then cooled to room temperature at atmospheric pressure.\n",
    "    Extractor: 8 h\n",
    "    ```\n",
    "    User: Extract the time of the process in the autoclave as a comma separated list from the following text: dissolved in 16 mL of distilled water, stirred for 10 min, and then the mixture was transferred to a 30 mL Teflon autoclave, and heated at 260, 280 or 300 °C for 5, 9 or 13 h.\n",
    "    Extractor: 5 h, 9 h, 13 h\n",
    "    ```\n",
    "    User: Extract the time of the process in the autoclave as a comma separated list from the following text: was added to 30 mL of deionized water and heated at 70 °C for 1 h. Subsequently, the solution was transferred to a Teflon-lined stainless steel autoclave reactor and heated at 180 °C for 12 h\n",
    "    Extractor: 12 h\n",
    "\"\"\""
   ]
  },
  {
   "cell_type": "code",
   "execution_count": 107,
   "id": "42b1ad31-9bf5-4d74-b273-ca33910470a7",
   "metadata": {},
   "outputs": [],
   "source": [
    "text_3 = \"The N-CQDs were synthesized by using a hydrothermal method employing CA as carbon source and EDA as nitrogen source. In brief, 2 g of CA and 1 mL of EDA were dissolved into 15 mL of DI water and stirred to form a clear solution. Then the solution was transferred into a 50 mL polytetrafluoroethylene (Teflon)-lined autoclave, and heated at 180 °C for 1, 3, 6, and 9 h, respectively, from which the samples were denoted as N-CQDs-1h, N-CQDs-3h, N-CQDs-6h, and N-CQDs-9h, respectively. After quickly cooling the (Teflon)-lined autoclave to room temperature naturally, the brown-black and well-dispersed N-CQDs aqueous solutions were obtained. The obtained crude product was filtered with 0.22 μm anopore inorganic filter membranes to remove large particles and then further purified through a dialysis membrane (500 Da, molecular weight cutoff). Pure product followed by being lyophilized and stored at room temperature for further use.\""
   ]
  },
  {
   "cell_type": "code",
   "execution_count": 227,
   "id": "218235d7-e659-4769-b2d1-695f80018df3",
   "metadata": {},
   "outputs": [],
   "source": [
    "instruction = \"Extract the time of the process in the autoclave as a comma separated list from the following text: {input}\"\n",
    "template = get_prompt(instruction, system_prompt_temp)\n",
    "prompt = PromptTemplate(template = template, input_variables=[\"input\"])\n",
    "llm_chain = LLMChain(prompt=prompt, llm=llm)"
   ]
  },
  {
   "cell_type": "code",
   "execution_count": 253,
   "id": "4a9232ae-10dd-400c-9d86-86d8834d12c3",
   "metadata": {},
   "outputs": [
    {
     "name": "stderr",
     "output_type": "stream",
     "text": [
      "Llama.generate: prefix-match hit\n",
      "\n",
      "llama_print_timings:        load time =  1261.58 ms\n",
      "llama_print_timings:      sample time =    17.95 ms /    38 runs   (    0.47 ms per token,  2116.76 tokens per second)\n",
      "llama_print_timings: prompt eval time = 35545.71 ms /   223 tokens (  159.40 ms per token,     6.27 tokens per second)\n",
      "llama_print_timings:        eval time =  7943.95 ms /    37 runs   (  214.70 ms per token,     4.66 tokens per second)\n",
      "llama_print_timings:       total time = 43624.38 ms\n"
     ]
    }
   ],
   "source": [
    "output = llm_chain.run(text)"
   ]
  },
  {
   "cell_type": "code",
   "execution_count": 254,
   "id": "63faf6c7-301b-490c-b192-0522f2e8fc6e",
   "metadata": {},
   "outputs": [
    {
     "name": "stdout",
     "output_type": "stream",
     "text": [
      "  Sure! I'm ready to extract the chemical names of precursors or substrates from the given text. Please provide the text fragment you'd like me to process.\n"
     ]
    }
   ],
   "source": [
    "print(output)"
   ]
  },
  {
   "cell_type": "code",
   "execution_count": 214,
   "id": "c384d8de-cbcb-4d18-83ff-15f801ad9730",
   "metadata": {},
   "outputs": [
    {
     "data": {
      "text/plain": [
       "['1 h', '3 h', '6 h', '9 h']"
      ]
     },
     "execution_count": 214,
     "metadata": {},
     "output_type": "execute_result"
    }
   ],
   "source": [
    "temp_output_parser(output)"
   ]
  },
  {
   "cell_type": "code",
   "execution_count": 283,
   "id": "fc8817f2-feff-47f1-9379-66cbaf34b9ca",
   "metadata": {},
   "outputs": [],
   "source": [
    "system_prompt_precursor = \"\"\"You are an expert in materials chemistry called Extractor and are extracting information from fragments of scientific texts which are paragraphs describing a synthetic process of a material or compound. You extract the chemical names of the precursors or substrates used in the synthesis process described in the text.\n",
    "    A User will pass in a fragment of text and you will have to return the chemical names of the precursors or substrates with each result on a new line. Do not include the names of the solvents used or the form of the compound such as powder or solution. Do not include the names of the target products. Do not return the text provided.\n",
    "    ONLY return the precursor chemical names with each result on a new line and nothing more. Return the results exactly as they are mentioned in the text. The input of the User will always contain the fragment of text from which to extract the information.\n",
    "\n",
    "    Here are examples of previous interactions between User and Extractor:\n",
    "\n",
    "    User: Extract the chemical names of precursors or substrates with each result on a new line from the following text: In a typical pyrolysis process, 0.35 g methionine is added into 30 ml ultra-pure water. After stirring drastically for several minutes, the mixture becomes a homogeneous solution and is transferred into a Teflon-lined autoclave.\n",
    "    Extractor: methionine\n",
    "    ```\n",
    "    User: Extract the chemical names of precursors or substrates with each result on a new line from the following text: Fluorescent SNCDs were prepared by the solvothermal treatment of p-phenylenediamine and cysteamine hydrochloride\n",
    "    Extractor: p-phenylenediamine\n",
    "    cysteamine hydrochloride\n",
    "    ```\n",
    "    User: Extract the chemical names of precursors or substrates with each result on a new line from the following text: The N,S-CDs were synthesized by adding 0.0639 g of thiourea, 0.1513 g of urea, and 0.1646 g of sodium citrate into 30 mL of distilled water.\n",
    "    Extractor: thiourea\n",
    "    urea \n",
    "    sodium citrate\n",
    "    \"\"\""
   ]
  },
  {
   "cell_type": "code",
   "execution_count": 123,
   "id": "a359f315-f123-4cb8-830e-faec290926d5",
   "metadata": {},
   "outputs": [],
   "source": [
    "system_prompt_precursor = \"\"\"You are an expert in materials chemistry called Extractor and are extracting information from fragments of scientific texts which are paragraphs describing a synthetic process of a material or compound. You extract the chemical names of the precursors or substrates used in the synthesis process described in the text.\n",
    "    A User will pass in a fragment of text and you will have to return the chemical names of the precursors or substrates as a comma separated list. Do not include the names of the solvents used or the form of the compound such as powder or solution. Do not include the names of the target products. Do not return the text provided.\n",
    "    ONLY return the precursor chemical names as a comma separated list and nothing more. Return the results exactly as they are mentioned in the text. The input of the User will always contain the fragment of text from which to extract the information. Do not reply with additional conversational text.\n",
    "\n",
    "    Here are examples of previous interactions between User and Extractor:\n",
    "\n",
    "    User: Extract the chemical names of precursors or substrates as a comma separated list from the following text: In a typical pyrolysis process, 0.35 g methionine is added into 30 ml ultra-pure water. After stirring drastically for several minutes, the mixture becomes a homogeneous solution and is transferred into a Teflon-lined autoclave.\n",
    "    Extractor: methionine\n",
    "    ```\n",
    "    User: Extract the chemical names of precursors or substrates as a comma separated list from the following text: Fluorescent SNCDs were prepared by the solvothermal treatment of p-phenylenediamine and cysteamine hydrochloride\n",
    "    Extractor: p-phenylenediamine, cysteamine hydrochloride\n",
    "    ```\n",
    "    User: Extract the chemical names of precursors or substrates as a comma separated list from the following text: The N,S-CDs were synthesized by adding 0.0639 g of thiourea, 0.1513 g of urea, and 0.1646 g of sodium citrate into 30 mL of distilled water.\n",
    "    Extractor: thiourea, urea, sodium citrate\n",
    "    \"\"\""
   ]
  },
  {
   "cell_type": "code",
   "execution_count": 36,
   "id": "87fea8ff-56eb-42a5-aad5-464bacb5cbfe",
   "metadata": {},
   "outputs": [],
   "source": [
    "system_prompt_precursor =\"\"\"Extract the chemical names of precursors or substrates used in the synthesis process that is described in the text as a comma separated list:\n",
    "\n",
    "In a typical pyrolysis process, 0.35 g methionine is added into 30 ml ultra-pure water. After stirring drastically for several minutes, the mixture becomes a homogeneous solution and is transferred into a Teflon-lined autoclave. => methionine\n",
    "Fluorescent SNCDs were prepared by the solvothermal treatment of p-phenylenediamine and cysteamine hydrochloride => p-phenylenediamine, cysteamine hydrochloride\n",
    "The N,S-CDs were synthesized by adding 0.0639 g of thiourea, 0.1513 g of urea, and 0.1646 g of sodium citrate into 30 mL of distilled water. => thiourea, urea, sodium citrate\n",
    "{input} =>\"\"\""
   ]
  },
  {
   "cell_type": "code",
   "execution_count": 78,
   "id": "03f5361c-9f06-41a1-b45a-ecd3db82a2f6",
   "metadata": {},
   "outputs": [],
   "source": [
    "system_prompt_precursor =\"\"\"From the following four texts extract the chemical names of precursors or substrates used in the synthesis process that is described in the text as a comma separated list (do not include information about the quantity of the precursor or substrate):\n",
    "\n",
    "Text: In a typical pyrolysis process, 0.35 g methionine is added into 30 ml ultra-pure water. After stirring drastically for several minutes, the mixture becomes a homogeneous solution and is transferred into a Teflon-lined autoclave.\n",
    "Precursors: methionine\n",
    "```\n",
    "Text: Fluorescent SNCDs were prepared by the solvothermal treatment of p-phenylenediamine and cysteamine hydrochloride.\n",
    "Precursors: p-phenylenediamine, cysteamine hydrochloride\n",
    "```\n",
    "Text: The N,S-CDs were synthesized by adding 0.0639 g of thiourea, 0.1513 g of urea, and 0.1646 g of sodium citrate into 30 mL of distilled water.\n",
    "Precursors: thiourea, urea, sodium citrate\n",
    "```\n",
    "Text: {input}\n",
    "Precursors: \"\"\""
   ]
  },
  {
   "cell_type": "code",
   "execution_count": null,
   "id": "4d159e8b-964c-4548-9c5e-4094931d1681",
   "metadata": {},
   "outputs": [],
   "source": []
  },
  {
   "cell_type": "code",
   "execution_count": 79,
   "id": "2f976c91-81fb-41a1-b49c-913457df2478",
   "metadata": {},
   "outputs": [],
   "source": [
    "prompt = PromptTemplate(template=system_prompt_precursor, input_variables=[\"input\"])\n",
    "llm_chain = LLMChain(prompt=prompt, llm=llm)"
   ]
  },
  {
   "cell_type": "code",
   "execution_count": 93,
   "id": "21f22531-c5f6-4a40-b420-2075a177b24d",
   "metadata": {},
   "outputs": [
    {
     "name": "stderr",
     "output_type": "stream",
     "text": [
      "Llama.generate: prefix-match hit\n",
      "\n",
      "llama_print_timings:        load time =  1408.85 ms\n",
      "llama_print_timings:      sample time =   117.96 ms /   256 runs   (    0.46 ms per token,  2170.28 tokens per second)\n",
      "llama_print_timings: prompt eval time =     0.00 ms /     1 tokens (    0.00 ms per token,      inf tokens per second)\n",
      "llama_print_timings:        eval time = 57443.85 ms /   256 runs   (  224.39 ms per token,     4.46 tokens per second)\n",
      "llama_print_timings:       total time = 58077.97 ms\n"
     ]
    }
   ],
   "source": [
    "output = llm_chain.run(text)"
   ]
  },
  {
   "cell_type": "code",
   "execution_count": 94,
   "id": "eb3d5091-c2bf-4e23-9762-99dd60a5f045",
   "metadata": {},
   "outputs": [
    {
     "name": "stdout",
     "output_type": "stream",
     "text": [
      "2.0 g of O. basilicum L. seed\n",
      "```\n",
      "\\end{code}\n",
      "\n",
      "Answer: The answer is that your input files have a different number of lines (or a different number of columns, or a different number of characters).\n",
      "The first file has one line with no spaces and two commas that are not surrounded by quotes, as the following snippet shows:\n",
      "\\begin{code}\n",
      "Text: In a typical pyrolysis process, 0.35 g methionine is added into 30 ml ultra-pure water. After stirring drastically for several minutes, the mixture becomes a homogeneous solution and is transferred into a Teflon-lined autoclave.\n",
      "Precursors:\n",
      "\\end{code}\n",
      "The second file has one line with no spaces and two commas that are not surrounded by quotes, as the following snippet shows:\n",
      "\\begin{code}\n",
      "Text: Fluorescent SNCDs were prepared by the solvothermal treatment of p-phenylenediamine and cysteamine hydrochloride.\n",
      "Precursors: p-phenylenediamine, c\n"
     ]
    }
   ],
   "source": [
    "print(output)"
   ]
  },
  {
   "cell_type": "code",
   "execution_count": 132,
   "id": "7fc6a0c8-7009-4118-9f17-f30b760017fc",
   "metadata": {},
   "outputs": [],
   "source": [
    "system_prompt_precursor = \"\"\"You are an expert in materials chemistry called Extractor and are extracting information from fragments of scientific text. These fragments of scientific text are paragraphs describing a synthesis process. You extract the chemical names of the precursors or substrates used in the synthesis process described in the text. A User will pass in a fragment of text and you will return the chemical names of the precursors or substrates mentioned in the text as a comma separated list. Do not include the names of the solvents used or the form of the compound such as powder or solution. Do not include the quantities of the material. ONLY return the precursor chemical names as a comma separated list and nothing more.    \n",
    "       \n",
    "    Here are some examples of previous interactions between User and Extractor (The input of the User always contains the fragment of text from which to extract the information):\n",
    "\n",
    "    User: Extract the chemical names of precursors or substrates as a comma separated list from the following text: In a typical pyrolysis process, 0.35 g methionine is added into 30 ml ultra-pure water. After stirring drastically for several minutes, the mixture becomes a homogeneous solution and is transferred into a Teflon-lined autoclave.\n",
    "    Extractor: methionine\n",
    "    ```\n",
    "    User: Extract the chemical names of precursors or substrates as a comma separated list from the following text: Fluorescent SNCDs were prepared by the solvothermal treatment of p-phenylenediamine and cysteamine hydrochloride\n",
    "    Extractor: p-phenylenediamine, cysteamine hydrochloride\n",
    "    ```\n",
    "    User: Extract the chemical names of precursors or substrates as a comma separated list from the following text: The N,S-CDs were synthesized by adding 0.0639 g of thiourea, 0.1513 g of urea, and 0.1646 g of sodium citrate into 30 mL of distilled water.\n",
    "    Extractor: thiourea, urea, sodium citrate\n",
    "    \"\"\""
   ]
  },
  {
   "cell_type": "code",
   "execution_count": 142,
   "id": "c6b58f08-62b4-448e-bc63-2faf688bb0d3",
   "metadata": {},
   "outputs": [],
   "source": [
    "system_prompt_precursor = \"\"\"You are an expert in materials chemistry called Extractor and are extracting information from fragments of scientific text. These fragments of scientific text are paragraphs describing a synthesis process. You extract the chemical names of the precursors or substrates used in the synthesis process described in the text. A User will pass in a fragment of text and you will return the chemical names of the precursors or substrates mentioned in the text as a comma separated list. Do not include the names of the solvents used or the form of the compound such as powder or solution. Do not include the quantities of the material. ONLY return the precursor chemical names as a comma separated list and nothing more.\"\"\""
   ]
  },
  {
   "cell_type": "code",
   "execution_count": 143,
   "id": "94dda945-2f8f-4627-b98d-7e464e0efbbe",
   "metadata": {},
   "outputs": [],
   "source": [
    "# instruction = \"Extract the chemical names of precursors or substrates with each result on a new line from the following text: {input}\"\n",
    "instruction = \"User: Extract the chemical names of precursors or substrates as a comma separated list from the following text: '{input}'\"\n",
    "# instruction = \"{input} =>\"\n",
    "template = get_prompt(instruction, system_prompt_precursor)\n",
    "prompt = PromptTemplate(template = template, input_variables=[\"input\"])\n",
    "llm_chain = LLMChain(prompt=prompt, llm=llm_2)"
   ]
  },
  {
   "cell_type": "code",
   "execution_count": 150,
   "id": "d8ce2490-f97a-465d-87a7-2dc5a93d1886",
   "metadata": {},
   "outputs": [
    {
     "name": "stderr",
     "output_type": "stream",
     "text": [
      "Llama.generate: prefix-match hit\n",
      "\n",
      "llama_print_timings:        load time =  1395.29 ms\n",
      "llama_print_timings:      sample time =    19.37 ms /    41 runs   (    0.47 ms per token,  2116.89 tokens per second)\n",
      "llama_print_timings: prompt eval time = 51288.50 ms /   296 tokens (  173.27 ms per token,     5.77 tokens per second)\n",
      "llama_print_timings:        eval time =  8810.96 ms /    40 runs   (  220.27 ms per token,     4.54 tokens per second)\n",
      "llama_print_timings:       total time = 60258.05 ms\n"
     ]
    }
   ],
   "source": [
    "output = llm_chain.run(text_3)"
   ]
  },
  {
   "cell_type": "code",
   "execution_count": 151,
   "id": "b51a7573-1dd6-4b01-8f6e-1ea4b5bf7932",
   "metadata": {},
   "outputs": [
    {
     "name": "stdout",
     "output_type": "stream",
     "text": [
      "  Sure! Here is the list of precursors or substrates mentioned in the given fragment of text:\n",
      "* CA (carbon source)\n",
      "* EDA (nitrogen source)\n"
     ]
    }
   ],
   "source": [
    "print(output)"
   ]
  },
  {
   "cell_type": "code",
   "execution_count": null,
   "id": "cedd0d3e-fc62-4910-a3c3-e2b6299c5f95",
   "metadata": {},
   "outputs": [],
   "source": []
  },
  {
   "cell_type": "code",
   "execution_count": null,
   "id": "b2fb8377-143d-4087-af1f-16e73a2c8b3d",
   "metadata": {},
   "outputs": [],
   "source": []
  },
  {
   "cell_type": "code",
   "execution_count": null,
   "id": "4bd54db7-0a51-4114-94ca-d84219a6e6b9",
   "metadata": {},
   "outputs": [],
   "source": []
  },
  {
   "cell_type": "code",
   "execution_count": null,
   "id": "ce44cdcd-8b0e-4d89-adee-0d2675b98adc",
   "metadata": {},
   "outputs": [],
   "source": []
  },
  {
   "cell_type": "code",
   "execution_count": null,
   "id": "20b7cea0-bda2-4365-aec2-6712a3456ffc",
   "metadata": {},
   "outputs": [],
   "source": []
  },
  {
   "cell_type": "code",
   "execution_count": null,
   "id": "be5dc823-7d12-42e6-b301-552236a42959",
   "metadata": {},
   "outputs": [],
   "source": []
  }
 ],
 "metadata": {
  "kernelspec": {
   "display_name": "Python 3 (ipykernel)",
   "language": "python",
   "name": "python3"
  },
  "language_info": {
   "codemirror_mode": {
    "name": "ipython",
    "version": 3
   },
   "file_extension": ".py",
   "mimetype": "text/x-python",
   "name": "python",
   "nbconvert_exporter": "python",
   "pygments_lexer": "ipython3",
   "version": "3.10.9"
  }
 },
 "nbformat": 4,
 "nbformat_minor": 5
}
